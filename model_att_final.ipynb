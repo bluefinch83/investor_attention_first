{
  "nbformat": 4,
  "nbformat_minor": 0,
  "metadata": {
    "colab": {
      "provenance": [],
      "collapsed_sections": [
        "9Q_TPWgwAg_m"
      ],
      "toc_visible": true
    },
    "kernelspec": {
      "name": "python3",
      "display_name": "Python 3"
    },
    "language_info": {
      "name": "python"
    }
  },
  "cells": [
    {
      "cell_type": "markdown",
      "source": [
        "This is the code I used for the analysis"
      ],
      "metadata": {
        "id": "WBawdV9POAax"
      }
    },
    {
      "cell_type": "code",
      "execution_count": null,
      "metadata": {
        "id": "lo-C9QO0VeY9"
      },
      "outputs": [],
      "source": [
        "import numpy as np\n",
        "import pandas as pd\n",
        "import matplotlib.pyplot as plt\n",
        "import time\n",
        "from datetime import datetime"
      ]
    },
    {
      "cell_type": "code",
      "source": [
        "from statsmodels.tsa.stattools import adfuller, grangercausalitytests\n",
        "from statsmodels.tsa.api import VAR\n",
        "import statsmodels.api as sm\n",
        "from statsmodels.formula.api import ols\n"
      ],
      "metadata": {
        "id": "UTL9tX_OcLBn"
      },
      "execution_count": null,
      "outputs": []
    },
    {
      "cell_type": "code",
      "source": [
        "import statsmodels.api as sm"
      ],
      "metadata": {
        "id": "Es7ZITUxq6Oy"
      },
      "execution_count": null,
      "outputs": []
    },
    {
      "cell_type": "code",
      "source": [
        "from statsmodels.stats.outliers_influence import variance_inflation_factor"
      ],
      "metadata": {
        "id": "aJDYUKu1BTFN"
      },
      "execution_count": null,
      "outputs": []
    },
    {
      "cell_type": "code",
      "source": [
        "from scipy.stats import bootstrap"
      ],
      "metadata": {
        "id": "5UN-97hsstJJ"
      },
      "execution_count": null,
      "outputs": []
    },
    {
      "cell_type": "code",
      "source": [
        "from scipy import stats"
      ],
      "metadata": {
        "id": "2EH4Zm5HfTf8"
      },
      "execution_count": null,
      "outputs": []
    },
    {
      "cell_type": "code",
      "source": [
        "import sys"
      ],
      "metadata": {
        "id": "xRIx8_iEI6WP"
      },
      "execution_count": null,
      "outputs": []
    },
    {
      "cell_type": "code",
      "source": [
        "from tqdm.notebook import tqdm"
      ],
      "metadata": {
        "id": "p1zWYEqQZJ6I"
      },
      "execution_count": null,
      "outputs": []
    },
    {
      "cell_type": "code",
      "source": [
        "%load_ext rpy2.ipython"
      ],
      "metadata": {
        "id": "zSuablDuigRM"
      },
      "execution_count": null,
      "outputs": []
    },
    {
      "cell_type": "markdown",
      "source": [
        "These datasets are available on request"
      ],
      "metadata": {
        "id": "gxqEWXo-OOYY"
      }
    },
    {
      "cell_type": "code",
      "source": [
        "\n",
        "df_trends = pd.read_csv(\"/content/drive/MyDrive/school_stuff/Diss/Data/google_trends_full_1.csv\")"
      ],
      "metadata": {
        "id": "phZkHP-TVnSe"
      },
      "execution_count": null,
      "outputs": []
    },
    {
      "cell_type": "code",
      "source": [
        "df_comp_list = pd.read_csv(\"/content/drive/MyDrive/school_stuff/Diss/Data/company_search_good.csv\")"
      ],
      "metadata": {
        "id": "qzbRa4S0WnKG"
      },
      "execution_count": null,
      "outputs": []
    },
    {
      "cell_type": "code",
      "source": [
        "df_stocks = pd.read_csv(\"/content/drive/MyDrive/school_stuff/Diss/Data/stock_price_big_2.csv\",  parse_dates=['date'])"
      ],
      "metadata": {
        "id": "BG6fKIRRmbqg",
        "colab": {
          "base_uri": "https://localhost:8080/"
        },
        "outputId": "e2ec96ac-be60-4c33-87f8-30fe09adea93"
      },
      "execution_count": null,
      "outputs": [
        {
          "output_type": "stream",
          "name": "stderr",
          "text": [
            "/usr/local/lib/python3.7/dist-packages/IPython/core/interactiveshell.py:3326: DtypeWarning: Columns (4,15,21) have mixed types.Specify dtype option on import or set low_memory=False.\n",
            "  exec(code_obj, self.user_global_ns, self.user_ns)\n"
          ]
        }
      ]
    },
    {
      "cell_type": "code",
      "source": [
        "df_sent = pd.read_csv(\"/content/drive/MyDrive/school_stuff/Diss/Data/brain_sent_full_1.csv\")"
      ],
      "metadata": {
        "id": "dS3GbuGuJHc-"
      },
      "execution_count": null,
      "outputs": []
    },
    {
      "cell_type": "code",
      "source": [
        "df_cds = pd.read_csv(\"/content/drive/MyDrive/school_stuff/Diss/Data/CDS_big_2.csv\",  parse_dates=['Date'])"
      ],
      "metadata": {
        "id": "WBtlRK8__Oat"
      },
      "execution_count": null,
      "outputs": []
    },
    {
      "cell_type": "code",
      "source": [
        "df_SP_100 = pd.read_csv(\"/content/drive/MyDrive/school_stuff/Diss/Data/SP_100.csv\")"
      ],
      "metadata": {
        "id": "j-n5oPwmJU0z"
      },
      "execution_count": null,
      "outputs": []
    },
    {
      "cell_type": "code",
      "source": [
        "df_cds.columns"
      ],
      "metadata": {
        "id": "46rAvmohFI75",
        "colab": {
          "base_uri": "https://localhost:8080/"
        },
        "outputId": "2b83d661-1ee8-4bc1-b6f7-3dcd40a18d81"
      },
      "execution_count": null,
      "outputs": [
        {
          "output_type": "execute_result",
          "data": {
            "text/plain": [
              "Index(['Date', 'Batch', 'Ticker', 'ShortName', 'RedCode', 'Sector', 'Region',\n",
              "       'Country', 'AvRating', 'ImpliedRating', 'Tier', 'Currency', 'DocClause',\n",
              "       'PrimaryCurve', 'PrimaryPriceType', 'RunningCoupon', 'PrimaryCoupon',\n",
              "       'Tenor', 'ParSpread', 'ConvSpreard', 'Upfront', 'CDSRealRecovery',\n",
              "       'CDSAssumedRecovery', 'CarriedForward', 'CompositeDepth5Y',\n",
              "       'PrimaryDepthContributed', 'PrimaryDepthPassed', 'RiskyPV01', 'DP',\n",
              "       'DTZ'],\n",
              "      dtype='object')"
            ]
          },
          "metadata": {},
          "execution_count": 21
        }
      ]
    },
    {
      "cell_type": "code",
      "source": [
        "df_cds.head()"
      ],
      "metadata": {
        "id": "MLiosuy3FsF7",
        "colab": {
          "base_uri": "https://localhost:8080/",
          "height": 386
        },
        "outputId": "2a6653b3-b27a-4b39-8c0b-5490b0f32332"
      },
      "execution_count": null,
      "outputs": [
        {
          "output_type": "execute_result",
          "data": {
            "text/plain": [
              "        Date Batch Ticker         ShortName RedCode      Sector  Region  \\\n",
              "0 2015-01-01   EOD      A  Agilent Tech Inc  008CA0  Healthcare  N.Amer   \n",
              "1 2015-01-02   EOD      A  Agilent Tech Inc  008CA0  Healthcare  N.Amer   \n",
              "2 2015-01-05   EOD      A  Agilent Tech Inc  008CA0  Healthcare  N.Amer   \n",
              "3 2015-01-06   EOD      A  Agilent Tech Inc  008CA0  Healthcare  N.Amer   \n",
              "4 2015-01-07   EOD      A  Agilent Tech Inc  008CA0  Healthcare  N.Amer   \n",
              "\n",
              "         Country AvRating ImpliedRating  ...   Upfront CDSRealRecovery  \\\n",
              "0  United States      BBB           BBB  ...  0.004679             0.4   \n",
              "1  United States      BBB           BBB  ...  0.005641             0.4   \n",
              "2  United States      BBB           BBB  ...  0.005634             0.4   \n",
              "3  United States      BBB           BBB  ...  0.005632             0.4   \n",
              "4  United States      BBB           BBB  ...  0.005642             0.4   \n",
              "\n",
              "  CDSAssumedRecovery CarriedForward CompositeDepth5Y  PrimaryDepthContributed  \\\n",
              "0                0.4            NaN              3.0                      NaN   \n",
              "1                0.4            NaN              3.0                      NaN   \n",
              "2                0.4            NaN              3.0                      NaN   \n",
              "3                0.4            NaN              3.0                      NaN   \n",
              "4                0.4            NaN              3.0                      NaN   \n",
              "\n",
              "  PrimaryDepthPassed RiskyPV01        DP         DTZ  \n",
              "0                NaN      4.91  0.093853  9953206.16  \n",
              "1                NaN      4.90  0.095195  9943594.50  \n",
              "2                NaN      4.89  0.095035  9943661.97  \n",
              "3                NaN      4.89  0.094963  9943677.58  \n",
              "4                NaN      4.90  0.094886  9943583.37  \n",
              "\n",
              "[5 rows x 30 columns]"
            ],
            "text/html": [
              "\n",
              "  <div id=\"df-1625b452-fcb4-46fd-a1c6-4b444c0324f7\">\n",
              "    <div class=\"colab-df-container\">\n",
              "      <div>\n",
              "<style scoped>\n",
              "    .dataframe tbody tr th:only-of-type {\n",
              "        vertical-align: middle;\n",
              "    }\n",
              "\n",
              "    .dataframe tbody tr th {\n",
              "        vertical-align: top;\n",
              "    }\n",
              "\n",
              "    .dataframe thead th {\n",
              "        text-align: right;\n",
              "    }\n",
              "</style>\n",
              "<table border=\"1\" class=\"dataframe\">\n",
              "  <thead>\n",
              "    <tr style=\"text-align: right;\">\n",
              "      <th></th>\n",
              "      <th>Date</th>\n",
              "      <th>Batch</th>\n",
              "      <th>Ticker</th>\n",
              "      <th>ShortName</th>\n",
              "      <th>RedCode</th>\n",
              "      <th>Sector</th>\n",
              "      <th>Region</th>\n",
              "      <th>Country</th>\n",
              "      <th>AvRating</th>\n",
              "      <th>ImpliedRating</th>\n",
              "      <th>...</th>\n",
              "      <th>Upfront</th>\n",
              "      <th>CDSRealRecovery</th>\n",
              "      <th>CDSAssumedRecovery</th>\n",
              "      <th>CarriedForward</th>\n",
              "      <th>CompositeDepth5Y</th>\n",
              "      <th>PrimaryDepthContributed</th>\n",
              "      <th>PrimaryDepthPassed</th>\n",
              "      <th>RiskyPV01</th>\n",
              "      <th>DP</th>\n",
              "      <th>DTZ</th>\n",
              "    </tr>\n",
              "  </thead>\n",
              "  <tbody>\n",
              "    <tr>\n",
              "      <th>0</th>\n",
              "      <td>2015-01-01</td>\n",
              "      <td>EOD</td>\n",
              "      <td>A</td>\n",
              "      <td>Agilent Tech Inc</td>\n",
              "      <td>008CA0</td>\n",
              "      <td>Healthcare</td>\n",
              "      <td>N.Amer</td>\n",
              "      <td>United States</td>\n",
              "      <td>BBB</td>\n",
              "      <td>BBB</td>\n",
              "      <td>...</td>\n",
              "      <td>0.004679</td>\n",
              "      <td>0.4</td>\n",
              "      <td>0.4</td>\n",
              "      <td>NaN</td>\n",
              "      <td>3.0</td>\n",
              "      <td>NaN</td>\n",
              "      <td>NaN</td>\n",
              "      <td>4.91</td>\n",
              "      <td>0.093853</td>\n",
              "      <td>9953206.16</td>\n",
              "    </tr>\n",
              "    <tr>\n",
              "      <th>1</th>\n",
              "      <td>2015-01-02</td>\n",
              "      <td>EOD</td>\n",
              "      <td>A</td>\n",
              "      <td>Agilent Tech Inc</td>\n",
              "      <td>008CA0</td>\n",
              "      <td>Healthcare</td>\n",
              "      <td>N.Amer</td>\n",
              "      <td>United States</td>\n",
              "      <td>BBB</td>\n",
              "      <td>BBB</td>\n",
              "      <td>...</td>\n",
              "      <td>0.005641</td>\n",
              "      <td>0.4</td>\n",
              "      <td>0.4</td>\n",
              "      <td>NaN</td>\n",
              "      <td>3.0</td>\n",
              "      <td>NaN</td>\n",
              "      <td>NaN</td>\n",
              "      <td>4.90</td>\n",
              "      <td>0.095195</td>\n",
              "      <td>9943594.50</td>\n",
              "    </tr>\n",
              "    <tr>\n",
              "      <th>2</th>\n",
              "      <td>2015-01-05</td>\n",
              "      <td>EOD</td>\n",
              "      <td>A</td>\n",
              "      <td>Agilent Tech Inc</td>\n",
              "      <td>008CA0</td>\n",
              "      <td>Healthcare</td>\n",
              "      <td>N.Amer</td>\n",
              "      <td>United States</td>\n",
              "      <td>BBB</td>\n",
              "      <td>BBB</td>\n",
              "      <td>...</td>\n",
              "      <td>0.005634</td>\n",
              "      <td>0.4</td>\n",
              "      <td>0.4</td>\n",
              "      <td>NaN</td>\n",
              "      <td>3.0</td>\n",
              "      <td>NaN</td>\n",
              "      <td>NaN</td>\n",
              "      <td>4.89</td>\n",
              "      <td>0.095035</td>\n",
              "      <td>9943661.97</td>\n",
              "    </tr>\n",
              "    <tr>\n",
              "      <th>3</th>\n",
              "      <td>2015-01-06</td>\n",
              "      <td>EOD</td>\n",
              "      <td>A</td>\n",
              "      <td>Agilent Tech Inc</td>\n",
              "      <td>008CA0</td>\n",
              "      <td>Healthcare</td>\n",
              "      <td>N.Amer</td>\n",
              "      <td>United States</td>\n",
              "      <td>BBB</td>\n",
              "      <td>BBB</td>\n",
              "      <td>...</td>\n",
              "      <td>0.005632</td>\n",
              "      <td>0.4</td>\n",
              "      <td>0.4</td>\n",
              "      <td>NaN</td>\n",
              "      <td>3.0</td>\n",
              "      <td>NaN</td>\n",
              "      <td>NaN</td>\n",
              "      <td>4.89</td>\n",
              "      <td>0.094963</td>\n",
              "      <td>9943677.58</td>\n",
              "    </tr>\n",
              "    <tr>\n",
              "      <th>4</th>\n",
              "      <td>2015-01-07</td>\n",
              "      <td>EOD</td>\n",
              "      <td>A</td>\n",
              "      <td>Agilent Tech Inc</td>\n",
              "      <td>008CA0</td>\n",
              "      <td>Healthcare</td>\n",
              "      <td>N.Amer</td>\n",
              "      <td>United States</td>\n",
              "      <td>BBB</td>\n",
              "      <td>BBB</td>\n",
              "      <td>...</td>\n",
              "      <td>0.005642</td>\n",
              "      <td>0.4</td>\n",
              "      <td>0.4</td>\n",
              "      <td>NaN</td>\n",
              "      <td>3.0</td>\n",
              "      <td>NaN</td>\n",
              "      <td>NaN</td>\n",
              "      <td>4.90</td>\n",
              "      <td>0.094886</td>\n",
              "      <td>9943583.37</td>\n",
              "    </tr>\n",
              "  </tbody>\n",
              "</table>\n",
              "<p>5 rows × 30 columns</p>\n",
              "</div>\n",
              "      <button class=\"colab-df-convert\" onclick=\"convertToInteractive('df-1625b452-fcb4-46fd-a1c6-4b444c0324f7')\"\n",
              "              title=\"Convert this dataframe to an interactive table.\"\n",
              "              style=\"display:none;\">\n",
              "        \n",
              "  <svg xmlns=\"http://www.w3.org/2000/svg\" height=\"24px\"viewBox=\"0 0 24 24\"\n",
              "       width=\"24px\">\n",
              "    <path d=\"M0 0h24v24H0V0z\" fill=\"none\"/>\n",
              "    <path d=\"M18.56 5.44l.94 2.06.94-2.06 2.06-.94-2.06-.94-.94-2.06-.94 2.06-2.06.94zm-11 1L8.5 8.5l.94-2.06 2.06-.94-2.06-.94L8.5 2.5l-.94 2.06-2.06.94zm10 10l.94 2.06.94-2.06 2.06-.94-2.06-.94-.94-2.06-.94 2.06-2.06.94z\"/><path d=\"M17.41 7.96l-1.37-1.37c-.4-.4-.92-.59-1.43-.59-.52 0-1.04.2-1.43.59L10.3 9.45l-7.72 7.72c-.78.78-.78 2.05 0 2.83L4 21.41c.39.39.9.59 1.41.59.51 0 1.02-.2 1.41-.59l7.78-7.78 2.81-2.81c.8-.78.8-2.07 0-2.86zM5.41 20L4 18.59l7.72-7.72 1.47 1.35L5.41 20z\"/>\n",
              "  </svg>\n",
              "      </button>\n",
              "      \n",
              "  <style>\n",
              "    .colab-df-container {\n",
              "      display:flex;\n",
              "      flex-wrap:wrap;\n",
              "      gap: 12px;\n",
              "    }\n",
              "\n",
              "    .colab-df-convert {\n",
              "      background-color: #E8F0FE;\n",
              "      border: none;\n",
              "      border-radius: 50%;\n",
              "      cursor: pointer;\n",
              "      display: none;\n",
              "      fill: #1967D2;\n",
              "      height: 32px;\n",
              "      padding: 0 0 0 0;\n",
              "      width: 32px;\n",
              "    }\n",
              "\n",
              "    .colab-df-convert:hover {\n",
              "      background-color: #E2EBFA;\n",
              "      box-shadow: 0px 1px 2px rgba(60, 64, 67, 0.3), 0px 1px 3px 1px rgba(60, 64, 67, 0.15);\n",
              "      fill: #174EA6;\n",
              "    }\n",
              "\n",
              "    [theme=dark] .colab-df-convert {\n",
              "      background-color: #3B4455;\n",
              "      fill: #D2E3FC;\n",
              "    }\n",
              "\n",
              "    [theme=dark] .colab-df-convert:hover {\n",
              "      background-color: #434B5C;\n",
              "      box-shadow: 0px 1px 3px 1px rgba(0, 0, 0, 0.15);\n",
              "      filter: drop-shadow(0px 1px 2px rgba(0, 0, 0, 0.3));\n",
              "      fill: #FFFFFF;\n",
              "    }\n",
              "  </style>\n",
              "\n",
              "      <script>\n",
              "        const buttonEl =\n",
              "          document.querySelector('#df-1625b452-fcb4-46fd-a1c6-4b444c0324f7 button.colab-df-convert');\n",
              "        buttonEl.style.display =\n",
              "          google.colab.kernel.accessAllowed ? 'block' : 'none';\n",
              "\n",
              "        async function convertToInteractive(key) {\n",
              "          const element = document.querySelector('#df-1625b452-fcb4-46fd-a1c6-4b444c0324f7');\n",
              "          const dataTable =\n",
              "            await google.colab.kernel.invokeFunction('convertToInteractive',\n",
              "                                                     [key], {});\n",
              "          if (!dataTable) return;\n",
              "\n",
              "          const docLinkHtml = 'Like what you see? Visit the ' +\n",
              "            '<a target=\"_blank\" href=https://colab.research.google.com/notebooks/data_table.ipynb>data table notebook</a>'\n",
              "            + ' to learn more about interactive tables.';\n",
              "          element.innerHTML = '';\n",
              "          dataTable['output_type'] = 'display_data';\n",
              "          await google.colab.output.renderOutput(dataTable, element);\n",
              "          const docLink = document.createElement('div');\n",
              "          docLink.innerHTML = docLinkHtml;\n",
              "          element.appendChild(docLink);\n",
              "        }\n",
              "      </script>\n",
              "    </div>\n",
              "  </div>\n",
              "  "
            ]
          },
          "metadata": {},
          "execution_count": 22
        }
      ]
    },
    {
      "cell_type": "code",
      "source": [
        "drop_list = ['SUN', 'TAP', 'STZ', 'DOW', 'DD', 'CYT', 'DVA', 'MAN', 'HSC', 'AMZN'] #Drop these stocks from the data set"
      ],
      "metadata": {
        "id": "VyKJ4DM1vmmC"
      },
      "execution_count": null,
      "outputs": []
    },
    {
      "cell_type": "code",
      "source": [],
      "metadata": {
        "id": "hA92VWMUvmo5"
      },
      "execution_count": null,
      "outputs": []
    },
    {
      "cell_type": "code",
      "source": [
        "df_trends['date'] = pd.to_datetime(df_trends['date']).dt.strftime('%Y-%m-%d')"
      ],
      "metadata": {
        "id": "hK2kBy089XNw"
      },
      "execution_count": null,
      "outputs": []
    },
    {
      "cell_type": "code",
      "source": [
        "df_trends"
      ],
      "metadata": {
        "id": "xwhiRrEPKPKw",
        "colab": {
          "base_uri": "https://localhost:8080/",
          "height": 424
        },
        "outputId": "ef5ae2a1-46a5-440f-9a4d-bdb5464acd12"
      },
      "execution_count": null,
      "outputs": [
        {
          "output_type": "execute_result",
          "data": {
            "text/plain": [
              "       ticker        date   svi  count\n",
              "0           A  2015-06-07  84.0    1.0\n",
              "1           A  2015-06-14   0.0    1.0\n",
              "2           A  2015-06-21   0.0    1.0\n",
              "3           A  2015-06-28   0.0    1.0\n",
              "4           A  2015-07-05  39.0    1.0\n",
              "...       ...         ...   ...    ...\n",
              "107626    YUM  2022-05-01  60.0    1.0\n",
              "107627    YUM  2022-05-08  49.0    1.0\n",
              "107628    YUM  2022-05-15  36.0    1.0\n",
              "107629    YUM  2022-05-22  52.0    1.0\n",
              "107630    YUM  2022-05-29  42.0    1.0\n",
              "\n",
              "[107631 rows x 4 columns]"
            ],
            "text/html": [
              "\n",
              "  <div id=\"df-f7f90f56-2579-477c-85d0-6157404cb709\">\n",
              "    <div class=\"colab-df-container\">\n",
              "      <div>\n",
              "<style scoped>\n",
              "    .dataframe tbody tr th:only-of-type {\n",
              "        vertical-align: middle;\n",
              "    }\n",
              "\n",
              "    .dataframe tbody tr th {\n",
              "        vertical-align: top;\n",
              "    }\n",
              "\n",
              "    .dataframe thead th {\n",
              "        text-align: right;\n",
              "    }\n",
              "</style>\n",
              "<table border=\"1\" class=\"dataframe\">\n",
              "  <thead>\n",
              "    <tr style=\"text-align: right;\">\n",
              "      <th></th>\n",
              "      <th>ticker</th>\n",
              "      <th>date</th>\n",
              "      <th>svi</th>\n",
              "      <th>count</th>\n",
              "    </tr>\n",
              "  </thead>\n",
              "  <tbody>\n",
              "    <tr>\n",
              "      <th>0</th>\n",
              "      <td>A</td>\n",
              "      <td>2015-06-07</td>\n",
              "      <td>84.0</td>\n",
              "      <td>1.0</td>\n",
              "    </tr>\n",
              "    <tr>\n",
              "      <th>1</th>\n",
              "      <td>A</td>\n",
              "      <td>2015-06-14</td>\n",
              "      <td>0.0</td>\n",
              "      <td>1.0</td>\n",
              "    </tr>\n",
              "    <tr>\n",
              "      <th>2</th>\n",
              "      <td>A</td>\n",
              "      <td>2015-06-21</td>\n",
              "      <td>0.0</td>\n",
              "      <td>1.0</td>\n",
              "    </tr>\n",
              "    <tr>\n",
              "      <th>3</th>\n",
              "      <td>A</td>\n",
              "      <td>2015-06-28</td>\n",
              "      <td>0.0</td>\n",
              "      <td>1.0</td>\n",
              "    </tr>\n",
              "    <tr>\n",
              "      <th>4</th>\n",
              "      <td>A</td>\n",
              "      <td>2015-07-05</td>\n",
              "      <td>39.0</td>\n",
              "      <td>1.0</td>\n",
              "    </tr>\n",
              "    <tr>\n",
              "      <th>...</th>\n",
              "      <td>...</td>\n",
              "      <td>...</td>\n",
              "      <td>...</td>\n",
              "      <td>...</td>\n",
              "    </tr>\n",
              "    <tr>\n",
              "      <th>107626</th>\n",
              "      <td>YUM</td>\n",
              "      <td>2022-05-01</td>\n",
              "      <td>60.0</td>\n",
              "      <td>1.0</td>\n",
              "    </tr>\n",
              "    <tr>\n",
              "      <th>107627</th>\n",
              "      <td>YUM</td>\n",
              "      <td>2022-05-08</td>\n",
              "      <td>49.0</td>\n",
              "      <td>1.0</td>\n",
              "    </tr>\n",
              "    <tr>\n",
              "      <th>107628</th>\n",
              "      <td>YUM</td>\n",
              "      <td>2022-05-15</td>\n",
              "      <td>36.0</td>\n",
              "      <td>1.0</td>\n",
              "    </tr>\n",
              "    <tr>\n",
              "      <th>107629</th>\n",
              "      <td>YUM</td>\n",
              "      <td>2022-05-22</td>\n",
              "      <td>52.0</td>\n",
              "      <td>1.0</td>\n",
              "    </tr>\n",
              "    <tr>\n",
              "      <th>107630</th>\n",
              "      <td>YUM</td>\n",
              "      <td>2022-05-29</td>\n",
              "      <td>42.0</td>\n",
              "      <td>1.0</td>\n",
              "    </tr>\n",
              "  </tbody>\n",
              "</table>\n",
              "<p>107631 rows × 4 columns</p>\n",
              "</div>\n",
              "      <button class=\"colab-df-convert\" onclick=\"convertToInteractive('df-f7f90f56-2579-477c-85d0-6157404cb709')\"\n",
              "              title=\"Convert this dataframe to an interactive table.\"\n",
              "              style=\"display:none;\">\n",
              "        \n",
              "  <svg xmlns=\"http://www.w3.org/2000/svg\" height=\"24px\"viewBox=\"0 0 24 24\"\n",
              "       width=\"24px\">\n",
              "    <path d=\"M0 0h24v24H0V0z\" fill=\"none\"/>\n",
              "    <path d=\"M18.56 5.44l.94 2.06.94-2.06 2.06-.94-2.06-.94-.94-2.06-.94 2.06-2.06.94zm-11 1L8.5 8.5l.94-2.06 2.06-.94-2.06-.94L8.5 2.5l-.94 2.06-2.06.94zm10 10l.94 2.06.94-2.06 2.06-.94-2.06-.94-.94-2.06-.94 2.06-2.06.94z\"/><path d=\"M17.41 7.96l-1.37-1.37c-.4-.4-.92-.59-1.43-.59-.52 0-1.04.2-1.43.59L10.3 9.45l-7.72 7.72c-.78.78-.78 2.05 0 2.83L4 21.41c.39.39.9.59 1.41.59.51 0 1.02-.2 1.41-.59l7.78-7.78 2.81-2.81c.8-.78.8-2.07 0-2.86zM5.41 20L4 18.59l7.72-7.72 1.47 1.35L5.41 20z\"/>\n",
              "  </svg>\n",
              "      </button>\n",
              "      \n",
              "  <style>\n",
              "    .colab-df-container {\n",
              "      display:flex;\n",
              "      flex-wrap:wrap;\n",
              "      gap: 12px;\n",
              "    }\n",
              "\n",
              "    .colab-df-convert {\n",
              "      background-color: #E8F0FE;\n",
              "      border: none;\n",
              "      border-radius: 50%;\n",
              "      cursor: pointer;\n",
              "      display: none;\n",
              "      fill: #1967D2;\n",
              "      height: 32px;\n",
              "      padding: 0 0 0 0;\n",
              "      width: 32px;\n",
              "    }\n",
              "\n",
              "    .colab-df-convert:hover {\n",
              "      background-color: #E2EBFA;\n",
              "      box-shadow: 0px 1px 2px rgba(60, 64, 67, 0.3), 0px 1px 3px 1px rgba(60, 64, 67, 0.15);\n",
              "      fill: #174EA6;\n",
              "    }\n",
              "\n",
              "    [theme=dark] .colab-df-convert {\n",
              "      background-color: #3B4455;\n",
              "      fill: #D2E3FC;\n",
              "    }\n",
              "\n",
              "    [theme=dark] .colab-df-convert:hover {\n",
              "      background-color: #434B5C;\n",
              "      box-shadow: 0px 1px 3px 1px rgba(0, 0, 0, 0.15);\n",
              "      filter: drop-shadow(0px 1px 2px rgba(0, 0, 0, 0.3));\n",
              "      fill: #FFFFFF;\n",
              "    }\n",
              "  </style>\n",
              "\n",
              "      <script>\n",
              "        const buttonEl =\n",
              "          document.querySelector('#df-f7f90f56-2579-477c-85d0-6157404cb709 button.colab-df-convert');\n",
              "        buttonEl.style.display =\n",
              "          google.colab.kernel.accessAllowed ? 'block' : 'none';\n",
              "\n",
              "        async function convertToInteractive(key) {\n",
              "          const element = document.querySelector('#df-f7f90f56-2579-477c-85d0-6157404cb709');\n",
              "          const dataTable =\n",
              "            await google.colab.kernel.invokeFunction('convertToInteractive',\n",
              "                                                     [key], {});\n",
              "          if (!dataTable) return;\n",
              "\n",
              "          const docLinkHtml = 'Like what you see? Visit the ' +\n",
              "            '<a target=\"_blank\" href=https://colab.research.google.com/notebooks/data_table.ipynb>data table notebook</a>'\n",
              "            + ' to learn more about interactive tables.';\n",
              "          element.innerHTML = '';\n",
              "          dataTable['output_type'] = 'display_data';\n",
              "          await google.colab.output.renderOutput(dataTable, element);\n",
              "          const docLink = document.createElement('div');\n",
              "          docLink.innerHTML = docLinkHtml;\n",
              "          element.appendChild(docLink);\n",
              "        }\n",
              "      </script>\n",
              "    </div>\n",
              "  </div>\n",
              "  "
            ]
          },
          "metadata": {},
          "execution_count": 25
        }
      ]
    },
    {
      "cell_type": "code",
      "source": [
        "df_sent['date'] = pd.to_datetime(df_sent['CALCULATION_DATE']) - pd.DateOffset(days=8)"
      ],
      "metadata": {
        "id": "Qd_ij4Ka_EmS"
      },
      "execution_count": null,
      "outputs": []
    },
    {
      "cell_type": "code",
      "source": [
        "df_sent[df_sent['date'].isin(list(df_trends['date']))]"
      ],
      "metadata": {
        "id": "RsvuLkDg_mMS",
        "colab": {
          "base_uri": "https://localhost:8080/",
          "height": 661
        },
        "outputId": "420d1af5-f54b-4fe4-9cab-0168a728fcf1"
      },
      "execution_count": null,
      "outputs": [
        {
          "output_type": "execute_result",
          "data": {
            "text/plain": [
              "       CALCULATION_DATE                      NAME SHARE_CLASS_FIGI  \\\n",
              "5548         2019-07-15  AGILENT TECHNOLOGIES INC     BBG001SCTQY4   \n",
              "5549         2019-07-15                ALCOA CORP     BBG00B3T3HF1   \n",
              "5550         2019-07-15    AMERISOURCEBERGEN CORP     BBG001S8X7P0   \n",
              "5551         2019-07-15       ABBOTT LABORATORIES     BBG001S5N9M6   \n",
              "5552         2019-07-15        ANALOG DEVICES INC     BBG001S5ND38   \n",
              "...                 ...                       ...              ...   \n",
              "413478       2019-03-11  UNITED STATES STEEL CORP     BBG001S5XL75   \n",
              "413479       2019-03-11           XCEL ENERGY INC     BBG001S7F0X8   \n",
              "413480       2019-03-11          EXXON MOBIL CORP     BBG001S69V32   \n",
              "413481       2019-03-11       DENTSPLY SIRONA INC     BBG001S5XLV8   \n",
              "413482       2019-03-11           YUM! BRANDS INC     BBG001S7JQ30   \n",
              "\n",
              "       COMPOSITE_FIGI PRIMARY_EXCHANGE_TICKER PRIMARY_EXCHANGE        COUNTRY  \\\n",
              "5548     BBG000C2V3D6                       A             NYSE  UNITED STATES   \n",
              "5549     BBG00B3T3HD3                      AA             NYSE  UNITED STATES   \n",
              "5550     BBG000MDCQC2                     ABC             NYSE  UNITED STATES   \n",
              "5551     BBG000B9ZXB4                     ABT             NYSE  UNITED STATES   \n",
              "5552     BBG000BB6G37                     ADI           NASDAQ  UNITED STATES   \n",
              "...               ...                     ...              ...            ...   \n",
              "413478   BBG000BX3TD3                       X             NYSE  UNITED STATES   \n",
              "413479   BBG000BCTQ65                     XEL           NASDAQ  UNITED STATES   \n",
              "413480   BBG000GZQ728                     XOM             NYSE  UNITED STATES   \n",
              "413481   BBG000BX57K1                    XRAY           NASDAQ  UNITED STATES   \n",
              "413482   BBG000BH3GZ2                     YUM             NYSE  UNITED STATES   \n",
              "\n",
              "               REGION  VOLUME  VOLUME_SENTIMENT  SENTIMENT_SCORE  BUZZ_VOLUME  \\\n",
              "5548    NORTH AMERICA      12                 7           0.3346      -1.3392   \n",
              "5549    NORTH AMERICA       3                 3          -0.1897      -1.4126   \n",
              "5550    NORTH AMERICA       3                 1           0.2202      -1.2695   \n",
              "5551    NORTH AMERICA       9                 5           0.3239      -1.2536   \n",
              "5552    NORTH AMERICA      11                 7           0.2082      -1.1479   \n",
              "...               ...     ...               ...              ...          ...   \n",
              "413478  NORTH AMERICA      36                14           0.0427      -0.2927   \n",
              "413479  NORTH AMERICA      54                27           0.2683       1.4928   \n",
              "413480  NORTH AMERICA     234               159           0.0582       1.4434   \n",
              "413481  NORTH AMERICA      72                24           0.3267       1.8275   \n",
              "413482  NORTH AMERICA      62                40           0.0867       0.8777   \n",
              "\n",
              "        BUZZ_VOLUME_SENTIMENT       date  \n",
              "5548                  -1.0957 2019-07-07  \n",
              "5549                  -1.1430 2019-07-07  \n",
              "5550                  -1.1694 2019-07-07  \n",
              "5551                  -1.0155 2019-07-07  \n",
              "5552                  -1.0113 2019-07-07  \n",
              "...                       ...        ...  \n",
              "413478                -0.6309 2019-03-03  \n",
              "413479                 1.1384 2019-03-03  \n",
              "413480                 1.7505 2019-03-03  \n",
              "413481                 1.3938 2019-03-03  \n",
              "413482                 1.3221 2019-03-03  \n",
              "\n",
              "[80642 rows x 14 columns]"
            ],
            "text/html": [
              "\n",
              "  <div id=\"df-d99bb2d9-e223-4fdc-b5c5-df2be0a75d73\">\n",
              "    <div class=\"colab-df-container\">\n",
              "      <div>\n",
              "<style scoped>\n",
              "    .dataframe tbody tr th:only-of-type {\n",
              "        vertical-align: middle;\n",
              "    }\n",
              "\n",
              "    .dataframe tbody tr th {\n",
              "        vertical-align: top;\n",
              "    }\n",
              "\n",
              "    .dataframe thead th {\n",
              "        text-align: right;\n",
              "    }\n",
              "</style>\n",
              "<table border=\"1\" class=\"dataframe\">\n",
              "  <thead>\n",
              "    <tr style=\"text-align: right;\">\n",
              "      <th></th>\n",
              "      <th>CALCULATION_DATE</th>\n",
              "      <th>NAME</th>\n",
              "      <th>SHARE_CLASS_FIGI</th>\n",
              "      <th>COMPOSITE_FIGI</th>\n",
              "      <th>PRIMARY_EXCHANGE_TICKER</th>\n",
              "      <th>PRIMARY_EXCHANGE</th>\n",
              "      <th>COUNTRY</th>\n",
              "      <th>REGION</th>\n",
              "      <th>VOLUME</th>\n",
              "      <th>VOLUME_SENTIMENT</th>\n",
              "      <th>SENTIMENT_SCORE</th>\n",
              "      <th>BUZZ_VOLUME</th>\n",
              "      <th>BUZZ_VOLUME_SENTIMENT</th>\n",
              "      <th>date</th>\n",
              "    </tr>\n",
              "  </thead>\n",
              "  <tbody>\n",
              "    <tr>\n",
              "      <th>5548</th>\n",
              "      <td>2019-07-15</td>\n",
              "      <td>AGILENT TECHNOLOGIES INC</td>\n",
              "      <td>BBG001SCTQY4</td>\n",
              "      <td>BBG000C2V3D6</td>\n",
              "      <td>A</td>\n",
              "      <td>NYSE</td>\n",
              "      <td>UNITED STATES</td>\n",
              "      <td>NORTH AMERICA</td>\n",
              "      <td>12</td>\n",
              "      <td>7</td>\n",
              "      <td>0.3346</td>\n",
              "      <td>-1.3392</td>\n",
              "      <td>-1.0957</td>\n",
              "      <td>2019-07-07</td>\n",
              "    </tr>\n",
              "    <tr>\n",
              "      <th>5549</th>\n",
              "      <td>2019-07-15</td>\n",
              "      <td>ALCOA CORP</td>\n",
              "      <td>BBG00B3T3HF1</td>\n",
              "      <td>BBG00B3T3HD3</td>\n",
              "      <td>AA</td>\n",
              "      <td>NYSE</td>\n",
              "      <td>UNITED STATES</td>\n",
              "      <td>NORTH AMERICA</td>\n",
              "      <td>3</td>\n",
              "      <td>3</td>\n",
              "      <td>-0.1897</td>\n",
              "      <td>-1.4126</td>\n",
              "      <td>-1.1430</td>\n",
              "      <td>2019-07-07</td>\n",
              "    </tr>\n",
              "    <tr>\n",
              "      <th>5550</th>\n",
              "      <td>2019-07-15</td>\n",
              "      <td>AMERISOURCEBERGEN CORP</td>\n",
              "      <td>BBG001S8X7P0</td>\n",
              "      <td>BBG000MDCQC2</td>\n",
              "      <td>ABC</td>\n",
              "      <td>NYSE</td>\n",
              "      <td>UNITED STATES</td>\n",
              "      <td>NORTH AMERICA</td>\n",
              "      <td>3</td>\n",
              "      <td>1</td>\n",
              "      <td>0.2202</td>\n",
              "      <td>-1.2695</td>\n",
              "      <td>-1.1694</td>\n",
              "      <td>2019-07-07</td>\n",
              "    </tr>\n",
              "    <tr>\n",
              "      <th>5551</th>\n",
              "      <td>2019-07-15</td>\n",
              "      <td>ABBOTT LABORATORIES</td>\n",
              "      <td>BBG001S5N9M6</td>\n",
              "      <td>BBG000B9ZXB4</td>\n",
              "      <td>ABT</td>\n",
              "      <td>NYSE</td>\n",
              "      <td>UNITED STATES</td>\n",
              "      <td>NORTH AMERICA</td>\n",
              "      <td>9</td>\n",
              "      <td>5</td>\n",
              "      <td>0.3239</td>\n",
              "      <td>-1.2536</td>\n",
              "      <td>-1.0155</td>\n",
              "      <td>2019-07-07</td>\n",
              "    </tr>\n",
              "    <tr>\n",
              "      <th>5552</th>\n",
              "      <td>2019-07-15</td>\n",
              "      <td>ANALOG DEVICES INC</td>\n",
              "      <td>BBG001S5ND38</td>\n",
              "      <td>BBG000BB6G37</td>\n",
              "      <td>ADI</td>\n",
              "      <td>NASDAQ</td>\n",
              "      <td>UNITED STATES</td>\n",
              "      <td>NORTH AMERICA</td>\n",
              "      <td>11</td>\n",
              "      <td>7</td>\n",
              "      <td>0.2082</td>\n",
              "      <td>-1.1479</td>\n",
              "      <td>-1.0113</td>\n",
              "      <td>2019-07-07</td>\n",
              "    </tr>\n",
              "    <tr>\n",
              "      <th>...</th>\n",
              "      <td>...</td>\n",
              "      <td>...</td>\n",
              "      <td>...</td>\n",
              "      <td>...</td>\n",
              "      <td>...</td>\n",
              "      <td>...</td>\n",
              "      <td>...</td>\n",
              "      <td>...</td>\n",
              "      <td>...</td>\n",
              "      <td>...</td>\n",
              "      <td>...</td>\n",
              "      <td>...</td>\n",
              "      <td>...</td>\n",
              "      <td>...</td>\n",
              "    </tr>\n",
              "    <tr>\n",
              "      <th>413478</th>\n",
              "      <td>2019-03-11</td>\n",
              "      <td>UNITED STATES STEEL CORP</td>\n",
              "      <td>BBG001S5XL75</td>\n",
              "      <td>BBG000BX3TD3</td>\n",
              "      <td>X</td>\n",
              "      <td>NYSE</td>\n",
              "      <td>UNITED STATES</td>\n",
              "      <td>NORTH AMERICA</td>\n",
              "      <td>36</td>\n",
              "      <td>14</td>\n",
              "      <td>0.0427</td>\n",
              "      <td>-0.2927</td>\n",
              "      <td>-0.6309</td>\n",
              "      <td>2019-03-03</td>\n",
              "    </tr>\n",
              "    <tr>\n",
              "      <th>413479</th>\n",
              "      <td>2019-03-11</td>\n",
              "      <td>XCEL ENERGY INC</td>\n",
              "      <td>BBG001S7F0X8</td>\n",
              "      <td>BBG000BCTQ65</td>\n",
              "      <td>XEL</td>\n",
              "      <td>NASDAQ</td>\n",
              "      <td>UNITED STATES</td>\n",
              "      <td>NORTH AMERICA</td>\n",
              "      <td>54</td>\n",
              "      <td>27</td>\n",
              "      <td>0.2683</td>\n",
              "      <td>1.4928</td>\n",
              "      <td>1.1384</td>\n",
              "      <td>2019-03-03</td>\n",
              "    </tr>\n",
              "    <tr>\n",
              "      <th>413480</th>\n",
              "      <td>2019-03-11</td>\n",
              "      <td>EXXON MOBIL CORP</td>\n",
              "      <td>BBG001S69V32</td>\n",
              "      <td>BBG000GZQ728</td>\n",
              "      <td>XOM</td>\n",
              "      <td>NYSE</td>\n",
              "      <td>UNITED STATES</td>\n",
              "      <td>NORTH AMERICA</td>\n",
              "      <td>234</td>\n",
              "      <td>159</td>\n",
              "      <td>0.0582</td>\n",
              "      <td>1.4434</td>\n",
              "      <td>1.7505</td>\n",
              "      <td>2019-03-03</td>\n",
              "    </tr>\n",
              "    <tr>\n",
              "      <th>413481</th>\n",
              "      <td>2019-03-11</td>\n",
              "      <td>DENTSPLY SIRONA INC</td>\n",
              "      <td>BBG001S5XLV8</td>\n",
              "      <td>BBG000BX57K1</td>\n",
              "      <td>XRAY</td>\n",
              "      <td>NASDAQ</td>\n",
              "      <td>UNITED STATES</td>\n",
              "      <td>NORTH AMERICA</td>\n",
              "      <td>72</td>\n",
              "      <td>24</td>\n",
              "      <td>0.3267</td>\n",
              "      <td>1.8275</td>\n",
              "      <td>1.3938</td>\n",
              "      <td>2019-03-03</td>\n",
              "    </tr>\n",
              "    <tr>\n",
              "      <th>413482</th>\n",
              "      <td>2019-03-11</td>\n",
              "      <td>YUM! BRANDS INC</td>\n",
              "      <td>BBG001S7JQ30</td>\n",
              "      <td>BBG000BH3GZ2</td>\n",
              "      <td>YUM</td>\n",
              "      <td>NYSE</td>\n",
              "      <td>UNITED STATES</td>\n",
              "      <td>NORTH AMERICA</td>\n",
              "      <td>62</td>\n",
              "      <td>40</td>\n",
              "      <td>0.0867</td>\n",
              "      <td>0.8777</td>\n",
              "      <td>1.3221</td>\n",
              "      <td>2019-03-03</td>\n",
              "    </tr>\n",
              "  </tbody>\n",
              "</table>\n",
              "<p>80642 rows × 14 columns</p>\n",
              "</div>\n",
              "      <button class=\"colab-df-convert\" onclick=\"convertToInteractive('df-d99bb2d9-e223-4fdc-b5c5-df2be0a75d73')\"\n",
              "              title=\"Convert this dataframe to an interactive table.\"\n",
              "              style=\"display:none;\">\n",
              "        \n",
              "  <svg xmlns=\"http://www.w3.org/2000/svg\" height=\"24px\"viewBox=\"0 0 24 24\"\n",
              "       width=\"24px\">\n",
              "    <path d=\"M0 0h24v24H0V0z\" fill=\"none\"/>\n",
              "    <path d=\"M18.56 5.44l.94 2.06.94-2.06 2.06-.94-2.06-.94-.94-2.06-.94 2.06-2.06.94zm-11 1L8.5 8.5l.94-2.06 2.06-.94-2.06-.94L8.5 2.5l-.94 2.06-2.06.94zm10 10l.94 2.06.94-2.06 2.06-.94-2.06-.94-.94-2.06-.94 2.06-2.06.94z\"/><path d=\"M17.41 7.96l-1.37-1.37c-.4-.4-.92-.59-1.43-.59-.52 0-1.04.2-1.43.59L10.3 9.45l-7.72 7.72c-.78.78-.78 2.05 0 2.83L4 21.41c.39.39.9.59 1.41.59.51 0 1.02-.2 1.41-.59l7.78-7.78 2.81-2.81c.8-.78.8-2.07 0-2.86zM5.41 20L4 18.59l7.72-7.72 1.47 1.35L5.41 20z\"/>\n",
              "  </svg>\n",
              "      </button>\n",
              "      \n",
              "  <style>\n",
              "    .colab-df-container {\n",
              "      display:flex;\n",
              "      flex-wrap:wrap;\n",
              "      gap: 12px;\n",
              "    }\n",
              "\n",
              "    .colab-df-convert {\n",
              "      background-color: #E8F0FE;\n",
              "      border: none;\n",
              "      border-radius: 50%;\n",
              "      cursor: pointer;\n",
              "      display: none;\n",
              "      fill: #1967D2;\n",
              "      height: 32px;\n",
              "      padding: 0 0 0 0;\n",
              "      width: 32px;\n",
              "    }\n",
              "\n",
              "    .colab-df-convert:hover {\n",
              "      background-color: #E2EBFA;\n",
              "      box-shadow: 0px 1px 2px rgba(60, 64, 67, 0.3), 0px 1px 3px 1px rgba(60, 64, 67, 0.15);\n",
              "      fill: #174EA6;\n",
              "    }\n",
              "\n",
              "    [theme=dark] .colab-df-convert {\n",
              "      background-color: #3B4455;\n",
              "      fill: #D2E3FC;\n",
              "    }\n",
              "\n",
              "    [theme=dark] .colab-df-convert:hover {\n",
              "      background-color: #434B5C;\n",
              "      box-shadow: 0px 1px 3px 1px rgba(0, 0, 0, 0.15);\n",
              "      filter: drop-shadow(0px 1px 2px rgba(0, 0, 0, 0.3));\n",
              "      fill: #FFFFFF;\n",
              "    }\n",
              "  </style>\n",
              "\n",
              "      <script>\n",
              "        const buttonEl =\n",
              "          document.querySelector('#df-d99bb2d9-e223-4fdc-b5c5-df2be0a75d73 button.colab-df-convert');\n",
              "        buttonEl.style.display =\n",
              "          google.colab.kernel.accessAllowed ? 'block' : 'none';\n",
              "\n",
              "        async function convertToInteractive(key) {\n",
              "          const element = document.querySelector('#df-d99bb2d9-e223-4fdc-b5c5-df2be0a75d73');\n",
              "          const dataTable =\n",
              "            await google.colab.kernel.invokeFunction('convertToInteractive',\n",
              "                                                     [key], {});\n",
              "          if (!dataTable) return;\n",
              "\n",
              "          const docLinkHtml = 'Like what you see? Visit the ' +\n",
              "            '<a target=\"_blank\" href=https://colab.research.google.com/notebooks/data_table.ipynb>data table notebook</a>'\n",
              "            + ' to learn more about interactive tables.';\n",
              "          element.innerHTML = '';\n",
              "          dataTable['output_type'] = 'display_data';\n",
              "          await google.colab.output.renderOutput(dataTable, element);\n",
              "          const docLink = document.createElement('div');\n",
              "          docLink.innerHTML = docLinkHtml;\n",
              "          element.appendChild(docLink);\n",
              "        }\n",
              "      </script>\n",
              "    </div>\n",
              "  </div>\n",
              "  "
            ]
          },
          "metadata": {},
          "execution_count": 28
        }
      ]
    },
    {
      "cell_type": "code",
      "source": [],
      "metadata": {
        "id": "SMIVnkYzKOSw"
      },
      "execution_count": null,
      "outputs": []
    },
    {
      "cell_type": "code",
      "source": [
        "df_stocks.rename(columns={\"TICKER\": \"ticker\", \"VOL\": \"vol\"}, inplace=True)"
      ],
      "metadata": {
        "id": "jLQuo4PsoEV1"
      },
      "execution_count": null,
      "outputs": []
    },
    {
      "cell_type": "code",
      "source": [
        "df_cds.rename(columns={\"Ticker\": \"ticker\", 'Date':'date'}, inplace=True)"
      ],
      "metadata": {
        "id": "l7Cqs79BUKBQ"
      },
      "execution_count": null,
      "outputs": []
    },
    {
      "cell_type": "code",
      "source": [
        "df_sent.rename(columns={\"PRIMARY_EXCHANGE_TICKER\": \"ticker\", \"SENTIMENT_SCORE\": \"sent\", \"VOLUME\": \"art_count\"}, inplace=True)"
      ],
      "metadata": {
        "id": "0pyyMO2cTHHh"
      },
      "execution_count": null,
      "outputs": []
    },
    {
      "cell_type": "code",
      "source": [
        "df_stocks.drop(df_stocks.index[df_stocks['ticker'].isin(drop_list)], inplace=True)"
      ],
      "metadata": {
        "id": "4ZaAMQKLwAPU"
      },
      "execution_count": null,
      "outputs": []
    },
    {
      "cell_type": "code",
      "source": [
        "df_stocks.shape"
      ],
      "metadata": {
        "id": "WT0prrZPBrAs",
        "colab": {
          "base_uri": "https://localhost:8080/"
        },
        "outputId": "aac2602a-3448-4ef2-f9e5-3461e03e03cf"
      },
      "execution_count": null,
      "outputs": [
        {
          "output_type": "execute_result",
          "data": {
            "text/plain": [
              "(3232589, 27)"
            ]
          },
          "metadata": {},
          "execution_count": 36
        }
      ]
    },
    {
      "cell_type": "code",
      "source": [
        "df_stocks.dropna(subset=['PRC'], inplace=True)"
      ],
      "metadata": {
        "id": "XoBlQvc_CWDG"
      },
      "execution_count": null,
      "outputs": []
    },
    {
      "cell_type": "code",
      "source": [
        "df_stocks.columns"
      ],
      "metadata": {
        "id": "f11rVxHuVFFV",
        "colab": {
          "base_uri": "https://localhost:8080/"
        },
        "outputId": "0195005b-ee1d-4991-9009-77c1a92affbe"
      },
      "execution_count": null,
      "outputs": [
        {
          "output_type": "execute_result",
          "data": {
            "text/plain": [
              "Index(['PERMNO', 'date', 'ticker', 'COMNAM', 'CUSIP', 'SHRFLG', 'SHRENDDT',\n",
              "       'TRTSCD', 'NMSIND', 'MMCNT', 'NSDINX', 'BIDLO', 'ASKHI', 'PRC', 'vol',\n",
              "       'RET', 'BID', 'ASK', 'SHROUT', 'OPENPRC', 'NUMTRD', 'RETX', 'vwretd',\n",
              "       'vwretx', 'ewretd', 'ewretx', 'sprtrn'],\n",
              "      dtype='object')"
            ]
          },
          "metadata": {},
          "execution_count": 41
        }
      ]
    },
    {
      "cell_type": "code",
      "source": [
        "df_stocks['market_cap'] = df_stocks['PRC'] * df_stocks['SHROUT'] "
      ],
      "metadata": {
        "id": "PajrBx99F6k0"
      },
      "execution_count": null,
      "outputs": []
    },
    {
      "cell_type": "code",
      "source": [
        "market_cap_map = df_stocks.groupby(['ticker']).mean()['market_cap'].to_dict()"
      ],
      "metadata": {
        "id": "BGFoY4gnXEBa"
      },
      "execution_count": null,
      "outputs": []
    },
    {
      "cell_type": "code",
      "source": [
        "df_stocks['market_cap_mean'] = df_stocks['ticker'].map(market_cap_map)"
      ],
      "metadata": {
        "id": "iQRixOO6XdQn"
      },
      "execution_count": null,
      "outputs": []
    },
    {
      "cell_type": "code",
      "source": [
        "df_stocks['td_count'] = 1 #add in flag for trading day"
      ],
      "metadata": {
        "id": "8ZPUCWEU-xVA"
      },
      "execution_count": null,
      "outputs": []
    },
    {
      "cell_type": "code",
      "source": [
        "df_stocks_week = df_stocks[['ticker','date','PRC', 'market_cap_mean', 'vol']].groupby(['ticker']).resample('W', on='date').mean().reset_index()"
      ],
      "metadata": {
        "id": "Hl0GjAnQoQoB"
      },
      "execution_count": null,
      "outputs": []
    },
    {
      "cell_type": "code",
      "source": [
        "df_stocks_week_sum = df_stocks[['ticker','date','PRC', 'vol', 'td_count']].groupby(['ticker']).resample('W', on='date').sum().reset_index()"
      ],
      "metadata": {
        "id": "pfmuZs6r-iGc"
      },
      "execution_count": null,
      "outputs": []
    },
    {
      "cell_type": "code",
      "source": [
        "df_stocks_week['td_count'] = df_stocks_week_sum['td_count']\n",
        "df_stocks_week['vol_sum'] = df_stocks_week_sum['vol']"
      ],
      "metadata": {
        "id": "d31pxP_c_HU5"
      },
      "execution_count": null,
      "outputs": []
    },
    {
      "cell_type": "code",
      "source": [
        "df_stocks_week_sum['td_count'].value_counts()"
      ],
      "metadata": {
        "id": "RSjiXGJ0AAxf",
        "colab": {
          "base_uri": "https://localhost:8080/"
        },
        "outputId": "4d3ea2e2-9ecf-46c3-c5f5-ec1e3954957d"
      },
      "execution_count": null,
      "outputs": [
        {
          "output_type": "execute_result",
          "data": {
            "text/plain": [
              "5     540301\n",
              "4     112092\n",
              "0      44193\n",
              "10      5249\n",
              "3       1348\n",
              "8       1081\n",
              "1        860\n",
              "2        195\n",
              "6         17\n",
              "7          3\n",
              "9          2\n",
              "Name: td_count, dtype: int64"
            ]
          },
          "metadata": {},
          "execution_count": 51
        }
      ]
    },
    {
      "cell_type": "code",
      "source": [
        "df_stocks_week['td_count'].value_counts()"
      ],
      "metadata": {
        "id": "P5HrBxq5JU9O",
        "colab": {
          "base_uri": "https://localhost:8080/"
        },
        "outputId": "18b4ab05-7e3b-4dee-979a-aea80b1489cd"
      },
      "execution_count": null,
      "outputs": [
        {
          "output_type": "execute_result",
          "data": {
            "text/plain": [
              "5     540301\n",
              "4     112092\n",
              "0      44193\n",
              "10      5249\n",
              "3       1348\n",
              "8       1081\n",
              "1        860\n",
              "2        195\n",
              "6         17\n",
              "7          3\n",
              "9          2\n",
              "Name: td_count, dtype: int64"
            ]
          },
          "metadata": {},
          "execution_count": 52
        }
      ]
    },
    {
      "cell_type": "markdown",
      "source": [
        "Every week, there are either 4 or 5 trading days on the NYSE and NASDAQ. Anything else needs to be cleaned out. "
      ],
      "metadata": {
        "id": "xI8LuPlKPUvh"
      }
    },
    {
      "cell_type": "code",
      "source": [
        "df_stocks_week_sum = df_stocks_week_sum[df_stocks_week_sum['td_count'].isin([4, 5])]"
      ],
      "metadata": {
        "id": "uaZAlX_AIkVd"
      },
      "execution_count": null,
      "outputs": []
    },
    {
      "cell_type": "code",
      "source": [
        "df_stocks_week = df_stocks_week[df_stocks_week['td_count'].isin([4, 5])]"
      ],
      "metadata": {
        "id": "RB1uJo-4JaD6"
      },
      "execution_count": null,
      "outputs": []
    },
    {
      "cell_type": "code",
      "source": [],
      "metadata": {
        "id": "CRZXbb0j_dJ9"
      },
      "execution_count": null,
      "outputs": []
    },
    {
      "cell_type": "code",
      "source": [
        "df_cds_week = df_cds[['ticker','date','ParSpread']].groupby(['ticker']).resample('W', on='date').mean().reset_index()"
      ],
      "metadata": {
        "id": "DhAVWAirUCJ1"
      },
      "execution_count": null,
      "outputs": []
    },
    {
      "cell_type": "code",
      "source": [
        "df_cds_week[df_cds_week['ticker'] == 'ADI']"
      ],
      "metadata": {
        "id": "dY_3YjQ3Uo_a",
        "colab": {
          "base_uri": "https://localhost:8080/",
          "height": 424
        },
        "outputId": "78ce2712-0eb6-4d0b-f902-5fe24fb2c80c"
      },
      "execution_count": null,
      "outputs": [
        {
          "output_type": "execute_result",
          "data": {
            "text/plain": [
              "      ticker       date  ParSpread\n",
              "10731    ADI 2015-01-04   0.005937\n",
              "10732    ADI 2015-01-11   0.005937\n",
              "10733    ADI 2015-01-18   0.005937\n",
              "10734    ADI 2015-01-25   0.005937\n",
              "10735    ADI 2015-02-01   0.005936\n",
              "...      ...        ...        ...\n",
              "11124    ADI 2022-07-17   0.006213\n",
              "11125    ADI 2022-07-24   0.006216\n",
              "11126    ADI 2022-07-31   0.006217\n",
              "11127    ADI 2022-08-07   0.006222\n",
              "11128    ADI 2022-08-14   0.006218\n",
              "\n",
              "[398 rows x 3 columns]"
            ],
            "text/html": [
              "\n",
              "  <div id=\"df-db984ef7-623e-4fdb-8634-87960fc6a4b7\">\n",
              "    <div class=\"colab-df-container\">\n",
              "      <div>\n",
              "<style scoped>\n",
              "    .dataframe tbody tr th:only-of-type {\n",
              "        vertical-align: middle;\n",
              "    }\n",
              "\n",
              "    .dataframe tbody tr th {\n",
              "        vertical-align: top;\n",
              "    }\n",
              "\n",
              "    .dataframe thead th {\n",
              "        text-align: right;\n",
              "    }\n",
              "</style>\n",
              "<table border=\"1\" class=\"dataframe\">\n",
              "  <thead>\n",
              "    <tr style=\"text-align: right;\">\n",
              "      <th></th>\n",
              "      <th>ticker</th>\n",
              "      <th>date</th>\n",
              "      <th>ParSpread</th>\n",
              "    </tr>\n",
              "  </thead>\n",
              "  <tbody>\n",
              "    <tr>\n",
              "      <th>10731</th>\n",
              "      <td>ADI</td>\n",
              "      <td>2015-01-04</td>\n",
              "      <td>0.005937</td>\n",
              "    </tr>\n",
              "    <tr>\n",
              "      <th>10732</th>\n",
              "      <td>ADI</td>\n",
              "      <td>2015-01-11</td>\n",
              "      <td>0.005937</td>\n",
              "    </tr>\n",
              "    <tr>\n",
              "      <th>10733</th>\n",
              "      <td>ADI</td>\n",
              "      <td>2015-01-18</td>\n",
              "      <td>0.005937</td>\n",
              "    </tr>\n",
              "    <tr>\n",
              "      <th>10734</th>\n",
              "      <td>ADI</td>\n",
              "      <td>2015-01-25</td>\n",
              "      <td>0.005937</td>\n",
              "    </tr>\n",
              "    <tr>\n",
              "      <th>10735</th>\n",
              "      <td>ADI</td>\n",
              "      <td>2015-02-01</td>\n",
              "      <td>0.005936</td>\n",
              "    </tr>\n",
              "    <tr>\n",
              "      <th>...</th>\n",
              "      <td>...</td>\n",
              "      <td>...</td>\n",
              "      <td>...</td>\n",
              "    </tr>\n",
              "    <tr>\n",
              "      <th>11124</th>\n",
              "      <td>ADI</td>\n",
              "      <td>2022-07-17</td>\n",
              "      <td>0.006213</td>\n",
              "    </tr>\n",
              "    <tr>\n",
              "      <th>11125</th>\n",
              "      <td>ADI</td>\n",
              "      <td>2022-07-24</td>\n",
              "      <td>0.006216</td>\n",
              "    </tr>\n",
              "    <tr>\n",
              "      <th>11126</th>\n",
              "      <td>ADI</td>\n",
              "      <td>2022-07-31</td>\n",
              "      <td>0.006217</td>\n",
              "    </tr>\n",
              "    <tr>\n",
              "      <th>11127</th>\n",
              "      <td>ADI</td>\n",
              "      <td>2022-08-07</td>\n",
              "      <td>0.006222</td>\n",
              "    </tr>\n",
              "    <tr>\n",
              "      <th>11128</th>\n",
              "      <td>ADI</td>\n",
              "      <td>2022-08-14</td>\n",
              "      <td>0.006218</td>\n",
              "    </tr>\n",
              "  </tbody>\n",
              "</table>\n",
              "<p>398 rows × 3 columns</p>\n",
              "</div>\n",
              "      <button class=\"colab-df-convert\" onclick=\"convertToInteractive('df-db984ef7-623e-4fdb-8634-87960fc6a4b7')\"\n",
              "              title=\"Convert this dataframe to an interactive table.\"\n",
              "              style=\"display:none;\">\n",
              "        \n",
              "  <svg xmlns=\"http://www.w3.org/2000/svg\" height=\"24px\"viewBox=\"0 0 24 24\"\n",
              "       width=\"24px\">\n",
              "    <path d=\"M0 0h24v24H0V0z\" fill=\"none\"/>\n",
              "    <path d=\"M18.56 5.44l.94 2.06.94-2.06 2.06-.94-2.06-.94-.94-2.06-.94 2.06-2.06.94zm-11 1L8.5 8.5l.94-2.06 2.06-.94-2.06-.94L8.5 2.5l-.94 2.06-2.06.94zm10 10l.94 2.06.94-2.06 2.06-.94-2.06-.94-.94-2.06-.94 2.06-2.06.94z\"/><path d=\"M17.41 7.96l-1.37-1.37c-.4-.4-.92-.59-1.43-.59-.52 0-1.04.2-1.43.59L10.3 9.45l-7.72 7.72c-.78.78-.78 2.05 0 2.83L4 21.41c.39.39.9.59 1.41.59.51 0 1.02-.2 1.41-.59l7.78-7.78 2.81-2.81c.8-.78.8-2.07 0-2.86zM5.41 20L4 18.59l7.72-7.72 1.47 1.35L5.41 20z\"/>\n",
              "  </svg>\n",
              "      </button>\n",
              "      \n",
              "  <style>\n",
              "    .colab-df-container {\n",
              "      display:flex;\n",
              "      flex-wrap:wrap;\n",
              "      gap: 12px;\n",
              "    }\n",
              "\n",
              "    .colab-df-convert {\n",
              "      background-color: #E8F0FE;\n",
              "      border: none;\n",
              "      border-radius: 50%;\n",
              "      cursor: pointer;\n",
              "      display: none;\n",
              "      fill: #1967D2;\n",
              "      height: 32px;\n",
              "      padding: 0 0 0 0;\n",
              "      width: 32px;\n",
              "    }\n",
              "\n",
              "    .colab-df-convert:hover {\n",
              "      background-color: #E2EBFA;\n",
              "      box-shadow: 0px 1px 2px rgba(60, 64, 67, 0.3), 0px 1px 3px 1px rgba(60, 64, 67, 0.15);\n",
              "      fill: #174EA6;\n",
              "    }\n",
              "\n",
              "    [theme=dark] .colab-df-convert {\n",
              "      background-color: #3B4455;\n",
              "      fill: #D2E3FC;\n",
              "    }\n",
              "\n",
              "    [theme=dark] .colab-df-convert:hover {\n",
              "      background-color: #434B5C;\n",
              "      box-shadow: 0px 1px 3px 1px rgba(0, 0, 0, 0.15);\n",
              "      filter: drop-shadow(0px 1px 2px rgba(0, 0, 0, 0.3));\n",
              "      fill: #FFFFFF;\n",
              "    }\n",
              "  </style>\n",
              "\n",
              "      <script>\n",
              "        const buttonEl =\n",
              "          document.querySelector('#df-db984ef7-623e-4fdb-8634-87960fc6a4b7 button.colab-df-convert');\n",
              "        buttonEl.style.display =\n",
              "          google.colab.kernel.accessAllowed ? 'block' : 'none';\n",
              "\n",
              "        async function convertToInteractive(key) {\n",
              "          const element = document.querySelector('#df-db984ef7-623e-4fdb-8634-87960fc6a4b7');\n",
              "          const dataTable =\n",
              "            await google.colab.kernel.invokeFunction('convertToInteractive',\n",
              "                                                     [key], {});\n",
              "          if (!dataTable) return;\n",
              "\n",
              "          const docLinkHtml = 'Like what you see? Visit the ' +\n",
              "            '<a target=\"_blank\" href=https://colab.research.google.com/notebooks/data_table.ipynb>data table notebook</a>'\n",
              "            + ' to learn more about interactive tables.';\n",
              "          element.innerHTML = '';\n",
              "          dataTable['output_type'] = 'display_data';\n",
              "          await google.colab.output.renderOutput(dataTable, element);\n",
              "          const docLink = document.createElement('div');\n",
              "          docLink.innerHTML = docLinkHtml;\n",
              "          element.appendChild(docLink);\n",
              "        }\n",
              "      </script>\n",
              "    </div>\n",
              "  </div>\n",
              "  "
            ]
          },
          "metadata": {},
          "execution_count": 62
        }
      ]
    },
    {
      "cell_type": "code",
      "source": [],
      "metadata": {
        "id": "0TcDjT-BmbJo"
      },
      "execution_count": null,
      "outputs": []
    },
    {
      "cell_type": "code",
      "source": [
        "trend_to_comp = dict(zip(df_comp_list.mid, df_comp_list.ticker))"
      ],
      "metadata": {
        "id": "XPL9Aq_WXQd0"
      },
      "execution_count": null,
      "outputs": []
    },
    {
      "cell_type": "code",
      "source": [
        "tick_to_sect = dict(zip(df_cds.ticker, df_cds.Sector))"
      ],
      "metadata": {
        "id": "2ox5uDt-ghcX"
      },
      "execution_count": null,
      "outputs": []
    },
    {
      "cell_type": "code",
      "source": [
        "df_trends.drop(columns=['count'], inplace=True)"
      ],
      "metadata": {
        "id": "OIs_NJZDL_oN"
      },
      "execution_count": null,
      "outputs": []
    },
    {
      "cell_type": "code",
      "source": [
        "df_trends['date'] = pd.to_datetime(pd.to_datetime(df_trends['date']).dt.strftime(\"%Y-%m-%d\"))"
      ],
      "metadata": {
        "id": "lbyI2cHZZonh"
      },
      "execution_count": null,
      "outputs": []
    },
    {
      "cell_type": "code",
      "source": [],
      "metadata": {
        "id": "02q2iMWJstYA"
      },
      "execution_count": null,
      "outputs": []
    },
    {
      "cell_type": "markdown",
      "source": [
        "Now lets merge most of this data together."
      ],
      "metadata": {
        "id": "WNQeBqmSQH2W"
      }
    },
    {
      "cell_type": "code",
      "source": [
        "df = df_trends.merge(df_stocks_week, how='inner', on=['ticker','date'])\n",
        "df = df.merge(df_cds_week, how='inner', on=['ticker','date'])"
      ],
      "metadata": {
        "id": "i5tBfAl2sta8"
      },
      "execution_count": null,
      "outputs": []
    },
    {
      "cell_type": "code",
      "source": [
        "df"
      ],
      "metadata": {
        "id": "kNlrzdOsyJle",
        "colab": {
          "base_uri": "https://localhost:8080/",
          "height": 424
        },
        "outputId": "d0267dbf-5386-4157-999c-54cb56ceeaa5"
      },
      "execution_count": null,
      "outputs": [
        {
          "output_type": "execute_result",
          "data": {
            "text/plain": [
              "      ticker       date        svi      PRC  market_cap_mean         vol  \\\n",
              "0          A 2015-06-07  84.000000   40.796     1.747404e+07  2792428.40   \n",
              "1          A 2015-06-14   0.000000   40.192     1.747404e+07  1785658.80   \n",
              "2          A 2015-06-21   0.000000   39.660     1.747404e+07  1965581.60   \n",
              "3          A 2015-06-28   0.000000   39.934     1.747404e+07  4141355.60   \n",
              "4          A 2015-07-05  39.000000   39.040     1.747404e+07  3050291.75   \n",
              "...      ...        ...        ...      ...              ...         ...   \n",
              "83075    YUM 2022-03-06  49.066310  120.606     2.154346e+07  1667732.80   \n",
              "83076    YUM 2022-03-13  55.358160  115.328     2.154346e+07  2196543.80   \n",
              "83077    YUM 2022-03-20  36.892939  117.728     2.154346e+07  2416518.80   \n",
              "83078    YUM 2022-03-27  46.384245  118.498     2.154346e+07  1604409.60   \n",
              "83079    YUM 2022-04-03  37.000000  120.695     2.154346e+07  2232057.75   \n",
              "\n",
              "       td_count     vol_sum  ParSpread  \n",
              "0             5  13962142.0   0.008360  \n",
              "1             5   8928294.0   0.008485  \n",
              "2             5   9827908.0   0.008736  \n",
              "3             5  20706778.0   0.008423  \n",
              "4             4  12201167.0   0.008363  \n",
              "...         ...         ...        ...  \n",
              "83075         5   8338664.0   0.015166  \n",
              "83076         5  10982719.0   0.016846  \n",
              "83077         5  12082594.0   0.017058  \n",
              "83078         5   8022048.0   0.016272  \n",
              "83079         4   8928231.0   0.015794  \n",
              "\n",
              "[83080 rows x 9 columns]"
            ],
            "text/html": [
              "\n",
              "  <div id=\"df-89da0ecc-cb90-4b90-9c92-f464144ff694\">\n",
              "    <div class=\"colab-df-container\">\n",
              "      <div>\n",
              "<style scoped>\n",
              "    .dataframe tbody tr th:only-of-type {\n",
              "        vertical-align: middle;\n",
              "    }\n",
              "\n",
              "    .dataframe tbody tr th {\n",
              "        vertical-align: top;\n",
              "    }\n",
              "\n",
              "    .dataframe thead th {\n",
              "        text-align: right;\n",
              "    }\n",
              "</style>\n",
              "<table border=\"1\" class=\"dataframe\">\n",
              "  <thead>\n",
              "    <tr style=\"text-align: right;\">\n",
              "      <th></th>\n",
              "      <th>ticker</th>\n",
              "      <th>date</th>\n",
              "      <th>svi</th>\n",
              "      <th>PRC</th>\n",
              "      <th>market_cap_mean</th>\n",
              "      <th>vol</th>\n",
              "      <th>td_count</th>\n",
              "      <th>vol_sum</th>\n",
              "      <th>ParSpread</th>\n",
              "    </tr>\n",
              "  </thead>\n",
              "  <tbody>\n",
              "    <tr>\n",
              "      <th>0</th>\n",
              "      <td>A</td>\n",
              "      <td>2015-06-07</td>\n",
              "      <td>84.000000</td>\n",
              "      <td>40.796</td>\n",
              "      <td>1.747404e+07</td>\n",
              "      <td>2792428.40</td>\n",
              "      <td>5</td>\n",
              "      <td>13962142.0</td>\n",
              "      <td>0.008360</td>\n",
              "    </tr>\n",
              "    <tr>\n",
              "      <th>1</th>\n",
              "      <td>A</td>\n",
              "      <td>2015-06-14</td>\n",
              "      <td>0.000000</td>\n",
              "      <td>40.192</td>\n",
              "      <td>1.747404e+07</td>\n",
              "      <td>1785658.80</td>\n",
              "      <td>5</td>\n",
              "      <td>8928294.0</td>\n",
              "      <td>0.008485</td>\n",
              "    </tr>\n",
              "    <tr>\n",
              "      <th>2</th>\n",
              "      <td>A</td>\n",
              "      <td>2015-06-21</td>\n",
              "      <td>0.000000</td>\n",
              "      <td>39.660</td>\n",
              "      <td>1.747404e+07</td>\n",
              "      <td>1965581.60</td>\n",
              "      <td>5</td>\n",
              "      <td>9827908.0</td>\n",
              "      <td>0.008736</td>\n",
              "    </tr>\n",
              "    <tr>\n",
              "      <th>3</th>\n",
              "      <td>A</td>\n",
              "      <td>2015-06-28</td>\n",
              "      <td>0.000000</td>\n",
              "      <td>39.934</td>\n",
              "      <td>1.747404e+07</td>\n",
              "      <td>4141355.60</td>\n",
              "      <td>5</td>\n",
              "      <td>20706778.0</td>\n",
              "      <td>0.008423</td>\n",
              "    </tr>\n",
              "    <tr>\n",
              "      <th>4</th>\n",
              "      <td>A</td>\n",
              "      <td>2015-07-05</td>\n",
              "      <td>39.000000</td>\n",
              "      <td>39.040</td>\n",
              "      <td>1.747404e+07</td>\n",
              "      <td>3050291.75</td>\n",
              "      <td>4</td>\n",
              "      <td>12201167.0</td>\n",
              "      <td>0.008363</td>\n",
              "    </tr>\n",
              "    <tr>\n",
              "      <th>...</th>\n",
              "      <td>...</td>\n",
              "      <td>...</td>\n",
              "      <td>...</td>\n",
              "      <td>...</td>\n",
              "      <td>...</td>\n",
              "      <td>...</td>\n",
              "      <td>...</td>\n",
              "      <td>...</td>\n",
              "      <td>...</td>\n",
              "    </tr>\n",
              "    <tr>\n",
              "      <th>83075</th>\n",
              "      <td>YUM</td>\n",
              "      <td>2022-03-06</td>\n",
              "      <td>49.066310</td>\n",
              "      <td>120.606</td>\n",
              "      <td>2.154346e+07</td>\n",
              "      <td>1667732.80</td>\n",
              "      <td>5</td>\n",
              "      <td>8338664.0</td>\n",
              "      <td>0.015166</td>\n",
              "    </tr>\n",
              "    <tr>\n",
              "      <th>83076</th>\n",
              "      <td>YUM</td>\n",
              "      <td>2022-03-13</td>\n",
              "      <td>55.358160</td>\n",
              "      <td>115.328</td>\n",
              "      <td>2.154346e+07</td>\n",
              "      <td>2196543.80</td>\n",
              "      <td>5</td>\n",
              "      <td>10982719.0</td>\n",
              "      <td>0.016846</td>\n",
              "    </tr>\n",
              "    <tr>\n",
              "      <th>83077</th>\n",
              "      <td>YUM</td>\n",
              "      <td>2022-03-20</td>\n",
              "      <td>36.892939</td>\n",
              "      <td>117.728</td>\n",
              "      <td>2.154346e+07</td>\n",
              "      <td>2416518.80</td>\n",
              "      <td>5</td>\n",
              "      <td>12082594.0</td>\n",
              "      <td>0.017058</td>\n",
              "    </tr>\n",
              "    <tr>\n",
              "      <th>83078</th>\n",
              "      <td>YUM</td>\n",
              "      <td>2022-03-27</td>\n",
              "      <td>46.384245</td>\n",
              "      <td>118.498</td>\n",
              "      <td>2.154346e+07</td>\n",
              "      <td>1604409.60</td>\n",
              "      <td>5</td>\n",
              "      <td>8022048.0</td>\n",
              "      <td>0.016272</td>\n",
              "    </tr>\n",
              "    <tr>\n",
              "      <th>83079</th>\n",
              "      <td>YUM</td>\n",
              "      <td>2022-04-03</td>\n",
              "      <td>37.000000</td>\n",
              "      <td>120.695</td>\n",
              "      <td>2.154346e+07</td>\n",
              "      <td>2232057.75</td>\n",
              "      <td>4</td>\n",
              "      <td>8928231.0</td>\n",
              "      <td>0.015794</td>\n",
              "    </tr>\n",
              "  </tbody>\n",
              "</table>\n",
              "<p>83080 rows × 9 columns</p>\n",
              "</div>\n",
              "      <button class=\"colab-df-convert\" onclick=\"convertToInteractive('df-89da0ecc-cb90-4b90-9c92-f464144ff694')\"\n",
              "              title=\"Convert this dataframe to an interactive table.\"\n",
              "              style=\"display:none;\">\n",
              "        \n",
              "  <svg xmlns=\"http://www.w3.org/2000/svg\" height=\"24px\"viewBox=\"0 0 24 24\"\n",
              "       width=\"24px\">\n",
              "    <path d=\"M0 0h24v24H0V0z\" fill=\"none\"/>\n",
              "    <path d=\"M18.56 5.44l.94 2.06.94-2.06 2.06-.94-2.06-.94-.94-2.06-.94 2.06-2.06.94zm-11 1L8.5 8.5l.94-2.06 2.06-.94-2.06-.94L8.5 2.5l-.94 2.06-2.06.94zm10 10l.94 2.06.94-2.06 2.06-.94-2.06-.94-.94-2.06-.94 2.06-2.06.94z\"/><path d=\"M17.41 7.96l-1.37-1.37c-.4-.4-.92-.59-1.43-.59-.52 0-1.04.2-1.43.59L10.3 9.45l-7.72 7.72c-.78.78-.78 2.05 0 2.83L4 21.41c.39.39.9.59 1.41.59.51 0 1.02-.2 1.41-.59l7.78-7.78 2.81-2.81c.8-.78.8-2.07 0-2.86zM5.41 20L4 18.59l7.72-7.72 1.47 1.35L5.41 20z\"/>\n",
              "  </svg>\n",
              "      </button>\n",
              "      \n",
              "  <style>\n",
              "    .colab-df-container {\n",
              "      display:flex;\n",
              "      flex-wrap:wrap;\n",
              "      gap: 12px;\n",
              "    }\n",
              "\n",
              "    .colab-df-convert {\n",
              "      background-color: #E8F0FE;\n",
              "      border: none;\n",
              "      border-radius: 50%;\n",
              "      cursor: pointer;\n",
              "      display: none;\n",
              "      fill: #1967D2;\n",
              "      height: 32px;\n",
              "      padding: 0 0 0 0;\n",
              "      width: 32px;\n",
              "    }\n",
              "\n",
              "    .colab-df-convert:hover {\n",
              "      background-color: #E2EBFA;\n",
              "      box-shadow: 0px 1px 2px rgba(60, 64, 67, 0.3), 0px 1px 3px 1px rgba(60, 64, 67, 0.15);\n",
              "      fill: #174EA6;\n",
              "    }\n",
              "\n",
              "    [theme=dark] .colab-df-convert {\n",
              "      background-color: #3B4455;\n",
              "      fill: #D2E3FC;\n",
              "    }\n",
              "\n",
              "    [theme=dark] .colab-df-convert:hover {\n",
              "      background-color: #434B5C;\n",
              "      box-shadow: 0px 1px 3px 1px rgba(0, 0, 0, 0.15);\n",
              "      filter: drop-shadow(0px 1px 2px rgba(0, 0, 0, 0.3));\n",
              "      fill: #FFFFFF;\n",
              "    }\n",
              "  </style>\n",
              "\n",
              "      <script>\n",
              "        const buttonEl =\n",
              "          document.querySelector('#df-89da0ecc-cb90-4b90-9c92-f464144ff694 button.colab-df-convert');\n",
              "        buttonEl.style.display =\n",
              "          google.colab.kernel.accessAllowed ? 'block' : 'none';\n",
              "\n",
              "        async function convertToInteractive(key) {\n",
              "          const element = document.querySelector('#df-89da0ecc-cb90-4b90-9c92-f464144ff694');\n",
              "          const dataTable =\n",
              "            await google.colab.kernel.invokeFunction('convertToInteractive',\n",
              "                                                     [key], {});\n",
              "          if (!dataTable) return;\n",
              "\n",
              "          const docLinkHtml = 'Like what you see? Visit the ' +\n",
              "            '<a target=\"_blank\" href=https://colab.research.google.com/notebooks/data_table.ipynb>data table notebook</a>'\n",
              "            + ' to learn more about interactive tables.';\n",
              "          element.innerHTML = '';\n",
              "          dataTable['output_type'] = 'display_data';\n",
              "          await google.colab.output.renderOutput(dataTable, element);\n",
              "          const docLink = document.createElement('div');\n",
              "          docLink.innerHTML = docLinkHtml;\n",
              "          element.appendChild(docLink);\n",
              "        }\n",
              "      </script>\n",
              "    </div>\n",
              "  </div>\n",
              "  "
            ]
          },
          "metadata": {},
          "execution_count": 71
        }
      ]
    },
    {
      "cell_type": "code",
      "source": [
        "df_sent"
      ],
      "metadata": {
        "id": "a31j6nuJTdvi",
        "colab": {
          "base_uri": "https://localhost:8080/",
          "height": 661
        },
        "outputId": "890a6788-e104-4f55-88e7-8c765948e983"
      },
      "execution_count": null,
      "outputs": [
        {
          "output_type": "execute_result",
          "data": {
            "text/plain": [
              "       CALCULATION_DATE                      NAME SHARE_CLASS_FIGI  \\\n",
              "0            2019-12-25  AGILENT TECHNOLOGIES INC     BBG001SCTQY4   \n",
              "1            2019-12-25                ALCOA CORP     BBG00B3T3HF1   \n",
              "2            2019-12-25    AMERISOURCEBERGEN CORP     BBG001S8X7P0   \n",
              "3            2019-12-25       ABBOTT LABORATORIES     BBG001S5N9M6   \n",
              "4            2019-12-25        ANALOG DEVICES INC     BBG001S5ND38   \n",
              "...                 ...                       ...              ...   \n",
              "413478       2019-03-11  UNITED STATES STEEL CORP     BBG001S5XL75   \n",
              "413479       2019-03-11           XCEL ENERGY INC     BBG001S7F0X8   \n",
              "413480       2019-03-11          EXXON MOBIL CORP     BBG001S69V32   \n",
              "413481       2019-03-11       DENTSPLY SIRONA INC     BBG001S5XLV8   \n",
              "413482       2019-03-11           YUM! BRANDS INC     BBG001S7JQ30   \n",
              "\n",
              "       COMPOSITE_FIGI ticker PRIMARY_EXCHANGE        COUNTRY         REGION  \\\n",
              "0        BBG000C2V3D6      A             NYSE  UNITED STATES  NORTH AMERICA   \n",
              "1        BBG00B3T3HD3     AA             NYSE  UNITED STATES  NORTH AMERICA   \n",
              "2        BBG000MDCQC2    ABC             NYSE  UNITED STATES  NORTH AMERICA   \n",
              "3        BBG000B9ZXB4    ABT             NYSE  UNITED STATES  NORTH AMERICA   \n",
              "4        BBG000BB6G37    ADI           NASDAQ  UNITED STATES  NORTH AMERICA   \n",
              "...               ...    ...              ...            ...            ...   \n",
              "413478   BBG000BX3TD3      X             NYSE  UNITED STATES  NORTH AMERICA   \n",
              "413479   BBG000BCTQ65    XEL           NASDAQ  UNITED STATES  NORTH AMERICA   \n",
              "413480   BBG000GZQ728    XOM             NYSE  UNITED STATES  NORTH AMERICA   \n",
              "413481   BBG000BX57K1   XRAY           NASDAQ  UNITED STATES  NORTH AMERICA   \n",
              "413482   BBG000BH3GZ2    YUM             NYSE  UNITED STATES  NORTH AMERICA   \n",
              "\n",
              "        art_count  VOLUME_SENTIMENT    sent  BUZZ_VOLUME  \\\n",
              "0              24                12  0.1681       0.0408   \n",
              "1              47                25  0.0604       0.6913   \n",
              "2              22                15  0.1263       0.0322   \n",
              "3              45                22  0.0477       0.2762   \n",
              "4              46                24  0.2145       0.6952   \n",
              "...           ...               ...     ...          ...   \n",
              "413478         36                14  0.0427      -0.2927   \n",
              "413479         54                27  0.2683       1.4928   \n",
              "413480        234               159  0.0582       1.4434   \n",
              "413481         72                24  0.3267       1.8275   \n",
              "413482         62                40  0.0867       0.8777   \n",
              "\n",
              "        BUZZ_VOLUME_SENTIMENT       date  \n",
              "0                     -0.0493 2019-12-17  \n",
              "1                      0.9443 2019-12-17  \n",
              "2                      0.2818 2019-12-17  \n",
              "3                      0.1218 2019-12-17  \n",
              "4                      0.6663 2019-12-17  \n",
              "...                       ...        ...  \n",
              "413478                -0.6309 2019-03-03  \n",
              "413479                 1.1384 2019-03-03  \n",
              "413480                 1.7505 2019-03-03  \n",
              "413481                 1.3938 2019-03-03  \n",
              "413482                 1.3221 2019-03-03  \n",
              "\n",
              "[413483 rows x 14 columns]"
            ],
            "text/html": [
              "\n",
              "  <div id=\"df-b3960cd3-4d97-470d-b76a-cbd159981aaa\">\n",
              "    <div class=\"colab-df-container\">\n",
              "      <div>\n",
              "<style scoped>\n",
              "    .dataframe tbody tr th:only-of-type {\n",
              "        vertical-align: middle;\n",
              "    }\n",
              "\n",
              "    .dataframe tbody tr th {\n",
              "        vertical-align: top;\n",
              "    }\n",
              "\n",
              "    .dataframe thead th {\n",
              "        text-align: right;\n",
              "    }\n",
              "</style>\n",
              "<table border=\"1\" class=\"dataframe\">\n",
              "  <thead>\n",
              "    <tr style=\"text-align: right;\">\n",
              "      <th></th>\n",
              "      <th>CALCULATION_DATE</th>\n",
              "      <th>NAME</th>\n",
              "      <th>SHARE_CLASS_FIGI</th>\n",
              "      <th>COMPOSITE_FIGI</th>\n",
              "      <th>ticker</th>\n",
              "      <th>PRIMARY_EXCHANGE</th>\n",
              "      <th>COUNTRY</th>\n",
              "      <th>REGION</th>\n",
              "      <th>art_count</th>\n",
              "      <th>VOLUME_SENTIMENT</th>\n",
              "      <th>sent</th>\n",
              "      <th>BUZZ_VOLUME</th>\n",
              "      <th>BUZZ_VOLUME_SENTIMENT</th>\n",
              "      <th>date</th>\n",
              "    </tr>\n",
              "  </thead>\n",
              "  <tbody>\n",
              "    <tr>\n",
              "      <th>0</th>\n",
              "      <td>2019-12-25</td>\n",
              "      <td>AGILENT TECHNOLOGIES INC</td>\n",
              "      <td>BBG001SCTQY4</td>\n",
              "      <td>BBG000C2V3D6</td>\n",
              "      <td>A</td>\n",
              "      <td>NYSE</td>\n",
              "      <td>UNITED STATES</td>\n",
              "      <td>NORTH AMERICA</td>\n",
              "      <td>24</td>\n",
              "      <td>12</td>\n",
              "      <td>0.1681</td>\n",
              "      <td>0.0408</td>\n",
              "      <td>-0.0493</td>\n",
              "      <td>2019-12-17</td>\n",
              "    </tr>\n",
              "    <tr>\n",
              "      <th>1</th>\n",
              "      <td>2019-12-25</td>\n",
              "      <td>ALCOA CORP</td>\n",
              "      <td>BBG00B3T3HF1</td>\n",
              "      <td>BBG00B3T3HD3</td>\n",
              "      <td>AA</td>\n",
              "      <td>NYSE</td>\n",
              "      <td>UNITED STATES</td>\n",
              "      <td>NORTH AMERICA</td>\n",
              "      <td>47</td>\n",
              "      <td>25</td>\n",
              "      <td>0.0604</td>\n",
              "      <td>0.6913</td>\n",
              "      <td>0.9443</td>\n",
              "      <td>2019-12-17</td>\n",
              "    </tr>\n",
              "    <tr>\n",
              "      <th>2</th>\n",
              "      <td>2019-12-25</td>\n",
              "      <td>AMERISOURCEBERGEN CORP</td>\n",
              "      <td>BBG001S8X7P0</td>\n",
              "      <td>BBG000MDCQC2</td>\n",
              "      <td>ABC</td>\n",
              "      <td>NYSE</td>\n",
              "      <td>UNITED STATES</td>\n",
              "      <td>NORTH AMERICA</td>\n",
              "      <td>22</td>\n",
              "      <td>15</td>\n",
              "      <td>0.1263</td>\n",
              "      <td>0.0322</td>\n",
              "      <td>0.2818</td>\n",
              "      <td>2019-12-17</td>\n",
              "    </tr>\n",
              "    <tr>\n",
              "      <th>3</th>\n",
              "      <td>2019-12-25</td>\n",
              "      <td>ABBOTT LABORATORIES</td>\n",
              "      <td>BBG001S5N9M6</td>\n",
              "      <td>BBG000B9ZXB4</td>\n",
              "      <td>ABT</td>\n",
              "      <td>NYSE</td>\n",
              "      <td>UNITED STATES</td>\n",
              "      <td>NORTH AMERICA</td>\n",
              "      <td>45</td>\n",
              "      <td>22</td>\n",
              "      <td>0.0477</td>\n",
              "      <td>0.2762</td>\n",
              "      <td>0.1218</td>\n",
              "      <td>2019-12-17</td>\n",
              "    </tr>\n",
              "    <tr>\n",
              "      <th>4</th>\n",
              "      <td>2019-12-25</td>\n",
              "      <td>ANALOG DEVICES INC</td>\n",
              "      <td>BBG001S5ND38</td>\n",
              "      <td>BBG000BB6G37</td>\n",
              "      <td>ADI</td>\n",
              "      <td>NASDAQ</td>\n",
              "      <td>UNITED STATES</td>\n",
              "      <td>NORTH AMERICA</td>\n",
              "      <td>46</td>\n",
              "      <td>24</td>\n",
              "      <td>0.2145</td>\n",
              "      <td>0.6952</td>\n",
              "      <td>0.6663</td>\n",
              "      <td>2019-12-17</td>\n",
              "    </tr>\n",
              "    <tr>\n",
              "      <th>...</th>\n",
              "      <td>...</td>\n",
              "      <td>...</td>\n",
              "      <td>...</td>\n",
              "      <td>...</td>\n",
              "      <td>...</td>\n",
              "      <td>...</td>\n",
              "      <td>...</td>\n",
              "      <td>...</td>\n",
              "      <td>...</td>\n",
              "      <td>...</td>\n",
              "      <td>...</td>\n",
              "      <td>...</td>\n",
              "      <td>...</td>\n",
              "      <td>...</td>\n",
              "    </tr>\n",
              "    <tr>\n",
              "      <th>413478</th>\n",
              "      <td>2019-03-11</td>\n",
              "      <td>UNITED STATES STEEL CORP</td>\n",
              "      <td>BBG001S5XL75</td>\n",
              "      <td>BBG000BX3TD3</td>\n",
              "      <td>X</td>\n",
              "      <td>NYSE</td>\n",
              "      <td>UNITED STATES</td>\n",
              "      <td>NORTH AMERICA</td>\n",
              "      <td>36</td>\n",
              "      <td>14</td>\n",
              "      <td>0.0427</td>\n",
              "      <td>-0.2927</td>\n",
              "      <td>-0.6309</td>\n",
              "      <td>2019-03-03</td>\n",
              "    </tr>\n",
              "    <tr>\n",
              "      <th>413479</th>\n",
              "      <td>2019-03-11</td>\n",
              "      <td>XCEL ENERGY INC</td>\n",
              "      <td>BBG001S7F0X8</td>\n",
              "      <td>BBG000BCTQ65</td>\n",
              "      <td>XEL</td>\n",
              "      <td>NASDAQ</td>\n",
              "      <td>UNITED STATES</td>\n",
              "      <td>NORTH AMERICA</td>\n",
              "      <td>54</td>\n",
              "      <td>27</td>\n",
              "      <td>0.2683</td>\n",
              "      <td>1.4928</td>\n",
              "      <td>1.1384</td>\n",
              "      <td>2019-03-03</td>\n",
              "    </tr>\n",
              "    <tr>\n",
              "      <th>413480</th>\n",
              "      <td>2019-03-11</td>\n",
              "      <td>EXXON MOBIL CORP</td>\n",
              "      <td>BBG001S69V32</td>\n",
              "      <td>BBG000GZQ728</td>\n",
              "      <td>XOM</td>\n",
              "      <td>NYSE</td>\n",
              "      <td>UNITED STATES</td>\n",
              "      <td>NORTH AMERICA</td>\n",
              "      <td>234</td>\n",
              "      <td>159</td>\n",
              "      <td>0.0582</td>\n",
              "      <td>1.4434</td>\n",
              "      <td>1.7505</td>\n",
              "      <td>2019-03-03</td>\n",
              "    </tr>\n",
              "    <tr>\n",
              "      <th>413481</th>\n",
              "      <td>2019-03-11</td>\n",
              "      <td>DENTSPLY SIRONA INC</td>\n",
              "      <td>BBG001S5XLV8</td>\n",
              "      <td>BBG000BX57K1</td>\n",
              "      <td>XRAY</td>\n",
              "      <td>NASDAQ</td>\n",
              "      <td>UNITED STATES</td>\n",
              "      <td>NORTH AMERICA</td>\n",
              "      <td>72</td>\n",
              "      <td>24</td>\n",
              "      <td>0.3267</td>\n",
              "      <td>1.8275</td>\n",
              "      <td>1.3938</td>\n",
              "      <td>2019-03-03</td>\n",
              "    </tr>\n",
              "    <tr>\n",
              "      <th>413482</th>\n",
              "      <td>2019-03-11</td>\n",
              "      <td>YUM! BRANDS INC</td>\n",
              "      <td>BBG001S7JQ30</td>\n",
              "      <td>BBG000BH3GZ2</td>\n",
              "      <td>YUM</td>\n",
              "      <td>NYSE</td>\n",
              "      <td>UNITED STATES</td>\n",
              "      <td>NORTH AMERICA</td>\n",
              "      <td>62</td>\n",
              "      <td>40</td>\n",
              "      <td>0.0867</td>\n",
              "      <td>0.8777</td>\n",
              "      <td>1.3221</td>\n",
              "      <td>2019-03-03</td>\n",
              "    </tr>\n",
              "  </tbody>\n",
              "</table>\n",
              "<p>413483 rows × 14 columns</p>\n",
              "</div>\n",
              "      <button class=\"colab-df-convert\" onclick=\"convertToInteractive('df-b3960cd3-4d97-470d-b76a-cbd159981aaa')\"\n",
              "              title=\"Convert this dataframe to an interactive table.\"\n",
              "              style=\"display:none;\">\n",
              "        \n",
              "  <svg xmlns=\"http://www.w3.org/2000/svg\" height=\"24px\"viewBox=\"0 0 24 24\"\n",
              "       width=\"24px\">\n",
              "    <path d=\"M0 0h24v24H0V0z\" fill=\"none\"/>\n",
              "    <path d=\"M18.56 5.44l.94 2.06.94-2.06 2.06-.94-2.06-.94-.94-2.06-.94 2.06-2.06.94zm-11 1L8.5 8.5l.94-2.06 2.06-.94-2.06-.94L8.5 2.5l-.94 2.06-2.06.94zm10 10l.94 2.06.94-2.06 2.06-.94-2.06-.94-.94-2.06-.94 2.06-2.06.94z\"/><path d=\"M17.41 7.96l-1.37-1.37c-.4-.4-.92-.59-1.43-.59-.52 0-1.04.2-1.43.59L10.3 9.45l-7.72 7.72c-.78.78-.78 2.05 0 2.83L4 21.41c.39.39.9.59 1.41.59.51 0 1.02-.2 1.41-.59l7.78-7.78 2.81-2.81c.8-.78.8-2.07 0-2.86zM5.41 20L4 18.59l7.72-7.72 1.47 1.35L5.41 20z\"/>\n",
              "  </svg>\n",
              "      </button>\n",
              "      \n",
              "  <style>\n",
              "    .colab-df-container {\n",
              "      display:flex;\n",
              "      flex-wrap:wrap;\n",
              "      gap: 12px;\n",
              "    }\n",
              "\n",
              "    .colab-df-convert {\n",
              "      background-color: #E8F0FE;\n",
              "      border: none;\n",
              "      border-radius: 50%;\n",
              "      cursor: pointer;\n",
              "      display: none;\n",
              "      fill: #1967D2;\n",
              "      height: 32px;\n",
              "      padding: 0 0 0 0;\n",
              "      width: 32px;\n",
              "    }\n",
              "\n",
              "    .colab-df-convert:hover {\n",
              "      background-color: #E2EBFA;\n",
              "      box-shadow: 0px 1px 2px rgba(60, 64, 67, 0.3), 0px 1px 3px 1px rgba(60, 64, 67, 0.15);\n",
              "      fill: #174EA6;\n",
              "    }\n",
              "\n",
              "    [theme=dark] .colab-df-convert {\n",
              "      background-color: #3B4455;\n",
              "      fill: #D2E3FC;\n",
              "    }\n",
              "\n",
              "    [theme=dark] .colab-df-convert:hover {\n",
              "      background-color: #434B5C;\n",
              "      box-shadow: 0px 1px 3px 1px rgba(0, 0, 0, 0.15);\n",
              "      filter: drop-shadow(0px 1px 2px rgba(0, 0, 0, 0.3));\n",
              "      fill: #FFFFFF;\n",
              "    }\n",
              "  </style>\n",
              "\n",
              "      <script>\n",
              "        const buttonEl =\n",
              "          document.querySelector('#df-b3960cd3-4d97-470d-b76a-cbd159981aaa button.colab-df-convert');\n",
              "        buttonEl.style.display =\n",
              "          google.colab.kernel.accessAllowed ? 'block' : 'none';\n",
              "\n",
              "        async function convertToInteractive(key) {\n",
              "          const element = document.querySelector('#df-b3960cd3-4d97-470d-b76a-cbd159981aaa');\n",
              "          const dataTable =\n",
              "            await google.colab.kernel.invokeFunction('convertToInteractive',\n",
              "                                                     [key], {});\n",
              "          if (!dataTable) return;\n",
              "\n",
              "          const docLinkHtml = 'Like what you see? Visit the ' +\n",
              "            '<a target=\"_blank\" href=https://colab.research.google.com/notebooks/data_table.ipynb>data table notebook</a>'\n",
              "            + ' to learn more about interactive tables.';\n",
              "          element.innerHTML = '';\n",
              "          dataTable['output_type'] = 'display_data';\n",
              "          await google.colab.output.renderOutput(dataTable, element);\n",
              "          const docLink = document.createElement('div');\n",
              "          docLink.innerHTML = docLinkHtml;\n",
              "          element.appendChild(docLink);\n",
              "        }\n",
              "      </script>\n",
              "    </div>\n",
              "  </div>\n",
              "  "
            ]
          },
          "metadata": {},
          "execution_count": 73
        }
      ]
    },
    {
      "cell_type": "code",
      "source": [
        "df = df.merge(df_sent[['ticker','date', \"sent\", \"art_count\"]], how='left', on=['ticker','date'])"
      ],
      "metadata": {
        "id": "dvhzFHowTAeX"
      },
      "execution_count": null,
      "outputs": []
    },
    {
      "cell_type": "code",
      "source": [
        "df = df[df['date'] > datetime.strptime('2016-07-17', '%Y-%m-%d')].copy()"
      ],
      "metadata": {
        "id": "hwPUB77dfF12"
      },
      "execution_count": null,
      "outputs": []
    },
    {
      "cell_type": "code",
      "source": [
        "df.dropna(subset=['ParSpread'], inplace=True)"
      ],
      "metadata": {
        "id": "7_TM5i-qYoEY"
      },
      "execution_count": null,
      "outputs": []
    },
    {
      "cell_type": "code",
      "source": [],
      "metadata": {
        "id": "mzgu6_pKYoN9"
      },
      "execution_count": null,
      "outputs": []
    },
    {
      "cell_type": "code",
      "source": [
        "df.fillna(0.0, inplace=True)"
      ],
      "metadata": {
        "id": "_lCT8c1Dtn3y"
      },
      "execution_count": null,
      "outputs": []
    },
    {
      "cell_type": "code",
      "source": [
        "df.groupby(['ticker']).count()['date'].sort_values().head(20)"
      ],
      "metadata": {
        "id": "5WHoxLp5VK41",
        "colab": {
          "base_uri": "https://localhost:8080/"
        },
        "outputId": "e7d68a91-1f37-43c1-f7ff-85a67e0c8037"
      },
      "execution_count": null,
      "outputs": [
        {
          "output_type": "execute_result",
          "data": {
            "text/plain": [
              "ticker\n",
              "DG       1\n",
              "STT      2\n",
              "SNA      2\n",
              "PNW      3\n",
              "STLD    11\n",
              "ASH     14\n",
              "COKE    15\n",
              "AA      17\n",
              "JCI     27\n",
              "PENN    29\n",
              "SCS     39\n",
              "CRS     41\n",
              "VSH     44\n",
              "D       46\n",
              "JBL     53\n",
              "NRP     58\n",
              "ALB     80\n",
              "PNR     80\n",
              "LEG     82\n",
              "WMT     84\n",
              "Name: date, dtype: int64"
            ]
          },
          "metadata": {},
          "execution_count": 79
        }
      ]
    },
    {
      "cell_type": "markdown",
      "source": [
        "We need to get rid of missing values"
      ],
      "metadata": {
        "id": "kxZmGpTgQZxf"
      }
    },
    {
      "cell_type": "code",
      "source": [
        "df_count = df.groupby(['ticker']).count()"
      ],
      "metadata": {
        "id": "cgGKAMnGyh4U"
      },
      "execution_count": null,
      "outputs": []
    },
    {
      "cell_type": "code",
      "source": [
        "full_comps_list = df_count[df_count['ParSpread'] == df_count['ParSpread'].max()].index  "
      ],
      "metadata": {
        "id": "6OxJ6DyZIsuS"
      },
      "execution_count": null,
      "outputs": []
    },
    {
      "cell_type": "code",
      "source": [
        "full_comps_list"
      ],
      "metadata": {
        "id": "KeHj3tdbUrNt",
        "colab": {
          "base_uri": "https://localhost:8080/"
        },
        "outputId": "96d423cb-38ab-44a4-fc5a-e8f256bf1360"
      },
      "execution_count": null,
      "outputs": [
        {
          "output_type": "execute_result",
          "data": {
            "text/plain": [
              "Index(['A', 'ABC', 'ABT', 'ADI', 'ADM', 'ADP', 'AEP', 'AES', 'AFG', 'AIG',\n",
              "       ...\n",
              "       'WFC', 'WHR', 'WMB', 'WRE', 'WY', 'X', 'XEL', 'XOM', 'XRX', 'YUM'],\n",
              "      dtype='object', name='ticker', length=195)"
            ]
          },
          "metadata": {},
          "execution_count": 84
        }
      ]
    },
    {
      "cell_type": "code",
      "source": [
        "\n",
        "df = df[df.ticker.isin(full_comps_list)].copy() #all data has the same lenght"
      ],
      "metadata": {
        "id": "qCWYL2jZIde6"
      },
      "execution_count": null,
      "outputs": []
    },
    {
      "cell_type": "code",
      "source": [
        "df['sector'] =  df['ticker'].map(tick_to_sect)"
      ],
      "metadata": {
        "id": "LVIGTQ6qg_N5"
      },
      "execution_count": null,
      "outputs": []
    },
    {
      "cell_type": "code",
      "source": [
        "df"
      ],
      "metadata": {
        "id": "GnmHkKd8hHNH",
        "colab": {
          "base_uri": "https://localhost:8080/",
          "height": 424
        },
        "outputId": "7bce2e10-6461-4178-d889-c58164e5bbf4"
      },
      "execution_count": null,
      "outputs": [
        {
          "output_type": "execute_result",
          "data": {
            "text/plain": [
              "      ticker       date        svi      PRC  market_cap_mean         vol  \\\n",
              "59         A 2016-07-24  10.666667   46.808     1.747404e+07  1762092.60   \n",
              "60         A 2016-07-31  15.000000   47.194     1.747404e+07  1782557.00   \n",
              "61         A 2016-08-07  22.166667   47.292     1.747404e+07  1532088.40   \n",
              "62         A 2016-08-14  27.333333   47.692     1.747404e+07  1197606.20   \n",
              "63         A 2016-08-21  19.500000   47.898     1.747404e+07  3331050.00   \n",
              "...      ...        ...        ...      ...              ...         ...   \n",
              "83075    YUM 2022-03-06  49.066310  120.606     2.154346e+07  1667732.80   \n",
              "83076    YUM 2022-03-13  55.358160  115.328     2.154346e+07  2196543.80   \n",
              "83077    YUM 2022-03-20  36.892939  117.728     2.154346e+07  2416518.80   \n",
              "83078    YUM 2022-03-27  46.384245  118.498     2.154346e+07  1604409.60   \n",
              "83079    YUM 2022-04-03  37.000000  120.695     2.154346e+07  2232057.75   \n",
              "\n",
              "       td_count     vol_sum  ParSpread    sent  art_count             sector  \n",
              "59            5   8810463.0   0.010475  0.3182        2.0         Healthcare  \n",
              "60            5   8912785.0   0.008571  0.4019        3.0         Healthcare  \n",
              "61            5   7660442.0   0.008761  0.2500        6.0         Healthcare  \n",
              "62            5   5988031.0   0.008887 -0.1277       33.0         Healthcare  \n",
              "63            5  16655250.0   0.008347  0.0000        0.0         Healthcare  \n",
              "...         ...         ...        ...     ...        ...                ...  \n",
              "83075         5   8338664.0   0.015166 -0.1807       37.0  Consumer Services  \n",
              "83076         5  10982719.0   0.016846  0.0268       27.0  Consumer Services  \n",
              "83077         5  12082594.0   0.017058  0.2055       20.0  Consumer Services  \n",
              "83078         5   8022048.0   0.016272  0.1121       24.0  Consumer Services  \n",
              "83079         4   8928231.0   0.015794  0.3444       19.0  Consumer Services  \n",
              "\n",
              "[58110 rows x 12 columns]"
            ],
            "text/html": [
              "\n",
              "  <div id=\"df-127d8790-af92-4673-8bf7-0730a6a79a84\">\n",
              "    <div class=\"colab-df-container\">\n",
              "      <div>\n",
              "<style scoped>\n",
              "    .dataframe tbody tr th:only-of-type {\n",
              "        vertical-align: middle;\n",
              "    }\n",
              "\n",
              "    .dataframe tbody tr th {\n",
              "        vertical-align: top;\n",
              "    }\n",
              "\n",
              "    .dataframe thead th {\n",
              "        text-align: right;\n",
              "    }\n",
              "</style>\n",
              "<table border=\"1\" class=\"dataframe\">\n",
              "  <thead>\n",
              "    <tr style=\"text-align: right;\">\n",
              "      <th></th>\n",
              "      <th>ticker</th>\n",
              "      <th>date</th>\n",
              "      <th>svi</th>\n",
              "      <th>PRC</th>\n",
              "      <th>market_cap_mean</th>\n",
              "      <th>vol</th>\n",
              "      <th>td_count</th>\n",
              "      <th>vol_sum</th>\n",
              "      <th>ParSpread</th>\n",
              "      <th>sent</th>\n",
              "      <th>art_count</th>\n",
              "      <th>sector</th>\n",
              "    </tr>\n",
              "  </thead>\n",
              "  <tbody>\n",
              "    <tr>\n",
              "      <th>59</th>\n",
              "      <td>A</td>\n",
              "      <td>2016-07-24</td>\n",
              "      <td>10.666667</td>\n",
              "      <td>46.808</td>\n",
              "      <td>1.747404e+07</td>\n",
              "      <td>1762092.60</td>\n",
              "      <td>5</td>\n",
              "      <td>8810463.0</td>\n",
              "      <td>0.010475</td>\n",
              "      <td>0.3182</td>\n",
              "      <td>2.0</td>\n",
              "      <td>Healthcare</td>\n",
              "    </tr>\n",
              "    <tr>\n",
              "      <th>60</th>\n",
              "      <td>A</td>\n",
              "      <td>2016-07-31</td>\n",
              "      <td>15.000000</td>\n",
              "      <td>47.194</td>\n",
              "      <td>1.747404e+07</td>\n",
              "      <td>1782557.00</td>\n",
              "      <td>5</td>\n",
              "      <td>8912785.0</td>\n",
              "      <td>0.008571</td>\n",
              "      <td>0.4019</td>\n",
              "      <td>3.0</td>\n",
              "      <td>Healthcare</td>\n",
              "    </tr>\n",
              "    <tr>\n",
              "      <th>61</th>\n",
              "      <td>A</td>\n",
              "      <td>2016-08-07</td>\n",
              "      <td>22.166667</td>\n",
              "      <td>47.292</td>\n",
              "      <td>1.747404e+07</td>\n",
              "      <td>1532088.40</td>\n",
              "      <td>5</td>\n",
              "      <td>7660442.0</td>\n",
              "      <td>0.008761</td>\n",
              "      <td>0.2500</td>\n",
              "      <td>6.0</td>\n",
              "      <td>Healthcare</td>\n",
              "    </tr>\n",
              "    <tr>\n",
              "      <th>62</th>\n",
              "      <td>A</td>\n",
              "      <td>2016-08-14</td>\n",
              "      <td>27.333333</td>\n",
              "      <td>47.692</td>\n",
              "      <td>1.747404e+07</td>\n",
              "      <td>1197606.20</td>\n",
              "      <td>5</td>\n",
              "      <td>5988031.0</td>\n",
              "      <td>0.008887</td>\n",
              "      <td>-0.1277</td>\n",
              "      <td>33.0</td>\n",
              "      <td>Healthcare</td>\n",
              "    </tr>\n",
              "    <tr>\n",
              "      <th>63</th>\n",
              "      <td>A</td>\n",
              "      <td>2016-08-21</td>\n",
              "      <td>19.500000</td>\n",
              "      <td>47.898</td>\n",
              "      <td>1.747404e+07</td>\n",
              "      <td>3331050.00</td>\n",
              "      <td>5</td>\n",
              "      <td>16655250.0</td>\n",
              "      <td>0.008347</td>\n",
              "      <td>0.0000</td>\n",
              "      <td>0.0</td>\n",
              "      <td>Healthcare</td>\n",
              "    </tr>\n",
              "    <tr>\n",
              "      <th>...</th>\n",
              "      <td>...</td>\n",
              "      <td>...</td>\n",
              "      <td>...</td>\n",
              "      <td>...</td>\n",
              "      <td>...</td>\n",
              "      <td>...</td>\n",
              "      <td>...</td>\n",
              "      <td>...</td>\n",
              "      <td>...</td>\n",
              "      <td>...</td>\n",
              "      <td>...</td>\n",
              "      <td>...</td>\n",
              "    </tr>\n",
              "    <tr>\n",
              "      <th>83075</th>\n",
              "      <td>YUM</td>\n",
              "      <td>2022-03-06</td>\n",
              "      <td>49.066310</td>\n",
              "      <td>120.606</td>\n",
              "      <td>2.154346e+07</td>\n",
              "      <td>1667732.80</td>\n",
              "      <td>5</td>\n",
              "      <td>8338664.0</td>\n",
              "      <td>0.015166</td>\n",
              "      <td>-0.1807</td>\n",
              "      <td>37.0</td>\n",
              "      <td>Consumer Services</td>\n",
              "    </tr>\n",
              "    <tr>\n",
              "      <th>83076</th>\n",
              "      <td>YUM</td>\n",
              "      <td>2022-03-13</td>\n",
              "      <td>55.358160</td>\n",
              "      <td>115.328</td>\n",
              "      <td>2.154346e+07</td>\n",
              "      <td>2196543.80</td>\n",
              "      <td>5</td>\n",
              "      <td>10982719.0</td>\n",
              "      <td>0.016846</td>\n",
              "      <td>0.0268</td>\n",
              "      <td>27.0</td>\n",
              "      <td>Consumer Services</td>\n",
              "    </tr>\n",
              "    <tr>\n",
              "      <th>83077</th>\n",
              "      <td>YUM</td>\n",
              "      <td>2022-03-20</td>\n",
              "      <td>36.892939</td>\n",
              "      <td>117.728</td>\n",
              "      <td>2.154346e+07</td>\n",
              "      <td>2416518.80</td>\n",
              "      <td>5</td>\n",
              "      <td>12082594.0</td>\n",
              "      <td>0.017058</td>\n",
              "      <td>0.2055</td>\n",
              "      <td>20.0</td>\n",
              "      <td>Consumer Services</td>\n",
              "    </tr>\n",
              "    <tr>\n",
              "      <th>83078</th>\n",
              "      <td>YUM</td>\n",
              "      <td>2022-03-27</td>\n",
              "      <td>46.384245</td>\n",
              "      <td>118.498</td>\n",
              "      <td>2.154346e+07</td>\n",
              "      <td>1604409.60</td>\n",
              "      <td>5</td>\n",
              "      <td>8022048.0</td>\n",
              "      <td>0.016272</td>\n",
              "      <td>0.1121</td>\n",
              "      <td>24.0</td>\n",
              "      <td>Consumer Services</td>\n",
              "    </tr>\n",
              "    <tr>\n",
              "      <th>83079</th>\n",
              "      <td>YUM</td>\n",
              "      <td>2022-04-03</td>\n",
              "      <td>37.000000</td>\n",
              "      <td>120.695</td>\n",
              "      <td>2.154346e+07</td>\n",
              "      <td>2232057.75</td>\n",
              "      <td>4</td>\n",
              "      <td>8928231.0</td>\n",
              "      <td>0.015794</td>\n",
              "      <td>0.3444</td>\n",
              "      <td>19.0</td>\n",
              "      <td>Consumer Services</td>\n",
              "    </tr>\n",
              "  </tbody>\n",
              "</table>\n",
              "<p>58110 rows × 12 columns</p>\n",
              "</div>\n",
              "      <button class=\"colab-df-convert\" onclick=\"convertToInteractive('df-127d8790-af92-4673-8bf7-0730a6a79a84')\"\n",
              "              title=\"Convert this dataframe to an interactive table.\"\n",
              "              style=\"display:none;\">\n",
              "        \n",
              "  <svg xmlns=\"http://www.w3.org/2000/svg\" height=\"24px\"viewBox=\"0 0 24 24\"\n",
              "       width=\"24px\">\n",
              "    <path d=\"M0 0h24v24H0V0z\" fill=\"none\"/>\n",
              "    <path d=\"M18.56 5.44l.94 2.06.94-2.06 2.06-.94-2.06-.94-.94-2.06-.94 2.06-2.06.94zm-11 1L8.5 8.5l.94-2.06 2.06-.94-2.06-.94L8.5 2.5l-.94 2.06-2.06.94zm10 10l.94 2.06.94-2.06 2.06-.94-2.06-.94-.94-2.06-.94 2.06-2.06.94z\"/><path d=\"M17.41 7.96l-1.37-1.37c-.4-.4-.92-.59-1.43-.59-.52 0-1.04.2-1.43.59L10.3 9.45l-7.72 7.72c-.78.78-.78 2.05 0 2.83L4 21.41c.39.39.9.59 1.41.59.51 0 1.02-.2 1.41-.59l7.78-7.78 2.81-2.81c.8-.78.8-2.07 0-2.86zM5.41 20L4 18.59l7.72-7.72 1.47 1.35L5.41 20z\"/>\n",
              "  </svg>\n",
              "      </button>\n",
              "      \n",
              "  <style>\n",
              "    .colab-df-container {\n",
              "      display:flex;\n",
              "      flex-wrap:wrap;\n",
              "      gap: 12px;\n",
              "    }\n",
              "\n",
              "    .colab-df-convert {\n",
              "      background-color: #E8F0FE;\n",
              "      border: none;\n",
              "      border-radius: 50%;\n",
              "      cursor: pointer;\n",
              "      display: none;\n",
              "      fill: #1967D2;\n",
              "      height: 32px;\n",
              "      padding: 0 0 0 0;\n",
              "      width: 32px;\n",
              "    }\n",
              "\n",
              "    .colab-df-convert:hover {\n",
              "      background-color: #E2EBFA;\n",
              "      box-shadow: 0px 1px 2px rgba(60, 64, 67, 0.3), 0px 1px 3px 1px rgba(60, 64, 67, 0.15);\n",
              "      fill: #174EA6;\n",
              "    }\n",
              "\n",
              "    [theme=dark] .colab-df-convert {\n",
              "      background-color: #3B4455;\n",
              "      fill: #D2E3FC;\n",
              "    }\n",
              "\n",
              "    [theme=dark] .colab-df-convert:hover {\n",
              "      background-color: #434B5C;\n",
              "      box-shadow: 0px 1px 3px 1px rgba(0, 0, 0, 0.15);\n",
              "      filter: drop-shadow(0px 1px 2px rgba(0, 0, 0, 0.3));\n",
              "      fill: #FFFFFF;\n",
              "    }\n",
              "  </style>\n",
              "\n",
              "      <script>\n",
              "        const buttonEl =\n",
              "          document.querySelector('#df-127d8790-af92-4673-8bf7-0730a6a79a84 button.colab-df-convert');\n",
              "        buttonEl.style.display =\n",
              "          google.colab.kernel.accessAllowed ? 'block' : 'none';\n",
              "\n",
              "        async function convertToInteractive(key) {\n",
              "          const element = document.querySelector('#df-127d8790-af92-4673-8bf7-0730a6a79a84');\n",
              "          const dataTable =\n",
              "            await google.colab.kernel.invokeFunction('convertToInteractive',\n",
              "                                                     [key], {});\n",
              "          if (!dataTable) return;\n",
              "\n",
              "          const docLinkHtml = 'Like what you see? Visit the ' +\n",
              "            '<a target=\"_blank\" href=https://colab.research.google.com/notebooks/data_table.ipynb>data table notebook</a>'\n",
              "            + ' to learn more about interactive tables.';\n",
              "          element.innerHTML = '';\n",
              "          dataTable['output_type'] = 'display_data';\n",
              "          await google.colab.output.renderOutput(dataTable, element);\n",
              "          const docLink = document.createElement('div');\n",
              "          docLink.innerHTML = docLinkHtml;\n",
              "          element.appendChild(docLink);\n",
              "        }\n",
              "      </script>\n",
              "    </div>\n",
              "  </div>\n",
              "  "
            ]
          },
          "metadata": {},
          "execution_count": 87
        }
      ]
    },
    {
      "cell_type": "code",
      "source": [
        "df.drop_duplicates('ticker')['sector'].value_counts()"
      ],
      "metadata": {
        "id": "QEXA2EDuhjcI",
        "colab": {
          "base_uri": "https://localhost:8080/"
        },
        "outputId": "8f83d2c8-bff7-4505-d234-adabf7921745"
      },
      "execution_count": null,
      "outputs": [
        {
          "output_type": "execute_result",
          "data": {
            "text/plain": [
              "Industrials                    32\n",
              "Financials                     31\n",
              "Consumer Services              30\n",
              "Consumer Goods                 27\n",
              "Healthcare                     21\n",
              "Technology                     16\n",
              "Energy                         14\n",
              "Utilities                      12\n",
              "Basic Materials                11\n",
              "Telecommunications Services     1\n",
              "Name: sector, dtype: int64"
            ]
          },
          "metadata": {},
          "execution_count": 88
        }
      ]
    },
    {
      "cell_type": "markdown",
      "source": [
        "Now, we need to get our actual data. "
      ],
      "metadata": {
        "id": "x9WYKe9ODK_U"
      }
    },
    {
      "cell_type": "code",
      "source": [
        "df['svi_ln'] = np.log(df['svi']+1)#helps with num stability \n",
        "df['PRC_ln'] = np.log(df['PRC'])\n",
        "df['Par_ln'] = np.log(df['ParSpread'])\n",
        "df['vol_ln'] = np.log(df['vol'])\n",
        "df['vol_sum_ln'] = np.log(df['vol_sum'])\n",
        "df['count_ln'] = np.log(df['art_count']+1)\n",
        "\n",
        "#df['svi_med'] = df.groupby(['ticker']).rolling(8, closed='left')['svi_ln'].median()\n",
        "\n",
        "df['svi_diff'] = df.groupby(['ticker'])['svi_ln'].diff(periods=1)\n",
        "df['svi_med'] = (df['svi_ln'] - df.groupby(['ticker']).rolling(8, closed='left')['svi_ln'].median().droplevel('ticker'))\n",
        "df['count_diff'] = df.groupby(['ticker'])['count_ln'].diff(periods=1)\n",
        "df['count_med'] = (df['count_ln'] - df.groupby(['ticker']).rolling(8, closed='left')['count_ln'].median().droplevel('ticker'))\n",
        "df['PRC_diff'] = df.groupby(['ticker'])['PRC_ln'].diff(periods=1)\n",
        "df['Par_diff'] = df.groupby(['ticker'])['Par_ln'].diff(periods=1)\n",
        "df['vol_diff'] = df.groupby(['ticker'])['vol_ln'].diff(periods=1)\n",
        "df['vol_sum_diff'] = df.groupby(['ticker'])['vol_sum_ln'].diff(periods=1)\n",
        "\n",
        "df.drop(columns=['svi_ln', 'PRC_ln', 'Par_ln', 'vol_ln', 'vol_sum_ln', 'count_ln'], inplace=True)\n"
      ],
      "metadata": {
        "id": "DQac_UJhdlSt"
      },
      "execution_count": null,
      "outputs": []
    },
    {
      "cell_type": "code",
      "source": [
        "df"
      ],
      "metadata": {
        "id": "dXN2JFmMKlVG",
        "colab": {
          "base_uri": "https://localhost:8080/",
          "height": 661
        },
        "outputId": "1ac32c57-bbff-466c-8d94-0dc98a3823f8"
      },
      "execution_count": null,
      "outputs": [
        {
          "output_type": "execute_result",
          "data": {
            "text/plain": [
              "      ticker       date        svi      PRC  market_cap_mean         vol  \\\n",
              "59         A 2016-07-24  10.666667   46.808     1.747404e+07  1762092.60   \n",
              "60         A 2016-07-31  15.000000   47.194     1.747404e+07  1782557.00   \n",
              "61         A 2016-08-07  22.166667   47.292     1.747404e+07  1532088.40   \n",
              "62         A 2016-08-14  27.333333   47.692     1.747404e+07  1197606.20   \n",
              "63         A 2016-08-21  19.500000   47.898     1.747404e+07  3331050.00   \n",
              "...      ...        ...        ...      ...              ...         ...   \n",
              "83075    YUM 2022-03-06  49.066310  120.606     2.154346e+07  1667732.80   \n",
              "83076    YUM 2022-03-13  55.358160  115.328     2.154346e+07  2196543.80   \n",
              "83077    YUM 2022-03-20  36.892939  117.728     2.154346e+07  2416518.80   \n",
              "83078    YUM 2022-03-27  46.384245  118.498     2.154346e+07  1604409.60   \n",
              "83079    YUM 2022-04-03  37.000000  120.695     2.154346e+07  2232057.75   \n",
              "\n",
              "       td_count     vol_sum  ParSpread    sent  art_count             sector  \\\n",
              "59            5   8810463.0   0.010475  0.3182        2.0         Healthcare   \n",
              "60            5   8912785.0   0.008571  0.4019        3.0         Healthcare   \n",
              "61            5   7660442.0   0.008761  0.2500        6.0         Healthcare   \n",
              "62            5   5988031.0   0.008887 -0.1277       33.0         Healthcare   \n",
              "63            5  16655250.0   0.008347  0.0000        0.0         Healthcare   \n",
              "...         ...         ...        ...     ...        ...                ...   \n",
              "83075         5   8338664.0   0.015166 -0.1807       37.0  Consumer Services   \n",
              "83076         5  10982719.0   0.016846  0.0268       27.0  Consumer Services   \n",
              "83077         5  12082594.0   0.017058  0.2055       20.0  Consumer Services   \n",
              "83078         5   8022048.0   0.016272  0.1121       24.0  Consumer Services   \n",
              "83079         4   8928231.0   0.015794  0.3444       19.0  Consumer Services   \n",
              "\n",
              "       svi_diff   svi_med  count_diff  count_med  PRC_diff  Par_diff  \\\n",
              "59          NaN       NaN         NaN        NaN       NaN       NaN   \n",
              "60     0.315853       NaN    0.287682        NaN  0.008213 -0.200643   \n",
              "61     0.370126       NaN    0.559616        NaN  0.002074  0.021982   \n",
              "62     0.201325       NaN    1.580450        NaN  0.008423  0.014187   \n",
              "63    -0.323614       NaN   -3.526361        NaN  0.004310 -0.062617   \n",
              "...         ...       ...         ...        ...       ...       ...   \n",
              "83075  0.090002  0.076109    0.929536   0.260284 -0.017091  0.017127   \n",
              "83076  0.118379  0.149487   -0.305382  -0.045098 -0.044749  0.105043   \n",
              "83077 -0.396962 -0.330047   -0.287682  -0.369834  0.020597  0.012535   \n",
              "83078  0.223525 -0.023951    0.174353  -0.195480  0.006519 -0.047165   \n",
              "83079 -0.220704 -0.248233   -0.223144  -0.279808  0.018371 -0.029815   \n",
              "\n",
              "       vol_diff  vol_sum_diff  \n",
              "59          NaN           NaN  \n",
              "60     0.011547      0.011547  \n",
              "61    -0.151417     -0.151417  \n",
              "62    -0.246307     -0.246307  \n",
              "63     1.022963      1.022963  \n",
              "...         ...           ...  \n",
              "83075 -0.191900      0.031244  \n",
              "83076  0.275420      0.275420  \n",
              "83077  0.095443      0.095443  \n",
              "83078 -0.409572     -0.409572  \n",
              "83079  0.330168      0.107025  \n",
              "\n",
              "[58110 rows x 20 columns]"
            ],
            "text/html": [
              "\n",
              "  <div id=\"df-fb549c70-64eb-41de-a725-efcd4516fd82\">\n",
              "    <div class=\"colab-df-container\">\n",
              "      <div>\n",
              "<style scoped>\n",
              "    .dataframe tbody tr th:only-of-type {\n",
              "        vertical-align: middle;\n",
              "    }\n",
              "\n",
              "    .dataframe tbody tr th {\n",
              "        vertical-align: top;\n",
              "    }\n",
              "\n",
              "    .dataframe thead th {\n",
              "        text-align: right;\n",
              "    }\n",
              "</style>\n",
              "<table border=\"1\" class=\"dataframe\">\n",
              "  <thead>\n",
              "    <tr style=\"text-align: right;\">\n",
              "      <th></th>\n",
              "      <th>ticker</th>\n",
              "      <th>date</th>\n",
              "      <th>svi</th>\n",
              "      <th>PRC</th>\n",
              "      <th>market_cap_mean</th>\n",
              "      <th>vol</th>\n",
              "      <th>td_count</th>\n",
              "      <th>vol_sum</th>\n",
              "      <th>ParSpread</th>\n",
              "      <th>sent</th>\n",
              "      <th>art_count</th>\n",
              "      <th>sector</th>\n",
              "      <th>svi_diff</th>\n",
              "      <th>svi_med</th>\n",
              "      <th>count_diff</th>\n",
              "      <th>count_med</th>\n",
              "      <th>PRC_diff</th>\n",
              "      <th>Par_diff</th>\n",
              "      <th>vol_diff</th>\n",
              "      <th>vol_sum_diff</th>\n",
              "    </tr>\n",
              "  </thead>\n",
              "  <tbody>\n",
              "    <tr>\n",
              "      <th>59</th>\n",
              "      <td>A</td>\n",
              "      <td>2016-07-24</td>\n",
              "      <td>10.666667</td>\n",
              "      <td>46.808</td>\n",
              "      <td>1.747404e+07</td>\n",
              "      <td>1762092.60</td>\n",
              "      <td>5</td>\n",
              "      <td>8810463.0</td>\n",
              "      <td>0.010475</td>\n",
              "      <td>0.3182</td>\n",
              "      <td>2.0</td>\n",
              "      <td>Healthcare</td>\n",
              "      <td>NaN</td>\n",
              "      <td>NaN</td>\n",
              "      <td>NaN</td>\n",
              "      <td>NaN</td>\n",
              "      <td>NaN</td>\n",
              "      <td>NaN</td>\n",
              "      <td>NaN</td>\n",
              "      <td>NaN</td>\n",
              "    </tr>\n",
              "    <tr>\n",
              "      <th>60</th>\n",
              "      <td>A</td>\n",
              "      <td>2016-07-31</td>\n",
              "      <td>15.000000</td>\n",
              "      <td>47.194</td>\n",
              "      <td>1.747404e+07</td>\n",
              "      <td>1782557.00</td>\n",
              "      <td>5</td>\n",
              "      <td>8912785.0</td>\n",
              "      <td>0.008571</td>\n",
              "      <td>0.4019</td>\n",
              "      <td>3.0</td>\n",
              "      <td>Healthcare</td>\n",
              "      <td>0.315853</td>\n",
              "      <td>NaN</td>\n",
              "      <td>0.287682</td>\n",
              "      <td>NaN</td>\n",
              "      <td>0.008213</td>\n",
              "      <td>-0.200643</td>\n",
              "      <td>0.011547</td>\n",
              "      <td>0.011547</td>\n",
              "    </tr>\n",
              "    <tr>\n",
              "      <th>61</th>\n",
              "      <td>A</td>\n",
              "      <td>2016-08-07</td>\n",
              "      <td>22.166667</td>\n",
              "      <td>47.292</td>\n",
              "      <td>1.747404e+07</td>\n",
              "      <td>1532088.40</td>\n",
              "      <td>5</td>\n",
              "      <td>7660442.0</td>\n",
              "      <td>0.008761</td>\n",
              "      <td>0.2500</td>\n",
              "      <td>6.0</td>\n",
              "      <td>Healthcare</td>\n",
              "      <td>0.370126</td>\n",
              "      <td>NaN</td>\n",
              "      <td>0.559616</td>\n",
              "      <td>NaN</td>\n",
              "      <td>0.002074</td>\n",
              "      <td>0.021982</td>\n",
              "      <td>-0.151417</td>\n",
              "      <td>-0.151417</td>\n",
              "    </tr>\n",
              "    <tr>\n",
              "      <th>62</th>\n",
              "      <td>A</td>\n",
              "      <td>2016-08-14</td>\n",
              "      <td>27.333333</td>\n",
              "      <td>47.692</td>\n",
              "      <td>1.747404e+07</td>\n",
              "      <td>1197606.20</td>\n",
              "      <td>5</td>\n",
              "      <td>5988031.0</td>\n",
              "      <td>0.008887</td>\n",
              "      <td>-0.1277</td>\n",
              "      <td>33.0</td>\n",
              "      <td>Healthcare</td>\n",
              "      <td>0.201325</td>\n",
              "      <td>NaN</td>\n",
              "      <td>1.580450</td>\n",
              "      <td>NaN</td>\n",
              "      <td>0.008423</td>\n",
              "      <td>0.014187</td>\n",
              "      <td>-0.246307</td>\n",
              "      <td>-0.246307</td>\n",
              "    </tr>\n",
              "    <tr>\n",
              "      <th>63</th>\n",
              "      <td>A</td>\n",
              "      <td>2016-08-21</td>\n",
              "      <td>19.500000</td>\n",
              "      <td>47.898</td>\n",
              "      <td>1.747404e+07</td>\n",
              "      <td>3331050.00</td>\n",
              "      <td>5</td>\n",
              "      <td>16655250.0</td>\n",
              "      <td>0.008347</td>\n",
              "      <td>0.0000</td>\n",
              "      <td>0.0</td>\n",
              "      <td>Healthcare</td>\n",
              "      <td>-0.323614</td>\n",
              "      <td>NaN</td>\n",
              "      <td>-3.526361</td>\n",
              "      <td>NaN</td>\n",
              "      <td>0.004310</td>\n",
              "      <td>-0.062617</td>\n",
              "      <td>1.022963</td>\n",
              "      <td>1.022963</td>\n",
              "    </tr>\n",
              "    <tr>\n",
              "      <th>...</th>\n",
              "      <td>...</td>\n",
              "      <td>...</td>\n",
              "      <td>...</td>\n",
              "      <td>...</td>\n",
              "      <td>...</td>\n",
              "      <td>...</td>\n",
              "      <td>...</td>\n",
              "      <td>...</td>\n",
              "      <td>...</td>\n",
              "      <td>...</td>\n",
              "      <td>...</td>\n",
              "      <td>...</td>\n",
              "      <td>...</td>\n",
              "      <td>...</td>\n",
              "      <td>...</td>\n",
              "      <td>...</td>\n",
              "      <td>...</td>\n",
              "      <td>...</td>\n",
              "      <td>...</td>\n",
              "      <td>...</td>\n",
              "    </tr>\n",
              "    <tr>\n",
              "      <th>83075</th>\n",
              "      <td>YUM</td>\n",
              "      <td>2022-03-06</td>\n",
              "      <td>49.066310</td>\n",
              "      <td>120.606</td>\n",
              "      <td>2.154346e+07</td>\n",
              "      <td>1667732.80</td>\n",
              "      <td>5</td>\n",
              "      <td>8338664.0</td>\n",
              "      <td>0.015166</td>\n",
              "      <td>-0.1807</td>\n",
              "      <td>37.0</td>\n",
              "      <td>Consumer Services</td>\n",
              "      <td>0.090002</td>\n",
              "      <td>0.076109</td>\n",
              "      <td>0.929536</td>\n",
              "      <td>0.260284</td>\n",
              "      <td>-0.017091</td>\n",
              "      <td>0.017127</td>\n",
              "      <td>-0.191900</td>\n",
              "      <td>0.031244</td>\n",
              "    </tr>\n",
              "    <tr>\n",
              "      <th>83076</th>\n",
              "      <td>YUM</td>\n",
              "      <td>2022-03-13</td>\n",
              "      <td>55.358160</td>\n",
              "      <td>115.328</td>\n",
              "      <td>2.154346e+07</td>\n",
              "      <td>2196543.80</td>\n",
              "      <td>5</td>\n",
              "      <td>10982719.0</td>\n",
              "      <td>0.016846</td>\n",
              "      <td>0.0268</td>\n",
              "      <td>27.0</td>\n",
              "      <td>Consumer Services</td>\n",
              "      <td>0.118379</td>\n",
              "      <td>0.149487</td>\n",
              "      <td>-0.305382</td>\n",
              "      <td>-0.045098</td>\n",
              "      <td>-0.044749</td>\n",
              "      <td>0.105043</td>\n",
              "      <td>0.275420</td>\n",
              "      <td>0.275420</td>\n",
              "    </tr>\n",
              "    <tr>\n",
              "      <th>83077</th>\n",
              "      <td>YUM</td>\n",
              "      <td>2022-03-20</td>\n",
              "      <td>36.892939</td>\n",
              "      <td>117.728</td>\n",
              "      <td>2.154346e+07</td>\n",
              "      <td>2416518.80</td>\n",
              "      <td>5</td>\n",
              "      <td>12082594.0</td>\n",
              "      <td>0.017058</td>\n",
              "      <td>0.2055</td>\n",
              "      <td>20.0</td>\n",
              "      <td>Consumer Services</td>\n",
              "      <td>-0.396962</td>\n",
              "      <td>-0.330047</td>\n",
              "      <td>-0.287682</td>\n",
              "      <td>-0.369834</td>\n",
              "      <td>0.020597</td>\n",
              "      <td>0.012535</td>\n",
              "      <td>0.095443</td>\n",
              "      <td>0.095443</td>\n",
              "    </tr>\n",
              "    <tr>\n",
              "      <th>83078</th>\n",
              "      <td>YUM</td>\n",
              "      <td>2022-03-27</td>\n",
              "      <td>46.384245</td>\n",
              "      <td>118.498</td>\n",
              "      <td>2.154346e+07</td>\n",
              "      <td>1604409.60</td>\n",
              "      <td>5</td>\n",
              "      <td>8022048.0</td>\n",
              "      <td>0.016272</td>\n",
              "      <td>0.1121</td>\n",
              "      <td>24.0</td>\n",
              "      <td>Consumer Services</td>\n",
              "      <td>0.223525</td>\n",
              "      <td>-0.023951</td>\n",
              "      <td>0.174353</td>\n",
              "      <td>-0.195480</td>\n",
              "      <td>0.006519</td>\n",
              "      <td>-0.047165</td>\n",
              "      <td>-0.409572</td>\n",
              "      <td>-0.409572</td>\n",
              "    </tr>\n",
              "    <tr>\n",
              "      <th>83079</th>\n",
              "      <td>YUM</td>\n",
              "      <td>2022-04-03</td>\n",
              "      <td>37.000000</td>\n",
              "      <td>120.695</td>\n",
              "      <td>2.154346e+07</td>\n",
              "      <td>2232057.75</td>\n",
              "      <td>4</td>\n",
              "      <td>8928231.0</td>\n",
              "      <td>0.015794</td>\n",
              "      <td>0.3444</td>\n",
              "      <td>19.0</td>\n",
              "      <td>Consumer Services</td>\n",
              "      <td>-0.220704</td>\n",
              "      <td>-0.248233</td>\n",
              "      <td>-0.223144</td>\n",
              "      <td>-0.279808</td>\n",
              "      <td>0.018371</td>\n",
              "      <td>-0.029815</td>\n",
              "      <td>0.330168</td>\n",
              "      <td>0.107025</td>\n",
              "    </tr>\n",
              "  </tbody>\n",
              "</table>\n",
              "<p>58110 rows × 20 columns</p>\n",
              "</div>\n",
              "      <button class=\"colab-df-convert\" onclick=\"convertToInteractive('df-fb549c70-64eb-41de-a725-efcd4516fd82')\"\n",
              "              title=\"Convert this dataframe to an interactive table.\"\n",
              "              style=\"display:none;\">\n",
              "        \n",
              "  <svg xmlns=\"http://www.w3.org/2000/svg\" height=\"24px\"viewBox=\"0 0 24 24\"\n",
              "       width=\"24px\">\n",
              "    <path d=\"M0 0h24v24H0V0z\" fill=\"none\"/>\n",
              "    <path d=\"M18.56 5.44l.94 2.06.94-2.06 2.06-.94-2.06-.94-.94-2.06-.94 2.06-2.06.94zm-11 1L8.5 8.5l.94-2.06 2.06-.94-2.06-.94L8.5 2.5l-.94 2.06-2.06.94zm10 10l.94 2.06.94-2.06 2.06-.94-2.06-.94-.94-2.06-.94 2.06-2.06.94z\"/><path d=\"M17.41 7.96l-1.37-1.37c-.4-.4-.92-.59-1.43-.59-.52 0-1.04.2-1.43.59L10.3 9.45l-7.72 7.72c-.78.78-.78 2.05 0 2.83L4 21.41c.39.39.9.59 1.41.59.51 0 1.02-.2 1.41-.59l7.78-7.78 2.81-2.81c.8-.78.8-2.07 0-2.86zM5.41 20L4 18.59l7.72-7.72 1.47 1.35L5.41 20z\"/>\n",
              "  </svg>\n",
              "      </button>\n",
              "      \n",
              "  <style>\n",
              "    .colab-df-container {\n",
              "      display:flex;\n",
              "      flex-wrap:wrap;\n",
              "      gap: 12px;\n",
              "    }\n",
              "\n",
              "    .colab-df-convert {\n",
              "      background-color: #E8F0FE;\n",
              "      border: none;\n",
              "      border-radius: 50%;\n",
              "      cursor: pointer;\n",
              "      display: none;\n",
              "      fill: #1967D2;\n",
              "      height: 32px;\n",
              "      padding: 0 0 0 0;\n",
              "      width: 32px;\n",
              "    }\n",
              "\n",
              "    .colab-df-convert:hover {\n",
              "      background-color: #E2EBFA;\n",
              "      box-shadow: 0px 1px 2px rgba(60, 64, 67, 0.3), 0px 1px 3px 1px rgba(60, 64, 67, 0.15);\n",
              "      fill: #174EA6;\n",
              "    }\n",
              "\n",
              "    [theme=dark] .colab-df-convert {\n",
              "      background-color: #3B4455;\n",
              "      fill: #D2E3FC;\n",
              "    }\n",
              "\n",
              "    [theme=dark] .colab-df-convert:hover {\n",
              "      background-color: #434B5C;\n",
              "      box-shadow: 0px 1px 3px 1px rgba(0, 0, 0, 0.15);\n",
              "      filter: drop-shadow(0px 1px 2px rgba(0, 0, 0, 0.3));\n",
              "      fill: #FFFFFF;\n",
              "    }\n",
              "  </style>\n",
              "\n",
              "      <script>\n",
              "        const buttonEl =\n",
              "          document.querySelector('#df-fb549c70-64eb-41de-a725-efcd4516fd82 button.colab-df-convert');\n",
              "        buttonEl.style.display =\n",
              "          google.colab.kernel.accessAllowed ? 'block' : 'none';\n",
              "\n",
              "        async function convertToInteractive(key) {\n",
              "          const element = document.querySelector('#df-fb549c70-64eb-41de-a725-efcd4516fd82');\n",
              "          const dataTable =\n",
              "            await google.colab.kernel.invokeFunction('convertToInteractive',\n",
              "                                                     [key], {});\n",
              "          if (!dataTable) return;\n",
              "\n",
              "          const docLinkHtml = 'Like what you see? Visit the ' +\n",
              "            '<a target=\"_blank\" href=https://colab.research.google.com/notebooks/data_table.ipynb>data table notebook</a>'\n",
              "            + ' to learn more about interactive tables.';\n",
              "          element.innerHTML = '';\n",
              "          dataTable['output_type'] = 'display_data';\n",
              "          await google.colab.output.renderOutput(dataTable, element);\n",
              "          const docLink = document.createElement('div');\n",
              "          docLink.innerHTML = docLinkHtml;\n",
              "          element.appendChild(docLink);\n",
              "        }\n",
              "      </script>\n",
              "    </div>\n",
              "  </div>\n",
              "  "
            ]
          },
          "metadata": {},
          "execution_count": 91
        }
      ]
    },
    {
      "cell_type": "code",
      "source": [
        "df[['svi_diff', 'PRC_diff',\t'Par_diff', 'vol_diff', 'sent', 'art_count']].describe()"
      ],
      "metadata": {
        "id": "VahqO0cCCDtd",
        "colab": {
          "base_uri": "https://localhost:8080/",
          "height": 300
        },
        "outputId": "73feed8d-7777-4cea-d952-87eac3643538"
      },
      "execution_count": null,
      "outputs": [
        {
          "output_type": "execute_result",
          "data": {
            "text/plain": [
              "           svi_diff      PRC_diff      Par_diff      vol_diff          sent  \\\n",
              "count  57915.000000  57915.000000  57915.000000  57915.000000  58110.000000   \n",
              "mean      -0.000273      0.001658     -0.000103      0.000215      0.122178   \n",
              "std        1.065498      0.047099      0.060823      0.351539      0.200615   \n",
              "min       -4.615121     -0.999453     -0.988224     -2.471566     -0.921700   \n",
              "25%       -0.329417     -0.014586     -0.018176     -0.220768      0.000000   \n",
              "50%       -0.005013      0.002997     -0.000093     -0.015580      0.128000   \n",
              "75%        0.328167      0.019724      0.011732      0.205861      0.250000   \n",
              "max        4.689289      3.034845      1.283080      2.570299      0.954500   \n",
              "\n",
              "          art_count  \n",
              "count  58110.000000  \n",
              "mean      41.445775  \n",
              "std       71.553343  \n",
              "min        0.000000  \n",
              "25%        8.000000  \n",
              "50%       21.000000  \n",
              "75%       46.000000  \n",
              "max     1408.000000  "
            ],
            "text/html": [
              "\n",
              "  <div id=\"df-9dc3b221-8da4-45b6-a1ec-db1c0979f8d3\">\n",
              "    <div class=\"colab-df-container\">\n",
              "      <div>\n",
              "<style scoped>\n",
              "    .dataframe tbody tr th:only-of-type {\n",
              "        vertical-align: middle;\n",
              "    }\n",
              "\n",
              "    .dataframe tbody tr th {\n",
              "        vertical-align: top;\n",
              "    }\n",
              "\n",
              "    .dataframe thead th {\n",
              "        text-align: right;\n",
              "    }\n",
              "</style>\n",
              "<table border=\"1\" class=\"dataframe\">\n",
              "  <thead>\n",
              "    <tr style=\"text-align: right;\">\n",
              "      <th></th>\n",
              "      <th>svi_diff</th>\n",
              "      <th>PRC_diff</th>\n",
              "      <th>Par_diff</th>\n",
              "      <th>vol_diff</th>\n",
              "      <th>sent</th>\n",
              "      <th>art_count</th>\n",
              "    </tr>\n",
              "  </thead>\n",
              "  <tbody>\n",
              "    <tr>\n",
              "      <th>count</th>\n",
              "      <td>57915.000000</td>\n",
              "      <td>57915.000000</td>\n",
              "      <td>57915.000000</td>\n",
              "      <td>57915.000000</td>\n",
              "      <td>58110.000000</td>\n",
              "      <td>58110.000000</td>\n",
              "    </tr>\n",
              "    <tr>\n",
              "      <th>mean</th>\n",
              "      <td>-0.000273</td>\n",
              "      <td>0.001658</td>\n",
              "      <td>-0.000103</td>\n",
              "      <td>0.000215</td>\n",
              "      <td>0.122178</td>\n",
              "      <td>41.445775</td>\n",
              "    </tr>\n",
              "    <tr>\n",
              "      <th>std</th>\n",
              "      <td>1.065498</td>\n",
              "      <td>0.047099</td>\n",
              "      <td>0.060823</td>\n",
              "      <td>0.351539</td>\n",
              "      <td>0.200615</td>\n",
              "      <td>71.553343</td>\n",
              "    </tr>\n",
              "    <tr>\n",
              "      <th>min</th>\n",
              "      <td>-4.615121</td>\n",
              "      <td>-0.999453</td>\n",
              "      <td>-0.988224</td>\n",
              "      <td>-2.471566</td>\n",
              "      <td>-0.921700</td>\n",
              "      <td>0.000000</td>\n",
              "    </tr>\n",
              "    <tr>\n",
              "      <th>25%</th>\n",
              "      <td>-0.329417</td>\n",
              "      <td>-0.014586</td>\n",
              "      <td>-0.018176</td>\n",
              "      <td>-0.220768</td>\n",
              "      <td>0.000000</td>\n",
              "      <td>8.000000</td>\n",
              "    </tr>\n",
              "    <tr>\n",
              "      <th>50%</th>\n",
              "      <td>-0.005013</td>\n",
              "      <td>0.002997</td>\n",
              "      <td>-0.000093</td>\n",
              "      <td>-0.015580</td>\n",
              "      <td>0.128000</td>\n",
              "      <td>21.000000</td>\n",
              "    </tr>\n",
              "    <tr>\n",
              "      <th>75%</th>\n",
              "      <td>0.328167</td>\n",
              "      <td>0.019724</td>\n",
              "      <td>0.011732</td>\n",
              "      <td>0.205861</td>\n",
              "      <td>0.250000</td>\n",
              "      <td>46.000000</td>\n",
              "    </tr>\n",
              "    <tr>\n",
              "      <th>max</th>\n",
              "      <td>4.689289</td>\n",
              "      <td>3.034845</td>\n",
              "      <td>1.283080</td>\n",
              "      <td>2.570299</td>\n",
              "      <td>0.954500</td>\n",
              "      <td>1408.000000</td>\n",
              "    </tr>\n",
              "  </tbody>\n",
              "</table>\n",
              "</div>\n",
              "      <button class=\"colab-df-convert\" onclick=\"convertToInteractive('df-9dc3b221-8da4-45b6-a1ec-db1c0979f8d3')\"\n",
              "              title=\"Convert this dataframe to an interactive table.\"\n",
              "              style=\"display:none;\">\n",
              "        \n",
              "  <svg xmlns=\"http://www.w3.org/2000/svg\" height=\"24px\"viewBox=\"0 0 24 24\"\n",
              "       width=\"24px\">\n",
              "    <path d=\"M0 0h24v24H0V0z\" fill=\"none\"/>\n",
              "    <path d=\"M18.56 5.44l.94 2.06.94-2.06 2.06-.94-2.06-.94-.94-2.06-.94 2.06-2.06.94zm-11 1L8.5 8.5l.94-2.06 2.06-.94-2.06-.94L8.5 2.5l-.94 2.06-2.06.94zm10 10l.94 2.06.94-2.06 2.06-.94-2.06-.94-.94-2.06-.94 2.06-2.06.94z\"/><path d=\"M17.41 7.96l-1.37-1.37c-.4-.4-.92-.59-1.43-.59-.52 0-1.04.2-1.43.59L10.3 9.45l-7.72 7.72c-.78.78-.78 2.05 0 2.83L4 21.41c.39.39.9.59 1.41.59.51 0 1.02-.2 1.41-.59l7.78-7.78 2.81-2.81c.8-.78.8-2.07 0-2.86zM5.41 20L4 18.59l7.72-7.72 1.47 1.35L5.41 20z\"/>\n",
              "  </svg>\n",
              "      </button>\n",
              "      \n",
              "  <style>\n",
              "    .colab-df-container {\n",
              "      display:flex;\n",
              "      flex-wrap:wrap;\n",
              "      gap: 12px;\n",
              "    }\n",
              "\n",
              "    .colab-df-convert {\n",
              "      background-color: #E8F0FE;\n",
              "      border: none;\n",
              "      border-radius: 50%;\n",
              "      cursor: pointer;\n",
              "      display: none;\n",
              "      fill: #1967D2;\n",
              "      height: 32px;\n",
              "      padding: 0 0 0 0;\n",
              "      width: 32px;\n",
              "    }\n",
              "\n",
              "    .colab-df-convert:hover {\n",
              "      background-color: #E2EBFA;\n",
              "      box-shadow: 0px 1px 2px rgba(60, 64, 67, 0.3), 0px 1px 3px 1px rgba(60, 64, 67, 0.15);\n",
              "      fill: #174EA6;\n",
              "    }\n",
              "\n",
              "    [theme=dark] .colab-df-convert {\n",
              "      background-color: #3B4455;\n",
              "      fill: #D2E3FC;\n",
              "    }\n",
              "\n",
              "    [theme=dark] .colab-df-convert:hover {\n",
              "      background-color: #434B5C;\n",
              "      box-shadow: 0px 1px 3px 1px rgba(0, 0, 0, 0.15);\n",
              "      filter: drop-shadow(0px 1px 2px rgba(0, 0, 0, 0.3));\n",
              "      fill: #FFFFFF;\n",
              "    }\n",
              "  </style>\n",
              "\n",
              "      <script>\n",
              "        const buttonEl =\n",
              "          document.querySelector('#df-9dc3b221-8da4-45b6-a1ec-db1c0979f8d3 button.colab-df-convert');\n",
              "        buttonEl.style.display =\n",
              "          google.colab.kernel.accessAllowed ? 'block' : 'none';\n",
              "\n",
              "        async function convertToInteractive(key) {\n",
              "          const element = document.querySelector('#df-9dc3b221-8da4-45b6-a1ec-db1c0979f8d3');\n",
              "          const dataTable =\n",
              "            await google.colab.kernel.invokeFunction('convertToInteractive',\n",
              "                                                     [key], {});\n",
              "          if (!dataTable) return;\n",
              "\n",
              "          const docLinkHtml = 'Like what you see? Visit the ' +\n",
              "            '<a target=\"_blank\" href=https://colab.research.google.com/notebooks/data_table.ipynb>data table notebook</a>'\n",
              "            + ' to learn more about interactive tables.';\n",
              "          element.innerHTML = '';\n",
              "          dataTable['output_type'] = 'display_data';\n",
              "          await google.colab.output.renderOutput(dataTable, element);\n",
              "          const docLink = document.createElement('div');\n",
              "          docLink.innerHTML = docLinkHtml;\n",
              "          element.appendChild(docLink);\n",
              "        }\n",
              "      </script>\n",
              "    </div>\n",
              "  </div>\n",
              "  "
            ]
          },
          "metadata": {},
          "execution_count": 97
        }
      ]
    },
    {
      "cell_type": "code",
      "source": [
        "df.columns"
      ],
      "metadata": {
        "id": "iLnsWfnqNl5U",
        "colab": {
          "base_uri": "https://localhost:8080/"
        },
        "outputId": "03444531-6487-4f12-fcaf-1bf8377f8b42"
      },
      "execution_count": null,
      "outputs": [
        {
          "output_type": "execute_result",
          "data": {
            "text/plain": [
              "Index(['ticker', 'date', 'svi', 'PRC', 'market_cap_mean', 'vol', 'td_count',\n",
              "       'vol_sum', 'ParSpread', 'sent', 'art_count', 'sector', 'svi_diff',\n",
              "       'svi_med', 'count_diff', 'count_med', 'PRC_diff', 'Par_diff',\n",
              "       'vol_diff', 'vol_sum_diff'],\n",
              "      dtype='object')"
            ]
          },
          "metadata": {},
          "execution_count": 99
        }
      ]
    },
    {
      "cell_type": "code",
      "source": [
        "df = df[df['ticker'] != 'CHK'] # bad data point"
      ],
      "metadata": {
        "id": "wcaHHFgWkXYF"
      },
      "execution_count": null,
      "outputs": []
    },
    {
      "cell_type": "code",
      "source": [
        "df = df[df['ticker'] != 'XRX'] # bad data point"
      ],
      "metadata": {
        "id": "OLUf1C_KC3W6"
      },
      "execution_count": null,
      "outputs": []
    },
    {
      "cell_type": "code",
      "source": [
        "df_clean = df.dropna().copy() #remove more NA values"
      ],
      "metadata": {
        "id": "EM0q5uJPOC3q"
      },
      "execution_count": null,
      "outputs": []
    },
    {
      "cell_type": "code",
      "source": [
        "df_clean['ticker'].value_counts().sort_values()"
      ],
      "metadata": {
        "id": "zYocW56HkBz_",
        "colab": {
          "base_uri": "https://localhost:8080/"
        },
        "outputId": "3273522e-f12d-4619-ad9e-1d35e0ff0c32"
      },
      "execution_count": null,
      "outputs": [
        {
          "output_type": "execute_result",
          "data": {
            "text/plain": [
              "A       290\n",
              "AYI     290\n",
              "AMAT    290\n",
              "ABT     290\n",
              "ADI     290\n",
              "       ... \n",
              "WY      290\n",
              "X       290\n",
              "XEL     290\n",
              "PBI     290\n",
              "YUM     290\n",
              "Name: ticker, Length: 194, dtype: int64"
            ]
          },
          "metadata": {},
          "execution_count": 103
        }
      ]
    },
    {
      "cell_type": "code",
      "source": [
        "df_clean[\"time_idx\"] = df_clean['date'].astype('category').cat.codes"
      ],
      "metadata": {
        "id": "gDEsOVtpcZaR"
      },
      "execution_count": null,
      "outputs": []
    },
    {
      "cell_type": "code",
      "source": [
        "df_count = df_clean.groupby(['ticker']).count()"
      ],
      "metadata": {
        "id": "2bszdt8hVAiP"
      },
      "execution_count": null,
      "outputs": []
    },
    {
      "cell_type": "code",
      "source": [
        "full_comps_list = df_count[df_count['ParSpread'] == df_count['ParSpread'].max()].index  \n",
        "df_clean = df_clean[df_clean.ticker.isin(full_comps_list)].copy()"
      ],
      "metadata": {
        "id": "BWbAEk3IVD6X"
      },
      "execution_count": null,
      "outputs": []
    },
    {
      "cell_type": "code",
      "source": [
        "#del df_cds, df_stocks"
      ],
      "metadata": {
        "id": "ktTm-jqrKCFz"
      },
      "execution_count": null,
      "outputs": []
    },
    {
      "cell_type": "code",
      "source": [
        "df_clean['ticker'].value_counts().sort_values()"
      ],
      "metadata": {
        "id": "DvEGIDSDVZoK",
        "colab": {
          "base_uri": "https://localhost:8080/"
        },
        "outputId": "411091d3-65b1-4f77-b0a9-bdc5bbac1a09"
      },
      "execution_count": null,
      "outputs": [
        {
          "output_type": "execute_result",
          "data": {
            "text/plain": [
              "A       290\n",
              "AYI     290\n",
              "AMAT    290\n",
              "ABT     290\n",
              "ADI     290\n",
              "       ... \n",
              "WY      290\n",
              "X       290\n",
              "XEL     290\n",
              "PBI     290\n",
              "YUM     290\n",
              "Name: ticker, Length: 194, dtype: int64"
            ]
          },
          "metadata": {},
          "execution_count": 108
        }
      ]
    },
    {
      "cell_type": "code",
      "source": [
        "#df_clean.to_csv('/content/drive/MyDrive/school_stuff/Diss/Data/data_frame_clean.csv', index=False)"
      ],
      "metadata": {
        "id": "BqzcgFDi06cS"
      },
      "execution_count": null,
      "outputs": []
    },
    {
      "cell_type": "code",
      "source": [
        "var_list = ['svi_med', 'PRC_diff',\t'Par_diff', 'vol_diff', 'sent', 'count_med'] #var list used later"
      ],
      "metadata": {
        "id": "m9ezNA_FOB6Q"
      },
      "execution_count": null,
      "outputs": []
    },
    {
      "cell_type": "code",
      "source": [
        "df_summary= df_clean[var_list].describe().T.round({'count':0, 'mean':4, 'std':4, 'min':4, '25%':4, '50%':4, '75%':4, 'max':4})"
      ],
      "metadata": {
        "id": "LCwAK0cKmHWU"
      },
      "execution_count": null,
      "outputs": []
    },
    {
      "cell_type": "code",
      "source": [
        "df_summary['count'] = df_summary['count'].astype('int64')"
      ],
      "metadata": {
        "id": "nhWbhVEh239U"
      },
      "execution_count": null,
      "outputs": []
    },
    {
      "cell_type": "code",
      "source": [
        "df_summary"
      ],
      "metadata": {
        "colab": {
          "base_uri": "https://localhost:8080/",
          "height": 237
        },
        "id": "aflOGBPk3IIt",
        "outputId": "2627b2b3-5c37-4ed8-ef21-bd311e150075"
      },
      "execution_count": null,
      "outputs": [
        {
          "output_type": "execute_result",
          "data": {
            "text/plain": [
              "           count    mean     std     min     25%     50%     75%     max\n",
              "svi_med    56260 -0.0659  0.8642 -4.2010 -0.2857 -0.0024  0.2921  4.4942\n",
              "PRC_diff   56260  0.0017  0.0473 -0.9995 -0.0146  0.0032  0.0200  3.0348\n",
              "Par_diff   56260 -0.0000  0.0612 -0.9882 -0.0181 -0.0001  0.0118  1.2831\n",
              "vol_diff   56260 -0.0004  0.3507 -2.4716 -0.2210 -0.0163  0.2051  2.5703\n",
              "sent       56260  0.1235  0.1985 -0.9217  0.0000  0.1288  0.2500  0.9545\n",
              "count_med  56260  0.0317  0.8439 -4.3882 -0.3914  0.0014  0.4614  4.6040"
            ],
            "text/html": [
              "\n",
              "  <div id=\"df-9b0652ec-2a2c-4c5f-a351-98709a833328\">\n",
              "    <div class=\"colab-df-container\">\n",
              "      <div>\n",
              "<style scoped>\n",
              "    .dataframe tbody tr th:only-of-type {\n",
              "        vertical-align: middle;\n",
              "    }\n",
              "\n",
              "    .dataframe tbody tr th {\n",
              "        vertical-align: top;\n",
              "    }\n",
              "\n",
              "    .dataframe thead th {\n",
              "        text-align: right;\n",
              "    }\n",
              "</style>\n",
              "<table border=\"1\" class=\"dataframe\">\n",
              "  <thead>\n",
              "    <tr style=\"text-align: right;\">\n",
              "      <th></th>\n",
              "      <th>count</th>\n",
              "      <th>mean</th>\n",
              "      <th>std</th>\n",
              "      <th>min</th>\n",
              "      <th>25%</th>\n",
              "      <th>50%</th>\n",
              "      <th>75%</th>\n",
              "      <th>max</th>\n",
              "    </tr>\n",
              "  </thead>\n",
              "  <tbody>\n",
              "    <tr>\n",
              "      <th>svi_med</th>\n",
              "      <td>56260</td>\n",
              "      <td>-0.0659</td>\n",
              "      <td>0.8642</td>\n",
              "      <td>-4.2010</td>\n",
              "      <td>-0.2857</td>\n",
              "      <td>-0.0024</td>\n",
              "      <td>0.2921</td>\n",
              "      <td>4.4942</td>\n",
              "    </tr>\n",
              "    <tr>\n",
              "      <th>PRC_diff</th>\n",
              "      <td>56260</td>\n",
              "      <td>0.0017</td>\n",
              "      <td>0.0473</td>\n",
              "      <td>-0.9995</td>\n",
              "      <td>-0.0146</td>\n",
              "      <td>0.0032</td>\n",
              "      <td>0.0200</td>\n",
              "      <td>3.0348</td>\n",
              "    </tr>\n",
              "    <tr>\n",
              "      <th>Par_diff</th>\n",
              "      <td>56260</td>\n",
              "      <td>-0.0000</td>\n",
              "      <td>0.0612</td>\n",
              "      <td>-0.9882</td>\n",
              "      <td>-0.0181</td>\n",
              "      <td>-0.0001</td>\n",
              "      <td>0.0118</td>\n",
              "      <td>1.2831</td>\n",
              "    </tr>\n",
              "    <tr>\n",
              "      <th>vol_diff</th>\n",
              "      <td>56260</td>\n",
              "      <td>-0.0004</td>\n",
              "      <td>0.3507</td>\n",
              "      <td>-2.4716</td>\n",
              "      <td>-0.2210</td>\n",
              "      <td>-0.0163</td>\n",
              "      <td>0.2051</td>\n",
              "      <td>2.5703</td>\n",
              "    </tr>\n",
              "    <tr>\n",
              "      <th>sent</th>\n",
              "      <td>56260</td>\n",
              "      <td>0.1235</td>\n",
              "      <td>0.1985</td>\n",
              "      <td>-0.9217</td>\n",
              "      <td>0.0000</td>\n",
              "      <td>0.1288</td>\n",
              "      <td>0.2500</td>\n",
              "      <td>0.9545</td>\n",
              "    </tr>\n",
              "    <tr>\n",
              "      <th>count_med</th>\n",
              "      <td>56260</td>\n",
              "      <td>0.0317</td>\n",
              "      <td>0.8439</td>\n",
              "      <td>-4.3882</td>\n",
              "      <td>-0.3914</td>\n",
              "      <td>0.0014</td>\n",
              "      <td>0.4614</td>\n",
              "      <td>4.6040</td>\n",
              "    </tr>\n",
              "  </tbody>\n",
              "</table>\n",
              "</div>\n",
              "      <button class=\"colab-df-convert\" onclick=\"convertToInteractive('df-9b0652ec-2a2c-4c5f-a351-98709a833328')\"\n",
              "              title=\"Convert this dataframe to an interactive table.\"\n",
              "              style=\"display:none;\">\n",
              "        \n",
              "  <svg xmlns=\"http://www.w3.org/2000/svg\" height=\"24px\"viewBox=\"0 0 24 24\"\n",
              "       width=\"24px\">\n",
              "    <path d=\"M0 0h24v24H0V0z\" fill=\"none\"/>\n",
              "    <path d=\"M18.56 5.44l.94 2.06.94-2.06 2.06-.94-2.06-.94-.94-2.06-.94 2.06-2.06.94zm-11 1L8.5 8.5l.94-2.06 2.06-.94-2.06-.94L8.5 2.5l-.94 2.06-2.06.94zm10 10l.94 2.06.94-2.06 2.06-.94-2.06-.94-.94-2.06-.94 2.06-2.06.94z\"/><path d=\"M17.41 7.96l-1.37-1.37c-.4-.4-.92-.59-1.43-.59-.52 0-1.04.2-1.43.59L10.3 9.45l-7.72 7.72c-.78.78-.78 2.05 0 2.83L4 21.41c.39.39.9.59 1.41.59.51 0 1.02-.2 1.41-.59l7.78-7.78 2.81-2.81c.8-.78.8-2.07 0-2.86zM5.41 20L4 18.59l7.72-7.72 1.47 1.35L5.41 20z\"/>\n",
              "  </svg>\n",
              "      </button>\n",
              "      \n",
              "  <style>\n",
              "    .colab-df-container {\n",
              "      display:flex;\n",
              "      flex-wrap:wrap;\n",
              "      gap: 12px;\n",
              "    }\n",
              "\n",
              "    .colab-df-convert {\n",
              "      background-color: #E8F0FE;\n",
              "      border: none;\n",
              "      border-radius: 50%;\n",
              "      cursor: pointer;\n",
              "      display: none;\n",
              "      fill: #1967D2;\n",
              "      height: 32px;\n",
              "      padding: 0 0 0 0;\n",
              "      width: 32px;\n",
              "    }\n",
              "\n",
              "    .colab-df-convert:hover {\n",
              "      background-color: #E2EBFA;\n",
              "      box-shadow: 0px 1px 2px rgba(60, 64, 67, 0.3), 0px 1px 3px 1px rgba(60, 64, 67, 0.15);\n",
              "      fill: #174EA6;\n",
              "    }\n",
              "\n",
              "    [theme=dark] .colab-df-convert {\n",
              "      background-color: #3B4455;\n",
              "      fill: #D2E3FC;\n",
              "    }\n",
              "\n",
              "    [theme=dark] .colab-df-convert:hover {\n",
              "      background-color: #434B5C;\n",
              "      box-shadow: 0px 1px 3px 1px rgba(0, 0, 0, 0.15);\n",
              "      filter: drop-shadow(0px 1px 2px rgba(0, 0, 0, 0.3));\n",
              "      fill: #FFFFFF;\n",
              "    }\n",
              "  </style>\n",
              "\n",
              "      <script>\n",
              "        const buttonEl =\n",
              "          document.querySelector('#df-9b0652ec-2a2c-4c5f-a351-98709a833328 button.colab-df-convert');\n",
              "        buttonEl.style.display =\n",
              "          google.colab.kernel.accessAllowed ? 'block' : 'none';\n",
              "\n",
              "        async function convertToInteractive(key) {\n",
              "          const element = document.querySelector('#df-9b0652ec-2a2c-4c5f-a351-98709a833328');\n",
              "          const dataTable =\n",
              "            await google.colab.kernel.invokeFunction('convertToInteractive',\n",
              "                                                     [key], {});\n",
              "          if (!dataTable) return;\n",
              "\n",
              "          const docLinkHtml = 'Like what you see? Visit the ' +\n",
              "            '<a target=\"_blank\" href=https://colab.research.google.com/notebooks/data_table.ipynb>data table notebook</a>'\n",
              "            + ' to learn more about interactive tables.';\n",
              "          element.innerHTML = '';\n",
              "          dataTable['output_type'] = 'display_data';\n",
              "          await google.colab.output.renderOutput(dataTable, element);\n",
              "          const docLink = document.createElement('div');\n",
              "          docLink.innerHTML = docLinkHtml;\n",
              "          element.appendChild(docLink);\n",
              "        }\n",
              "      </script>\n",
              "    </div>\n",
              "  </div>\n",
              "  "
            ]
          },
          "metadata": {},
          "execution_count": 114
        }
      ]
    },
    {
      "cell_type": "code",
      "source": [
        "df_summary.to_latex() #Summary stats used later"
      ],
      "metadata": {
        "colab": {
          "base_uri": "https://localhost:8080/",
          "height": 109
        },
        "id": "BP5NpU6i0mcc",
        "outputId": "e250f7ab-e87a-48aa-ff3f-1d267476d2e9"
      },
      "execution_count": null,
      "outputs": [
        {
          "output_type": "execute_result",
          "data": {
            "text/plain": [
              "'\\\\begin{tabular}{lrrrrrrrr}\\n\\\\toprule\\n{} &  count &    mean &     std &     min &     25\\\\% &     50\\\\% &     75\\\\% &     max \\\\\\\\\\n\\\\midrule\\nsvi\\\\_med   &  56260 & -0.0659 &  0.8642 & -4.2010 & -0.2857 & -0.0024 &  0.2921 &  4.4942 \\\\\\\\\\nPRC\\\\_diff  &  56260 &  0.0017 &  0.0473 & -0.9995 & -0.0146 &  0.0032 &  0.0200 &  3.0348 \\\\\\\\\\nPar\\\\_diff  &  56260 & -0.0000 &  0.0612 & -0.9882 & -0.0181 & -0.0001 &  0.0118 &  1.2831 \\\\\\\\\\nvol\\\\_diff  &  56260 & -0.0004 &  0.3507 & -2.4716 & -0.2210 & -0.0163 &  0.2051 &  2.5703 \\\\\\\\\\nsent      &  56260 &  0.1235 &  0.1985 & -0.9217 &  0.0000 &  0.1288 &  0.2500 &  0.9545 \\\\\\\\\\ncount\\\\_med &  56260 &  0.0317 &  0.8439 & -4.3882 & -0.3914 &  0.0014 &  0.4614 &  4.6040 \\\\\\\\\\n\\\\bottomrule\\n\\\\end{tabular}\\n'"
            ],
            "application/vnd.google.colaboratory.intrinsic+json": {
              "type": "string"
            }
          },
          "metadata": {},
          "execution_count": 115
        }
      ]
    },
    {
      "cell_type": "code",
      "source": [
        "df_clean[['svi', 'PRC',\t'ParSpread', 'vol', 'sent', 'art_count']].describe()"
      ],
      "metadata": {
        "id": "DX5ZR21hR-Ik",
        "colab": {
          "base_uri": "https://localhost:8080/",
          "height": 300
        },
        "outputId": "90ba693e-15b6-49df-8645-9178b67e4ba3"
      },
      "execution_count": null,
      "outputs": [
        {
          "output_type": "execute_result",
          "data": {
            "text/plain": [
              "                svi           PRC     ParSpread           vol          sent  \\\n",
              "count  56260.000000  56260.000000  56260.000000  5.626000e+04  56260.000000   \n",
              "mean      37.906141    114.926013      0.011839  5.244164e+06      0.123550   \n",
              "std       21.851025    273.305624      0.021279  1.052791e+07      0.198454   \n",
              "min        0.000000      0.465050      0.001097  8.596200e+03     -0.921700   \n",
              "25%       22.333333     38.172750      0.004125  1.162367e+06      0.000000   \n",
              "50%       37.166667     70.805000      0.006580  2.373868e+06      0.128850   \n",
              "75%       51.833333    125.966500      0.010467  4.786018e+06      0.250000   \n",
              "max      147.969898   5892.754004      0.520575  2.333172e+08      0.954500   \n",
              "\n",
              "          art_count  \n",
              "count  56260.000000  \n",
              "mean      42.502915  \n",
              "std       72.406787  \n",
              "min        0.000000  \n",
              "25%        8.000000  \n",
              "50%       21.000000  \n",
              "75%       47.000000  \n",
              "max     1408.000000  "
            ],
            "text/html": [
              "\n",
              "  <div id=\"df-a7a4e666-7659-4057-bb9e-c501ad019232\">\n",
              "    <div class=\"colab-df-container\">\n",
              "      <div>\n",
              "<style scoped>\n",
              "    .dataframe tbody tr th:only-of-type {\n",
              "        vertical-align: middle;\n",
              "    }\n",
              "\n",
              "    .dataframe tbody tr th {\n",
              "        vertical-align: top;\n",
              "    }\n",
              "\n",
              "    .dataframe thead th {\n",
              "        text-align: right;\n",
              "    }\n",
              "</style>\n",
              "<table border=\"1\" class=\"dataframe\">\n",
              "  <thead>\n",
              "    <tr style=\"text-align: right;\">\n",
              "      <th></th>\n",
              "      <th>svi</th>\n",
              "      <th>PRC</th>\n",
              "      <th>ParSpread</th>\n",
              "      <th>vol</th>\n",
              "      <th>sent</th>\n",
              "      <th>art_count</th>\n",
              "    </tr>\n",
              "  </thead>\n",
              "  <tbody>\n",
              "    <tr>\n",
              "      <th>count</th>\n",
              "      <td>56260.000000</td>\n",
              "      <td>56260.000000</td>\n",
              "      <td>56260.000000</td>\n",
              "      <td>5.626000e+04</td>\n",
              "      <td>56260.000000</td>\n",
              "      <td>56260.000000</td>\n",
              "    </tr>\n",
              "    <tr>\n",
              "      <th>mean</th>\n",
              "      <td>37.906141</td>\n",
              "      <td>114.926013</td>\n",
              "      <td>0.011839</td>\n",
              "      <td>5.244164e+06</td>\n",
              "      <td>0.123550</td>\n",
              "      <td>42.502915</td>\n",
              "    </tr>\n",
              "    <tr>\n",
              "      <th>std</th>\n",
              "      <td>21.851025</td>\n",
              "      <td>273.305624</td>\n",
              "      <td>0.021279</td>\n",
              "      <td>1.052791e+07</td>\n",
              "      <td>0.198454</td>\n",
              "      <td>72.406787</td>\n",
              "    </tr>\n",
              "    <tr>\n",
              "      <th>min</th>\n",
              "      <td>0.000000</td>\n",
              "      <td>0.465050</td>\n",
              "      <td>0.001097</td>\n",
              "      <td>8.596200e+03</td>\n",
              "      <td>-0.921700</td>\n",
              "      <td>0.000000</td>\n",
              "    </tr>\n",
              "    <tr>\n",
              "      <th>25%</th>\n",
              "      <td>22.333333</td>\n",
              "      <td>38.172750</td>\n",
              "      <td>0.004125</td>\n",
              "      <td>1.162367e+06</td>\n",
              "      <td>0.000000</td>\n",
              "      <td>8.000000</td>\n",
              "    </tr>\n",
              "    <tr>\n",
              "      <th>50%</th>\n",
              "      <td>37.166667</td>\n",
              "      <td>70.805000</td>\n",
              "      <td>0.006580</td>\n",
              "      <td>2.373868e+06</td>\n",
              "      <td>0.128850</td>\n",
              "      <td>21.000000</td>\n",
              "    </tr>\n",
              "    <tr>\n",
              "      <th>75%</th>\n",
              "      <td>51.833333</td>\n",
              "      <td>125.966500</td>\n",
              "      <td>0.010467</td>\n",
              "      <td>4.786018e+06</td>\n",
              "      <td>0.250000</td>\n",
              "      <td>47.000000</td>\n",
              "    </tr>\n",
              "    <tr>\n",
              "      <th>max</th>\n",
              "      <td>147.969898</td>\n",
              "      <td>5892.754004</td>\n",
              "      <td>0.520575</td>\n",
              "      <td>2.333172e+08</td>\n",
              "      <td>0.954500</td>\n",
              "      <td>1408.000000</td>\n",
              "    </tr>\n",
              "  </tbody>\n",
              "</table>\n",
              "</div>\n",
              "      <button class=\"colab-df-convert\" onclick=\"convertToInteractive('df-a7a4e666-7659-4057-bb9e-c501ad019232')\"\n",
              "              title=\"Convert this dataframe to an interactive table.\"\n",
              "              style=\"display:none;\">\n",
              "        \n",
              "  <svg xmlns=\"http://www.w3.org/2000/svg\" height=\"24px\"viewBox=\"0 0 24 24\"\n",
              "       width=\"24px\">\n",
              "    <path d=\"M0 0h24v24H0V0z\" fill=\"none\"/>\n",
              "    <path d=\"M18.56 5.44l.94 2.06.94-2.06 2.06-.94-2.06-.94-.94-2.06-.94 2.06-2.06.94zm-11 1L8.5 8.5l.94-2.06 2.06-.94-2.06-.94L8.5 2.5l-.94 2.06-2.06.94zm10 10l.94 2.06.94-2.06 2.06-.94-2.06-.94-.94-2.06-.94 2.06-2.06.94z\"/><path d=\"M17.41 7.96l-1.37-1.37c-.4-.4-.92-.59-1.43-.59-.52 0-1.04.2-1.43.59L10.3 9.45l-7.72 7.72c-.78.78-.78 2.05 0 2.83L4 21.41c.39.39.9.59 1.41.59.51 0 1.02-.2 1.41-.59l7.78-7.78 2.81-2.81c.8-.78.8-2.07 0-2.86zM5.41 20L4 18.59l7.72-7.72 1.47 1.35L5.41 20z\"/>\n",
              "  </svg>\n",
              "      </button>\n",
              "      \n",
              "  <style>\n",
              "    .colab-df-container {\n",
              "      display:flex;\n",
              "      flex-wrap:wrap;\n",
              "      gap: 12px;\n",
              "    }\n",
              "\n",
              "    .colab-df-convert {\n",
              "      background-color: #E8F0FE;\n",
              "      border: none;\n",
              "      border-radius: 50%;\n",
              "      cursor: pointer;\n",
              "      display: none;\n",
              "      fill: #1967D2;\n",
              "      height: 32px;\n",
              "      padding: 0 0 0 0;\n",
              "      width: 32px;\n",
              "    }\n",
              "\n",
              "    .colab-df-convert:hover {\n",
              "      background-color: #E2EBFA;\n",
              "      box-shadow: 0px 1px 2px rgba(60, 64, 67, 0.3), 0px 1px 3px 1px rgba(60, 64, 67, 0.15);\n",
              "      fill: #174EA6;\n",
              "    }\n",
              "\n",
              "    [theme=dark] .colab-df-convert {\n",
              "      background-color: #3B4455;\n",
              "      fill: #D2E3FC;\n",
              "    }\n",
              "\n",
              "    [theme=dark] .colab-df-convert:hover {\n",
              "      background-color: #434B5C;\n",
              "      box-shadow: 0px 1px 3px 1px rgba(0, 0, 0, 0.15);\n",
              "      filter: drop-shadow(0px 1px 2px rgba(0, 0, 0, 0.3));\n",
              "      fill: #FFFFFF;\n",
              "    }\n",
              "  </style>\n",
              "\n",
              "      <script>\n",
              "        const buttonEl =\n",
              "          document.querySelector('#df-a7a4e666-7659-4057-bb9e-c501ad019232 button.colab-df-convert');\n",
              "        buttonEl.style.display =\n",
              "          google.colab.kernel.accessAllowed ? 'block' : 'none';\n",
              "\n",
              "        async function convertToInteractive(key) {\n",
              "          const element = document.querySelector('#df-a7a4e666-7659-4057-bb9e-c501ad019232');\n",
              "          const dataTable =\n",
              "            await google.colab.kernel.invokeFunction('convertToInteractive',\n",
              "                                                     [key], {});\n",
              "          if (!dataTable) return;\n",
              "\n",
              "          const docLinkHtml = 'Like what you see? Visit the ' +\n",
              "            '<a target=\"_blank\" href=https://colab.research.google.com/notebooks/data_table.ipynb>data table notebook</a>'\n",
              "            + ' to learn more about interactive tables.';\n",
              "          element.innerHTML = '';\n",
              "          dataTable['output_type'] = 'display_data';\n",
              "          await google.colab.output.renderOutput(dataTable, element);\n",
              "          const docLink = document.createElement('div');\n",
              "          docLink.innerHTML = docLinkHtml;\n",
              "          element.appendChild(docLink);\n",
              "        }\n",
              "      </script>\n",
              "    </div>\n",
              "  </div>\n",
              "  "
            ]
          },
          "metadata": {},
          "execution_count": 116
        }
      ]
    },
    {
      "cell_type": "code",
      "source": [
        "df_clean[['svi_med', 'PRC_diff',\t'Par_diff', 'vol_diff', 'sent', 'count_diff']].describe()"
      ],
      "metadata": {
        "id": "UC_Fz2ZXZ-Uz",
        "colab": {
          "base_uri": "https://localhost:8080/",
          "height": 300
        },
        "outputId": "d67b75e1-01b4-4157-a22e-614948615512"
      },
      "execution_count": null,
      "outputs": [
        {
          "output_type": "execute_result",
          "data": {
            "text/plain": [
              "            svi_med      PRC_diff      Par_diff      vol_diff          sent  \\\n",
              "count  56260.000000  56260.000000  56260.000000  56260.000000  56260.000000   \n",
              "mean      -0.065851      0.001700     -0.000015     -0.000396      0.123550   \n",
              "std        0.864171      0.047292      0.061203      0.350715      0.198454   \n",
              "min       -4.200953     -0.999453     -0.988224     -2.471566     -0.921700   \n",
              "25%       -0.285678     -0.014626     -0.018136     -0.221013      0.000000   \n",
              "50%       -0.002405      0.003177     -0.000082     -0.016298      0.128850   \n",
              "75%        0.292124      0.019984      0.011837      0.205105      0.250000   \n",
              "max        4.494239      3.034845      1.283080      2.570299      0.954500   \n",
              "\n",
              "         count_diff  \n",
              "count  56260.000000  \n",
              "mean       0.005660  \n",
              "std        0.920380  \n",
              "min       -4.905275  \n",
              "25%       -0.447607  \n",
              "50%        0.000000  \n",
              "75%        0.456758  \n",
              "max        4.779123  "
            ],
            "text/html": [
              "\n",
              "  <div id=\"df-a46c69d6-e675-4e1b-b648-a1c114d58b9d\">\n",
              "    <div class=\"colab-df-container\">\n",
              "      <div>\n",
              "<style scoped>\n",
              "    .dataframe tbody tr th:only-of-type {\n",
              "        vertical-align: middle;\n",
              "    }\n",
              "\n",
              "    .dataframe tbody tr th {\n",
              "        vertical-align: top;\n",
              "    }\n",
              "\n",
              "    .dataframe thead th {\n",
              "        text-align: right;\n",
              "    }\n",
              "</style>\n",
              "<table border=\"1\" class=\"dataframe\">\n",
              "  <thead>\n",
              "    <tr style=\"text-align: right;\">\n",
              "      <th></th>\n",
              "      <th>svi_med</th>\n",
              "      <th>PRC_diff</th>\n",
              "      <th>Par_diff</th>\n",
              "      <th>vol_diff</th>\n",
              "      <th>sent</th>\n",
              "      <th>count_diff</th>\n",
              "    </tr>\n",
              "  </thead>\n",
              "  <tbody>\n",
              "    <tr>\n",
              "      <th>count</th>\n",
              "      <td>56260.000000</td>\n",
              "      <td>56260.000000</td>\n",
              "      <td>56260.000000</td>\n",
              "      <td>56260.000000</td>\n",
              "      <td>56260.000000</td>\n",
              "      <td>56260.000000</td>\n",
              "    </tr>\n",
              "    <tr>\n",
              "      <th>mean</th>\n",
              "      <td>-0.065851</td>\n",
              "      <td>0.001700</td>\n",
              "      <td>-0.000015</td>\n",
              "      <td>-0.000396</td>\n",
              "      <td>0.123550</td>\n",
              "      <td>0.005660</td>\n",
              "    </tr>\n",
              "    <tr>\n",
              "      <th>std</th>\n",
              "      <td>0.864171</td>\n",
              "      <td>0.047292</td>\n",
              "      <td>0.061203</td>\n",
              "      <td>0.350715</td>\n",
              "      <td>0.198454</td>\n",
              "      <td>0.920380</td>\n",
              "    </tr>\n",
              "    <tr>\n",
              "      <th>min</th>\n",
              "      <td>-4.200953</td>\n",
              "      <td>-0.999453</td>\n",
              "      <td>-0.988224</td>\n",
              "      <td>-2.471566</td>\n",
              "      <td>-0.921700</td>\n",
              "      <td>-4.905275</td>\n",
              "    </tr>\n",
              "    <tr>\n",
              "      <th>25%</th>\n",
              "      <td>-0.285678</td>\n",
              "      <td>-0.014626</td>\n",
              "      <td>-0.018136</td>\n",
              "      <td>-0.221013</td>\n",
              "      <td>0.000000</td>\n",
              "      <td>-0.447607</td>\n",
              "    </tr>\n",
              "    <tr>\n",
              "      <th>50%</th>\n",
              "      <td>-0.002405</td>\n",
              "      <td>0.003177</td>\n",
              "      <td>-0.000082</td>\n",
              "      <td>-0.016298</td>\n",
              "      <td>0.128850</td>\n",
              "      <td>0.000000</td>\n",
              "    </tr>\n",
              "    <tr>\n",
              "      <th>75%</th>\n",
              "      <td>0.292124</td>\n",
              "      <td>0.019984</td>\n",
              "      <td>0.011837</td>\n",
              "      <td>0.205105</td>\n",
              "      <td>0.250000</td>\n",
              "      <td>0.456758</td>\n",
              "    </tr>\n",
              "    <tr>\n",
              "      <th>max</th>\n",
              "      <td>4.494239</td>\n",
              "      <td>3.034845</td>\n",
              "      <td>1.283080</td>\n",
              "      <td>2.570299</td>\n",
              "      <td>0.954500</td>\n",
              "      <td>4.779123</td>\n",
              "    </tr>\n",
              "  </tbody>\n",
              "</table>\n",
              "</div>\n",
              "      <button class=\"colab-df-convert\" onclick=\"convertToInteractive('df-a46c69d6-e675-4e1b-b648-a1c114d58b9d')\"\n",
              "              title=\"Convert this dataframe to an interactive table.\"\n",
              "              style=\"display:none;\">\n",
              "        \n",
              "  <svg xmlns=\"http://www.w3.org/2000/svg\" height=\"24px\"viewBox=\"0 0 24 24\"\n",
              "       width=\"24px\">\n",
              "    <path d=\"M0 0h24v24H0V0z\" fill=\"none\"/>\n",
              "    <path d=\"M18.56 5.44l.94 2.06.94-2.06 2.06-.94-2.06-.94-.94-2.06-.94 2.06-2.06.94zm-11 1L8.5 8.5l.94-2.06 2.06-.94-2.06-.94L8.5 2.5l-.94 2.06-2.06.94zm10 10l.94 2.06.94-2.06 2.06-.94-2.06-.94-.94-2.06-.94 2.06-2.06.94z\"/><path d=\"M17.41 7.96l-1.37-1.37c-.4-.4-.92-.59-1.43-.59-.52 0-1.04.2-1.43.59L10.3 9.45l-7.72 7.72c-.78.78-.78 2.05 0 2.83L4 21.41c.39.39.9.59 1.41.59.51 0 1.02-.2 1.41-.59l7.78-7.78 2.81-2.81c.8-.78.8-2.07 0-2.86zM5.41 20L4 18.59l7.72-7.72 1.47 1.35L5.41 20z\"/>\n",
              "  </svg>\n",
              "      </button>\n",
              "      \n",
              "  <style>\n",
              "    .colab-df-container {\n",
              "      display:flex;\n",
              "      flex-wrap:wrap;\n",
              "      gap: 12px;\n",
              "    }\n",
              "\n",
              "    .colab-df-convert {\n",
              "      background-color: #E8F0FE;\n",
              "      border: none;\n",
              "      border-radius: 50%;\n",
              "      cursor: pointer;\n",
              "      display: none;\n",
              "      fill: #1967D2;\n",
              "      height: 32px;\n",
              "      padding: 0 0 0 0;\n",
              "      width: 32px;\n",
              "    }\n",
              "\n",
              "    .colab-df-convert:hover {\n",
              "      background-color: #E2EBFA;\n",
              "      box-shadow: 0px 1px 2px rgba(60, 64, 67, 0.3), 0px 1px 3px 1px rgba(60, 64, 67, 0.15);\n",
              "      fill: #174EA6;\n",
              "    }\n",
              "\n",
              "    [theme=dark] .colab-df-convert {\n",
              "      background-color: #3B4455;\n",
              "      fill: #D2E3FC;\n",
              "    }\n",
              "\n",
              "    [theme=dark] .colab-df-convert:hover {\n",
              "      background-color: #434B5C;\n",
              "      box-shadow: 0px 1px 3px 1px rgba(0, 0, 0, 0.15);\n",
              "      filter: drop-shadow(0px 1px 2px rgba(0, 0, 0, 0.3));\n",
              "      fill: #FFFFFF;\n",
              "    }\n",
              "  </style>\n",
              "\n",
              "      <script>\n",
              "        const buttonEl =\n",
              "          document.querySelector('#df-a46c69d6-e675-4e1b-b648-a1c114d58b9d button.colab-df-convert');\n",
              "        buttonEl.style.display =\n",
              "          google.colab.kernel.accessAllowed ? 'block' : 'none';\n",
              "\n",
              "        async function convertToInteractive(key) {\n",
              "          const element = document.querySelector('#df-a46c69d6-e675-4e1b-b648-a1c114d58b9d');\n",
              "          const dataTable =\n",
              "            await google.colab.kernel.invokeFunction('convertToInteractive',\n",
              "                                                     [key], {});\n",
              "          if (!dataTable) return;\n",
              "\n",
              "          const docLinkHtml = 'Like what you see? Visit the ' +\n",
              "            '<a target=\"_blank\" href=https://colab.research.google.com/notebooks/data_table.ipynb>data table notebook</a>'\n",
              "            + ' to learn more about interactive tables.';\n",
              "          element.innerHTML = '';\n",
              "          dataTable['output_type'] = 'display_data';\n",
              "          await google.colab.output.renderOutput(dataTable, element);\n",
              "          const docLink = document.createElement('div');\n",
              "          docLink.innerHTML = docLinkHtml;\n",
              "          element.appendChild(docLink);\n",
              "        }\n",
              "      </script>\n",
              "    </div>\n",
              "  </div>\n",
              "  "
            ]
          },
          "metadata": {},
          "execution_count": 117
        }
      ]
    },
    {
      "cell_type": "code",
      "source": [
        "market_cap_median = df_clean['market_cap_mean'].median()"
      ],
      "metadata": {
        "id": "YqHat5Pnb5ND"
      },
      "execution_count": null,
      "outputs": []
    },
    {
      "cell_type": "code",
      "source": [
        "df_clean['year'] = df_clean['date'].dt.strftime(\"%Y\")"
      ],
      "metadata": {
        "id": "Hn4we-MzGAJp"
      },
      "execution_count": null,
      "outputs": []
    },
    {
      "cell_type": "code",
      "source": [
        "df_clean"
      ],
      "metadata": {
        "id": "VwWP4GNFGfgs",
        "colab": {
          "base_uri": "https://localhost:8080/",
          "height": 661
        },
        "outputId": "e1c2cece-9a3a-40c9-8cc7-6b7c899e14f0"
      },
      "execution_count": null,
      "outputs": [
        {
          "output_type": "execute_result",
          "data": {
            "text/plain": [
              "      ticker       date        svi      PRC  market_cap_mean         vol  \\\n",
              "67         A 2016-09-18   0.000000   45.148     1.747404e+07  2245778.60   \n",
              "68         A 2016-09-25   0.000000   45.996     1.747404e+07  1827572.80   \n",
              "69         A 2016-10-02   0.000000   46.790     1.747404e+07  1884254.00   \n",
              "70         A 2016-10-09  17.000000   47.160     1.747404e+07  1634361.20   \n",
              "71         A 2016-10-16  15.000000   45.818     1.747404e+07  1705346.20   \n",
              "...      ...        ...        ...      ...              ...         ...   \n",
              "83075    YUM 2022-03-06  49.066310  120.606     2.154346e+07  1667732.80   \n",
              "83076    YUM 2022-03-13  55.358160  115.328     2.154346e+07  2196543.80   \n",
              "83077    YUM 2022-03-20  36.892939  117.728     2.154346e+07  2416518.80   \n",
              "83078    YUM 2022-03-27  46.384245  118.498     2.154346e+07  1604409.60   \n",
              "83079    YUM 2022-04-03  37.000000  120.695     2.154346e+07  2232057.75   \n",
              "\n",
              "       td_count     vol_sum  ParSpread    sent  ...  svi_diff   svi_med  \\\n",
              "67            5  11228893.0   0.008125  0.2598  ... -3.486355 -3.081570   \n",
              "68            5   9137864.0   0.008655  0.3046  ...  0.000000 -3.081570   \n",
              "69            5   9421270.0   0.008422  0.4588  ...  0.000000 -3.081570   \n",
              "70            5   8171806.0   0.008056 -0.0165  ...  2.890372 -0.125971   \n",
              "71            5   8526731.0   0.008631  0.2301  ... -0.117783 -0.178728   \n",
              "...         ...         ...        ...     ...  ...       ...       ...   \n",
              "83075         5   8338664.0   0.015166 -0.1807  ...  0.090002  0.076109   \n",
              "83076         5  10982719.0   0.016846  0.0268  ...  0.118379  0.149487   \n",
              "83077         5  12082594.0   0.017058  0.2055  ... -0.396962 -0.330047   \n",
              "83078         5   8022048.0   0.016272  0.1121  ...  0.223525 -0.023951   \n",
              "83079         4   8928231.0   0.015794  0.3444  ... -0.220704 -0.248233   \n",
              "\n",
              "       count_diff  count_med  PRC_diff  Par_diff  vol_diff  vol_sum_diff  \\\n",
              "67       0.485508   1.067083 -0.029291 -0.159956  0.339790      0.562933   \n",
              "68      -0.167054   0.620221  0.018608  0.063169 -0.206064     -0.206064   \n",
              "69      -1.011601  -0.626381  0.017115 -0.027292  0.030543      0.030543   \n",
              "70       0.223144  -0.235002  0.007877 -0.044475 -0.142280     -0.142280   \n",
              "71       0.470004   0.470004 -0.028869  0.068952  0.042516      0.042516   \n",
              "...           ...        ...       ...       ...       ...           ...   \n",
              "83075    0.929536   0.260284 -0.017091  0.017127 -0.191900      0.031244   \n",
              "83076   -0.305382  -0.045098 -0.044749  0.105043  0.275420      0.275420   \n",
              "83077   -0.287682  -0.369834  0.020597  0.012535  0.095443      0.095443   \n",
              "83078    0.174353  -0.195480  0.006519 -0.047165 -0.409572     -0.409572   \n",
              "83079   -0.223144  -0.279808  0.018371 -0.029815  0.330168      0.107025   \n",
              "\n",
              "       time_idx  year  \n",
              "67            0  2016  \n",
              "68            1  2016  \n",
              "69            2  2016  \n",
              "70            3  2016  \n",
              "71            4  2016  \n",
              "...         ...   ...  \n",
              "83075       285  2022  \n",
              "83076       286  2022  \n",
              "83077       287  2022  \n",
              "83078       288  2022  \n",
              "83079       289  2022  \n",
              "\n",
              "[56260 rows x 22 columns]"
            ],
            "text/html": [
              "\n",
              "  <div id=\"df-0497e759-6996-44d7-abac-1dcc0ac89c48\">\n",
              "    <div class=\"colab-df-container\">\n",
              "      <div>\n",
              "<style scoped>\n",
              "    .dataframe tbody tr th:only-of-type {\n",
              "        vertical-align: middle;\n",
              "    }\n",
              "\n",
              "    .dataframe tbody tr th {\n",
              "        vertical-align: top;\n",
              "    }\n",
              "\n",
              "    .dataframe thead th {\n",
              "        text-align: right;\n",
              "    }\n",
              "</style>\n",
              "<table border=\"1\" class=\"dataframe\">\n",
              "  <thead>\n",
              "    <tr style=\"text-align: right;\">\n",
              "      <th></th>\n",
              "      <th>ticker</th>\n",
              "      <th>date</th>\n",
              "      <th>svi</th>\n",
              "      <th>PRC</th>\n",
              "      <th>market_cap_mean</th>\n",
              "      <th>vol</th>\n",
              "      <th>td_count</th>\n",
              "      <th>vol_sum</th>\n",
              "      <th>ParSpread</th>\n",
              "      <th>sent</th>\n",
              "      <th>...</th>\n",
              "      <th>svi_diff</th>\n",
              "      <th>svi_med</th>\n",
              "      <th>count_diff</th>\n",
              "      <th>count_med</th>\n",
              "      <th>PRC_diff</th>\n",
              "      <th>Par_diff</th>\n",
              "      <th>vol_diff</th>\n",
              "      <th>vol_sum_diff</th>\n",
              "      <th>time_idx</th>\n",
              "      <th>year</th>\n",
              "    </tr>\n",
              "  </thead>\n",
              "  <tbody>\n",
              "    <tr>\n",
              "      <th>67</th>\n",
              "      <td>A</td>\n",
              "      <td>2016-09-18</td>\n",
              "      <td>0.000000</td>\n",
              "      <td>45.148</td>\n",
              "      <td>1.747404e+07</td>\n",
              "      <td>2245778.60</td>\n",
              "      <td>5</td>\n",
              "      <td>11228893.0</td>\n",
              "      <td>0.008125</td>\n",
              "      <td>0.2598</td>\n",
              "      <td>...</td>\n",
              "      <td>-3.486355</td>\n",
              "      <td>-3.081570</td>\n",
              "      <td>0.485508</td>\n",
              "      <td>1.067083</td>\n",
              "      <td>-0.029291</td>\n",
              "      <td>-0.159956</td>\n",
              "      <td>0.339790</td>\n",
              "      <td>0.562933</td>\n",
              "      <td>0</td>\n",
              "      <td>2016</td>\n",
              "    </tr>\n",
              "    <tr>\n",
              "      <th>68</th>\n",
              "      <td>A</td>\n",
              "      <td>2016-09-25</td>\n",
              "      <td>0.000000</td>\n",
              "      <td>45.996</td>\n",
              "      <td>1.747404e+07</td>\n",
              "      <td>1827572.80</td>\n",
              "      <td>5</td>\n",
              "      <td>9137864.0</td>\n",
              "      <td>0.008655</td>\n",
              "      <td>0.3046</td>\n",
              "      <td>...</td>\n",
              "      <td>0.000000</td>\n",
              "      <td>-3.081570</td>\n",
              "      <td>-0.167054</td>\n",
              "      <td>0.620221</td>\n",
              "      <td>0.018608</td>\n",
              "      <td>0.063169</td>\n",
              "      <td>-0.206064</td>\n",
              "      <td>-0.206064</td>\n",
              "      <td>1</td>\n",
              "      <td>2016</td>\n",
              "    </tr>\n",
              "    <tr>\n",
              "      <th>69</th>\n",
              "      <td>A</td>\n",
              "      <td>2016-10-02</td>\n",
              "      <td>0.000000</td>\n",
              "      <td>46.790</td>\n",
              "      <td>1.747404e+07</td>\n",
              "      <td>1884254.00</td>\n",
              "      <td>5</td>\n",
              "      <td>9421270.0</td>\n",
              "      <td>0.008422</td>\n",
              "      <td>0.4588</td>\n",
              "      <td>...</td>\n",
              "      <td>0.000000</td>\n",
              "      <td>-3.081570</td>\n",
              "      <td>-1.011601</td>\n",
              "      <td>-0.626381</td>\n",
              "      <td>0.017115</td>\n",
              "      <td>-0.027292</td>\n",
              "      <td>0.030543</td>\n",
              "      <td>0.030543</td>\n",
              "      <td>2</td>\n",
              "      <td>2016</td>\n",
              "    </tr>\n",
              "    <tr>\n",
              "      <th>70</th>\n",
              "      <td>A</td>\n",
              "      <td>2016-10-09</td>\n",
              "      <td>17.000000</td>\n",
              "      <td>47.160</td>\n",
              "      <td>1.747404e+07</td>\n",
              "      <td>1634361.20</td>\n",
              "      <td>5</td>\n",
              "      <td>8171806.0</td>\n",
              "      <td>0.008056</td>\n",
              "      <td>-0.0165</td>\n",
              "      <td>...</td>\n",
              "      <td>2.890372</td>\n",
              "      <td>-0.125971</td>\n",
              "      <td>0.223144</td>\n",
              "      <td>-0.235002</td>\n",
              "      <td>0.007877</td>\n",
              "      <td>-0.044475</td>\n",
              "      <td>-0.142280</td>\n",
              "      <td>-0.142280</td>\n",
              "      <td>3</td>\n",
              "      <td>2016</td>\n",
              "    </tr>\n",
              "    <tr>\n",
              "      <th>71</th>\n",
              "      <td>A</td>\n",
              "      <td>2016-10-16</td>\n",
              "      <td>15.000000</td>\n",
              "      <td>45.818</td>\n",
              "      <td>1.747404e+07</td>\n",
              "      <td>1705346.20</td>\n",
              "      <td>5</td>\n",
              "      <td>8526731.0</td>\n",
              "      <td>0.008631</td>\n",
              "      <td>0.2301</td>\n",
              "      <td>...</td>\n",
              "      <td>-0.117783</td>\n",
              "      <td>-0.178728</td>\n",
              "      <td>0.470004</td>\n",
              "      <td>0.470004</td>\n",
              "      <td>-0.028869</td>\n",
              "      <td>0.068952</td>\n",
              "      <td>0.042516</td>\n",
              "      <td>0.042516</td>\n",
              "      <td>4</td>\n",
              "      <td>2016</td>\n",
              "    </tr>\n",
              "    <tr>\n",
              "      <th>...</th>\n",
              "      <td>...</td>\n",
              "      <td>...</td>\n",
              "      <td>...</td>\n",
              "      <td>...</td>\n",
              "      <td>...</td>\n",
              "      <td>...</td>\n",
              "      <td>...</td>\n",
              "      <td>...</td>\n",
              "      <td>...</td>\n",
              "      <td>...</td>\n",
              "      <td>...</td>\n",
              "      <td>...</td>\n",
              "      <td>...</td>\n",
              "      <td>...</td>\n",
              "      <td>...</td>\n",
              "      <td>...</td>\n",
              "      <td>...</td>\n",
              "      <td>...</td>\n",
              "      <td>...</td>\n",
              "      <td>...</td>\n",
              "      <td>...</td>\n",
              "    </tr>\n",
              "    <tr>\n",
              "      <th>83075</th>\n",
              "      <td>YUM</td>\n",
              "      <td>2022-03-06</td>\n",
              "      <td>49.066310</td>\n",
              "      <td>120.606</td>\n",
              "      <td>2.154346e+07</td>\n",
              "      <td>1667732.80</td>\n",
              "      <td>5</td>\n",
              "      <td>8338664.0</td>\n",
              "      <td>0.015166</td>\n",
              "      <td>-0.1807</td>\n",
              "      <td>...</td>\n",
              "      <td>0.090002</td>\n",
              "      <td>0.076109</td>\n",
              "      <td>0.929536</td>\n",
              "      <td>0.260284</td>\n",
              "      <td>-0.017091</td>\n",
              "      <td>0.017127</td>\n",
              "      <td>-0.191900</td>\n",
              "      <td>0.031244</td>\n",
              "      <td>285</td>\n",
              "      <td>2022</td>\n",
              "    </tr>\n",
              "    <tr>\n",
              "      <th>83076</th>\n",
              "      <td>YUM</td>\n",
              "      <td>2022-03-13</td>\n",
              "      <td>55.358160</td>\n",
              "      <td>115.328</td>\n",
              "      <td>2.154346e+07</td>\n",
              "      <td>2196543.80</td>\n",
              "      <td>5</td>\n",
              "      <td>10982719.0</td>\n",
              "      <td>0.016846</td>\n",
              "      <td>0.0268</td>\n",
              "      <td>...</td>\n",
              "      <td>0.118379</td>\n",
              "      <td>0.149487</td>\n",
              "      <td>-0.305382</td>\n",
              "      <td>-0.045098</td>\n",
              "      <td>-0.044749</td>\n",
              "      <td>0.105043</td>\n",
              "      <td>0.275420</td>\n",
              "      <td>0.275420</td>\n",
              "      <td>286</td>\n",
              "      <td>2022</td>\n",
              "    </tr>\n",
              "    <tr>\n",
              "      <th>83077</th>\n",
              "      <td>YUM</td>\n",
              "      <td>2022-03-20</td>\n",
              "      <td>36.892939</td>\n",
              "      <td>117.728</td>\n",
              "      <td>2.154346e+07</td>\n",
              "      <td>2416518.80</td>\n",
              "      <td>5</td>\n",
              "      <td>12082594.0</td>\n",
              "      <td>0.017058</td>\n",
              "      <td>0.2055</td>\n",
              "      <td>...</td>\n",
              "      <td>-0.396962</td>\n",
              "      <td>-0.330047</td>\n",
              "      <td>-0.287682</td>\n",
              "      <td>-0.369834</td>\n",
              "      <td>0.020597</td>\n",
              "      <td>0.012535</td>\n",
              "      <td>0.095443</td>\n",
              "      <td>0.095443</td>\n",
              "      <td>287</td>\n",
              "      <td>2022</td>\n",
              "    </tr>\n",
              "    <tr>\n",
              "      <th>83078</th>\n",
              "      <td>YUM</td>\n",
              "      <td>2022-03-27</td>\n",
              "      <td>46.384245</td>\n",
              "      <td>118.498</td>\n",
              "      <td>2.154346e+07</td>\n",
              "      <td>1604409.60</td>\n",
              "      <td>5</td>\n",
              "      <td>8022048.0</td>\n",
              "      <td>0.016272</td>\n",
              "      <td>0.1121</td>\n",
              "      <td>...</td>\n",
              "      <td>0.223525</td>\n",
              "      <td>-0.023951</td>\n",
              "      <td>0.174353</td>\n",
              "      <td>-0.195480</td>\n",
              "      <td>0.006519</td>\n",
              "      <td>-0.047165</td>\n",
              "      <td>-0.409572</td>\n",
              "      <td>-0.409572</td>\n",
              "      <td>288</td>\n",
              "      <td>2022</td>\n",
              "    </tr>\n",
              "    <tr>\n",
              "      <th>83079</th>\n",
              "      <td>YUM</td>\n",
              "      <td>2022-04-03</td>\n",
              "      <td>37.000000</td>\n",
              "      <td>120.695</td>\n",
              "      <td>2.154346e+07</td>\n",
              "      <td>2232057.75</td>\n",
              "      <td>4</td>\n",
              "      <td>8928231.0</td>\n",
              "      <td>0.015794</td>\n",
              "      <td>0.3444</td>\n",
              "      <td>...</td>\n",
              "      <td>-0.220704</td>\n",
              "      <td>-0.248233</td>\n",
              "      <td>-0.223144</td>\n",
              "      <td>-0.279808</td>\n",
              "      <td>0.018371</td>\n",
              "      <td>-0.029815</td>\n",
              "      <td>0.330168</td>\n",
              "      <td>0.107025</td>\n",
              "      <td>289</td>\n",
              "      <td>2022</td>\n",
              "    </tr>\n",
              "  </tbody>\n",
              "</table>\n",
              "<p>56260 rows × 22 columns</p>\n",
              "</div>\n",
              "      <button class=\"colab-df-convert\" onclick=\"convertToInteractive('df-0497e759-6996-44d7-abac-1dcc0ac89c48')\"\n",
              "              title=\"Convert this dataframe to an interactive table.\"\n",
              "              style=\"display:none;\">\n",
              "        \n",
              "  <svg xmlns=\"http://www.w3.org/2000/svg\" height=\"24px\"viewBox=\"0 0 24 24\"\n",
              "       width=\"24px\">\n",
              "    <path d=\"M0 0h24v24H0V0z\" fill=\"none\"/>\n",
              "    <path d=\"M18.56 5.44l.94 2.06.94-2.06 2.06-.94-2.06-.94-.94-2.06-.94 2.06-2.06.94zm-11 1L8.5 8.5l.94-2.06 2.06-.94-2.06-.94L8.5 2.5l-.94 2.06-2.06.94zm10 10l.94 2.06.94-2.06 2.06-.94-2.06-.94-.94-2.06-.94 2.06-2.06.94z\"/><path d=\"M17.41 7.96l-1.37-1.37c-.4-.4-.92-.59-1.43-.59-.52 0-1.04.2-1.43.59L10.3 9.45l-7.72 7.72c-.78.78-.78 2.05 0 2.83L4 21.41c.39.39.9.59 1.41.59.51 0 1.02-.2 1.41-.59l7.78-7.78 2.81-2.81c.8-.78.8-2.07 0-2.86zM5.41 20L4 18.59l7.72-7.72 1.47 1.35L5.41 20z\"/>\n",
              "  </svg>\n",
              "      </button>\n",
              "      \n",
              "  <style>\n",
              "    .colab-df-container {\n",
              "      display:flex;\n",
              "      flex-wrap:wrap;\n",
              "      gap: 12px;\n",
              "    }\n",
              "\n",
              "    .colab-df-convert {\n",
              "      background-color: #E8F0FE;\n",
              "      border: none;\n",
              "      border-radius: 50%;\n",
              "      cursor: pointer;\n",
              "      display: none;\n",
              "      fill: #1967D2;\n",
              "      height: 32px;\n",
              "      padding: 0 0 0 0;\n",
              "      width: 32px;\n",
              "    }\n",
              "\n",
              "    .colab-df-convert:hover {\n",
              "      background-color: #E2EBFA;\n",
              "      box-shadow: 0px 1px 2px rgba(60, 64, 67, 0.3), 0px 1px 3px 1px rgba(60, 64, 67, 0.15);\n",
              "      fill: #174EA6;\n",
              "    }\n",
              "\n",
              "    [theme=dark] .colab-df-convert {\n",
              "      background-color: #3B4455;\n",
              "      fill: #D2E3FC;\n",
              "    }\n",
              "\n",
              "    [theme=dark] .colab-df-convert:hover {\n",
              "      background-color: #434B5C;\n",
              "      box-shadow: 0px 1px 3px 1px rgba(0, 0, 0, 0.15);\n",
              "      filter: drop-shadow(0px 1px 2px rgba(0, 0, 0, 0.3));\n",
              "      fill: #FFFFFF;\n",
              "    }\n",
              "  </style>\n",
              "\n",
              "      <script>\n",
              "        const buttonEl =\n",
              "          document.querySelector('#df-0497e759-6996-44d7-abac-1dcc0ac89c48 button.colab-df-convert');\n",
              "        buttonEl.style.display =\n",
              "          google.colab.kernel.accessAllowed ? 'block' : 'none';\n",
              "\n",
              "        async function convertToInteractive(key) {\n",
              "          const element = document.querySelector('#df-0497e759-6996-44d7-abac-1dcc0ac89c48');\n",
              "          const dataTable =\n",
              "            await google.colab.kernel.invokeFunction('convertToInteractive',\n",
              "                                                     [key], {});\n",
              "          if (!dataTable) return;\n",
              "\n",
              "          const docLinkHtml = 'Like what you see? Visit the ' +\n",
              "            '<a target=\"_blank\" href=https://colab.research.google.com/notebooks/data_table.ipynb>data table notebook</a>'\n",
              "            + ' to learn more about interactive tables.';\n",
              "          element.innerHTML = '';\n",
              "          dataTable['output_type'] = 'display_data';\n",
              "          await google.colab.output.renderOutput(dataTable, element);\n",
              "          const docLink = document.createElement('div');\n",
              "          docLink.innerHTML = docLinkHtml;\n",
              "          element.appendChild(docLink);\n",
              "        }\n",
              "      </script>\n",
              "    </div>\n",
              "  </div>\n",
              "  "
            ]
          },
          "metadata": {},
          "execution_count": 120
        }
      ]
    },
    {
      "cell_type": "code",
      "source": [
        "sp_100_list = list(df_SP_100['Ticker']) #better way than market cap"
      ],
      "metadata": {
        "id": "UYNjoU0RKKMY"
      },
      "execution_count": null,
      "outputs": []
    },
    {
      "cell_type": "code",
      "source": [
        "\n",
        "df_large = df_clean[df_clean['ticker'].isin(sp_100_list)]"
      ],
      "metadata": {
        "id": "zs1W1EWicNUD"
      },
      "execution_count": null,
      "outputs": []
    },
    {
      "cell_type": "code",
      "source": [
        "\n",
        "df_small = df_clean[~df_clean['ticker'].isin(sp_100_list)]"
      ],
      "metadata": {
        "id": "IXNvirIycxxq"
      },
      "execution_count": null,
      "outputs": []
    },
    {
      "cell_type": "code",
      "source": [
        "len(df_large['ticker'].value_counts())"
      ],
      "metadata": {
        "id": "-7b6UDsbcskl",
        "colab": {
          "base_uri": "https://localhost:8080/"
        },
        "outputId": "3921c389-1fec-4334-d18a-c1022351213e"
      },
      "execution_count": null,
      "outputs": [
        {
          "output_type": "execute_result",
          "data": {
            "text/plain": [
              "50"
            ]
          },
          "metadata": {},
          "execution_count": 124
        }
      ]
    },
    {
      "cell_type": "code",
      "source": [
        "df_large[var_list].describe()['svi_med']"
      ],
      "metadata": {
        "colab": {
          "base_uri": "https://localhost:8080/"
        },
        "id": "AjKNNpx34eZT",
        "outputId": "a970895b-ba9a-4f2d-efcc-c487fadb97b7"
      },
      "execution_count": null,
      "outputs": [
        {
          "output_type": "execute_result",
          "data": {
            "text/plain": [
              "count    14500.000000\n",
              "mean         0.008852\n",
              "std          0.345193\n",
              "min         -4.096654\n",
              "25%         -0.175568\n",
              "50%         -0.014432\n",
              "75%          0.173963\n",
              "max          2.525369\n",
              "Name: svi_med, dtype: float64"
            ]
          },
          "metadata": {},
          "execution_count": 125
        }
      ]
    },
    {
      "cell_type": "code",
      "source": [
        "df_small[var_list].describe()['svi_med']"
      ],
      "metadata": {
        "colab": {
          "base_uri": "https://localhost:8080/"
        },
        "id": "dvSAbiN34xzj",
        "outputId": "83f64b71-98da-4b1e-a5cd-4021855c3746"
      },
      "execution_count": null,
      "outputs": [
        {
          "output_type": "execute_result",
          "data": {
            "text/plain": [
              "count    41760.000000\n",
              "mean        -0.091789\n",
              "std          0.980875\n",
              "min         -4.200953\n",
              "25%         -0.367113\n",
              "50%          0.000000\n",
              "75%          0.352195\n",
              "max          4.494239\n",
              "Name: svi_med, dtype: float64"
            ]
          },
          "metadata": {},
          "execution_count": 126
        }
      ]
    },
    {
      "cell_type": "code",
      "source": [
        "df_svi_diff = pd.DataFrame([df_large[var_list].describe()['svi_med'],df_small[var_list].describe()['svi_med']], index=['svi_large', 'svi_small']).round({'count':0, 'mean':4, 'std':4, 'min':4, '25%':4, '50%':4, '75%':4, 'max':4})"
      ],
      "metadata": {
        "id": "uZKx99iv5ddY"
      },
      "execution_count": null,
      "outputs": []
    },
    {
      "cell_type": "code",
      "source": [
        "df_svi_diff['count'] = df_svi_diff['count'].astype('int64')"
      ],
      "metadata": {
        "id": "c83HBvZv6T60"
      },
      "execution_count": null,
      "outputs": []
    },
    {
      "cell_type": "code",
      "source": [
        "df_svi_diff"
      ],
      "metadata": {
        "colab": {
          "base_uri": "https://localhost:8080/",
          "height": 112
        },
        "id": "Cy76xA0a6ZTc",
        "outputId": "2073a79a-2a39-4206-f41a-8c8fb196c31d"
      },
      "execution_count": null,
      "outputs": [
        {
          "output_type": "execute_result",
          "data": {
            "text/plain": [
              "           count    mean     std     min     25%     50%     75%     max\n",
              "svi_large  14500  0.0089  0.3452 -4.0967 -0.1756 -0.0144  0.1740  2.5254\n",
              "svi_small  41760 -0.0918  0.9809 -4.2010 -0.3671  0.0000  0.3522  4.4942"
            ],
            "text/html": [
              "\n",
              "  <div id=\"df-88f54a7c-9c92-4941-8046-b3176e2bc6aa\">\n",
              "    <div class=\"colab-df-container\">\n",
              "      <div>\n",
              "<style scoped>\n",
              "    .dataframe tbody tr th:only-of-type {\n",
              "        vertical-align: middle;\n",
              "    }\n",
              "\n",
              "    .dataframe tbody tr th {\n",
              "        vertical-align: top;\n",
              "    }\n",
              "\n",
              "    .dataframe thead th {\n",
              "        text-align: right;\n",
              "    }\n",
              "</style>\n",
              "<table border=\"1\" class=\"dataframe\">\n",
              "  <thead>\n",
              "    <tr style=\"text-align: right;\">\n",
              "      <th></th>\n",
              "      <th>count</th>\n",
              "      <th>mean</th>\n",
              "      <th>std</th>\n",
              "      <th>min</th>\n",
              "      <th>25%</th>\n",
              "      <th>50%</th>\n",
              "      <th>75%</th>\n",
              "      <th>max</th>\n",
              "    </tr>\n",
              "  </thead>\n",
              "  <tbody>\n",
              "    <tr>\n",
              "      <th>svi_large</th>\n",
              "      <td>14500</td>\n",
              "      <td>0.0089</td>\n",
              "      <td>0.3452</td>\n",
              "      <td>-4.0967</td>\n",
              "      <td>-0.1756</td>\n",
              "      <td>-0.0144</td>\n",
              "      <td>0.1740</td>\n",
              "      <td>2.5254</td>\n",
              "    </tr>\n",
              "    <tr>\n",
              "      <th>svi_small</th>\n",
              "      <td>41760</td>\n",
              "      <td>-0.0918</td>\n",
              "      <td>0.9809</td>\n",
              "      <td>-4.2010</td>\n",
              "      <td>-0.3671</td>\n",
              "      <td>0.0000</td>\n",
              "      <td>0.3522</td>\n",
              "      <td>4.4942</td>\n",
              "    </tr>\n",
              "  </tbody>\n",
              "</table>\n",
              "</div>\n",
              "      <button class=\"colab-df-convert\" onclick=\"convertToInteractive('df-88f54a7c-9c92-4941-8046-b3176e2bc6aa')\"\n",
              "              title=\"Convert this dataframe to an interactive table.\"\n",
              "              style=\"display:none;\">\n",
              "        \n",
              "  <svg xmlns=\"http://www.w3.org/2000/svg\" height=\"24px\"viewBox=\"0 0 24 24\"\n",
              "       width=\"24px\">\n",
              "    <path d=\"M0 0h24v24H0V0z\" fill=\"none\"/>\n",
              "    <path d=\"M18.56 5.44l.94 2.06.94-2.06 2.06-.94-2.06-.94-.94-2.06-.94 2.06-2.06.94zm-11 1L8.5 8.5l.94-2.06 2.06-.94-2.06-.94L8.5 2.5l-.94 2.06-2.06.94zm10 10l.94 2.06.94-2.06 2.06-.94-2.06-.94-.94-2.06-.94 2.06-2.06.94z\"/><path d=\"M17.41 7.96l-1.37-1.37c-.4-.4-.92-.59-1.43-.59-.52 0-1.04.2-1.43.59L10.3 9.45l-7.72 7.72c-.78.78-.78 2.05 0 2.83L4 21.41c.39.39.9.59 1.41.59.51 0 1.02-.2 1.41-.59l7.78-7.78 2.81-2.81c.8-.78.8-2.07 0-2.86zM5.41 20L4 18.59l7.72-7.72 1.47 1.35L5.41 20z\"/>\n",
              "  </svg>\n",
              "      </button>\n",
              "      \n",
              "  <style>\n",
              "    .colab-df-container {\n",
              "      display:flex;\n",
              "      flex-wrap:wrap;\n",
              "      gap: 12px;\n",
              "    }\n",
              "\n",
              "    .colab-df-convert {\n",
              "      background-color: #E8F0FE;\n",
              "      border: none;\n",
              "      border-radius: 50%;\n",
              "      cursor: pointer;\n",
              "      display: none;\n",
              "      fill: #1967D2;\n",
              "      height: 32px;\n",
              "      padding: 0 0 0 0;\n",
              "      width: 32px;\n",
              "    }\n",
              "\n",
              "    .colab-df-convert:hover {\n",
              "      background-color: #E2EBFA;\n",
              "      box-shadow: 0px 1px 2px rgba(60, 64, 67, 0.3), 0px 1px 3px 1px rgba(60, 64, 67, 0.15);\n",
              "      fill: #174EA6;\n",
              "    }\n",
              "\n",
              "    [theme=dark] .colab-df-convert {\n",
              "      background-color: #3B4455;\n",
              "      fill: #D2E3FC;\n",
              "    }\n",
              "\n",
              "    [theme=dark] .colab-df-convert:hover {\n",
              "      background-color: #434B5C;\n",
              "      box-shadow: 0px 1px 3px 1px rgba(0, 0, 0, 0.15);\n",
              "      filter: drop-shadow(0px 1px 2px rgba(0, 0, 0, 0.3));\n",
              "      fill: #FFFFFF;\n",
              "    }\n",
              "  </style>\n",
              "\n",
              "      <script>\n",
              "        const buttonEl =\n",
              "          document.querySelector('#df-88f54a7c-9c92-4941-8046-b3176e2bc6aa button.colab-df-convert');\n",
              "        buttonEl.style.display =\n",
              "          google.colab.kernel.accessAllowed ? 'block' : 'none';\n",
              "\n",
              "        async function convertToInteractive(key) {\n",
              "          const element = document.querySelector('#df-88f54a7c-9c92-4941-8046-b3176e2bc6aa');\n",
              "          const dataTable =\n",
              "            await google.colab.kernel.invokeFunction('convertToInteractive',\n",
              "                                                     [key], {});\n",
              "          if (!dataTable) return;\n",
              "\n",
              "          const docLinkHtml = 'Like what you see? Visit the ' +\n",
              "            '<a target=\"_blank\" href=https://colab.research.google.com/notebooks/data_table.ipynb>data table notebook</a>'\n",
              "            + ' to learn more about interactive tables.';\n",
              "          element.innerHTML = '';\n",
              "          dataTable['output_type'] = 'display_data';\n",
              "          await google.colab.output.renderOutput(dataTable, element);\n",
              "          const docLink = document.createElement('div');\n",
              "          docLink.innerHTML = docLinkHtml;\n",
              "          element.appendChild(docLink);\n",
              "        }\n",
              "      </script>\n",
              "    </div>\n",
              "  </div>\n",
              "  "
            ]
          },
          "metadata": {},
          "execution_count": 129
        }
      ]
    },
    {
      "cell_type": "code",
      "source": [
        "df_svi_diff.to_latex()"
      ],
      "metadata": {
        "colab": {
          "base_uri": "https://localhost:8080/",
          "height": 72
        },
        "id": "tkxHrURd6km6",
        "outputId": "c1c748d2-8c2c-49c2-dd55-d1b40d2e1491"
      },
      "execution_count": null,
      "outputs": [
        {
          "output_type": "execute_result",
          "data": {
            "text/plain": [
              "'\\\\begin{tabular}{lrrrrrrrr}\\n\\\\toprule\\n{} &  count &    mean &     std &     min &     25\\\\% &     50\\\\% &     75\\\\% &     max \\\\\\\\\\n\\\\midrule\\nsvi\\\\_large &  14500 &  0.0089 &  0.3452 & -4.0967 & -0.1756 & -0.0144 &  0.1740 &  2.5254 \\\\\\\\\\nsvi\\\\_small &  41760 & -0.0918 &  0.9809 & -4.2010 & -0.3671 &  0.0000 &  0.3522 &  4.4942 \\\\\\\\\\n\\\\bottomrule\\n\\\\end{tabular}\\n'"
            ],
            "application/vnd.google.colaboratory.intrinsic+json": {
              "type": "string"
            }
          },
          "metadata": {},
          "execution_count": 130
        }
      ]
    },
    {
      "cell_type": "code",
      "source": [
        "df_small['ticker'].value_counts()"
      ],
      "metadata": {
        "id": "TYfEwO2jd2KS",
        "colab": {
          "base_uri": "https://localhost:8080/"
        },
        "outputId": "dacf34ad-5889-4167-d2d6-a499bd5fe57d"
      },
      "execution_count": null,
      "outputs": [
        {
          "output_type": "execute_result",
          "data": {
            "text/plain": [
              "A      290\n",
              "ABC    290\n",
              "MBI    290\n",
              "MCK    290\n",
              "MDC    290\n",
              "      ... \n",
              "ED     290\n",
              "EFX    290\n",
              "EL     290\n",
              "EMN    290\n",
              "YUM    290\n",
              "Name: ticker, Length: 144, dtype: int64"
            ]
          },
          "metadata": {},
          "execution_count": 131
        }
      ]
    },
    {
      "cell_type": "code",
      "source": [
        "print(df_small['ticker'].value_counts().sort_index()[:50])"
      ],
      "metadata": {
        "id": "cymujXEGPgms",
        "colab": {
          "base_uri": "https://localhost:8080/"
        },
        "outputId": "e9edc962-801f-4473-bb38-01ed27343aa4"
      },
      "execution_count": null,
      "outputs": [
        {
          "output_type": "stream",
          "name": "stdout",
          "text": [
            "A       290\n",
            "ABC     290\n",
            "ADI     290\n",
            "ADM     290\n",
            "ADP     290\n",
            "AEP     290\n",
            "AES     290\n",
            "AFG     290\n",
            "ALL     290\n",
            "AMAT    290\n",
            "AMD     290\n",
            "AMKR    290\n",
            "AN      290\n",
            "APA     290\n",
            "APD     290\n",
            "ARW     290\n",
            "AVB     290\n",
            "AVT     290\n",
            "AXL     290\n",
            "AYI     290\n",
            "AZO     290\n",
            "BAX     290\n",
            "BBY     290\n",
            "BC      290\n",
            "BDX     290\n",
            "BEN     290\n",
            "BSX     290\n",
            "BWA     290\n",
            "BXP     290\n",
            "BYD     290\n",
            "BZH     290\n",
            "CAH     290\n",
            "CCI     290\n",
            "CLX     290\n",
            "CMS     290\n",
            "CPT     290\n",
            "CSX     290\n",
            "CYH     290\n",
            "DAL     290\n",
            "DDS     290\n",
            "DE      290\n",
            "DGX     290\n",
            "DHI     290\n",
            "DLX     290\n",
            "DOV     290\n",
            "DRI     290\n",
            "DTE     290\n",
            "DVN     290\n",
            "ED      290\n",
            "EFX     290\n",
            "Name: ticker, dtype: int64\n"
          ]
        }
      ]
    },
    {
      "cell_type": "code",
      "source": [
        "np.unique(df_clean['ticker'])[:10]"
      ],
      "metadata": {
        "id": "tzjI1cNbmPeE",
        "colab": {
          "base_uri": "https://localhost:8080/"
        },
        "outputId": "4fddbe84-f9de-4783-d25d-b8697f763273"
      },
      "execution_count": null,
      "outputs": [
        {
          "output_type": "execute_result",
          "data": {
            "text/plain": [
              "array(['A', 'ABC', 'ABT', 'ADI', 'ADM', 'ADP', 'AEP', 'AES', 'AFG', 'AIG'],\n",
              "      dtype=object)"
            ]
          },
          "metadata": {},
          "execution_count": 133
        }
      ]
    },
    {
      "cell_type": "code",
      "source": [
        "df_clean.drop_duplicates(subset='ticker').sector.value_counts()"
      ],
      "metadata": {
        "colab": {
          "base_uri": "https://localhost:8080/"
        },
        "id": "HDeT_nhTIZhy",
        "outputId": "ce93e309-0d0e-4840-d2da-6c6ee328f4fa"
      },
      "execution_count": null,
      "outputs": [
        {
          "output_type": "execute_result",
          "data": {
            "text/plain": [
              "Industrials                    32\n",
              "Financials                     31\n",
              "Consumer Services              30\n",
              "Consumer Goods                 27\n",
              "Healthcare                     21\n",
              "Technology                     15\n",
              "Energy                         14\n",
              "Utilities                      12\n",
              "Basic Materials                11\n",
              "Telecommunications Services     1\n",
              "Name: sector, dtype: int64"
            ]
          },
          "metadata": {},
          "execution_count": 134
        }
      ]
    },
    {
      "cell_type": "markdown",
      "source": [
        "# Data analysis"
      ],
      "metadata": {
        "id": "JNZ5kAblSy5j"
      }
    },
    {
      "cell_type": "markdown",
      "source": [
        "Here are the histograms of the data."
      ],
      "metadata": {
        "id": "jk_znBJoVQyT"
      }
    },
    {
      "cell_type": "code",
      "source": [
        "_ = df_clean['sent'].hist(bins=100)"
      ],
      "metadata": {
        "colab": {
          "base_uri": "https://localhost:8080/",
          "height": 265
        },
        "id": "bRn1C5qHY2YI",
        "outputId": "38ba9296-d104-40bc-a6be-cdae94e97ebe"
      },
      "execution_count": null,
      "outputs": [
        {
          "output_type": "display_data",
          "data": {
            "text/plain": [
              "<Figure size 432x288 with 1 Axes>"
            ],
            "image/png": "[encoded data removed]"
          },
          "metadata": {
            "needs_background": "light"
          }
        }
      ]
    },
    {
      "cell_type": "markdown",
      "source": [
        "Note that zero is the default value if there's no news"
      ],
      "metadata": {
        "id": "zWsTr27qY8Vw"
      }
    },
    {
      "cell_type": "code",
      "source": [
        "_ = df_clean['art_count'].hist(bins=100)"
      ],
      "metadata": {
        "colab": {
          "base_uri": "https://localhost:8080/",
          "height": 265
        },
        "id": "pY0yrdHGYm8q",
        "outputId": "f03bfa9f-72d8-4ada-e166-21132b592eef"
      },
      "execution_count": null,
      "outputs": [
        {
          "output_type": "display_data",
          "data": {
            "text/plain": [
              "<Figure size 432x288 with 1 Axes>"
            ],
            "image/png": "[encoded data removed]"
          },
          "metadata": {
            "needs_background": "light"
          }
        }
      ]
    },
    {
      "cell_type": "code",
      "source": [
        "_ = df_clean[df_clean['art_count'] < 400]['art_count'].hist(bins=100)"
      ],
      "metadata": {
        "colab": {
          "base_uri": "https://localhost:8080/",
          "height": 265
        },
        "id": "DxE5pcaFZtxv",
        "outputId": "988f0d3b-3c03-41dd-fdf7-02940f04138e"
      },
      "execution_count": null,
      "outputs": [
        {
          "output_type": "display_data",
          "data": {
            "text/plain": [
              "<Figure size 432x288 with 1 Axes>"
            ],
            "image/png": "[encoded data removed]"
          },
          "metadata": {
            "needs_background": "light"
          }
        }
      ]
    },
    {
      "cell_type": "code",
      "source": [
        "_ = df_clean['count_med'].hist(bins=100)"
      ],
      "metadata": {
        "colab": {
          "base_uri": "https://localhost:8080/",
          "height": 265
        },
        "id": "Ik5JsIWXYt46",
        "outputId": "c5b57f21-6cee-45bc-c741-46ba44ea7751"
      },
      "execution_count": null,
      "outputs": [
        {
          "output_type": "display_data",
          "data": {
            "text/plain": [
              "<Figure size 432x288 with 1 Axes>"
            ],
            "image/png": "[encoded data removed]"
          },
          "metadata": {
            "needs_background": "light"
          }
        }
      ]
    },
    {
      "cell_type": "code",
      "source": [
        "_ = df_clean['PRC'].hist(bins=100)"
      ],
      "metadata": {
        "colab": {
          "base_uri": "https://localhost:8080/",
          "height": 267
        },
        "id": "loOmSa9fZSyO",
        "outputId": "ec8f0819-5764-419f-f4b9-f4167bd9436a"
      },
      "execution_count": null,
      "outputs": [
        {
          "output_type": "display_data",
          "data": {
            "text/plain": [
              "<Figure size 432x288 with 1 Axes>"
            ],
            "image/png": "[encoded data removed]"
          },
          "metadata": {
            "needs_background": "light"
          }
        }
      ]
    },
    {
      "cell_type": "code",
      "source": [
        "_ = df_clean[df_clean['PRC'] < 600]['PRC'].hist(bins=100)"
      ],
      "metadata": {
        "colab": {
          "base_uri": "https://localhost:8080/",
          "height": 265
        },
        "id": "1SpSvOaDZlzn",
        "outputId": "1c79ab0d-c939-4e8a-bb82-750858dc8f34"
      },
      "execution_count": null,
      "outputs": [
        {
          "output_type": "display_data",
          "data": {
            "text/plain": [
              "<Figure size 432x288 with 1 Axes>"
            ],
            "image/png": "[encoded data removed]"
          },
          "metadata": {
            "needs_background": "light"
          }
        }
      ]
    },
    {
      "cell_type": "code",
      "source": [
        "_ = df_clean['PRC_diff'].hist(bins=1000)"
      ],
      "metadata": {
        "colab": {
          "base_uri": "https://localhost:8080/",
          "height": 265
        },
        "id": "NQZIUTFCa1WF",
        "outputId": "1affef5c-d72e-4798-b5d1-0389cc758521"
      },
      "execution_count": null,
      "outputs": [
        {
          "output_type": "display_data",
          "data": {
            "text/plain": [
              "<Figure size 432x288 with 1 Axes>"
            ],
            "image/png": "[encoded data removed]"
          },
          "metadata": {
            "needs_background": "light"
          }
        }
      ]
    },
    {
      "cell_type": "code",
      "source": [
        "_ = df_clean[(df_clean['PRC_diff'] < 0.4) & (df_clean['PRC_diff'] > -0.4)]['PRC_diff'].hist(bins=100)"
      ],
      "metadata": {
        "colab": {
          "base_uri": "https://localhost:8080/",
          "height": 265
        },
        "id": "OTLwjG1-aqHR",
        "outputId": "1e5da5dc-66f1-4b92-fe0c-de248063f574"
      },
      "execution_count": null,
      "outputs": [
        {
          "output_type": "display_data",
          "data": {
            "text/plain": [
              "<Figure size 432x288 with 1 Axes>"
            ],
            "image/png": "[encoded data removed]"
          },
          "metadata": {
            "needs_background": "light"
          }
        }
      ]
    },
    {
      "cell_type": "code",
      "source": [
        "alp = 0.005\n",
        "pd_series = df_clean['PRC_diff']\n",
        "pd_series_adjusted = pd_series[pd_series.between(pd_series.quantile(alp), pd_series.quantile(1-alp))]\n",
        "_ = pd_series_adjusted.hist(bins=100)"
      ],
      "metadata": {
        "colab": {
          "base_uri": "https://localhost:8080/",
          "height": 265
        },
        "id": "1yG-BAvCbtEZ",
        "outputId": "a8d4f3fc-fcac-4de8-c625-16cf159cb8fc"
      },
      "execution_count": null,
      "outputs": [
        {
          "output_type": "display_data",
          "data": {
            "text/plain": [
              "<Figure size 432x288 with 1 Axes>"
            ],
            "image/png": "[encoded data removed]"
          },
          "metadata": {
            "needs_background": "light"
          }
        }
      ]
    },
    {
      "cell_type": "code",
      "source": [
        "_ = df_clean['ParSpread'].hist(bins=100)"
      ],
      "metadata": {
        "colab": {
          "base_uri": "https://localhost:8080/",
          "height": 265
        },
        "id": "aQvB1OPRcElu",
        "outputId": "58c2be1c-95cb-441f-bb07-749c06da2a65"
      },
      "execution_count": null,
      "outputs": [
        {
          "output_type": "display_data",
          "data": {
            "text/plain": [
              "<Figure size 432x288 with 1 Axes>"
            ],
            "image/png": "[encoded data removed]"
          },
          "metadata": {
            "needs_background": "light"
          }
        }
      ]
    },
    {
      "cell_type": "code",
      "source": [
        "alp = 0.005\n",
        "pd_series = df_clean['ParSpread']\n",
        "pd_series_adjusted = pd_series[pd_series.between(min([pd_series.quantile(alp),0]), pd_series.quantile(1-alp))]\n",
        "_ = pd_series_adjusted.hist(bins=100)\n",
        "print(min(pd_series_adjusted))"
      ],
      "metadata": {
        "colab": {
          "base_uri": "https://localhost:8080/",
          "height": 283
        },
        "id": "z8A10K87ccOm",
        "outputId": "574ce202-808e-4720-e3f9-78a6c7bb654f"
      },
      "execution_count": null,
      "outputs": [
        {
          "output_type": "stream",
          "name": "stdout",
          "text": [
            "0.00109673\n"
          ]
        },
        {
          "output_type": "display_data",
          "data": {
            "text/plain": [
              "<Figure size 432x288 with 1 Axes>"
            ],
            "image/png": "[encoded data removed]"
          },
          "metadata": {
            "needs_background": "light"
          }
        }
      ]
    },
    {
      "cell_type": "code",
      "source": [
        "_ = df_clean['Par_diff'].hist(bins=100)"
      ],
      "metadata": {
        "colab": {
          "base_uri": "https://localhost:8080/",
          "height": 265
        },
        "id": "O4z4Z35YcEsj",
        "outputId": "250f554c-faf4-4dd0-8737-33f4db4c4240"
      },
      "execution_count": null,
      "outputs": [
        {
          "output_type": "display_data",
          "data": {
            "text/plain": [
              "<Figure size 432x288 with 1 Axes>"
            ],
            "image/png": "[encoded data removed]"
          },
          "metadata": {
            "needs_background": "light"
          }
        }
      ]
    },
    {
      "cell_type": "code",
      "source": [
        "alp = 0.005\n",
        "pd_series = df_clean['Par_diff']\n",
        "pd_series_adjusted = pd_series[pd_series.between(min([pd_series.quantile(alp),0]), pd_series.quantile(1-alp))]\n",
        "_ = pd_series_adjusted.hist(bins=100)"
      ],
      "metadata": {
        "colab": {
          "base_uri": "https://localhost:8080/",
          "height": 265
        },
        "id": "GgYiKJoCdeW7",
        "outputId": "1a121158-8d7c-40de-a375-fdc7ed9301c5"
      },
      "execution_count": null,
      "outputs": [
        {
          "output_type": "display_data",
          "data": {
            "text/plain": [
              "<Figure size 432x288 with 1 Axes>"
            ],
            "image/png": "[encoded data removed]"
          },
          "metadata": {
            "needs_background": "light"
          }
        }
      ]
    },
    {
      "cell_type": "code",
      "source": [
        "_ = df_clean['svi'].hist(bins=100)"
      ],
      "metadata": {
        "colab": {
          "base_uri": "https://localhost:8080/",
          "height": 265
        },
        "id": "x6oplctteraR",
        "outputId": "e58266f4-5c64-49d1-8356-689762ec0875"
      },
      "execution_count": null,
      "outputs": [
        {
          "output_type": "display_data",
          "data": {
            "text/plain": [
              "<Figure size 432x288 with 1 Axes>"
            ],
            "image/png": "[encoded data removed]"
          },
          "metadata": {
            "needs_background": "light"
          }
        }
      ]
    },
    {
      "cell_type": "code",
      "source": [
        "_ = df_clean['svi_med'].hist(bins=100)"
      ],
      "metadata": {
        "colab": {
          "base_uri": "https://localhost:8080/",
          "height": 265
        },
        "id": "QpLL3jXSeyVH",
        "outputId": "fa8c7a59-3af8-4063-85a8-badc97651621"
      },
      "execution_count": null,
      "outputs": [
        {
          "output_type": "display_data",
          "data": {
            "text/plain": [
              "<Figure size 432x288 with 1 Axes>"
            ],
            "image/png": "[encoded data removed]"
          },
          "metadata": {
            "needs_background": "light"
          }
        }
      ]
    },
    {
      "cell_type": "code",
      "source": [
        "_ = df_clean['vol'].hist(bins=100)"
      ],
      "metadata": {
        "colab": {
          "base_uri": "https://localhost:8080/",
          "height": 278
        },
        "id": "n6fit5rqfbo2",
        "outputId": "00864d61-ae90-4960-eef6-cf83ec8f3676"
      },
      "execution_count": null,
      "outputs": [
        {
          "output_type": "display_data",
          "data": {
            "text/plain": [
              "<Figure size 432x288 with 1 Axes>"
            ],
            "image/png": "[encoded data removed]"
          },
          "metadata": {
            "needs_background": "light"
          }
        }
      ]
    },
    {
      "cell_type": "code",
      "source": [
        "alp = 0.005\n",
        "pd_series = df_clean['vol']\n",
        "pd_series_adjusted = pd_series[pd_series.between(min([pd_series.quantile(alp),0]), pd_series.quantile(1-alp))]\n",
        "_ = pd_series_adjusted.hist(bins=100)"
      ],
      "metadata": {
        "colab": {
          "base_uri": "https://localhost:8080/",
          "height": 278
        },
        "id": "vJgCX9hygEmY",
        "outputId": "29ed88a2-b18a-4add-aa1b-38e1f8a91c2d"
      },
      "execution_count": null,
      "outputs": [
        {
          "output_type": "display_data",
          "data": {
            "text/plain": [
              "<Figure size 432x288 with 1 Axes>"
            ],
            "image/png": "[encoded data removed]"
          },
          "metadata": {
            "needs_background": "light"
          }
        }
      ]
    },
    {
      "cell_type": "code",
      "source": [
        "_ = df_clean['vol_diff'].hist(bins=100)"
      ],
      "metadata": {
        "colab": {
          "base_uri": "https://localhost:8080/",
          "height": 265
        },
        "id": "n1kezuFagN1z",
        "outputId": "57e72157-3512-442f-e58b-343e040ea66a"
      },
      "execution_count": null,
      "outputs": [
        {
          "output_type": "display_data",
          "data": {
            "text/plain": [
              "<Figure size 432x288 with 1 Axes>"
            ],
            "image/png": "[encoded data removed]"
          },
          "metadata": {
            "needs_background": "light"
          }
        }
      ]
    },
    {
      "cell_type": "code",
      "source": [
        "#.tight_layout()\n",
        "_ = df_clean[['svi_med', 'PRC_diff',\t'Par_diff', 'vol_diff', 'sent', 'count_med']].hist(layout=(2,3), bins=100, figsize=(12,6))\n"
      ],
      "metadata": {
        "colab": {
          "base_uri": "https://localhost:8080/",
          "height": 390
        },
        "id": "55lNN7tGARV6",
        "outputId": "6841c3d9-c862-4845-e436-8979eaec57a9"
      },
      "execution_count": null,
      "outputs": [
        {
          "output_type": "display_data",
          "data": {
            "text/plain": [
              "<Figure size 864x432 with 6 Axes>"
            ],
            "image/png": "[encoded data removed]"
          },
          "metadata": {
            "needs_background": "light"
          }
        }
      ]
    },
    {
      "cell_type": "code",
      "source": [
        "_ = df_clean[['svi', 'PRC',\t'ParSpread', 'vol', 'sent', 'art_count']].hist(layout=(2,3), bins=100, figsize=(12,6))"
      ],
      "metadata": {
        "colab": {
          "base_uri": "https://localhost:8080/",
          "height": 403
        },
        "id": "-J6xznVdDTjC",
        "outputId": "6b71fb56-74ca-440c-b6e9-8a337d0a1ca3"
      },
      "execution_count": null,
      "outputs": [
        {
          "output_type": "display_data",
          "data": {
            "text/plain": [
              "<Figure size 864x432 with 6 Axes>"
            ],
            "image/png": "[encoded data removed]"
          },
          "metadata": {
            "needs_background": "light"
          }
        }
      ]
    },
    {
      "cell_type": "code",
      "source": [],
      "metadata": {
        "id": "STVXWmR3fbsY"
      },
      "execution_count": null,
      "outputs": []
    },
    {
      "cell_type": "code",
      "source": [],
      "metadata": {
        "id": "Qg_wQW9tfbv1"
      },
      "execution_count": null,
      "outputs": []
    },
    {
      "cell_type": "code",
      "source": [],
      "metadata": {
        "id": "KZEG6HYBY0ci"
      },
      "execution_count": null,
      "outputs": []
    },
    {
      "cell_type": "code",
      "source": [],
      "metadata": {
        "id": "VcRaNt64Uc0x"
      },
      "execution_count": null,
      "outputs": []
    },
    {
      "cell_type": "markdown",
      "source": [
        "# Panel Data Code"
      ],
      "metadata": {
        "id": "IwX_Zm4OUgn6"
      }
    },
    {
      "cell_type": "markdown",
      "source": [
        "This is the code I used for the stats. There are no good packages for panel data in python, so I needed to do this all in numpy. "
      ],
      "metadata": {
        "id": "7fYiB3ItS7NW"
      }
    },
    {
      "cell_type": "code",
      "source": [
        "def get_DH_z_vals(y_arr, P, y_loc=0, x_loc=2):\n",
        "  '''\n",
        "  This runs the DH test. \n",
        "  '''\n",
        "  (M,N,T,K) = y_arr.shape\n",
        "  Ti = T - P\n",
        "  y_t = y_arr[:,:,P:(Ti+P),y_loc:(y_loc+1)]\n",
        "  y_vals = np.array([y_arr[:,:,i:i+P,y_loc] for i in range(Ti)]).transpose((1,2,0,3)) \n",
        "  x_vals = np.array([y_arr[:,:,i:i+P,x_loc] for i in range(Ti)]).transpose((1,2,0,3))\n",
        "  z_vals = np.concatenate((np.ones((M,N,Ti,1)),y_vals,x_vals), axis=3)\n",
        "  R_arr = np.eye(P,2*P+1,P+1)\n",
        "  R_T = R_arr.transpose()\n",
        "  z_T = z_vals.transpose((0,1,3,2))\n",
        "  z_var_inv = np.linalg.inv(z_T @  z_vals)\n",
        "  coefs = z_var_inv @ z_T @ y_t\n",
        "  coefs_T = coefs.transpose(0,1,3,2)\n",
        "  e_hat = y_t - z_vals @ coefs\n",
        "  sig_hat = e_hat.transpose(0,1,3,2) @ e_hat * (Ti-2*P-1)**(-1)\n",
        "  W_i = coefs_T @ R_T @ np.linalg.inv(sig_hat * (R_arr @ z_var_inv @ R_T)) @ R_arr @ coefs\n",
        "  W_bar = np.mean(W_i, axis=(1,2,3))\n",
        "  a = np.sqrt(N/(2*P)*(Ti-2*P-5)/(Ti-P-3))\n",
        "  b = (Ti-2*P-3)/(Ti-2*P-1)\n",
        "  Z_tild = a * (b * W_bar - P)\n",
        "  return (Z_tild,W_i, e_hat)\n",
        "\n"
      ],
      "metadata": {
        "id": "7I_YjW5_Ve7S"
      },
      "execution_count": null,
      "outputs": []
    },
    {
      "cell_type": "code",
      "source": [
        "def bootstrap_DH(y_arr, P, y_loc=0, x_loc=2, bs_i=100, rng=np.random.default_rng()):\n",
        "  '''\n",
        "  This is a bootstrap ver of the DH test.\n",
        "  '''\n",
        "  (M,N,T,K) = y_arr.shape\n",
        "  Ti = T - P\n",
        "  Z_tild_hat = get_DH_z_vals(y_arr,P=P, y_loc=y_loc, x_loc=x_loc)[0]\n",
        "  y_t = y_arr[:,:,P:(Ti+P),y_loc:(y_loc+1)]\n",
        "  x_t = y_arr[:,:,P:(Ti+P),x_loc:(x_loc+1)]\n",
        "  y_vals = np.array([y_arr[:,:,i:i+P,y_loc] for i in range(Ti)]).transpose((1,2,0,3)) \n",
        "  x_vals = np.array([y_arr[:,:,i:i+P,x_loc] for i in range(Ti)]).transpose((1,2,0,3))\n",
        "  #print(x_vals.shape)\n",
        "  z_vals = np.concatenate((np.ones((M,N,Ti,1)),y_vals,x_vals), axis=3)\n",
        "  z_T = z_vals.transpose((0,1,3,2))\n",
        "  z_var_inv = np.linalg.inv(z_T @  z_vals)\n",
        "  coefs_ols = z_var_inv @ z_T @ y_t\n",
        "  R_arr = np.eye(P,2*P+1,P+1)\n",
        "  R_T = R_arr.transpose()\n",
        "  coefs_rs = coefs_ols - z_var_inv @ R_T @ np.linalg.inv(R_arr @ z_var_inv @ R_T) @ R_arr @ coefs_ols \n",
        "\n",
        "  y_hat = z_vals @ coefs_rs \n",
        "  e_raw = y_t - y_hat\n",
        "  e_bar = e_raw.mean(axis=2)\n",
        "  e_hat = e_raw - e_bar[:,:,None,:] \n",
        "\n",
        "\n",
        "  Z_res = []\n",
        "  y_star = y_arr[:,:,P:].copy()\n",
        "  y_star[:,:,:,x_loc:(x_loc+1)] = rng.permuted(y_star[:,:,:,x_loc:(x_loc+1)] , axis=2) #this makes sure the null hyp is true\n",
        "  for _ in  tqdm(range(bs_i)):\n",
        "    e_star = rng.choice(e_hat, size=e_hat.shape[2], axis=2)\n",
        "    y_star[:,:,:,y_loc:(y_loc+1)] = y_hat + e_star\n",
        "    Z_star = get_DH_z_vals(y_star,P=P, y_loc=y_loc, x_loc=x_loc)[0]\n",
        "    Z_res.append(Z_star)\n",
        "  \n",
        "  res = (Z_tild_hat,Z_res, e_hat, y_star, coefs_rs)\n",
        "\n",
        "  return res"
      ],
      "metadata": {
        "id": "4mlLzT3uVmYo"
      },
      "execution_count": null,
      "outputs": []
    },
    {
      "cell_type": "code",
      "source": [
        "def get_ll_test_stat_2(y_arr, P, y_loc=0, x_loc=2, w_loc=1):\n",
        "'''\n",
        "  This gets the mean test stat used in the three var case\n",
        "  '''\n",
        "  (M,N,T,K) = y_arr.shape\n",
        "  Ti = T - P\n",
        "  y_t = y_arr[:,:,P:(Ti+P),y_loc:(y_loc+1)].copy()\n",
        "  y_vals = np.array([y_arr[:,:,i:i+P,y_loc] for i in range(Ti)]).transpose((1,2,0,3)) \n",
        "  x_vals = np.array([y_arr[:,:,i:i+P,x_loc] for i in range(Ti)]).transpose((1,2,0,3))\n",
        "  w_vals = np.array([y_arr[:,:,i:i+P,w_loc] for i in range(Ti)]).transpose((1,2,0,3))\n",
        "  z_f = np.concatenate((np.ones((M,N,Ti,1)),y_vals,w_vals, x_vals), axis=3)\n",
        "  z_r = np.concatenate((np.ones((M,N,Ti,1)),y_vals,w_vals), axis=3)\n",
        "  z_f_T = z_f.transpose((0,1,3,2))\n",
        "  z_r_T = z_r.transpose((0,1,3,2))\n",
        "\n",
        "  z_f_inv = np.linalg.inv(z_f_T @  z_f)\n",
        "  z_r_inv = np.linalg.inv(z_r_T @  z_r)\n",
        "  coefs_f = z_f_inv @ z_f_T @ y_t\n",
        "\n",
        "  coefs_r = z_r_inv @ z_r_T @ y_t\n",
        "  e_f_hat = y_t - z_f @ coefs_f\n",
        "  e_r_hat = y_t - z_r @ coefs_r\n",
        "  sig_f_hat = e_f_hat.transpose(0,1,3,2) @ e_f_hat \n",
        "  sig_r_hat = e_r_hat.transpose(0,1,3,2) @ e_r_hat \n",
        "\n",
        "  F_i = (-np.log(sig_r_hat) +np.log(sig_f_hat))\n",
        "  d1 = P/2\n",
        "  d2 =  (Ti - 2*P)/2\n",
        "  W_i = (1 - np.exp(F_i)) # This should roughly follow a beta dist\n",
        "  W_bar = np.mean(W_i, axis=(1,2,3))\n",
        "  z_mean = d1/(d1+d2)\n",
        "  z_var = (d1*d2)/((d1+d2)**2*(d1+d2+1))\n",
        "  z_se = (z_var/N)**(0.5)\n",
        "  Z_tild = 1/z_se * (W_bar - z_mean) #scale it to make it easier to read\n",
        "  return (Z_tild,W_i, e_f_hat, e_r_hat)"
      ],
      "metadata": {
        "id": "KJW4N_VrAeZs"
      },
      "execution_count": null,
      "outputs": []
    },
    {
      "cell_type": "code",
      "source": [
        "def bootstrap_LL_2(y_arr, P, y_loc=0, x_loc=2, w_loc=1, bs_i=100, rng=np.random.default_rng()):\n",
        "  '''\n",
        "  Bootstrap method used in paper\n",
        "  '''\n",
        "  (M,N,T,K) = y_arr.shape\n",
        "  Ti = T - P\n",
        "  Z_tild_hat = get_ll_test_stat(y_arr,P=P, y_loc=y_loc, x_loc=x_loc, w_loc=w_loc)[0]\n",
        "  y_t = y_arr[:,:,P:(Ti+P),y_loc:(y_loc+1)]\n",
        "  x_t = y_arr[:,:,P:(Ti+P),x_loc:(x_loc+1)]\n",
        "  w_t = y_arr[:,:,P:(Ti+P),w_loc:(w_loc+1)]\n",
        "  y_vals = np.array([y_arr[:,:,i:i+P,y_loc] for i in range(Ti)]).transpose((1,2,0,3)) \n",
        "  x_vals = np.array([y_arr[:,:,i:i+P,x_loc] for i in range(Ti)]).transpose((1,2,0,3))\n",
        "  w_vals = np.array([y_arr[:,:,i:i+P,w_loc] for i in range(Ti)]).transpose((1,2,0,3))\n",
        "\n",
        "  z_vals = np.concatenate((np.ones((M,N,Ti,1)),y_vals,w_vals,x_vals), axis=3)\n",
        "  z_T = z_vals.transpose((0,1,3,2))\n",
        "  z_var_inv = np.linalg.inv(z_T @  z_vals)\n",
        "  coefs_ols = z_var_inv @ z_T @ y_t\n",
        "  R_arr = np.eye(P,3*P+1,2*P+1)\n",
        "  R_T = R_arr.transpose()\n",
        "  coefs_rs = coefs_ols - z_var_inv @ R_T @ np.linalg.inv(R_arr @ z_var_inv @ R_T) @ R_arr @ coefs_ols \n",
        "  y_hat = z_vals @ coefs_rs \n",
        "  e_raw = y_t - y_hat\n",
        "  e_bar = e_raw.mean(axis=2)\n",
        "  e_hat = e_raw - e_bar[:,:,None,:] \n",
        "  \n",
        "  Z_res = []\n",
        "  y_star = y_arr[:,:,P:].copy()\n",
        "  y_star[:,:,:,x_loc:(x_loc+1)] = rng.permuted(y_star[:,:,:,x_loc:(x_loc+1)] , axis=2) #this makes sure the null hyp is true\n",
        "  for _ in  tqdm(range(bs_i),desc='LL_test',position=0):\n",
        "    e_star = rng.choice(e_hat, size=e_hat.shape[2], axis=2)\n",
        "    y_star[:,:,:,y_loc:(y_loc+1)] = y_hat + e_star\n",
        "    Z_star = get_ll_test_stat(y_star,P=P, y_loc=y_loc, x_loc=x_loc, w_loc=w_loc)[0]\n",
        "    Z_res.append(Z_star)\n",
        "  \n",
        "  res = (Z_tild_hat,Z_res, e_hat, y_star, coefs_rs)\n",
        "\n",
        "  return res"
      ],
      "metadata": {
        "id": "tqfJiyuMHA29"
      },
      "execution_count": null,
      "outputs": []
    },
    {
      "cell_type": "code",
      "source": [
        "df_clean"
      ],
      "metadata": {
        "id": "GAwO2CmIU0pX",
        "colab": {
          "base_uri": "https://localhost:8080/",
          "height": 661
        },
        "outputId": "3cea6a66-8887-45d3-c532-d0d2680132c8"
      },
      "execution_count": null,
      "outputs": [
        {
          "output_type": "execute_result",
          "data": {
            "text/plain": [
              "      ticker       date        svi      PRC  market_cap_mean         vol  \\\n",
              "67         A 2016-09-18   0.000000   45.148     1.747404e+07  2245778.60   \n",
              "68         A 2016-09-25   0.000000   45.996     1.747404e+07  1827572.80   \n",
              "69         A 2016-10-02   0.000000   46.790     1.747404e+07  1884254.00   \n",
              "70         A 2016-10-09  17.000000   47.160     1.747404e+07  1634361.20   \n",
              "71         A 2016-10-16  15.000000   45.818     1.747404e+07  1705346.20   \n",
              "...      ...        ...        ...      ...              ...         ...   \n",
              "83075    YUM 2022-03-06  49.066310  120.606     2.154346e+07  1667732.80   \n",
              "83076    YUM 2022-03-13  55.358160  115.328     2.154346e+07  2196543.80   \n",
              "83077    YUM 2022-03-20  36.892939  117.728     2.154346e+07  2416518.80   \n",
              "83078    YUM 2022-03-27  46.384245  118.498     2.154346e+07  1604409.60   \n",
              "83079    YUM 2022-04-03  37.000000  120.695     2.154346e+07  2232057.75   \n",
              "\n",
              "       td_count     vol_sum  ParSpread    sent  ...  svi_diff   svi_med  \\\n",
              "67            5  11228893.0   0.008125  0.2598  ... -3.486355 -3.081570   \n",
              "68            5   9137864.0   0.008655  0.3046  ...  0.000000 -3.081570   \n",
              "69            5   9421270.0   0.008422  0.4588  ...  0.000000 -3.081570   \n",
              "70            5   8171806.0   0.008056 -0.0165  ...  2.890372 -0.125971   \n",
              "71            5   8526731.0   0.008631  0.2301  ... -0.117783 -0.178728   \n",
              "...         ...         ...        ...     ...  ...       ...       ...   \n",
              "83075         5   8338664.0   0.015166 -0.1807  ...  0.090002  0.076109   \n",
              "83076         5  10982719.0   0.016846  0.0268  ...  0.118379  0.149487   \n",
              "83077         5  12082594.0   0.017058  0.2055  ... -0.396962 -0.330047   \n",
              "83078         5   8022048.0   0.016272  0.1121  ...  0.223525 -0.023951   \n",
              "83079         4   8928231.0   0.015794  0.3444  ... -0.220704 -0.248233   \n",
              "\n",
              "       count_diff  count_med  PRC_diff  Par_diff  vol_diff  vol_sum_diff  \\\n",
              "67       0.485508   1.067083 -0.029291 -0.159956  0.339790      0.562933   \n",
              "68      -0.167054   0.620221  0.018608  0.063169 -0.206064     -0.206064   \n",
              "69      -1.011601  -0.626381  0.017115 -0.027292  0.030543      0.030543   \n",
              "70       0.223144  -0.235002  0.007877 -0.044475 -0.142280     -0.142280   \n",
              "71       0.470004   0.470004 -0.028869  0.068952  0.042516      0.042516   \n",
              "...           ...        ...       ...       ...       ...           ...   \n",
              "83075    0.929536   0.260284 -0.017091  0.017127 -0.191900      0.031244   \n",
              "83076   -0.305382  -0.045098 -0.044749  0.105043  0.275420      0.275420   \n",
              "83077   -0.287682  -0.369834  0.020597  0.012535  0.095443      0.095443   \n",
              "83078    0.174353  -0.195480  0.006519 -0.047165 -0.409572     -0.409572   \n",
              "83079   -0.223144  -0.279808  0.018371 -0.029815  0.330168      0.107025   \n",
              "\n",
              "       time_idx  year  \n",
              "67            0  2016  \n",
              "68            1  2016  \n",
              "69            2  2016  \n",
              "70            3  2016  \n",
              "71            4  2016  \n",
              "...         ...   ...  \n",
              "83075       285  2022  \n",
              "83076       286  2022  \n",
              "83077       287  2022  \n",
              "83078       288  2022  \n",
              "83079       289  2022  \n",
              "\n",
              "[56260 rows x 22 columns]"
            ],
            "text/html": [
              "\n",
              "  <div id=\"df-4a5a6ea5-39f5-4491-9352-9a49fccb1284\">\n",
              "    <div class=\"colab-df-container\">\n",
              "      <div>\n",
              "<style scoped>\n",
              "    .dataframe tbody tr th:only-of-type {\n",
              "        vertical-align: middle;\n",
              "    }\n",
              "\n",
              "    .dataframe tbody tr th {\n",
              "        vertical-align: top;\n",
              "    }\n",
              "\n",
              "    .dataframe thead th {\n",
              "        text-align: right;\n",
              "    }\n",
              "</style>\n",
              "<table border=\"1\" class=\"dataframe\">\n",
              "  <thead>\n",
              "    <tr style=\"text-align: right;\">\n",
              "      <th></th>\n",
              "      <th>ticker</th>\n",
              "      <th>date</th>\n",
              "      <th>svi</th>\n",
              "      <th>PRC</th>\n",
              "      <th>market_cap_mean</th>\n",
              "      <th>vol</th>\n",
              "      <th>td_count</th>\n",
              "      <th>vol_sum</th>\n",
              "      <th>ParSpread</th>\n",
              "      <th>sent</th>\n",
              "      <th>...</th>\n",
              "      <th>svi_diff</th>\n",
              "      <th>svi_med</th>\n",
              "      <th>count_diff</th>\n",
              "      <th>count_med</th>\n",
              "      <th>PRC_diff</th>\n",
              "      <th>Par_diff</th>\n",
              "      <th>vol_diff</th>\n",
              "      <th>vol_sum_diff</th>\n",
              "      <th>time_idx</th>\n",
              "      <th>year</th>\n",
              "    </tr>\n",
              "  </thead>\n",
              "  <tbody>\n",
              "    <tr>\n",
              "      <th>67</th>\n",
              "      <td>A</td>\n",
              "      <td>2016-09-18</td>\n",
              "      <td>0.000000</td>\n",
              "      <td>45.148</td>\n",
              "      <td>1.747404e+07</td>\n",
              "      <td>2245778.60</td>\n",
              "      <td>5</td>\n",
              "      <td>11228893.0</td>\n",
              "      <td>0.008125</td>\n",
              "      <td>0.2598</td>\n",
              "      <td>...</td>\n",
              "      <td>-3.486355</td>\n",
              "      <td>-3.081570</td>\n",
              "      <td>0.485508</td>\n",
              "      <td>1.067083</td>\n",
              "      <td>-0.029291</td>\n",
              "      <td>-0.159956</td>\n",
              "      <td>0.339790</td>\n",
              "      <td>0.562933</td>\n",
              "      <td>0</td>\n",
              "      <td>2016</td>\n",
              "    </tr>\n",
              "    <tr>\n",
              "      <th>68</th>\n",
              "      <td>A</td>\n",
              "      <td>2016-09-25</td>\n",
              "      <td>0.000000</td>\n",
              "      <td>45.996</td>\n",
              "      <td>1.747404e+07</td>\n",
              "      <td>1827572.80</td>\n",
              "      <td>5</td>\n",
              "      <td>9137864.0</td>\n",
              "      <td>0.008655</td>\n",
              "      <td>0.3046</td>\n",
              "      <td>...</td>\n",
              "      <td>0.000000</td>\n",
              "      <td>-3.081570</td>\n",
              "      <td>-0.167054</td>\n",
              "      <td>0.620221</td>\n",
              "      <td>0.018608</td>\n",
              "      <td>0.063169</td>\n",
              "      <td>-0.206064</td>\n",
              "      <td>-0.206064</td>\n",
              "      <td>1</td>\n",
              "      <td>2016</td>\n",
              "    </tr>\n",
              "    <tr>\n",
              "      <th>69</th>\n",
              "      <td>A</td>\n",
              "      <td>2016-10-02</td>\n",
              "      <td>0.000000</td>\n",
              "      <td>46.790</td>\n",
              "      <td>1.747404e+07</td>\n",
              "      <td>1884254.00</td>\n",
              "      <td>5</td>\n",
              "      <td>9421270.0</td>\n",
              "      <td>0.008422</td>\n",
              "      <td>0.4588</td>\n",
              "      <td>...</td>\n",
              "      <td>0.000000</td>\n",
              "      <td>-3.081570</td>\n",
              "      <td>-1.011601</td>\n",
              "      <td>-0.626381</td>\n",
              "      <td>0.017115</td>\n",
              "      <td>-0.027292</td>\n",
              "      <td>0.030543</td>\n",
              "      <td>0.030543</td>\n",
              "      <td>2</td>\n",
              "      <td>2016</td>\n",
              "    </tr>\n",
              "    <tr>\n",
              "      <th>70</th>\n",
              "      <td>A</td>\n",
              "      <td>2016-10-09</td>\n",
              "      <td>17.000000</td>\n",
              "      <td>47.160</td>\n",
              "      <td>1.747404e+07</td>\n",
              "      <td>1634361.20</td>\n",
              "      <td>5</td>\n",
              "      <td>8171806.0</td>\n",
              "      <td>0.008056</td>\n",
              "      <td>-0.0165</td>\n",
              "      <td>...</td>\n",
              "      <td>2.890372</td>\n",
              "      <td>-0.125971</td>\n",
              "      <td>0.223144</td>\n",
              "      <td>-0.235002</td>\n",
              "      <td>0.007877</td>\n",
              "      <td>-0.044475</td>\n",
              "      <td>-0.142280</td>\n",
              "      <td>-0.142280</td>\n",
              "      <td>3</td>\n",
              "      <td>2016</td>\n",
              "    </tr>\n",
              "    <tr>\n",
              "      <th>71</th>\n",
              "      <td>A</td>\n",
              "      <td>2016-10-16</td>\n",
              "      <td>15.000000</td>\n",
              "      <td>45.818</td>\n",
              "      <td>1.747404e+07</td>\n",
              "      <td>1705346.20</td>\n",
              "      <td>5</td>\n",
              "      <td>8526731.0</td>\n",
              "      <td>0.008631</td>\n",
              "      <td>0.2301</td>\n",
              "      <td>...</td>\n",
              "      <td>-0.117783</td>\n",
              "      <td>-0.178728</td>\n",
              "      <td>0.470004</td>\n",
              "      <td>0.470004</td>\n",
              "      <td>-0.028869</td>\n",
              "      <td>0.068952</td>\n",
              "      <td>0.042516</td>\n",
              "      <td>0.042516</td>\n",
              "      <td>4</td>\n",
              "      <td>2016</td>\n",
              "    </tr>\n",
              "    <tr>\n",
              "      <th>...</th>\n",
              "      <td>...</td>\n",
              "      <td>...</td>\n",
              "      <td>...</td>\n",
              "      <td>...</td>\n",
              "      <td>...</td>\n",
              "      <td>...</td>\n",
              "      <td>...</td>\n",
              "      <td>...</td>\n",
              "      <td>...</td>\n",
              "      <td>...</td>\n",
              "      <td>...</td>\n",
              "      <td>...</td>\n",
              "      <td>...</td>\n",
              "      <td>...</td>\n",
              "      <td>...</td>\n",
              "      <td>...</td>\n",
              "      <td>...</td>\n",
              "      <td>...</td>\n",
              "      <td>...</td>\n",
              "      <td>...</td>\n",
              "      <td>...</td>\n",
              "    </tr>\n",
              "    <tr>\n",
              "      <th>83075</th>\n",
              "      <td>YUM</td>\n",
              "      <td>2022-03-06</td>\n",
              "      <td>49.066310</td>\n",
              "      <td>120.606</td>\n",
              "      <td>2.154346e+07</td>\n",
              "      <td>1667732.80</td>\n",
              "      <td>5</td>\n",
              "      <td>8338664.0</td>\n",
              "      <td>0.015166</td>\n",
              "      <td>-0.1807</td>\n",
              "      <td>...</td>\n",
              "      <td>0.090002</td>\n",
              "      <td>0.076109</td>\n",
              "      <td>0.929536</td>\n",
              "      <td>0.260284</td>\n",
              "      <td>-0.017091</td>\n",
              "      <td>0.017127</td>\n",
              "      <td>-0.191900</td>\n",
              "      <td>0.031244</td>\n",
              "      <td>285</td>\n",
              "      <td>2022</td>\n",
              "    </tr>\n",
              "    <tr>\n",
              "      <th>83076</th>\n",
              "      <td>YUM</td>\n",
              "      <td>2022-03-13</td>\n",
              "      <td>55.358160</td>\n",
              "      <td>115.328</td>\n",
              "      <td>2.154346e+07</td>\n",
              "      <td>2196543.80</td>\n",
              "      <td>5</td>\n",
              "      <td>10982719.0</td>\n",
              "      <td>0.016846</td>\n",
              "      <td>0.0268</td>\n",
              "      <td>...</td>\n",
              "      <td>0.118379</td>\n",
              "      <td>0.149487</td>\n",
              "      <td>-0.305382</td>\n",
              "      <td>-0.045098</td>\n",
              "      <td>-0.044749</td>\n",
              "      <td>0.105043</td>\n",
              "      <td>0.275420</td>\n",
              "      <td>0.275420</td>\n",
              "      <td>286</td>\n",
              "      <td>2022</td>\n",
              "    </tr>\n",
              "    <tr>\n",
              "      <th>83077</th>\n",
              "      <td>YUM</td>\n",
              "      <td>2022-03-20</td>\n",
              "      <td>36.892939</td>\n",
              "      <td>117.728</td>\n",
              "      <td>2.154346e+07</td>\n",
              "      <td>2416518.80</td>\n",
              "      <td>5</td>\n",
              "      <td>12082594.0</td>\n",
              "      <td>0.017058</td>\n",
              "      <td>0.2055</td>\n",
              "      <td>...</td>\n",
              "      <td>-0.396962</td>\n",
              "      <td>-0.330047</td>\n",
              "      <td>-0.287682</td>\n",
              "      <td>-0.369834</td>\n",
              "      <td>0.020597</td>\n",
              "      <td>0.012535</td>\n",
              "      <td>0.095443</td>\n",
              "      <td>0.095443</td>\n",
              "      <td>287</td>\n",
              "      <td>2022</td>\n",
              "    </tr>\n",
              "    <tr>\n",
              "      <th>83078</th>\n",
              "      <td>YUM</td>\n",
              "      <td>2022-03-27</td>\n",
              "      <td>46.384245</td>\n",
              "      <td>118.498</td>\n",
              "      <td>2.154346e+07</td>\n",
              "      <td>1604409.60</td>\n",
              "      <td>5</td>\n",
              "      <td>8022048.0</td>\n",
              "      <td>0.016272</td>\n",
              "      <td>0.1121</td>\n",
              "      <td>...</td>\n",
              "      <td>0.223525</td>\n",
              "      <td>-0.023951</td>\n",
              "      <td>0.174353</td>\n",
              "      <td>-0.195480</td>\n",
              "      <td>0.006519</td>\n",
              "      <td>-0.047165</td>\n",
              "      <td>-0.409572</td>\n",
              "      <td>-0.409572</td>\n",
              "      <td>288</td>\n",
              "      <td>2022</td>\n",
              "    </tr>\n",
              "    <tr>\n",
              "      <th>83079</th>\n",
              "      <td>YUM</td>\n",
              "      <td>2022-04-03</td>\n",
              "      <td>37.000000</td>\n",
              "      <td>120.695</td>\n",
              "      <td>2.154346e+07</td>\n",
              "      <td>2232057.75</td>\n",
              "      <td>4</td>\n",
              "      <td>8928231.0</td>\n",
              "      <td>0.015794</td>\n",
              "      <td>0.3444</td>\n",
              "      <td>...</td>\n",
              "      <td>-0.220704</td>\n",
              "      <td>-0.248233</td>\n",
              "      <td>-0.223144</td>\n",
              "      <td>-0.279808</td>\n",
              "      <td>0.018371</td>\n",
              "      <td>-0.029815</td>\n",
              "      <td>0.330168</td>\n",
              "      <td>0.107025</td>\n",
              "      <td>289</td>\n",
              "      <td>2022</td>\n",
              "    </tr>\n",
              "  </tbody>\n",
              "</table>\n",
              "<p>56260 rows × 22 columns</p>\n",
              "</div>\n",
              "      <button class=\"colab-df-convert\" onclick=\"convertToInteractive('df-4a5a6ea5-39f5-4491-9352-9a49fccb1284')\"\n",
              "              title=\"Convert this dataframe to an interactive table.\"\n",
              "              style=\"display:none;\">\n",
              "        \n",
              "  <svg xmlns=\"http://www.w3.org/2000/svg\" height=\"24px\"viewBox=\"0 0 24 24\"\n",
              "       width=\"24px\">\n",
              "    <path d=\"M0 0h24v24H0V0z\" fill=\"none\"/>\n",
              "    <path d=\"M18.56 5.44l.94 2.06.94-2.06 2.06-.94-2.06-.94-.94-2.06-.94 2.06-2.06.94zm-11 1L8.5 8.5l.94-2.06 2.06-.94-2.06-.94L8.5 2.5l-.94 2.06-2.06.94zm10 10l.94 2.06.94-2.06 2.06-.94-2.06-.94-.94-2.06-.94 2.06-2.06.94z\"/><path d=\"M17.41 7.96l-1.37-1.37c-.4-.4-.92-.59-1.43-.59-.52 0-1.04.2-1.43.59L10.3 9.45l-7.72 7.72c-.78.78-.78 2.05 0 2.83L4 21.41c.39.39.9.59 1.41.59.51 0 1.02-.2 1.41-.59l7.78-7.78 2.81-2.81c.8-.78.8-2.07 0-2.86zM5.41 20L4 18.59l7.72-7.72 1.47 1.35L5.41 20z\"/>\n",
              "  </svg>\n",
              "      </button>\n",
              "      \n",
              "  <style>\n",
              "    .colab-df-container {\n",
              "      display:flex;\n",
              "      flex-wrap:wrap;\n",
              "      gap: 12px;\n",
              "    }\n",
              "\n",
              "    .colab-df-convert {\n",
              "      background-color: #E8F0FE;\n",
              "      border: none;\n",
              "      border-radius: 50%;\n",
              "      cursor: pointer;\n",
              "      display: none;\n",
              "      fill: #1967D2;\n",
              "      height: 32px;\n",
              "      padding: 0 0 0 0;\n",
              "      width: 32px;\n",
              "    }\n",
              "\n",
              "    .colab-df-convert:hover {\n",
              "      background-color: #E2EBFA;\n",
              "      box-shadow: 0px 1px 2px rgba(60, 64, 67, 0.3), 0px 1px 3px 1px rgba(60, 64, 67, 0.15);\n",
              "      fill: #174EA6;\n",
              "    }\n",
              "\n",
              "    [theme=dark] .colab-df-convert {\n",
              "      background-color: #3B4455;\n",
              "      fill: #D2E3FC;\n",
              "    }\n",
              "\n",
              "    [theme=dark] .colab-df-convert:hover {\n",
              "      background-color: #434B5C;\n",
              "      box-shadow: 0px 1px 3px 1px rgba(0, 0, 0, 0.15);\n",
              "      filter: drop-shadow(0px 1px 2px rgba(0, 0, 0, 0.3));\n",
              "      fill: #FFFFFF;\n",
              "    }\n",
              "  </style>\n",
              "\n",
              "      <script>\n",
              "        const buttonEl =\n",
              "          document.querySelector('#df-4a5a6ea5-39f5-4491-9352-9a49fccb1284 button.colab-df-convert');\n",
              "        buttonEl.style.display =\n",
              "          google.colab.kernel.accessAllowed ? 'block' : 'none';\n",
              "\n",
              "        async function convertToInteractive(key) {\n",
              "          const element = document.querySelector('#df-4a5a6ea5-39f5-4491-9352-9a49fccb1284');\n",
              "          const dataTable =\n",
              "            await google.colab.kernel.invokeFunction('convertToInteractive',\n",
              "                                                     [key], {});\n",
              "          if (!dataTable) return;\n",
              "\n",
              "          const docLinkHtml = 'Like what you see? Visit the ' +\n",
              "            '<a target=\"_blank\" href=https://colab.research.google.com/notebooks/data_table.ipynb>data table notebook</a>'\n",
              "            + ' to learn more about interactive tables.';\n",
              "          element.innerHTML = '';\n",
              "          dataTable['output_type'] = 'display_data';\n",
              "          await google.colab.output.renderOutput(dataTable, element);\n",
              "          const docLink = document.createElement('div');\n",
              "          docLink.innerHTML = docLinkHtml;\n",
              "          element.appendChild(docLink);\n",
              "        }\n",
              "      </script>\n",
              "    </div>\n",
              "  </div>\n",
              "  "
            ]
          },
          "metadata": {},
          "execution_count": 141
        }
      ]
    },
    {
      "cell_type": "code",
      "source": [
        "df_clean.columns"
      ],
      "metadata": {
        "colab": {
          "base_uri": "https://localhost:8080/"
        },
        "id": "DdCf1FaXU59M",
        "outputId": "f9a67918-b0c3-49e4-985a-cab8d2fa7a09"
      },
      "execution_count": null,
      "outputs": [
        {
          "output_type": "execute_result",
          "data": {
            "text/plain": [
              "Index(['ticker', 'date', 'svi', 'PRC', 'market_cap_mean', 'vol', 'td_count',\n",
              "       'vol_sum', 'ParSpread', 'sent', 'art_count', 'sector', 'svi_diff',\n",
              "       'svi_med', 'count_diff', 'count_med', 'PRC_diff', 'Par_diff',\n",
              "       'vol_diff', 'vol_sum_diff', 'time_idx', 'year'],\n",
              "      dtype='object')"
            ]
          },
          "metadata": {},
          "execution_count": 142
        }
      ]
    },
    {
      "cell_type": "code",
      "source": [
        "var_list"
      ],
      "metadata": {
        "colab": {
          "base_uri": "https://localhost:8080/"
        },
        "id": "ksG5YPsAU9oT",
        "outputId": "4a32c26e-7c24-43aa-cfc8-072c3158e4a8"
      },
      "execution_count": null,
      "outputs": [
        {
          "output_type": "execute_result",
          "data": {
            "text/plain": [
              "['svi_med', 'PRC_diff', 'Par_diff', 'vol_diff', 'sent', 'count_med']"
            ]
          },
          "metadata": {},
          "execution_count": 143
        }
      ]
    },
    {
      "cell_type": "code",
      "source": [
        "var_list = ['svi_med', 'PRC_diff', 'Par_diff', 'vol_diff', 'sent', 'count_med']"
      ],
      "metadata": {
        "id": "--_nq9Gd8K0f"
      },
      "execution_count": null,
      "outputs": []
    },
    {
      "cell_type": "markdown",
      "source": [
        "I wrote the code with the monte carlo simulation in mind, thus you'll need to insert an axes of length one to the front."
      ],
      "metadata": {
        "id": "_vwfqEBYTov7"
      }
    },
    {
      "cell_type": "code",
      "source": [
        "clean_arr = np.array([df_clean[df_clean['ticker']== val][var_list].values for val in df_clean['ticker'].unique()])[None,...]"
      ],
      "metadata": {
        "id": "HZV9XdjYUobL"
      },
      "execution_count": null,
      "outputs": []
    },
    {
      "cell_type": "code",
      "source": [
        "clean_arr.shape"
      ],
      "metadata": {
        "colab": {
          "base_uri": "https://localhost:8080/"
        },
        "id": "C1n0Pol5VbRj",
        "outputId": "bb2b2b89-d6dd-453b-d970-f9d8acf06104"
      },
      "execution_count": null,
      "outputs": [
        {
          "output_type": "execute_result",
          "data": {
            "text/plain": [
              "(1, 194, 290, 6)"
            ]
          },
          "metadata": {},
          "execution_count": 146
        }
      ]
    },
    {
      "cell_type": "code",
      "source": [
        "dh_test = get_DH_z_vals(clean_arr, 4, y_loc=2, x_loc=0)"
      ],
      "metadata": {
        "id": "f1RaIrVvWBAo"
      },
      "execution_count": null,
      "outputs": []
    },
    {
      "cell_type": "code",
      "source": [
        "dh_test = get_DH_z_vals(clean_arr, 4, y_loc=2, x_loc=5)"
      ],
      "metadata": {
        "id": "y_U_UmZ38SHP"
      },
      "execution_count": null,
      "outputs": []
    },
    {
      "cell_type": "code",
      "source": [
        "dh_test[0]"
      ],
      "metadata": {
        "colab": {
          "base_uri": "https://localhost:8080/"
        },
        "id": "4Zp8d6qb8UwI",
        "outputId": "d78e9906-d1b2-4868-ee4e-1128228af8b0"
      },
      "execution_count": null,
      "outputs": [
        {
          "output_type": "execute_result",
          "data": {
            "text/plain": [
              "array([-1.94083063])"
            ]
          },
          "metadata": {},
          "execution_count": 149
        }
      ]
    },
    {
      "cell_type": "code",
      "source": [
        "yarr = clean_arr\n",
        "P = 6\n",
        "var_n = len(var_list)\n",
        "pg_res = np.zeros((var_n,var_n,2))\n",
        "for i in range(var_n):\n",
        "  for j in range(var_n):\n",
        "    if i==j:\n",
        "      continue\n",
        "    dh_val = get_DH_z_vals(yarr, P, y_loc=i, x_loc=j)[0]\n",
        "    pg_res[i,j,0] = dh_val\n",
        "    #pg_res[i,j,1] = 2*(1-stats.norm.cdf(np.absolute(dh_val)))\n",
        "    pg_res[i,j,1] = (1-stats.norm.cdf(dh_val))\n",
        "\n",
        "\n",
        "\n"
      ],
      "metadata": {
        "id": "RCw0Vxtr_UUf"
      },
      "execution_count": null,
      "outputs": []
    },
    {
      "cell_type": "code",
      "source": [
        "pg_res.shape"
      ],
      "metadata": {
        "colab": {
          "base_uri": "https://localhost:8080/"
        },
        "id": "gZJn2E8eB8Ce",
        "outputId": "bf66d5e8-de24-4803-b367-06466469af17"
      },
      "execution_count": null,
      "outputs": [
        {
          "output_type": "execute_result",
          "data": {
            "text/plain": [
              "(6, 6, 2)"
            ]
          },
          "metadata": {},
          "execution_count": 153
        }
      ]
    },
    {
      "cell_type": "code",
      "source": [
        "pd.DataFrame(pg_res.round(4).tolist(), index=var_list, columns=var_list)"
      ],
      "metadata": {
        "colab": {
          "base_uri": "https://localhost:8080/",
          "height": 237
        },
        "id": "e66LBJn0_2UL",
        "outputId": "89c9d93d-9ec7-4037-bd8a-71ec0e0b0f2a"
      },
      "execution_count": null,
      "outputs": [
        {
          "output_type": "execute_result",
          "data": {
            "text/plain": [
              "                    svi_med           PRC_diff           Par_diff  \\\n",
              "svi_med          [0.0, 0.0]  [-1.7753, 0.9621]   [2.6667, 0.0038]   \n",
              "PRC_diff   [3.5496, 0.0002]         [0.0, 0.0]      [23.872, 0.0]   \n",
              "Par_diff   [3.1352, 0.0009]     [31.0415, 0.0]         [0.0, 0.0]   \n",
              "vol_diff    [264.8042, 0.0]     [15.3182, 0.0]      [8.0457, 0.0]   \n",
              "sent       [2.8948, 0.0019]   [-2.933, 0.9983]  [-0.3895, 0.6516]   \n",
              "count_med      [8.408, 0.0]     [-6.1302, 1.0]   [0.0139, 0.4945]   \n",
              "\n",
              "                    vol_diff              sent          count_med  \n",
              "svi_med        [6.4917, 0.0]  [3.7128, 0.0001]      [6.2165, 0.0]  \n",
              "PRC_diff       [4.1871, 0.0]    [20.7914, 0.0]     [-4.8794, 1.0]  \n",
              "Par_diff       [8.1764, 0.0]     [3.9642, 0.0]  [-2.2626, 0.9882]  \n",
              "vol_diff          [0.0, 0.0]  [2.7574, 0.0029]    [183.0691, 0.0]  \n",
              "sent       [-0.3945, 0.6534]        [0.0, 0.0]      [8.1823, 0.0]  \n",
              "count_med      [6.5133, 0.0]    [15.2538, 0.0]         [0.0, 0.0]  "
            ],
            "text/html": [
              "\n",
              "  <div id=\"df-31bbbda1-073d-4772-afdc-dd11aeff8195\">\n",
              "    <div class=\"colab-df-container\">\n",
              "      <div>\n",
              "<style scoped>\n",
              "    .dataframe tbody tr th:only-of-type {\n",
              "        vertical-align: middle;\n",
              "    }\n",
              "\n",
              "    .dataframe tbody tr th {\n",
              "        vertical-align: top;\n",
              "    }\n",
              "\n",
              "    .dataframe thead th {\n",
              "        text-align: right;\n",
              "    }\n",
              "</style>\n",
              "<table border=\"1\" class=\"dataframe\">\n",
              "  <thead>\n",
              "    <tr style=\"text-align: right;\">\n",
              "      <th></th>\n",
              "      <th>svi_med</th>\n",
              "      <th>PRC_diff</th>\n",
              "      <th>Par_diff</th>\n",
              "      <th>vol_diff</th>\n",
              "      <th>sent</th>\n",
              "      <th>count_med</th>\n",
              "    </tr>\n",
              "  </thead>\n",
              "  <tbody>\n",
              "    <tr>\n",
              "      <th>svi_med</th>\n",
              "      <td>[0.0, 0.0]</td>\n",
              "      <td>[-1.7753, 0.9621]</td>\n",
              "      <td>[2.6667, 0.0038]</td>\n",
              "      <td>[6.4917, 0.0]</td>\n",
              "      <td>[3.7128, 0.0001]</td>\n",
              "      <td>[6.2165, 0.0]</td>\n",
              "    </tr>\n",
              "    <tr>\n",
              "      <th>PRC_diff</th>\n",
              "      <td>[3.5496, 0.0002]</td>\n",
              "      <td>[0.0, 0.0]</td>\n",
              "      <td>[23.872, 0.0]</td>\n",
              "      <td>[4.1871, 0.0]</td>\n",
              "      <td>[20.7914, 0.0]</td>\n",
              "      <td>[-4.8794, 1.0]</td>\n",
              "    </tr>\n",
              "    <tr>\n",
              "      <th>Par_diff</th>\n",
              "      <td>[3.1352, 0.0009]</td>\n",
              "      <td>[31.0415, 0.0]</td>\n",
              "      <td>[0.0, 0.0]</td>\n",
              "      <td>[8.1764, 0.0]</td>\n",
              "      <td>[3.9642, 0.0]</td>\n",
              "      <td>[-2.2626, 0.9882]</td>\n",
              "    </tr>\n",
              "    <tr>\n",
              "      <th>vol_diff</th>\n",
              "      <td>[264.8042, 0.0]</td>\n",
              "      <td>[15.3182, 0.0]</td>\n",
              "      <td>[8.0457, 0.0]</td>\n",
              "      <td>[0.0, 0.0]</td>\n",
              "      <td>[2.7574, 0.0029]</td>\n",
              "      <td>[183.0691, 0.0]</td>\n",
              "    </tr>\n",
              "    <tr>\n",
              "      <th>sent</th>\n",
              "      <td>[2.8948, 0.0019]</td>\n",
              "      <td>[-2.933, 0.9983]</td>\n",
              "      <td>[-0.3895, 0.6516]</td>\n",
              "      <td>[-0.3945, 0.6534]</td>\n",
              "      <td>[0.0, 0.0]</td>\n",
              "      <td>[8.1823, 0.0]</td>\n",
              "    </tr>\n",
              "    <tr>\n",
              "      <th>count_med</th>\n",
              "      <td>[8.408, 0.0]</td>\n",
              "      <td>[-6.1302, 1.0]</td>\n",
              "      <td>[0.0139, 0.4945]</td>\n",
              "      <td>[6.5133, 0.0]</td>\n",
              "      <td>[15.2538, 0.0]</td>\n",
              "      <td>[0.0, 0.0]</td>\n",
              "    </tr>\n",
              "  </tbody>\n",
              "</table>\n",
              "</div>\n",
              "      <button class=\"colab-df-convert\" onclick=\"convertToInteractive('df-31bbbda1-073d-4772-afdc-dd11aeff8195')\"\n",
              "              title=\"Convert this dataframe to an interactive table.\"\n",
              "              style=\"display:none;\">\n",
              "        \n",
              "  <svg xmlns=\"http://www.w3.org/2000/svg\" height=\"24px\"viewBox=\"0 0 24 24\"\n",
              "       width=\"24px\">\n",
              "    <path d=\"M0 0h24v24H0V0z\" fill=\"none\"/>\n",
              "    <path d=\"M18.56 5.44l.94 2.06.94-2.06 2.06-.94-2.06-.94-.94-2.06-.94 2.06-2.06.94zm-11 1L8.5 8.5l.94-2.06 2.06-.94-2.06-.94L8.5 2.5l-.94 2.06-2.06.94zm10 10l.94 2.06.94-2.06 2.06-.94-2.06-.94-.94-2.06-.94 2.06-2.06.94z\"/><path d=\"M17.41 7.96l-1.37-1.37c-.4-.4-.92-.59-1.43-.59-.52 0-1.04.2-1.43.59L10.3 9.45l-7.72 7.72c-.78.78-.78 2.05 0 2.83L4 21.41c.39.39.9.59 1.41.59.51 0 1.02-.2 1.41-.59l7.78-7.78 2.81-2.81c.8-.78.8-2.07 0-2.86zM5.41 20L4 18.59l7.72-7.72 1.47 1.35L5.41 20z\"/>\n",
              "  </svg>\n",
              "      </button>\n",
              "      \n",
              "  <style>\n",
              "    .colab-df-container {\n",
              "      display:flex;\n",
              "      flex-wrap:wrap;\n",
              "      gap: 12px;\n",
              "    }\n",
              "\n",
              "    .colab-df-convert {\n",
              "      background-color: #E8F0FE;\n",
              "      border: none;\n",
              "      border-radius: 50%;\n",
              "      cursor: pointer;\n",
              "      display: none;\n",
              "      fill: #1967D2;\n",
              "      height: 32px;\n",
              "      padding: 0 0 0 0;\n",
              "      width: 32px;\n",
              "    }\n",
              "\n",
              "    .colab-df-convert:hover {\n",
              "      background-color: #E2EBFA;\n",
              "      box-shadow: 0px 1px 2px rgba(60, 64, 67, 0.3), 0px 1px 3px 1px rgba(60, 64, 67, 0.15);\n",
              "      fill: #174EA6;\n",
              "    }\n",
              "\n",
              "    [theme=dark] .colab-df-convert {\n",
              "      background-color: #3B4455;\n",
              "      fill: #D2E3FC;\n",
              "    }\n",
              "\n",
              "    [theme=dark] .colab-df-convert:hover {\n",
              "      background-color: #434B5C;\n",
              "      box-shadow: 0px 1px 3px 1px rgba(0, 0, 0, 0.15);\n",
              "      filter: drop-shadow(0px 1px 2px rgba(0, 0, 0, 0.3));\n",
              "      fill: #FFFFFF;\n",
              "    }\n",
              "  </style>\n",
              "\n",
              "      <script>\n",
              "        const buttonEl =\n",
              "          document.querySelector('#df-31bbbda1-073d-4772-afdc-dd11aeff8195 button.colab-df-convert');\n",
              "        buttonEl.style.display =\n",
              "          google.colab.kernel.accessAllowed ? 'block' : 'none';\n",
              "\n",
              "        async function convertToInteractive(key) {\n",
              "          const element = document.querySelector('#df-31bbbda1-073d-4772-afdc-dd11aeff8195');\n",
              "          const dataTable =\n",
              "            await google.colab.kernel.invokeFunction('convertToInteractive',\n",
              "                                                     [key], {});\n",
              "          if (!dataTable) return;\n",
              "\n",
              "          const docLinkHtml = 'Like what you see? Visit the ' +\n",
              "            '<a target=\"_blank\" href=https://colab.research.google.com/notebooks/data_table.ipynb>data table notebook</a>'\n",
              "            + ' to learn more about interactive tables.';\n",
              "          element.innerHTML = '';\n",
              "          dataTable['output_type'] = 'display_data';\n",
              "          await google.colab.output.renderOutput(dataTable, element);\n",
              "          const docLink = document.createElement('div');\n",
              "          docLink.innerHTML = docLinkHtml;\n",
              "          element.appendChild(docLink);\n",
              "        }\n",
              "      </script>\n",
              "    </div>\n",
              "  </div>\n",
              "  "
            ]
          },
          "metadata": {},
          "execution_count": 154
        }
      ]
    },
    {
      "cell_type": "code",
      "source": [
        "pd.DataFrame(pg_res.round(4).tolist(), index=var_list, columns=var_list).to_latex()"
      ],
      "metadata": {
        "id": "lODnP6QJCuED",
        "colab": {
          "base_uri": "https://localhost:8080/",
          "height": 145
        },
        "outputId": "19fe9ce0-1e0d-4d9e-b791-302438f35263"
      },
      "execution_count": null,
      "outputs": [
        {
          "output_type": "execute_result",
          "data": {
            "text/plain": [
              "'\\\\begin{tabular}{lllllll}\\n\\\\toprule\\n{} &           svi\\\\_med &           PRC\\\\_diff &           Par\\\\_diff &           vol\\\\_diff &              sent &          count\\\\_med \\\\\\\\\\n\\\\midrule\\nsvi\\\\_med   &        [0.0, 0.0] &  [-1.7753, 0.9621] &   [2.6667, 0.0038] &      [6.4917, 0.0] &  [3.7128, 0.0001] &      [6.2165, 0.0] \\\\\\\\\\nPRC\\\\_diff  &  [3.5496, 0.0002] &         [0.0, 0.0] &      [23.872, 0.0] &      [4.1871, 0.0] &    [20.7914, 0.0] &     [-4.8794, 1.0] \\\\\\\\\\nPar\\\\_diff  &  [3.1352, 0.0009] &     [31.0415, 0.0] &         [0.0, 0.0] &      [8.1764, 0.0] &     [3.9642, 0.0] &  [-2.2626, 0.9882] \\\\\\\\\\nvol\\\\_diff  &   [264.8042, 0.0] &     [15.3182, 0.0] &      [8.0457, 0.0] &         [0.0, 0.0] &  [2.7574, 0.0029] &    [183.0691, 0.0] \\\\\\\\\\nsent      &  [2.8948, 0.0019] &   [-2.933, 0.9983] &  [-0.3895, 0.6516] &  [-0.3945, 0.6534] &        [0.0, 0.0] &      [8.1823, 0.0] \\\\\\\\\\ncount\\\\_med &      [8.408, 0.0] &     [-6.1302, 1.0] &   [0.0139, 0.4945] &      [6.5133, 0.0] &    [15.2538, 0.0] &         [0.0, 0.0] \\\\\\\\\\n\\\\bottomrule\\n\\\\end{tabular}\\n'"
            ],
            "application/vnd.google.colaboratory.intrinsic+json": {
              "type": "string"
            }
          },
          "metadata": {},
          "execution_count": 155
        }
      ]
    },
    {
      "cell_type": "markdown",
      "source": [
        "This is the DH test results. Next, we should find the lag order. \n",
        "\n"
      ],
      "metadata": {
        "id": "JszNBx7wgDZZ"
      }
    },
    {
      "cell_type": "code",
      "source": [
        "from statsmodels.tsa.ar_model import ar_select_order"
      ],
      "metadata": {
        "id": "PmCsoLpynImB"
      },
      "execution_count": null,
      "outputs": []
    },
    {
      "cell_type": "code",
      "source": [
        "lag_list_1 = [len(ar_select_order(clean_arr[0,i,:,0], maxlag=20, ic='bic').ar_lags) for i in range(clean_arr.shape[1])]\n",
        "lag_list_2 = [len(ar_select_order(clean_arr[0,i,:,1], maxlag=20, ic='bic').ar_lags) for i in range(clean_arr.shape[1])]\n",
        "lag_list_3 = [len(ar_select_order(clean_arr[0,i,:,2], maxlag=20, ic='bic').ar_lags) for i in range(clean_arr.shape[1])]\n",
        "lag_list_4 = [len(ar_select_order(clean_arr[0,i,:,3], maxlag=20, ic='bic').ar_lags) for i in range(clean_arr.shape[1])]\n",
        "lag_list_5 = [len(ar_select_order(clean_arr[0,i,:,4], maxlag=20, ic='bic').ar_lags) for i in range(clean_arr.shape[1])]\n",
        "lag_list_6 = [len(ar_select_order(clean_arr[0,i,:,5], maxlag=20, ic='bic').ar_lags) for i in range(clean_arr.shape[1])]"
      ],
      "metadata": {
        "id": "VsZmdpH601qE"
      },
      "execution_count": null,
      "outputs": []
    },
    {
      "cell_type": "code",
      "source": [
        "lag_arr = np.array([lag_list_1,lag_list_2,lag_list_3,lag_list_4,lag_list_5,lag_list_6]).transpose()"
      ],
      "metadata": {
        "id": "HTIpadwZn1MQ"
      },
      "execution_count": null,
      "outputs": []
    },
    {
      "cell_type": "code",
      "source": [
        "lag_arr.shape"
      ],
      "metadata": {
        "colab": {
          "base_uri": "https://localhost:8080/"
        },
        "id": "DzXIVe5k2HQe",
        "outputId": "12685dc8-7e34-4c19-e6df-cf2a8aae00df"
      },
      "execution_count": null,
      "outputs": [
        {
          "output_type": "execute_result",
          "data": {
            "text/plain": [
              "(194, 6)"
            ]
          },
          "metadata": {},
          "execution_count": 186
        }
      ]
    },
    {
      "cell_type": "code",
      "source": [
        "var_list"
      ],
      "metadata": {
        "colab": {
          "base_uri": "https://localhost:8080/"
        },
        "id": "sVNPBR0H3Ty0",
        "outputId": "66eee5ff-82fa-4747-87c8-30b13aed8818"
      },
      "execution_count": null,
      "outputs": [
        {
          "output_type": "execute_result",
          "data": {
            "text/plain": [
              "['svi_med', 'PRC_diff', 'Par_diff', 'vol_diff', 'sent', 'count_med']"
            ]
          },
          "metadata": {},
          "execution_count": 207
        }
      ]
    },
    {
      "cell_type": "code",
      "source": [
        "fig, ax0 = plt.subplots()\n",
        "\n",
        "#colors = ['red', 'tan', 'lime']\n",
        "ax0.hist(lag_arr, bins=lag_arr.max()+1,  histtype='bar',  label=var_list)\n",
        "ax0.legend(prop={'size': 10})\n",
        "ax0.set_title('Histogram of Firm Specific Lags')\n",
        "\n",
        "plt.show()"
      ],
      "metadata": {
        "colab": {
          "base_uri": "https://localhost:8080/",
          "height": 281
        },
        "id": "vN6fh6ip20At",
        "outputId": "5532a237-39e8-4188-fcc4-335b4020a41c"
      },
      "execution_count": null,
      "outputs": [
        {
          "output_type": "display_data",
          "data": {
            "text/plain": [
              "<Figure size 432x288 with 1 Axes>"
            ],
            "image/png": "[encoded data removed]"
          },
          "metadata": {
            "needs_background": "light"
          }
        }
      ]
    },
    {
      "cell_type": "markdown",
      "source": [
        "I think we should use a lag order of 6. Let's look at the bootstrap method now. "
      ],
      "metadata": {
        "id": "dqQRXKBo_jZn"
      }
    },
    {
      "cell_type": "code",
      "source": [],
      "metadata": {
        "id": "SzdUKONg6y54"
      },
      "execution_count": null,
      "outputs": []
    },
    {
      "cell_type": "code",
      "source": [
        "ll_test = get_ll_test_stat_2(clean_arr, 6, y_loc=2, x_loc=0, w_loc=1)"
      ],
      "metadata": {
        "id": "6NtshMSwA--y"
      },
      "execution_count": null,
      "outputs": []
    },
    {
      "cell_type": "code",
      "source": [
        "#ll_test = get_ll_test_stat_2(clean_arr, 6, y_loc=2, x_loc=4, w_loc=1)"
      ],
      "metadata": {
        "id": "cYR0iSQvUNBq"
      },
      "execution_count": null,
      "outputs": []
    },
    {
      "cell_type": "code",
      "source": [
        "ll_test[0]"
      ],
      "metadata": {
        "colab": {
          "base_uri": "https://localhost:8080/"
        },
        "id": "dHR_0l0GBPac",
        "outputId": "7f9acb00-19aa-4e88-a7e8-2a4569e29d54"
      },
      "execution_count": null,
      "outputs": [
        {
          "output_type": "execute_result",
          "data": {
            "text/plain": [
              "array([3.89817316])"
            ]
          },
          "metadata": {},
          "execution_count": 161
        }
      ]
    },
    {
      "cell_type": "code",
      "source": [
        "LL_bs_test = bootstrap_LL_2(clean_arr, 6, y_loc=2, x_loc=0, w_loc=1, bs_i=1000, rng=np.random.default_rng())"
      ],
      "metadata": {
        "id": "CVaGgLevHRLl",
        "colab": {
          "base_uri": "https://localhost:8080/"
        },
        "outputId": "ab0cf472-843e-42d7-eefe-877bc736281a"
      },
      "execution_count": null,
      "outputs": [
        {
          "output_type": "stream",
          "name": "stderr",
          "text": [
            "100%|██████████| 1000/1000 [01:12<00:00, 13.82it/s]\n"
          ]
        }
      ]
    },
    {
      "cell_type": "code",
      "source": [
        "LL_cr = np.percentile(np.array(LL_bs_test[1]), (5,95), axis=0)"
      ],
      "metadata": {
        "id": "5wh3UUm-HWbW"
      },
      "execution_count": null,
      "outputs": []
    },
    {
      "cell_type": "code",
      "source": [
        "LL_bs_test[0]"
      ],
      "metadata": {
        "colab": {
          "base_uri": "https://localhost:8080/"
        },
        "id": "v_G1gMtwHY4Q",
        "outputId": "d7a740f3-3e20-4f2e-c762-c3a6de0949e0"
      },
      "execution_count": null,
      "outputs": [
        {
          "output_type": "execute_result",
          "data": {
            "text/plain": [
              "array([3.89817316])"
            ]
          },
          "metadata": {},
          "execution_count": 218
        }
      ]
    },
    {
      "cell_type": "code",
      "source": [
        "LL_cr.transpose()"
      ],
      "metadata": {
        "colab": {
          "base_uri": "https://localhost:8080/"
        },
        "id": "xN9H6NqzH4r8",
        "outputId": "35ae3871-5a0e-454d-8172-c9947a4c51d1"
      },
      "execution_count": null,
      "outputs": [
        {
          "output_type": "execute_result",
          "data": {
            "text/plain": [
              "array([[-1.03587692,  2.30689138]])"
            ]
          },
          "metadata": {},
          "execution_count": 219
        }
      ]
    },
    {
      "cell_type": "code",
      "source": [
        "['svi_med', 'PRC_diff', 'Par_diff', 'vol_diff', 'sent', 'count_med']"
      ],
      "metadata": {
        "colab": {
          "base_uri": "https://localhost:8080/"
        },
        "id": "r6x1-4sqbGlS",
        "outputId": "30d35059-6f5f-4067-952e-d0bb3ec853a5"
      },
      "execution_count": null,
      "outputs": [
        {
          "output_type": "execute_result",
          "data": {
            "text/plain": [
              "['svi_med', 'PRC_diff', 'Par_diff', 'vol_diff', 'sent', 'count_med']"
            ]
          },
          "metadata": {},
          "execution_count": 301
        }
      ]
    },
    {
      "cell_type": "code",
      "source": [
        "LL_res = []\n",
        "#P = 4\n",
        "P = 6\n",
        "bs_m = 1000\n",
        "rng_m = np.random.default_rng()\n",
        "for i in [0,3,4,5]:\n",
        "  LL_bs = bootstrap_LL_2(clean_arr, P, y_loc=2, x_loc=i, w_loc=1, bs_i=bs_m, rng=rng_m)\n",
        "  LL_cr = np.percentile(np.array(LL_bs[1]), (5,95), axis=0)\n",
        "  subres = (np.squeeze(LL_bs[0]), np.squeeze(LL_cr.transpose()))\n",
        "  LL_res.append(subres)"
      ],
      "metadata": {
        "id": "xfXkW14ka9HJ",
        "colab": {
          "base_uri": "https://localhost:8080/"
        },
        "outputId": "98c21429-136a-4013-8c33-2ccc7756872b"
      },
      "execution_count": null,
      "outputs": [
        {
          "output_type": "stream",
          "name": "stderr",
          "text": [
            "100%|██████████| 1000/1000 [01:12<00:00, 13.72it/s]\n",
            "100%|██████████| 1000/1000 [01:12<00:00, 13.80it/s]\n",
            "100%|██████████| 1000/1000 [01:12<00:00, 13.77it/s]\n",
            "100%|██████████| 1000/1000 [01:17<00:00, 12.83it/s]\n"
          ]
        }
      ]
    },
    {
      "cell_type": "code",
      "source": [
        "LL_res"
      ],
      "metadata": {
        "colab": {
          "base_uri": "https://localhost:8080/"
        },
        "id": "VkiTWogXdPoc",
        "outputId": "83d07bb7-40c7-4d15-92b5-a9d38bd02e18"
      },
      "execution_count": null,
      "outputs": [
        {
          "output_type": "execute_result",
          "data": {
            "text/plain": [
              "[(array(3.89817316), array([-0.86081489,  2.56071091])),\n",
              " (array(7.93248589), array([-1.14263537,  2.08020241])),\n",
              " (array(4.59548598), array([-0.88580999,  2.3930673 ])),\n",
              " (array(-1.82505553), array([-1.03910696,  2.50793419]))]"
            ]
          },
          "metadata": {},
          "execution_count": 225
        }
      ]
    },
    {
      "cell_type": "markdown",
      "source": [
        "So, even conditioned on stock price, it appears that search volumes, trading volume, and news sentiment are all important. News volume not so much. "
      ],
      "metadata": {
        "id": "EsDGf9LGdzSh"
      }
    },
    {
      "cell_type": "code",
      "source": [
        "LL_res = []\n",
        "#P = 4\n",
        "P = 6\n",
        "bs_m = 1000\n",
        "rng_m = np.random.default_rng()\n",
        "for i in [1,3,4,5]:\n",
        "  LL_bs = bootstrap_LL_2(clean_arr, P, y_loc=2, x_loc=0, w_loc=i, bs_i=bs_m, rng=rng_m)\n",
        "  LL_cr = np.percentile(np.array(LL_bs[1]), (5,95), axis=0)\n",
        "  subres = (np.squeeze(LL_bs[0]), np.squeeze(LL_cr.transpose()))\n",
        "  LL_res.append(subres)"
      ],
      "metadata": {
        "colab": {
          "base_uri": "https://localhost:8080/"
        },
        "id": "IqzlEh_ibkHc",
        "outputId": "7511439c-2e7f-4a33-ba33-23b3d8c5e639"
      },
      "execution_count": null,
      "outputs": [
        {
          "output_type": "stream",
          "name": "stderr",
          "text": [
            "100%|██████████| 1000/1000 [01:13<00:00, 13.65it/s]\n",
            "100%|██████████| 1000/1000 [01:18<00:00, 12.81it/s]\n",
            "100%|██████████| 1000/1000 [01:13<00:00, 13.65it/s]\n",
            "100%|██████████| 1000/1000 [01:13<00:00, 13.66it/s]\n"
          ]
        }
      ]
    },
    {
      "cell_type": "code",
      "source": [
        "LL_res"
      ],
      "metadata": {
        "colab": {
          "base_uri": "https://localhost:8080/"
        },
        "id": "Mb4-UMR-brCz",
        "outputId": "38eb0b6a-745d-45b3-da03-babe668352ec"
      },
      "execution_count": null,
      "outputs": [
        {
          "output_type": "execute_result",
          "data": {
            "text/plain": [
              "[(array(3.89817316), array([-1.02556213,  2.38403258])),\n",
              " (array(2.38383156), array([-1.19079418,  2.16316662])),\n",
              " (array(3.80348283), array([-1.06448537,  2.38032011])),\n",
              " (array(4.19959682), array([-1.0753027 ,  2.42768604]))]"
            ]
          },
          "metadata": {},
          "execution_count": 240
        }
      ]
    },
    {
      "cell_type": "markdown",
      "source": [
        "It appears search volumes are still important when condtioned on other things"
      ],
      "metadata": {
        "id": "E-U6UhmkTi3D"
      }
    },
    {
      "cell_type": "code",
      "source": [
        "LL_res = []\n",
        "#P = 4\n",
        "P = 6\n",
        "bs_m = 1000\n",
        "rng_m = np.random.default_rng()\n",
        "for i in [0,1,3,4]:\n",
        "  LL_bs = bootstrap_LL_2(clean_arr, P, y_loc=2, x_loc=5, w_loc=i, bs_i=bs_m, rng=rng_m)\n",
        "  LL_cr = np.percentile(np.array(LL_bs[1]), (5,95), axis=0)\n",
        "  subres = (np.squeeze(LL_bs[0]), np.squeeze(LL_cr.transpose()))\n",
        "  LL_res.append(subres)"
      ],
      "metadata": {
        "colab": {
          "base_uri": "https://localhost:8080/"
        },
        "id": "UFpt33MoTm0F",
        "outputId": "347dafca-962b-4a92-82d9-c63f214e5a9e"
      },
      "execution_count": null,
      "outputs": [
        {
          "output_type": "stream",
          "name": "stderr",
          "text": [
            "100%|██████████| 1000/1000 [01:39<00:00, 10.01it/s]\n",
            "100%|██████████| 1000/1000 [01:42<00:00,  9.72it/s]\n",
            "100%|██████████| 1000/1000 [01:32<00:00, 10.82it/s]\n",
            "100%|██████████| 1000/1000 [01:34<00:00, 10.57it/s]\n"
          ]
        }
      ]
    },
    {
      "cell_type": "code",
      "source": [
        "LL_res"
      ],
      "metadata": {
        "colab": {
          "base_uri": "https://localhost:8080/"
        },
        "id": "ItGFTWuNT2xC",
        "outputId": "da60b4cc-95f8-4bdc-bedf-c7ede89d3f9e"
      },
      "execution_count": null,
      "outputs": [
        {
          "output_type": "execute_result",
          "data": {
            "text/plain": [
              "[(array(-1.0947047), array([-1.24835726,  2.02176995])),\n",
              " (array(-1.82505553), array([-0.73901854,  2.61330707])),\n",
              " (array(-1.28670993), array([-0.8298996,  2.805105 ])),\n",
              " (array(-2.00811615), array([-0.79224291,  2.58201585]))]"
            ]
          },
          "metadata": {},
          "execution_count": 150
        }
      ]
    },
    {
      "cell_type": "markdown",
      "source": [
        "There doesn't appear to be any impact from news volume. Now, lets look at the subsets. \n"
      ],
      "metadata": {
        "id": "ej4YgSkSV4_P"
      }
    },
    {
      "cell_type": "code",
      "source": [
        "\n",
        "large_arr = np.array([df_large[df_large['ticker']== val][var_list].values for val in df_large['ticker'].unique()])[None,...]\n",
        "small_arr = np.array([df_small[df_small['ticker']== val][var_list].values for val in df_small['ticker'].unique()])[None,...]"
      ],
      "metadata": {
        "id": "qVbxb2bOZBRF"
      },
      "execution_count": null,
      "outputs": []
    },
    {
      "cell_type": "code",
      "source": [
        "large_arr.shape"
      ],
      "metadata": {
        "colab": {
          "base_uri": "https://localhost:8080/"
        },
        "id": "4d9XlzyDdDtE",
        "outputId": "e87adae3-dfdc-4ca2-caea-0a7302d190a9"
      },
      "execution_count": null,
      "outputs": [
        {
          "output_type": "execute_result",
          "data": {
            "text/plain": [
              "(1, 50, 290, 6)"
            ]
          },
          "metadata": {},
          "execution_count": 157
        }
      ]
    },
    {
      "cell_type": "code",
      "source": [
        "small_arr.shape"
      ],
      "metadata": {
        "colab": {
          "base_uri": "https://localhost:8080/"
        },
        "id": "iI6xjINedFoZ",
        "outputId": "da624833-137c-4185-8e80-8879422b5af5"
      },
      "execution_count": null,
      "outputs": [
        {
          "output_type": "execute_result",
          "data": {
            "text/plain": [
              "(1, 144, 290, 6)"
            ]
          },
          "metadata": {},
          "execution_count": 158
        }
      ]
    },
    {
      "cell_type": "code",
      "source": [
        "yarr = large_arr\n",
        "P = 6\n",
        "var_n = len(var_list)\n",
        "pg_res = np.zeros((var_n,var_n,2))\n",
        "for i in range(var_n):\n",
        "  for j in range(var_n):\n",
        "    if i==j:\n",
        "      continue\n",
        "    dh_val = get_DH_z_vals(yarr, P, y_loc=i, x_loc=j)[0]\n",
        "    pg_res[i,j,0] = dh_val\n",
        "    #pg_res[i,j,1] = 2*(1-stats.norm.cdf(np.absolute(dh_val)))\n",
        "    pg_res[i,j,1] = (1-stats.norm.cdf(dh_val))"
      ],
      "metadata": {
        "id": "fgiR-W8dYzrc"
      },
      "execution_count": null,
      "outputs": []
    },
    {
      "cell_type": "code",
      "source": [
        "pd.DataFrame(pg_res.round(4).tolist(), index=var_list, columns=var_list)"
      ],
      "metadata": {
        "colab": {
          "base_uri": "https://localhost:8080/",
          "height": 237
        },
        "id": "6ULlZcySZHAg",
        "outputId": "be90b06f-8a7d-4d3a-d931-52e5c7903bd2"
      },
      "execution_count": null,
      "outputs": [
        {
          "output_type": "execute_result",
          "data": {
            "text/plain": [
              "                    svi_med           PRC_diff           Par_diff  \\\n",
              "svi_med          [0.0, 0.0]   [0.4703, 0.3191]   [3.8877, 0.0001]   \n",
              "PRC_diff      [7.0744, 0.0]         [0.0, 0.0]     [11.7513, 0.0]   \n",
              "Par_diff   [2.7635, 0.0029]     [17.6819, 0.0]         [0.0, 0.0]   \n",
              "vol_diff    [296.7485, 0.0]      [9.2933, 0.0]      [5.4348, 0.0]   \n",
              "sent       [2.2035, 0.0138]  [-1.5513, 0.9396]  [-0.8266, 0.7958]   \n",
              "count_med     [5.2371, 0.0]  [-2.5499, 0.9946]  [-0.9908, 0.8391]   \n",
              "\n",
              "                    vol_diff              sent          count_med  \n",
              "svi_med        [7.7077, 0.0]  [0.0185, 0.4926]      [4.0002, 0.0]  \n",
              "PRC_diff    [2.8986, 0.0019]    [14.7062, 0.0]  [-1.5363, 0.9378]  \n",
              "Par_diff        [6.408, 0.0]   [2.0332, 0.021]  [-1.1745, 0.8799]  \n",
              "vol_diff          [0.0, 0.0]   [2.0136, 0.022]    [113.5828, 0.0]  \n",
              "sent       [-1.3487, 0.9113]        [0.0, 0.0]   [3.6858, 0.0001]  \n",
              "count_med    [2.356, 0.0092]     [5.6889, 0.0]         [0.0, 0.0]  "
            ],
            "text/html": [
              "\n",
              "  <div id=\"df-9c6d8f8b-7ef3-4de0-bd83-462601881bd9\">\n",
              "    <div class=\"colab-df-container\">\n",
              "      <div>\n",
              "<style scoped>\n",
              "    .dataframe tbody tr th:only-of-type {\n",
              "        vertical-align: middle;\n",
              "    }\n",
              "\n",
              "    .dataframe tbody tr th {\n",
              "        vertical-align: top;\n",
              "    }\n",
              "\n",
              "    .dataframe thead th {\n",
              "        text-align: right;\n",
              "    }\n",
              "</style>\n",
              "<table border=\"1\" class=\"dataframe\">\n",
              "  <thead>\n",
              "    <tr style=\"text-align: right;\">\n",
              "      <th></th>\n",
              "      <th>svi_med</th>\n",
              "      <th>PRC_diff</th>\n",
              "      <th>Par_diff</th>\n",
              "      <th>vol_diff</th>\n",
              "      <th>sent</th>\n",
              "      <th>count_med</th>\n",
              "    </tr>\n",
              "  </thead>\n",
              "  <tbody>\n",
              "    <tr>\n",
              "      <th>svi_med</th>\n",
              "      <td>[0.0, 0.0]</td>\n",
              "      <td>[0.4703, 0.3191]</td>\n",
              "      <td>[3.8877, 0.0001]</td>\n",
              "      <td>[7.7077, 0.0]</td>\n",
              "      <td>[0.0185, 0.4926]</td>\n",
              "      <td>[4.0002, 0.0]</td>\n",
              "    </tr>\n",
              "    <tr>\n",
              "      <th>PRC_diff</th>\n",
              "      <td>[7.0744, 0.0]</td>\n",
              "      <td>[0.0, 0.0]</td>\n",
              "      <td>[11.7513, 0.0]</td>\n",
              "      <td>[2.8986, 0.0019]</td>\n",
              "      <td>[14.7062, 0.0]</td>\n",
              "      <td>[-1.5363, 0.9378]</td>\n",
              "    </tr>\n",
              "    <tr>\n",
              "      <th>Par_diff</th>\n",
              "      <td>[2.7635, 0.0029]</td>\n",
              "      <td>[17.6819, 0.0]</td>\n",
              "      <td>[0.0, 0.0]</td>\n",
              "      <td>[6.408, 0.0]</td>\n",
              "      <td>[2.0332, 0.021]</td>\n",
              "      <td>[-1.1745, 0.8799]</td>\n",
              "    </tr>\n",
              "    <tr>\n",
              "      <th>vol_diff</th>\n",
              "      <td>[296.7485, 0.0]</td>\n",
              "      <td>[9.2933, 0.0]</td>\n",
              "      <td>[5.4348, 0.0]</td>\n",
              "      <td>[0.0, 0.0]</td>\n",
              "      <td>[2.0136, 0.022]</td>\n",
              "      <td>[113.5828, 0.0]</td>\n",
              "    </tr>\n",
              "    <tr>\n",
              "      <th>sent</th>\n",
              "      <td>[2.2035, 0.0138]</td>\n",
              "      <td>[-1.5513, 0.9396]</td>\n",
              "      <td>[-0.8266, 0.7958]</td>\n",
              "      <td>[-1.3487, 0.9113]</td>\n",
              "      <td>[0.0, 0.0]</td>\n",
              "      <td>[3.6858, 0.0001]</td>\n",
              "    </tr>\n",
              "    <tr>\n",
              "      <th>count_med</th>\n",
              "      <td>[5.2371, 0.0]</td>\n",
              "      <td>[-2.5499, 0.9946]</td>\n",
              "      <td>[-0.9908, 0.8391]</td>\n",
              "      <td>[2.356, 0.0092]</td>\n",
              "      <td>[5.6889, 0.0]</td>\n",
              "      <td>[0.0, 0.0]</td>\n",
              "    </tr>\n",
              "  </tbody>\n",
              "</table>\n",
              "</div>\n",
              "      <button class=\"colab-df-convert\" onclick=\"convertToInteractive('df-9c6d8f8b-7ef3-4de0-bd83-462601881bd9')\"\n",
              "              title=\"Convert this dataframe to an interactive table.\"\n",
              "              style=\"display:none;\">\n",
              "        \n",
              "  <svg xmlns=\"http://www.w3.org/2000/svg\" height=\"24px\"viewBox=\"0 0 24 24\"\n",
              "       width=\"24px\">\n",
              "    <path d=\"M0 0h24v24H0V0z\" fill=\"none\"/>\n",
              "    <path d=\"M18.56 5.44l.94 2.06.94-2.06 2.06-.94-2.06-.94-.94-2.06-.94 2.06-2.06.94zm-11 1L8.5 8.5l.94-2.06 2.06-.94-2.06-.94L8.5 2.5l-.94 2.06-2.06.94zm10 10l.94 2.06.94-2.06 2.06-.94-2.06-.94-.94-2.06-.94 2.06-2.06.94z\"/><path d=\"M17.41 7.96l-1.37-1.37c-.4-.4-.92-.59-1.43-.59-.52 0-1.04.2-1.43.59L10.3 9.45l-7.72 7.72c-.78.78-.78 2.05 0 2.83L4 21.41c.39.39.9.59 1.41.59.51 0 1.02-.2 1.41-.59l7.78-7.78 2.81-2.81c.8-.78.8-2.07 0-2.86zM5.41 20L4 18.59l7.72-7.72 1.47 1.35L5.41 20z\"/>\n",
              "  </svg>\n",
              "      </button>\n",
              "      \n",
              "  <style>\n",
              "    .colab-df-container {\n",
              "      display:flex;\n",
              "      flex-wrap:wrap;\n",
              "      gap: 12px;\n",
              "    }\n",
              "\n",
              "    .colab-df-convert {\n",
              "      background-color: #E8F0FE;\n",
              "      border: none;\n",
              "      border-radius: 50%;\n",
              "      cursor: pointer;\n",
              "      display: none;\n",
              "      fill: #1967D2;\n",
              "      height: 32px;\n",
              "      padding: 0 0 0 0;\n",
              "      width: 32px;\n",
              "    }\n",
              "\n",
              "    .colab-df-convert:hover {\n",
              "      background-color: #E2EBFA;\n",
              "      box-shadow: 0px 1px 2px rgba(60, 64, 67, 0.3), 0px 1px 3px 1px rgba(60, 64, 67, 0.15);\n",
              "      fill: #174EA6;\n",
              "    }\n",
              "\n",
              "    [theme=dark] .colab-df-convert {\n",
              "      background-color: #3B4455;\n",
              "      fill: #D2E3FC;\n",
              "    }\n",
              "\n",
              "    [theme=dark] .colab-df-convert:hover {\n",
              "      background-color: #434B5C;\n",
              "      box-shadow: 0px 1px 3px 1px rgba(0, 0, 0, 0.15);\n",
              "      filter: drop-shadow(0px 1px 2px rgba(0, 0, 0, 0.3));\n",
              "      fill: #FFFFFF;\n",
              "    }\n",
              "  </style>\n",
              "\n",
              "      <script>\n",
              "        const buttonEl =\n",
              "          document.querySelector('#df-9c6d8f8b-7ef3-4de0-bd83-462601881bd9 button.colab-df-convert');\n",
              "        buttonEl.style.display =\n",
              "          google.colab.kernel.accessAllowed ? 'block' : 'none';\n",
              "\n",
              "        async function convertToInteractive(key) {\n",
              "          const element = document.querySelector('#df-9c6d8f8b-7ef3-4de0-bd83-462601881bd9');\n",
              "          const dataTable =\n",
              "            await google.colab.kernel.invokeFunction('convertToInteractive',\n",
              "                                                     [key], {});\n",
              "          if (!dataTable) return;\n",
              "\n",
              "          const docLinkHtml = 'Like what you see? Visit the ' +\n",
              "            '<a target=\"_blank\" href=https://colab.research.google.com/notebooks/data_table.ipynb>data table notebook</a>'\n",
              "            + ' to learn more about interactive tables.';\n",
              "          element.innerHTML = '';\n",
              "          dataTable['output_type'] = 'display_data';\n",
              "          await google.colab.output.renderOutput(dataTable, element);\n",
              "          const docLink = document.createElement('div');\n",
              "          docLink.innerHTML = docLinkHtml;\n",
              "          element.appendChild(docLink);\n",
              "        }\n",
              "      </script>\n",
              "    </div>\n",
              "  </div>\n",
              "  "
            ]
          },
          "metadata": {},
          "execution_count": 165
        }
      ]
    },
    {
      "cell_type": "code",
      "source": [
        "pd.DataFrame(pg_res.round(4).tolist(), index=var_list, columns=var_list).to_latex()"
      ],
      "metadata": {
        "colab": {
          "base_uri": "https://localhost:8080/",
          "height": 145
        },
        "id": "NAeWnvilZZSV",
        "outputId": "91e1cc90-6480-4fc6-a86a-1394829ff71e"
      },
      "execution_count": null,
      "outputs": [
        {
          "output_type": "execute_result",
          "data": {
            "text/plain": [
              "'\\\\begin{tabular}{lllllll}\\n\\\\toprule\\n{} &           svi\\\\_med &           PRC\\\\_diff &           Par\\\\_diff &           vol\\\\_diff &              sent &          count\\\\_med \\\\\\\\\\n\\\\midrule\\nsvi\\\\_med   &        [0.0, 0.0] &   [0.4703, 0.3191] &   [3.8877, 0.0001] &      [7.7077, 0.0] &  [0.0185, 0.4926] &      [4.0002, 0.0] \\\\\\\\\\nPRC\\\\_diff  &     [7.0744, 0.0] &         [0.0, 0.0] &     [11.7513, 0.0] &   [2.8986, 0.0019] &    [14.7062, 0.0] &  [-1.5363, 0.9378] \\\\\\\\\\nPar\\\\_diff  &  [2.7635, 0.0029] &     [17.6819, 0.0] &         [0.0, 0.0] &       [6.408, 0.0] &   [2.0332, 0.021] &  [-1.1745, 0.8799] \\\\\\\\\\nvol\\\\_diff  &   [296.7485, 0.0] &      [9.2933, 0.0] &      [5.4348, 0.0] &         [0.0, 0.0] &   [2.0136, 0.022] &    [113.5828, 0.0] \\\\\\\\\\nsent      &  [2.2035, 0.0138] &  [-1.5513, 0.9396] &  [-0.8266, 0.7958] &  [-1.3487, 0.9113] &        [0.0, 0.0] &   [3.6858, 0.0001] \\\\\\\\\\ncount\\\\_med &     [5.2371, 0.0] &  [-2.5499, 0.9946] &  [-0.9908, 0.8391] &    [2.356, 0.0092] &     [5.6889, 0.0] &         [0.0, 0.0] \\\\\\\\\\n\\\\bottomrule\\n\\\\end{tabular}\\n'"
            ],
            "application/vnd.google.colaboratory.intrinsic+json": {
              "type": "string"
            }
          },
          "metadata": {},
          "execution_count": 166
        }
      ]
    },
    {
      "cell_type": "code",
      "source": [
        "yarr = small_arr\n",
        "P = 6\n",
        "var_n = len(var_list)\n",
        "pg_res = np.zeros((var_n,var_n,2))\n",
        "for i in range(var_n):\n",
        "  for j in range(var_n):\n",
        "    if i==j:\n",
        "      continue\n",
        "    dh_val = get_DH_z_vals(yarr, P, y_loc=i, x_loc=j)[0]\n",
        "    pg_res[i,j,0] = dh_val\n",
        "    #pg_res[i,j,1] = 2*(1-stats.norm.cdf(np.absolute(dh_val)))\n",
        "    pg_res[i,j,1] = (1-stats.norm.cdf(dh_val))"
      ],
      "metadata": {
        "id": "YOmVZ_shZZdG"
      },
      "execution_count": null,
      "outputs": []
    },
    {
      "cell_type": "code",
      "source": [
        "pd.DataFrame(pg_res.round(4).tolist(), index=var_list, columns=var_list)"
      ],
      "metadata": {
        "colab": {
          "base_uri": "https://localhost:8080/",
          "height": 237
        },
        "id": "70vU4Mp6ZdqB",
        "outputId": "ee4f286c-3c44-4651-824b-41c559c690d8"
      },
      "execution_count": null,
      "outputs": [
        {
          "output_type": "execute_result",
          "data": {
            "text/plain": [
              "                     svi_med           PRC_diff          Par_diff  \\\n",
              "svi_med           [0.0, 0.0]  [-2.3377, 0.9903]  [0.8044, 0.2106]   \n",
              "PRC_diff   [-0.0486, 0.5194]         [0.0, 0.0]    [20.7836, 0.0]   \n",
              "Par_diff    [2.0107, 0.0222]     [25.6106, 0.0]        [0.0, 0.0]   \n",
              "vol_diff     [132.4972, 0.0]     [12.3037, 0.0]     [6.1361, 0.0]   \n",
              "sent        [2.0615, 0.0196]  [-2.4902, 0.9936]   [0.035, 0.4861]   \n",
              "count_med      [6.6732, 0.0]     [-5.6128, 1.0]  [0.5999, 0.2743]   \n",
              "\n",
              "                   vol_diff              sent          count_med  \n",
              "svi_med    [2.9931, 0.0014]     [4.2986, 0.0]      [4.8583, 0.0]  \n",
              "PRC_diff   [3.1519, 0.0008]    [15.4668, 0.0]     [-4.7583, 1.0]  \n",
              "Par_diff      [5.7143, 0.0]  [3.4031, 0.0003]  [-1.9342, 0.9735]  \n",
              "vol_diff         [0.0, 0.0]    [2.014, 0.022]    [145.5588, 0.0]  \n",
              "sent       [0.3368, 0.3681]        [0.0, 0.0]      [7.3253, 0.0]  \n",
              "count_med     [6.1717, 0.0]    [14.3528, 0.0]         [0.0, 0.0]  "
            ],
            "text/html": [
              "\n",
              "  <div id=\"df-7007a8a0-2cff-4b2a-90a6-662fc47a947b\">\n",
              "    <div class=\"colab-df-container\">\n",
              "      <div>\n",
              "<style scoped>\n",
              "    .dataframe tbody tr th:only-of-type {\n",
              "        vertical-align: middle;\n",
              "    }\n",
              "\n",
              "    .dataframe tbody tr th {\n",
              "        vertical-align: top;\n",
              "    }\n",
              "\n",
              "    .dataframe thead th {\n",
              "        text-align: right;\n",
              "    }\n",
              "</style>\n",
              "<table border=\"1\" class=\"dataframe\">\n",
              "  <thead>\n",
              "    <tr style=\"text-align: right;\">\n",
              "      <th></th>\n",
              "      <th>svi_med</th>\n",
              "      <th>PRC_diff</th>\n",
              "      <th>Par_diff</th>\n",
              "      <th>vol_diff</th>\n",
              "      <th>sent</th>\n",
              "      <th>count_med</th>\n",
              "    </tr>\n",
              "  </thead>\n",
              "  <tbody>\n",
              "    <tr>\n",
              "      <th>svi_med</th>\n",
              "      <td>[0.0, 0.0]</td>\n",
              "      <td>[-2.3377, 0.9903]</td>\n",
              "      <td>[0.8044, 0.2106]</td>\n",
              "      <td>[2.9931, 0.0014]</td>\n",
              "      <td>[4.2986, 0.0]</td>\n",
              "      <td>[4.8583, 0.0]</td>\n",
              "    </tr>\n",
              "    <tr>\n",
              "      <th>PRC_diff</th>\n",
              "      <td>[-0.0486, 0.5194]</td>\n",
              "      <td>[0.0, 0.0]</td>\n",
              "      <td>[20.7836, 0.0]</td>\n",
              "      <td>[3.1519, 0.0008]</td>\n",
              "      <td>[15.4668, 0.0]</td>\n",
              "      <td>[-4.7583, 1.0]</td>\n",
              "    </tr>\n",
              "    <tr>\n",
              "      <th>Par_diff</th>\n",
              "      <td>[2.0107, 0.0222]</td>\n",
              "      <td>[25.6106, 0.0]</td>\n",
              "      <td>[0.0, 0.0]</td>\n",
              "      <td>[5.7143, 0.0]</td>\n",
              "      <td>[3.4031, 0.0003]</td>\n",
              "      <td>[-1.9342, 0.9735]</td>\n",
              "    </tr>\n",
              "    <tr>\n",
              "      <th>vol_diff</th>\n",
              "      <td>[132.4972, 0.0]</td>\n",
              "      <td>[12.3037, 0.0]</td>\n",
              "      <td>[6.1361, 0.0]</td>\n",
              "      <td>[0.0, 0.0]</td>\n",
              "      <td>[2.014, 0.022]</td>\n",
              "      <td>[145.5588, 0.0]</td>\n",
              "    </tr>\n",
              "    <tr>\n",
              "      <th>sent</th>\n",
              "      <td>[2.0615, 0.0196]</td>\n",
              "      <td>[-2.4902, 0.9936]</td>\n",
              "      <td>[0.035, 0.4861]</td>\n",
              "      <td>[0.3368, 0.3681]</td>\n",
              "      <td>[0.0, 0.0]</td>\n",
              "      <td>[7.3253, 0.0]</td>\n",
              "    </tr>\n",
              "    <tr>\n",
              "      <th>count_med</th>\n",
              "      <td>[6.6732, 0.0]</td>\n",
              "      <td>[-5.6128, 1.0]</td>\n",
              "      <td>[0.5999, 0.2743]</td>\n",
              "      <td>[6.1717, 0.0]</td>\n",
              "      <td>[14.3528, 0.0]</td>\n",
              "      <td>[0.0, 0.0]</td>\n",
              "    </tr>\n",
              "  </tbody>\n",
              "</table>\n",
              "</div>\n",
              "      <button class=\"colab-df-convert\" onclick=\"convertToInteractive('df-7007a8a0-2cff-4b2a-90a6-662fc47a947b')\"\n",
              "              title=\"Convert this dataframe to an interactive table.\"\n",
              "              style=\"display:none;\">\n",
              "        \n",
              "  <svg xmlns=\"http://www.w3.org/2000/svg\" height=\"24px\"viewBox=\"0 0 24 24\"\n",
              "       width=\"24px\">\n",
              "    <path d=\"M0 0h24v24H0V0z\" fill=\"none\"/>\n",
              "    <path d=\"M18.56 5.44l.94 2.06.94-2.06 2.06-.94-2.06-.94-.94-2.06-.94 2.06-2.06.94zm-11 1L8.5 8.5l.94-2.06 2.06-.94-2.06-.94L8.5 2.5l-.94 2.06-2.06.94zm10 10l.94 2.06.94-2.06 2.06-.94-2.06-.94-.94-2.06-.94 2.06-2.06.94z\"/><path d=\"M17.41 7.96l-1.37-1.37c-.4-.4-.92-.59-1.43-.59-.52 0-1.04.2-1.43.59L10.3 9.45l-7.72 7.72c-.78.78-.78 2.05 0 2.83L4 21.41c.39.39.9.59 1.41.59.51 0 1.02-.2 1.41-.59l7.78-7.78 2.81-2.81c.8-.78.8-2.07 0-2.86zM5.41 20L4 18.59l7.72-7.72 1.47 1.35L5.41 20z\"/>\n",
              "  </svg>\n",
              "      </button>\n",
              "      \n",
              "  <style>\n",
              "    .colab-df-container {\n",
              "      display:flex;\n",
              "      flex-wrap:wrap;\n",
              "      gap: 12px;\n",
              "    }\n",
              "\n",
              "    .colab-df-convert {\n",
              "      background-color: #E8F0FE;\n",
              "      border: none;\n",
              "      border-radius: 50%;\n",
              "      cursor: pointer;\n",
              "      display: none;\n",
              "      fill: #1967D2;\n",
              "      height: 32px;\n",
              "      padding: 0 0 0 0;\n",
              "      width: 32px;\n",
              "    }\n",
              "\n",
              "    .colab-df-convert:hover {\n",
              "      background-color: #E2EBFA;\n",
              "      box-shadow: 0px 1px 2px rgba(60, 64, 67, 0.3), 0px 1px 3px 1px rgba(60, 64, 67, 0.15);\n",
              "      fill: #174EA6;\n",
              "    }\n",
              "\n",
              "    [theme=dark] .colab-df-convert {\n",
              "      background-color: #3B4455;\n",
              "      fill: #D2E3FC;\n",
              "    }\n",
              "\n",
              "    [theme=dark] .colab-df-convert:hover {\n",
              "      background-color: #434B5C;\n",
              "      box-shadow: 0px 1px 3px 1px rgba(0, 0, 0, 0.15);\n",
              "      filter: drop-shadow(0px 1px 2px rgba(0, 0, 0, 0.3));\n",
              "      fill: #FFFFFF;\n",
              "    }\n",
              "  </style>\n",
              "\n",
              "      <script>\n",
              "        const buttonEl =\n",
              "          document.querySelector('#df-7007a8a0-2cff-4b2a-90a6-662fc47a947b button.colab-df-convert');\n",
              "        buttonEl.style.display =\n",
              "          google.colab.kernel.accessAllowed ? 'block' : 'none';\n",
              "\n",
              "        async function convertToInteractive(key) {\n",
              "          const element = document.querySelector('#df-7007a8a0-2cff-4b2a-90a6-662fc47a947b');\n",
              "          const dataTable =\n",
              "            await google.colab.kernel.invokeFunction('convertToInteractive',\n",
              "                                                     [key], {});\n",
              "          if (!dataTable) return;\n",
              "\n",
              "          const docLinkHtml = 'Like what you see? Visit the ' +\n",
              "            '<a target=\"_blank\" href=https://colab.research.google.com/notebooks/data_table.ipynb>data table notebook</a>'\n",
              "            + ' to learn more about interactive tables.';\n",
              "          element.innerHTML = '';\n",
              "          dataTable['output_type'] = 'display_data';\n",
              "          await google.colab.output.renderOutput(dataTable, element);\n",
              "          const docLink = document.createElement('div');\n",
              "          docLink.innerHTML = docLinkHtml;\n",
              "          element.appendChild(docLink);\n",
              "        }\n",
              "      </script>\n",
              "    </div>\n",
              "  </div>\n",
              "  "
            ]
          },
          "metadata": {},
          "execution_count": 168
        }
      ]
    },
    {
      "cell_type": "code",
      "source": [
        "pd.DataFrame(pg_res.round(4).tolist(), index=var_list, columns=var_list).to_latex()"
      ],
      "metadata": {
        "id": "dzxpfxx5a3fA",
        "outputId": "2d0badbb-d38f-4034-ffa8-d0eee03a187e",
        "colab": {
          "base_uri": "https://localhost:8080/",
          "height": 145
        }
      },
      "execution_count": null,
      "outputs": [
        {
          "output_type": "execute_result",
          "data": {
            "text/plain": [
              "'\\\\begin{tabular}{lllllll}\\n\\\\toprule\\n{} &            svi\\\\_med &           PRC\\\\_diff &          Par\\\\_diff &          vol\\\\_diff &              sent &          count\\\\_med \\\\\\\\\\n\\\\midrule\\nsvi\\\\_med   &         [0.0, 0.0] &  [-2.3377, 0.9903] &  [0.8044, 0.2106] &  [2.9931, 0.0014] &     [4.2986, 0.0] &      [4.8583, 0.0] \\\\\\\\\\nPRC\\\\_diff  &  [-0.0486, 0.5194] &         [0.0, 0.0] &    [20.7836, 0.0] &  [3.1519, 0.0008] &    [15.4668, 0.0] &     [-4.7583, 1.0] \\\\\\\\\\nPar\\\\_diff  &   [2.0107, 0.0222] &     [25.6106, 0.0] &        [0.0, 0.0] &     [5.7143, 0.0] &  [3.4031, 0.0003] &  [-1.9342, 0.9735] \\\\\\\\\\nvol\\\\_diff  &    [132.4972, 0.0] &     [12.3037, 0.0] &     [6.1361, 0.0] &        [0.0, 0.0] &    [2.014, 0.022] &    [145.5588, 0.0] \\\\\\\\\\nsent      &   [2.0615, 0.0196] &  [-2.4902, 0.9936] &   [0.035, 0.4861] &  [0.3368, 0.3681] &        [0.0, 0.0] &      [7.3253, 0.0] \\\\\\\\\\ncount\\\\_med &      [6.6732, 0.0] &     [-5.6128, 1.0] &  [0.5999, 0.2743] &     [6.1717, 0.0] &    [14.3528, 0.0] &         [0.0, 0.0] \\\\\\\\\\n\\\\bottomrule\\n\\\\end{tabular}\\n'"
            ],
            "application/vnd.google.colaboratory.intrinsic+json": {
              "type": "string"
            }
          },
          "metadata": {},
          "execution_count": 169
        }
      ]
    },
    {
      "cell_type": "markdown",
      "source": [
        "This is the DH test results. Lets look at the 3 var case."
      ],
      "metadata": {
        "id": "3iwPqiB8Vb0i"
      }
    },
    {
      "cell_type": "code",
      "source": [
        "LL_res_small = []\n",
        "P = 6\n",
        "#P = 4\n",
        "bs_m = 1000\n",
        "rng_m = np.random.default_rng()\n",
        "for i in [0,3,4,5]:\n",
        "  LL_bs = bootstrap_LL_2(small_arr, P, y_loc=2, x_loc=i, w_loc=1, bs_i=bs_m, rng=rng_m)\n",
        "  LL_cr = np.percentile(np.array(LL_bs[1]), (5,95), axis=0)\n",
        "  subres = (np.squeeze(LL_bs[0]), np.squeeze(LL_cr.transpose()))\n",
        "  LL_res_small.append(subres)"
      ],
      "metadata": {
        "id": "zCHGYG2ZZePn",
        "colab": {
          "base_uri": "https://localhost:8080/"
        },
        "outputId": "f331ff4b-ae29-4849-910b-915758b59638"
      },
      "execution_count": null,
      "outputs": [
        {
          "output_type": "stream",
          "name": "stderr",
          "text": [
            "100%|██████████| 1000/1000 [01:06<00:00, 15.07it/s]\n",
            "100%|██████████| 1000/1000 [00:58<00:00, 17.12it/s]\n",
            "100%|██████████| 1000/1000 [00:53<00:00, 18.57it/s]\n",
            "100%|██████████| 1000/1000 [00:53<00:00, 18.64it/s]\n"
          ]
        }
      ]
    },
    {
      "cell_type": "code",
      "source": [
        "LL_res_small"
      ],
      "metadata": {
        "colab": {
          "base_uri": "https://localhost:8080/"
        },
        "id": "04WA22U8Zq9q",
        "outputId": "f71eab17-a98f-4a0d-ca99-3679e292b782"
      },
      "execution_count": null,
      "outputs": [
        {
          "output_type": "execute_result",
          "data": {
            "text/plain": [
              "[(array(2.65824861), array([-1.12060292,  2.39481695])),\n",
              " (array(5.75518824), array([-1.08992363,  2.30449495])),\n",
              " (array(4.05003563), array([-1.34367468,  1.92403002])),\n",
              " (array(-1.49582187), array([-1.4680415 ,  1.79647093]))]"
            ]
          },
          "metadata": {},
          "execution_count": 231
        }
      ]
    },
    {
      "cell_type": "code",
      "source": [
        "LL_res_large = []\n",
        "P = 6\n",
        "bs_m = 1000\n",
        "rng_m = np.random.default_rng()\n",
        "for i in [0,3,4,5]:\n",
        "  LL_bs = bootstrap_LL_2(large_arr, P, y_loc=2, x_loc=i, w_loc=1, bs_i=bs_m, rng=rng_m)\n",
        "  LL_cr = np.percentile(np.array(LL_bs[1]), (5,95), axis=0)\n",
        "  subres = (np.squeeze(LL_bs[0]), np.squeeze(LL_cr.transpose()))\n",
        "  LL_res_large.append(subres)"
      ],
      "metadata": {
        "id": "3vBwXyfcZybk",
        "colab": {
          "base_uri": "https://localhost:8080/"
        },
        "outputId": "9c7ace60-ac4e-43d2-8ac6-f075a4ccff98"
      },
      "execution_count": null,
      "outputs": [
        {
          "output_type": "stream",
          "name": "stderr",
          "text": [
            "100%|██████████| 1000/1000 [00:20<00:00, 49.78it/s]\n",
            "100%|██████████| 1000/1000 [00:18<00:00, 52.86it/s]\n",
            "100%|██████████| 1000/1000 [00:18<00:00, 53.65it/s]\n",
            "100%|██████████| 1000/1000 [00:18<00:00, 53.00it/s]\n"
          ]
        }
      ]
    },
    {
      "cell_type": "code",
      "source": [
        "LL_res_large"
      ],
      "metadata": {
        "colab": {
          "base_uri": "https://localhost:8080/"
        },
        "id": "ApJEiEqAaAUX",
        "outputId": "1461da2f-59f1-4b4e-862b-d654621e312e"
      },
      "execution_count": null,
      "outputs": [
        {
          "output_type": "execute_result",
          "data": {
            "text/plain": [
              "[(array(3.16731313), array([-1.45007084,  1.80377662])),\n",
              " (array(5.8583068), array([-1.49519046,  1.9097582 ])),\n",
              " (array(2.17891922), array([-1.36813227,  2.0962708 ])),\n",
              " (array(-1.05644857), array([-1.24086384,  2.09813958]))]"
            ]
          },
          "metadata": {},
          "execution_count": 233
        }
      ]
    },
    {
      "cell_type": "code",
      "source": [
        "LL_res_large_1 = []\n",
        "P = 6\n",
        "bs_m = 1000\n",
        "rng_m = np.random.default_rng()\n",
        "for i in [1,3,4,5]:\n",
        "  LL_bs = bootstrap_LL_2(large_arr, P, y_loc=2, x_loc=0, w_loc=i, bs_i=bs_m, rng=rng_m)\n",
        "  LL_cr = np.percentile(np.array(LL_bs[1]), (5,95), axis=0)\n",
        "  subres = (np.squeeze(LL_bs[0]), np.squeeze(LL_cr.transpose()))\n",
        "  LL_res_large_1.append(subres)"
      ],
      "metadata": {
        "id": "FExWpbNl8F7H",
        "colab": {
          "base_uri": "https://localhost:8080/"
        },
        "outputId": "46f3a659-6379-472e-c294-4e5cb45036e2"
      },
      "execution_count": null,
      "outputs": [
        {
          "output_type": "stream",
          "name": "stderr",
          "text": [
            "100%|██████████| 1000/1000 [00:24<00:00, 40.56it/s]\n",
            "100%|██████████| 1000/1000 [00:19<00:00, 52.52it/s]\n",
            "100%|██████████| 1000/1000 [00:19<00:00, 52.38it/s]\n",
            "100%|██████████| 1000/1000 [00:19<00:00, 52.24it/s]\n"
          ]
        }
      ]
    },
    {
      "cell_type": "code",
      "source": [
        "LL_res_large_1"
      ],
      "metadata": {
        "colab": {
          "base_uri": "https://localhost:8080/"
        },
        "id": "NVIio7bE8l7A",
        "outputId": "7facb270-fb59-4cf4-90ae-e14581f5c7c3"
      },
      "execution_count": null,
      "outputs": [
        {
          "output_type": "execute_result",
          "data": {
            "text/plain": [
              "[(array(3.16731313), array([-1.23253561,  2.08235933])),\n",
              " (array(3.01531449), array([-1.26410279,  2.00711677])),\n",
              " (array(3.02299368), array([-1.46078799,  1.85359912])),\n",
              " (array(4.17292773), array([-1.48317672,  1.98901142]))]"
            ]
          },
          "metadata": {},
          "execution_count": 236
        }
      ]
    },
    {
      "cell_type": "code",
      "source": [
        "LL_res_small_1 = []\n",
        "P = 6\n",
        "bs_m = 1000\n",
        "rng_m = np.random.default_rng()\n",
        "for i in [1,3,4,5]:\n",
        "  LL_bs = bootstrap_LL_2(small_arr, P, y_loc=2, x_loc=0, w_loc=i, bs_i=bs_m, rng=rng_m)\n",
        "  LL_cr = np.percentile(np.array(LL_bs[1]), (5,95), axis=0)\n",
        "  subres = (np.squeeze(LL_bs[0]), np.squeeze(LL_cr.transpose()))\n",
        "  LL_res_small_1.append(subres)"
      ],
      "metadata": {
        "colab": {
          "base_uri": "https://localhost:8080/"
        },
        "id": "gVty-Lk69G4c",
        "outputId": "8d442faa-35cc-49a7-f22c-d3b235968bc1"
      },
      "execution_count": null,
      "outputs": [
        {
          "output_type": "stream",
          "name": "stderr",
          "text": [
            "100%|██████████| 1000/1000 [01:04<00:00, 15.47it/s]\n",
            "100%|██████████| 1000/1000 [00:59<00:00, 16.68it/s]\n",
            "100%|██████████| 1000/1000 [00:53<00:00, 18.56it/s]\n",
            "100%|██████████| 1000/1000 [00:55<00:00, 18.16it/s]\n"
          ]
        }
      ]
    },
    {
      "cell_type": "code",
      "source": [
        "LL_res_small_1"
      ],
      "metadata": {
        "colab": {
          "base_uri": "https://localhost:8080/"
        },
        "id": "r5FuwdXf9Wen",
        "outputId": "484b0950-5da4-4013-ec0c-63ca254dd3d6"
      },
      "execution_count": null,
      "outputs": [
        {
          "output_type": "execute_result",
          "data": {
            "text/plain": [
              "[(array(2.65824861), array([-1.16101198,  2.18953914])),\n",
              " (array(0.99011986), array([-0.89481369,  2.59684054])),\n",
              " (array(2.6333827), array([-1.21017612,  2.29900607])),\n",
              " (array(2.41554668), array([-1.76138172,  1.69424821]))]"
            ]
          },
          "metadata": {},
          "execution_count": 238
        }
      ]
    },
    {
      "cell_type": "code",
      "source": [],
      "metadata": {
        "id": "r3j-ZNokV5TN"
      },
      "execution_count": null,
      "outputs": []
    },
    {
      "cell_type": "markdown",
      "source": [
        "#Start of R code\n"
      ],
      "metadata": {
        "id": "xMaQZAtALXwT"
      }
    },
    {
      "cell_type": "markdown",
      "source": [
        "I need to use the plm from R in the next part. "
      ],
      "metadata": {
        "id": "0tK6HqgAVwGm"
      }
    },
    {
      "cell_type": "code",
      "source": [
        "%%R\n",
        "install.packages(\"plm\")"
      ],
      "metadata": {
        "id": "NDAT6Tr7l9t8",
        "colab": {
          "base_uri": "https://localhost:8080/"
        },
        "outputId": "8f414450-ff71-40bd-c330-b29ada7ee395"
      },
      "execution_count": null,
      "outputs": [
        {
          "output_type": "stream",
          "name": "stderr",
          "text": [
            "WARNING:rpy2.rinterface_lib.callbacks:R[write to console]: Installing package into ‘/usr/local/lib/R/site-library’\n",
            "(as ‘lib’ is unspecified)\n",
            "\n",
            "WARNING:rpy2.rinterface_lib.callbacks:R[write to console]: also installing the dependencies ‘Rcpp’, ‘miscTools’, ‘rbibutils’, ‘bdsmatrix’, ‘collapse’, ‘zoo’, ‘sandwich’, ‘lmtest’, ‘maxLik’, ‘Rdpack’, ‘Formula’\n",
            "\n",
            "\n",
            "WARNING:rpy2.rinterface_lib.callbacks:R[write to console]: trying URL 'https://cran.rstudio.com/src/contrib/Rcpp_1.0.9.tar.gz'\n",
            "\n",
            "WARNING:rpy2.rinterface_lib.callbacks:R[write to console]: Content type 'application/x-gzip'\n",
            "WARNING:rpy2.rinterface_lib.callbacks:R[write to console]:  length 2957812 bytes (2.8 MB)\n",
            "\n",
            "WARNING:rpy2.rinterface_lib.callbacks:R[write to console]: =\n",
            "WARNING:rpy2.rinterface_lib.callbacks:R[write to console]: =\n",
            "WARNING:rpy2.rinterface_lib.callbacks:R[write to console]: =\n",
            "WARNING:rpy2.rinterface_lib.callbacks:R[write to console]: =\n",
            "WARNING:rpy2.rinterface_lib.callbacks:R[write to console]: =\n",
            "WARNING:rpy2.rinterface_lib.callbacks:R[write to console]: =\n",
            "WARNING:rpy2.rinterface_lib.callbacks:R[write to console]: =\n",
            "WARNING:rpy2.rinterface_lib.callbacks:R[write to console]: =\n",
            "WARNING:rpy2.rinterface_lib.callbacks:R[write to console]: =\n",
            "WARNING:rpy2.rinterface_lib.callbacks:R[write to console]: =\n",
            "WARNING:rpy2.rinterface_lib.callbacks:R[write to console]: =\n",
            "WARNING:rpy2.rinterface_lib.callbacks:R[write to console]: =\n",
            "WARNING:rpy2.rinterface_lib.callbacks:R[write to console]: =\n",
            "WARNING:rpy2.rinterface_lib.callbacks:R[write to console]: =\n",
            "WARNING:rpy2.rinterface_lib.callbacks:R[write to console]: =\n",
            "WARNING:rpy2.rinterface_lib.callbacks:R[write to console]: =\n",
            "WARNING:rpy2.rinterface_lib.callbacks:R[write to console]: =\n",
            "WARNING:rpy2.rinterface_lib.callbacks:R[write to console]: =\n",
            "WARNING:rpy2.rinterface_lib.callbacks:R[write to console]: =\n",
            "WARNING:rpy2.rinterface_lib.callbacks:R[write to console]: =\n",
            "WARNING:rpy2.rinterface_lib.callbacks:R[write to console]: =\n",
            "WARNING:rpy2.rinterface_lib.callbacks:R[write to console]: =\n",
            "WARNING:rpy2.rinterface_lib.callbacks:R[write to console]: =\n",
            "WARNING:rpy2.rinterface_lib.callbacks:R[write to console]: =\n",
            "WARNING:rpy2.rinterface_lib.callbacks:R[write to console]: =\n",
            "WARNING:rpy2.rinterface_lib.callbacks:R[write to console]: =\n",
            "WARNING:rpy2.rinterface_lib.callbacks:R[write to console]: =\n",
            "WARNING:rpy2.rinterface_lib.callbacks:R[write to console]: =\n",
            "WARNING:rpy2.rinterface_lib.callbacks:R[write to console]: =\n",
            "WARNING:rpy2.rinterface_lib.callbacks:R[write to console]: =\n",
            "WARNING:rpy2.rinterface_lib.callbacks:R[write to console]: =\n",
            "WARNING:rpy2.rinterface_lib.callbacks:R[write to console]: =\n",
            "WARNING:rpy2.rinterface_lib.callbacks:R[write to console]: =\n",
            "WARNING:rpy2.rinterface_lib.callbacks:R[write to console]: =\n",
            "WARNING:rpy2.rinterface_lib.callbacks:R[write to console]: =\n",
            "WARNING:rpy2.rinterface_lib.callbacks:R[write to console]: =\n",
            "WARNING:rpy2.rinterface_lib.callbacks:R[write to console]: =\n",
            "WARNING:rpy2.rinterface_lib.callbacks:R[write to console]: =\n",
            "WARNING:rpy2.rinterface_lib.callbacks:R[write to console]: =\n",
            "WARNING:rpy2.rinterface_lib.callbacks:R[write to console]: =\n",
            "WARNING:rpy2.rinterface_lib.callbacks:R[write to console]: =\n",
            "WARNING:rpy2.rinterface_lib.callbacks:R[write to console]: =\n",
            "WARNING:rpy2.rinterface_lib.callbacks:R[write to console]: =\n",
            "WARNING:rpy2.rinterface_lib.callbacks:R[write to console]: =\n",
            "WARNING:rpy2.rinterface_lib.callbacks:R[write to console]: =\n",
            "WARNING:rpy2.rinterface_lib.callbacks:R[write to console]: =\n",
            "WARNING:rpy2.rinterface_lib.callbacks:R[write to console]: =\n",
            "WARNING:rpy2.rinterface_lib.callbacks:R[write to console]: =\n",
            "WARNING:rpy2.rinterface_lib.callbacks:R[write to console]: =\n",
            "WARNING:rpy2.rinterface_lib.callbacks:R[write to console]: =\n",
            "WARNING:rpy2.rinterface_lib.callbacks:R[write to console]: \n",
            "\n",
            "WARNING:rpy2.rinterface_lib.callbacks:R[write to console]: downloaded 2.8 MB\n",
            "\n",
            "\n",
            "WARNING:rpy2.rinterface_lib.callbacks:R[write to console]: trying URL 'https://cran.rstudio.com/src/contrib/miscTools_0.6-26.tar.gz'\n",
            "\n",
            "WARNING:rpy2.rinterface_lib.callbacks:R[write to console]: Content type 'application/x-gzip'\n",
            "WARNING:rpy2.rinterface_lib.callbacks:R[write to console]:  length 25420 bytes (24 KB)\n",
            "\n",
            "WARNING:rpy2.rinterface_lib.callbacks:R[write to console]: =\n",
            "WARNING:rpy2.rinterface_lib.callbacks:R[write to console]: =\n",
            "WARNING:rpy2.rinterface_lib.callbacks:R[write to console]: =\n",
            "WARNING:rpy2.rinterface_lib.callbacks:R[write to console]: =\n",
            "WARNING:rpy2.rinterface_lib.callbacks:R[write to console]: =\n",
            "WARNING:rpy2.rinterface_lib.callbacks:R[write to console]: =\n",
            "WARNING:rpy2.rinterface_lib.callbacks:R[write to console]: =\n",
            "WARNING:rpy2.rinterface_lib.callbacks:R[write to console]: =\n",
            "WARNING:rpy2.rinterface_lib.callbacks:R[write to console]: =\n",
            "WARNING:rpy2.rinterface_lib.callbacks:R[write to console]: =\n",
            "WARNING:rpy2.rinterface_lib.callbacks:R[write to console]: =\n",
            "WARNING:rpy2.rinterface_lib.callbacks:R[write to console]: =\n",
            "WARNING:rpy2.rinterface_lib.callbacks:R[write to console]: =\n",
            "WARNING:rpy2.rinterface_lib.callbacks:R[write to console]: =\n",
            "WARNING:rpy2.rinterface_lib.callbacks:R[write to console]: =\n",
            "WARNING:rpy2.rinterface_lib.callbacks:R[write to console]: =\n",
            "WARNING:rpy2.rinterface_lib.callbacks:R[write to console]: =\n",
            "WARNING:rpy2.rinterface_lib.callbacks:R[write to console]: =\n",
            "WARNING:rpy2.rinterface_lib.callbacks:R[write to console]: =\n",
            "WARNING:rpy2.rinterface_lib.callbacks:R[write to console]: =\n",
            "WARNING:rpy2.rinterface_lib.callbacks:R[write to console]: =\n",
            "WARNING:rpy2.rinterface_lib.callbacks:R[write to console]: =\n",
            "WARNING:rpy2.rinterface_lib.callbacks:R[write to console]: =\n",
            "WARNING:rpy2.rinterface_lib.callbacks:R[write to console]: =\n",
            "WARNING:rpy2.rinterface_lib.callbacks:R[write to console]: =\n",
            "WARNING:rpy2.rinterface_lib.callbacks:R[write to console]: =\n",
            "WARNING:rpy2.rinterface_lib.callbacks:R[write to console]: =\n",
            "WARNING:rpy2.rinterface_lib.callbacks:R[write to console]: =\n",
            "WARNING:rpy2.rinterface_lib.callbacks:R[write to console]: =\n",
            "WARNING:rpy2.rinterface_lib.callbacks:R[write to console]: =\n",
            "WARNING:rpy2.rinterface_lib.callbacks:R[write to console]: =\n",
            "WARNING:rpy2.rinterface_lib.callbacks:R[write to console]: =\n",
            "WARNING:rpy2.rinterface_lib.callbacks:R[write to console]: =\n",
            "WARNING:rpy2.rinterface_lib.callbacks:R[write to console]: =\n",
            "WARNING:rpy2.rinterface_lib.callbacks:R[write to console]: =\n",
            "WARNING:rpy2.rinterface_lib.callbacks:R[write to console]: =\n",
            "WARNING:rpy2.rinterface_lib.callbacks:R[write to console]: =\n",
            "WARNING:rpy2.rinterface_lib.callbacks:R[write to console]: =\n",
            "WARNING:rpy2.rinterface_lib.callbacks:R[write to console]: =\n",
            "WARNING:rpy2.rinterface_lib.callbacks:R[write to console]: =\n",
            "WARNING:rpy2.rinterface_lib.callbacks:R[write to console]: =\n",
            "WARNING:rpy2.rinterface_lib.callbacks:R[write to console]: =\n",
            "WARNING:rpy2.rinterface_lib.callbacks:R[write to console]: =\n",
            "WARNING:rpy2.rinterface_lib.callbacks:R[write to console]: =\n",
            "WARNING:rpy2.rinterface_lib.callbacks:R[write to console]: =\n",
            "WARNING:rpy2.rinterface_lib.callbacks:R[write to console]: =\n",
            "WARNING:rpy2.rinterface_lib.callbacks:R[write to console]: =\n",
            "WARNING:rpy2.rinterface_lib.callbacks:R[write to console]: =\n",
            "WARNING:rpy2.rinterface_lib.callbacks:R[write to console]: =\n",
            "WARNING:rpy2.rinterface_lib.callbacks:R[write to console]: =\n",
            "WARNING:rpy2.rinterface_lib.callbacks:R[write to console]: \n",
            "\n",
            "WARNING:rpy2.rinterface_lib.callbacks:R[write to console]: downloaded 24 KB\n",
            "\n",
            "\n",
            "WARNING:rpy2.rinterface_lib.callbacks:R[write to console]: trying URL 'https://cran.rstudio.com/src/contrib/rbibutils_2.2.9.tar.gz'\n",
            "\n",
            "WARNING:rpy2.rinterface_lib.callbacks:R[write to console]: Content type 'application/x-gzip'\n",
            "WARNING:rpy2.rinterface_lib.callbacks:R[write to console]:  length 882881 bytes (862 KB)\n",
            "\n",
            "WARNING:rpy2.rinterface_lib.callbacks:R[write to console]: =\n",
            "WARNING:rpy2.rinterface_lib.callbacks:R[write to console]: =\n",
            "WARNING:rpy2.rinterface_lib.callbacks:R[write to console]: =\n",
            "WARNING:rpy2.rinterface_lib.callbacks:R[write to console]: =\n",
            "WARNING:rpy2.rinterface_lib.callbacks:R[write to console]: =\n",
            "WARNING:rpy2.rinterface_lib.callbacks:R[write to console]: =\n",
            "WARNING:rpy2.rinterface_lib.callbacks:R[write to console]: =\n",
            "WARNING:rpy2.rinterface_lib.callbacks:R[write to console]: =\n",
            "WARNING:rpy2.rinterface_lib.callbacks:R[write to console]: =\n",
            "WARNING:rpy2.rinterface_lib.callbacks:R[write to console]: =\n",
            "WARNING:rpy2.rinterface_lib.callbacks:R[write to console]: =\n",
            "WARNING:rpy2.rinterface_lib.callbacks:R[write to console]: =\n",
            "WARNING:rpy2.rinterface_lib.callbacks:R[write to console]: =\n",
            "WARNING:rpy2.rinterface_lib.callbacks:R[write to console]: =\n",
            "WARNING:rpy2.rinterface_lib.callbacks:R[write to console]: =\n",
            "WARNING:rpy2.rinterface_lib.callbacks:R[write to console]: =\n",
            "WARNING:rpy2.rinterface_lib.callbacks:R[write to console]: =\n",
            "WARNING:rpy2.rinterface_lib.callbacks:R[write to console]: =\n",
            "WARNING:rpy2.rinterface_lib.callbacks:R[write to console]: =\n",
            "WARNING:rpy2.rinterface_lib.callbacks:R[write to console]: =\n",
            "WARNING:rpy2.rinterface_lib.callbacks:R[write to console]: =\n",
            "WARNING:rpy2.rinterface_lib.callbacks:R[write to console]: =\n",
            "WARNING:rpy2.rinterface_lib.callbacks:R[write to console]: =\n",
            "WARNING:rpy2.rinterface_lib.callbacks:R[write to console]: =\n",
            "WARNING:rpy2.rinterface_lib.callbacks:R[write to console]: =\n",
            "WARNING:rpy2.rinterface_lib.callbacks:R[write to console]: =\n",
            "WARNING:rpy2.rinterface_lib.callbacks:R[write to console]: =\n",
            "WARNING:rpy2.rinterface_lib.callbacks:R[write to console]: =\n",
            "WARNING:rpy2.rinterface_lib.callbacks:R[write to console]: =\n",
            "WARNING:rpy2.rinterface_lib.callbacks:R[write to console]: =\n",
            "WARNING:rpy2.rinterface_lib.callbacks:R[write to console]: =\n",
            "WARNING:rpy2.rinterface_lib.callbacks:R[write to console]: =\n",
            "WARNING:rpy2.rinterface_lib.callbacks:R[write to console]: =\n",
            "WARNING:rpy2.rinterface_lib.callbacks:R[write to console]: =\n",
            "WARNING:rpy2.rinterface_lib.callbacks:R[write to console]: =\n",
            "WARNING:rpy2.rinterface_lib.callbacks:R[write to console]: =\n",
            "WARNING:rpy2.rinterface_lib.callbacks:R[write to console]: =\n",
            "WARNING:rpy2.rinterface_lib.callbacks:R[write to console]: =\n",
            "WARNING:rpy2.rinterface_lib.callbacks:R[write to console]: =\n",
            "WARNING:rpy2.rinterface_lib.callbacks:R[write to console]: =\n",
            "WARNING:rpy2.rinterface_lib.callbacks:R[write to console]: =\n",
            "WARNING:rpy2.rinterface_lib.callbacks:R[write to console]: =\n",
            "WARNING:rpy2.rinterface_lib.callbacks:R[write to console]: =\n",
            "WARNING:rpy2.rinterface_lib.callbacks:R[write to console]: =\n",
            "WARNING:rpy2.rinterface_lib.callbacks:R[write to console]: =\n",
            "WARNING:rpy2.rinterface_lib.callbacks:R[write to console]: =\n",
            "WARNING:rpy2.rinterface_lib.callbacks:R[write to console]: =\n",
            "WARNING:rpy2.rinterface_lib.callbacks:R[write to console]: =\n",
            "WARNING:rpy2.rinterface_lib.callbacks:R[write to console]: =\n",
            "WARNING:rpy2.rinterface_lib.callbacks:R[write to console]: =\n",
            "WARNING:rpy2.rinterface_lib.callbacks:R[write to console]: \n",
            "\n",
            "WARNING:rpy2.rinterface_lib.callbacks:R[write to console]: downloaded 862 KB\n",
            "\n",
            "\n",
            "WARNING:rpy2.rinterface_lib.callbacks:R[write to console]: trying URL 'https://cran.rstudio.com/src/contrib/bdsmatrix_1.3-6.tar.gz'\n",
            "\n",
            "WARNING:rpy2.rinterface_lib.callbacks:R[write to console]: Content type 'application/x-gzip'\n",
            "WARNING:rpy2.rinterface_lib.callbacks:R[write to console]:  length 48147 bytes (47 KB)\n",
            "\n",
            "WARNING:rpy2.rinterface_lib.callbacks:R[write to console]: =\n",
            "WARNING:rpy2.rinterface_lib.callbacks:R[write to console]: =\n",
            "WARNING:rpy2.rinterface_lib.callbacks:R[write to console]: =\n",
            "WARNING:rpy2.rinterface_lib.callbacks:R[write to console]: =\n",
            "WARNING:rpy2.rinterface_lib.callbacks:R[write to console]: =\n",
            "WARNING:rpy2.rinterface_lib.callbacks:R[write to console]: =\n",
            "WARNING:rpy2.rinterface_lib.callbacks:R[write to console]: =\n",
            "WARNING:rpy2.rinterface_lib.callbacks:R[write to console]: =\n",
            "WARNING:rpy2.rinterface_lib.callbacks:R[write to console]: =\n",
            "WARNING:rpy2.rinterface_lib.callbacks:R[write to console]: =\n",
            "WARNING:rpy2.rinterface_lib.callbacks:R[write to console]: =\n",
            "WARNING:rpy2.rinterface_lib.callbacks:R[write to console]: =\n",
            "WARNING:rpy2.rinterface_lib.callbacks:R[write to console]: =\n",
            "WARNING:rpy2.rinterface_lib.callbacks:R[write to console]: =\n",
            "WARNING:rpy2.rinterface_lib.callbacks:R[write to console]: =\n",
            "WARNING:rpy2.rinterface_lib.callbacks:R[write to console]: =\n",
            "WARNING:rpy2.rinterface_lib.callbacks:R[write to console]: =\n",
            "WARNING:rpy2.rinterface_lib.callbacks:R[write to console]: =\n",
            "WARNING:rpy2.rinterface_lib.callbacks:R[write to console]: =\n",
            "WARNING:rpy2.rinterface_lib.callbacks:R[write to console]: =\n",
            "WARNING:rpy2.rinterface_lib.callbacks:R[write to console]: =\n",
            "WARNING:rpy2.rinterface_lib.callbacks:R[write to console]: =\n",
            "WARNING:rpy2.rinterface_lib.callbacks:R[write to console]: =\n",
            "WARNING:rpy2.rinterface_lib.callbacks:R[write to console]: =\n",
            "WARNING:rpy2.rinterface_lib.callbacks:R[write to console]: =\n",
            "WARNING:rpy2.rinterface_lib.callbacks:R[write to console]: =\n",
            "WARNING:rpy2.rinterface_lib.callbacks:R[write to console]: =\n",
            "WARNING:rpy2.rinterface_lib.callbacks:R[write to console]: =\n",
            "WARNING:rpy2.rinterface_lib.callbacks:R[write to console]: =\n",
            "WARNING:rpy2.rinterface_lib.callbacks:R[write to console]: =\n",
            "WARNING:rpy2.rinterface_lib.callbacks:R[write to console]: =\n",
            "WARNING:rpy2.rinterface_lib.callbacks:R[write to console]: =\n",
            "WARNING:rpy2.rinterface_lib.callbacks:R[write to console]: =\n",
            "WARNING:rpy2.rinterface_lib.callbacks:R[write to console]: =\n",
            "WARNING:rpy2.rinterface_lib.callbacks:R[write to console]: =\n",
            "WARNING:rpy2.rinterface_lib.callbacks:R[write to console]: =\n",
            "WARNING:rpy2.rinterface_lib.callbacks:R[write to console]: =\n",
            "WARNING:rpy2.rinterface_lib.callbacks:R[write to console]: =\n",
            "WARNING:rpy2.rinterface_lib.callbacks:R[write to console]: =\n",
            "WARNING:rpy2.rinterface_lib.callbacks:R[write to console]: =\n",
            "WARNING:rpy2.rinterface_lib.callbacks:R[write to console]: =\n",
            "WARNING:rpy2.rinterface_lib.callbacks:R[write to console]: =\n",
            "WARNING:rpy2.rinterface_lib.callbacks:R[write to console]: =\n",
            "WARNING:rpy2.rinterface_lib.callbacks:R[write to console]: =\n",
            "WARNING:rpy2.rinterface_lib.callbacks:R[write to console]: =\n",
            "WARNING:rpy2.rinterface_lib.callbacks:R[write to console]: =\n",
            "WARNING:rpy2.rinterface_lib.callbacks:R[write to console]: =\n",
            "WARNING:rpy2.rinterface_lib.callbacks:R[write to console]: =\n",
            "WARNING:rpy2.rinterface_lib.callbacks:R[write to console]: =\n",
            "WARNING:rpy2.rinterface_lib.callbacks:R[write to console]: =\n",
            "WARNING:rpy2.rinterface_lib.callbacks:R[write to console]: \n",
            "\n",
            "WARNING:rpy2.rinterface_lib.callbacks:R[write to console]: downloaded 47 KB\n",
            "\n",
            "\n",
            "WARNING:rpy2.rinterface_lib.callbacks:R[write to console]: trying URL 'https://cran.rstudio.com/src/contrib/collapse_1.8.9.tar.gz'\n",
            "\n",
            "WARNING:rpy2.rinterface_lib.callbacks:R[write to console]: Content type 'application/x-gzip'\n",
            "WARNING:rpy2.rinterface_lib.callbacks:R[write to console]:  length 1177638 bytes (1.1 MB)\n",
            "\n",
            "WARNING:rpy2.rinterface_lib.callbacks:R[write to console]: =\n",
            "WARNING:rpy2.rinterface_lib.callbacks:R[write to console]: =\n",
            "WARNING:rpy2.rinterface_lib.callbacks:R[write to console]: =\n",
            "WARNING:rpy2.rinterface_lib.callbacks:R[write to console]: =\n",
            "WARNING:rpy2.rinterface_lib.callbacks:R[write to console]: =\n",
            "WARNING:rpy2.rinterface_lib.callbacks:R[write to console]: =\n",
            "WARNING:rpy2.rinterface_lib.callbacks:R[write to console]: =\n",
            "WARNING:rpy2.rinterface_lib.callbacks:R[write to console]: =\n",
            "WARNING:rpy2.rinterface_lib.callbacks:R[write to console]: =\n",
            "WARNING:rpy2.rinterface_lib.callbacks:R[write to console]: =\n",
            "WARNING:rpy2.rinterface_lib.callbacks:R[write to console]: =\n",
            "WARNING:rpy2.rinterface_lib.callbacks:R[write to console]: =\n",
            "WARNING:rpy2.rinterface_lib.callbacks:R[write to console]: =\n",
            "WARNING:rpy2.rinterface_lib.callbacks:R[write to console]: =\n",
            "WARNING:rpy2.rinterface_lib.callbacks:R[write to console]: =\n",
            "WARNING:rpy2.rinterface_lib.callbacks:R[write to console]: =\n",
            "WARNING:rpy2.rinterface_lib.callbacks:R[write to console]: =\n",
            "WARNING:rpy2.rinterface_lib.callbacks:R[write to console]: =\n",
            "WARNING:rpy2.rinterface_lib.callbacks:R[write to console]: =\n",
            "WARNING:rpy2.rinterface_lib.callbacks:R[write to console]: =\n",
            "WARNING:rpy2.rinterface_lib.callbacks:R[write to console]: =\n",
            "WARNING:rpy2.rinterface_lib.callbacks:R[write to console]: =\n",
            "WARNING:rpy2.rinterface_lib.callbacks:R[write to console]: =\n",
            "WARNING:rpy2.rinterface_lib.callbacks:R[write to console]: =\n",
            "WARNING:rpy2.rinterface_lib.callbacks:R[write to console]: =\n",
            "WARNING:rpy2.rinterface_lib.callbacks:R[write to console]: =\n",
            "WARNING:rpy2.rinterface_lib.callbacks:R[write to console]: =\n",
            "WARNING:rpy2.rinterface_lib.callbacks:R[write to console]: =\n",
            "WARNING:rpy2.rinterface_lib.callbacks:R[write to console]: =\n",
            "WARNING:rpy2.rinterface_lib.callbacks:R[write to console]: =\n",
            "WARNING:rpy2.rinterface_lib.callbacks:R[write to console]: =\n",
            "WARNING:rpy2.rinterface_lib.callbacks:R[write to console]: =\n",
            "WARNING:rpy2.rinterface_lib.callbacks:R[write to console]: =\n",
            "WARNING:rpy2.rinterface_lib.callbacks:R[write to console]: =\n",
            "WARNING:rpy2.rinterface_lib.callbacks:R[write to console]: =\n",
            "WARNING:rpy2.rinterface_lib.callbacks:R[write to console]: =\n",
            "WARNING:rpy2.rinterface_lib.callbacks:R[write to console]: =\n",
            "WARNING:rpy2.rinterface_lib.callbacks:R[write to console]: =\n",
            "WARNING:rpy2.rinterface_lib.callbacks:R[write to console]: =\n",
            "WARNING:rpy2.rinterface_lib.callbacks:R[write to console]: =\n",
            "WARNING:rpy2.rinterface_lib.callbacks:R[write to console]: =\n",
            "WARNING:rpy2.rinterface_lib.callbacks:R[write to console]: =\n",
            "WARNING:rpy2.rinterface_lib.callbacks:R[write to console]: =\n",
            "WARNING:rpy2.rinterface_lib.callbacks:R[write to console]: =\n",
            "WARNING:rpy2.rinterface_lib.callbacks:R[write to console]: =\n",
            "WARNING:rpy2.rinterface_lib.callbacks:R[write to console]: =\n",
            "WARNING:rpy2.rinterface_lib.callbacks:R[write to console]: =\n",
            "WARNING:rpy2.rinterface_lib.callbacks:R[write to console]: =\n",
            "WARNING:rpy2.rinterface_lib.callbacks:R[write to console]: =\n",
            "WARNING:rpy2.rinterface_lib.callbacks:R[write to console]: =\n",
            "WARNING:rpy2.rinterface_lib.callbacks:R[write to console]: \n",
            "\n",
            "WARNING:rpy2.rinterface_lib.callbacks:R[write to console]: downloaded 1.1 MB\n",
            "\n",
            "\n",
            "WARNING:rpy2.rinterface_lib.callbacks:R[write to console]: trying URL 'https://cran.rstudio.com/src/contrib/zoo_1.8-11.tar.gz'\n",
            "\n",
            "WARNING:rpy2.rinterface_lib.callbacks:R[write to console]: Content type 'application/x-gzip'\n",
            "WARNING:rpy2.rinterface_lib.callbacks:R[write to console]:  length 781934 bytes (763 KB)\n",
            "\n",
            "WARNING:rpy2.rinterface_lib.callbacks:R[write to console]: =\n",
            "WARNING:rpy2.rinterface_lib.callbacks:R[write to console]: =\n",
            "WARNING:rpy2.rinterface_lib.callbacks:R[write to console]: =\n",
            "WARNING:rpy2.rinterface_lib.callbacks:R[write to console]: =\n",
            "WARNING:rpy2.rinterface_lib.callbacks:R[write to console]: =\n",
            "WARNING:rpy2.rinterface_lib.callbacks:R[write to console]: =\n",
            "WARNING:rpy2.rinterface_lib.callbacks:R[write to console]: =\n",
            "WARNING:rpy2.rinterface_lib.callbacks:R[write to console]: =\n",
            "WARNING:rpy2.rinterface_lib.callbacks:R[write to console]: =\n",
            "WARNING:rpy2.rinterface_lib.callbacks:R[write to console]: =\n",
            "WARNING:rpy2.rinterface_lib.callbacks:R[write to console]: =\n",
            "WARNING:rpy2.rinterface_lib.callbacks:R[write to console]: =\n",
            "WARNING:rpy2.rinterface_lib.callbacks:R[write to console]: =\n",
            "WARNING:rpy2.rinterface_lib.callbacks:R[write to console]: =\n",
            "WARNING:rpy2.rinterface_lib.callbacks:R[write to console]: =\n",
            "WARNING:rpy2.rinterface_lib.callbacks:R[write to console]: =\n",
            "WARNING:rpy2.rinterface_lib.callbacks:R[write to console]: =\n",
            "WARNING:rpy2.rinterface_lib.callbacks:R[write to console]: =\n",
            "WARNING:rpy2.rinterface_lib.callbacks:R[write to console]: =\n",
            "WARNING:rpy2.rinterface_lib.callbacks:R[write to console]: =\n",
            "WARNING:rpy2.rinterface_lib.callbacks:R[write to console]: =\n",
            "WARNING:rpy2.rinterface_lib.callbacks:R[write to console]: =\n",
            "WARNING:rpy2.rinterface_lib.callbacks:R[write to console]: =\n",
            "WARNING:rpy2.rinterface_lib.callbacks:R[write to console]: =\n",
            "WARNING:rpy2.rinterface_lib.callbacks:R[write to console]: =\n",
            "WARNING:rpy2.rinterface_lib.callbacks:R[write to console]: =\n",
            "WARNING:rpy2.rinterface_lib.callbacks:R[write to console]: =\n",
            "WARNING:rpy2.rinterface_lib.callbacks:R[write to console]: =\n",
            "WARNING:rpy2.rinterface_lib.callbacks:R[write to console]: =\n",
            "WARNING:rpy2.rinterface_lib.callbacks:R[write to console]: =\n",
            "WARNING:rpy2.rinterface_lib.callbacks:R[write to console]: =\n",
            "WARNING:rpy2.rinterface_lib.callbacks:R[write to console]: =\n",
            "WARNING:rpy2.rinterface_lib.callbacks:R[write to console]: =\n",
            "WARNING:rpy2.rinterface_lib.callbacks:R[write to console]: =\n",
            "WARNING:rpy2.rinterface_lib.callbacks:R[write to console]: =\n",
            "WARNING:rpy2.rinterface_lib.callbacks:R[write to console]: =\n",
            "WARNING:rpy2.rinterface_lib.callbacks:R[write to console]: =\n",
            "WARNING:rpy2.rinterface_lib.callbacks:R[write to console]: =\n",
            "WARNING:rpy2.rinterface_lib.callbacks:R[write to console]: =\n",
            "WARNING:rpy2.rinterface_lib.callbacks:R[write to console]: =\n",
            "WARNING:rpy2.rinterface_lib.callbacks:R[write to console]: =\n",
            "WARNING:rpy2.rinterface_lib.callbacks:R[write to console]: =\n",
            "WARNING:rpy2.rinterface_lib.callbacks:R[write to console]: =\n",
            "WARNING:rpy2.rinterface_lib.callbacks:R[write to console]: =\n",
            "WARNING:rpy2.rinterface_lib.callbacks:R[write to console]: =\n",
            "WARNING:rpy2.rinterface_lib.callbacks:R[write to console]: =\n",
            "WARNING:rpy2.rinterface_lib.callbacks:R[write to console]: =\n",
            "WARNING:rpy2.rinterface_lib.callbacks:R[write to console]: =\n",
            "WARNING:rpy2.rinterface_lib.callbacks:R[write to console]: =\n",
            "WARNING:rpy2.rinterface_lib.callbacks:R[write to console]: =\n",
            "WARNING:rpy2.rinterface_lib.callbacks:R[write to console]: \n",
            "\n",
            "WARNING:rpy2.rinterface_lib.callbacks:R[write to console]: downloaded 763 KB\n",
            "\n",
            "\n",
            "WARNING:rpy2.rinterface_lib.callbacks:R[write to console]: trying URL 'https://cran.rstudio.com/src/contrib/sandwich_3.0-2.tar.gz'\n",
            "\n",
            "WARNING:rpy2.rinterface_lib.callbacks:R[write to console]: Content type 'application/x-gzip'\n",
            "WARNING:rpy2.rinterface_lib.callbacks:R[write to console]:  length 1356080 bytes (1.3 MB)\n",
            "\n",
            "WARNING:rpy2.rinterface_lib.callbacks:R[write to console]: =\n",
            "WARNING:rpy2.rinterface_lib.callbacks:R[write to console]: =\n",
            "WARNING:rpy2.rinterface_lib.callbacks:R[write to console]: =\n",
            "WARNING:rpy2.rinterface_lib.callbacks:R[write to console]: =\n",
            "WARNING:rpy2.rinterface_lib.callbacks:R[write to console]: =\n",
            "WARNING:rpy2.rinterface_lib.callbacks:R[write to console]: =\n",
            "WARNING:rpy2.rinterface_lib.callbacks:R[write to console]: =\n",
            "WARNING:rpy2.rinterface_lib.callbacks:R[write to console]: =\n",
            "WARNING:rpy2.rinterface_lib.callbacks:R[write to console]: =\n",
            "WARNING:rpy2.rinterface_lib.callbacks:R[write to console]: =\n",
            "WARNING:rpy2.rinterface_lib.callbacks:R[write to console]: =\n",
            "WARNING:rpy2.rinterface_lib.callbacks:R[write to console]: =\n",
            "WARNING:rpy2.rinterface_lib.callbacks:R[write to console]: =\n",
            "WARNING:rpy2.rinterface_lib.callbacks:R[write to console]: =\n",
            "WARNING:rpy2.rinterface_lib.callbacks:R[write to console]: =\n",
            "WARNING:rpy2.rinterface_lib.callbacks:R[write to console]: =\n",
            "WARNING:rpy2.rinterface_lib.callbacks:R[write to console]: =\n",
            "WARNING:rpy2.rinterface_lib.callbacks:R[write to console]: =\n",
            "WARNING:rpy2.rinterface_lib.callbacks:R[write to console]: =\n",
            "WARNING:rpy2.rinterface_lib.callbacks:R[write to console]: =\n",
            "WARNING:rpy2.rinterface_lib.callbacks:R[write to console]: =\n",
            "WARNING:rpy2.rinterface_lib.callbacks:R[write to console]: =\n",
            "WARNING:rpy2.rinterface_lib.callbacks:R[write to console]: =\n",
            "WARNING:rpy2.rinterface_lib.callbacks:R[write to console]: =\n",
            "WARNING:rpy2.rinterface_lib.callbacks:R[write to console]: =\n",
            "WARNING:rpy2.rinterface_lib.callbacks:R[write to console]: =\n",
            "WARNING:rpy2.rinterface_lib.callbacks:R[write to console]: =\n",
            "WARNING:rpy2.rinterface_lib.callbacks:R[write to console]: =\n",
            "WARNING:rpy2.rinterface_lib.callbacks:R[write to console]: =\n",
            "WARNING:rpy2.rinterface_lib.callbacks:R[write to console]: =\n",
            "WARNING:rpy2.rinterface_lib.callbacks:R[write to console]: =\n",
            "WARNING:rpy2.rinterface_lib.callbacks:R[write to console]: =\n",
            "WARNING:rpy2.rinterface_lib.callbacks:R[write to console]: =\n",
            "WARNING:rpy2.rinterface_lib.callbacks:R[write to console]: =\n",
            "WARNING:rpy2.rinterface_lib.callbacks:R[write to console]: =\n",
            "WARNING:rpy2.rinterface_lib.callbacks:R[write to console]: =\n",
            "WARNING:rpy2.rinterface_lib.callbacks:R[write to console]: =\n",
            "WARNING:rpy2.rinterface_lib.callbacks:R[write to console]: =\n",
            "WARNING:rpy2.rinterface_lib.callbacks:R[write to console]: =\n",
            "WARNING:rpy2.rinterface_lib.callbacks:R[write to console]: =\n",
            "WARNING:rpy2.rinterface_lib.callbacks:R[write to console]: =\n",
            "WARNING:rpy2.rinterface_lib.callbacks:R[write to console]: =\n",
            "WARNING:rpy2.rinterface_lib.callbacks:R[write to console]: =\n",
            "WARNING:rpy2.rinterface_lib.callbacks:R[write to console]: =\n",
            "WARNING:rpy2.rinterface_lib.callbacks:R[write to console]: =\n",
            "WARNING:rpy2.rinterface_lib.callbacks:R[write to console]: =\n",
            "WARNING:rpy2.rinterface_lib.callbacks:R[write to console]: =\n",
            "WARNING:rpy2.rinterface_lib.callbacks:R[write to console]: =\n",
            "WARNING:rpy2.rinterface_lib.callbacks:R[write to console]: =\n",
            "WARNING:rpy2.rinterface_lib.callbacks:R[write to console]: =\n",
            "WARNING:rpy2.rinterface_lib.callbacks:R[write to console]: \n",
            "\n",
            "WARNING:rpy2.rinterface_lib.callbacks:R[write to console]: downloaded 1.3 MB\n",
            "\n",
            "\n",
            "WARNING:rpy2.rinterface_lib.callbacks:R[write to console]: trying URL 'https://cran.rstudio.com/src/contrib/lmtest_0.9-40.tar.gz'\n",
            "\n",
            "WARNING:rpy2.rinterface_lib.callbacks:R[write to console]: Content type 'application/x-gzip'\n",
            "WARNING:rpy2.rinterface_lib.callbacks:R[write to console]:  length 230313 bytes (224 KB)\n",
            "\n",
            "WARNING:rpy2.rinterface_lib.callbacks:R[write to console]: =\n",
            "WARNING:rpy2.rinterface_lib.callbacks:R[write to console]: =\n",
            "WARNING:rpy2.rinterface_lib.callbacks:R[write to console]: =\n",
            "WARNING:rpy2.rinterface_lib.callbacks:R[write to console]: =\n",
            "WARNING:rpy2.rinterface_lib.callbacks:R[write to console]: =\n",
            "WARNING:rpy2.rinterface_lib.callbacks:R[write to console]: =\n",
            "WARNING:rpy2.rinterface_lib.callbacks:R[write to console]: =\n",
            "WARNING:rpy2.rinterface_lib.callbacks:R[write to console]: =\n",
            "WARNING:rpy2.rinterface_lib.callbacks:R[write to console]: =\n",
            "WARNING:rpy2.rinterface_lib.callbacks:R[write to console]: =\n",
            "WARNING:rpy2.rinterface_lib.callbacks:R[write to console]: =\n",
            "WARNING:rpy2.rinterface_lib.callbacks:R[write to console]: =\n",
            "WARNING:rpy2.rinterface_lib.callbacks:R[write to console]: =\n",
            "WARNING:rpy2.rinterface_lib.callbacks:R[write to console]: =\n",
            "WARNING:rpy2.rinterface_lib.callbacks:R[write to console]: =\n",
            "WARNING:rpy2.rinterface_lib.callbacks:R[write to console]: =\n",
            "WARNING:rpy2.rinterface_lib.callbacks:R[write to console]: =\n",
            "WARNING:rpy2.rinterface_lib.callbacks:R[write to console]: =\n",
            "WARNING:rpy2.rinterface_lib.callbacks:R[write to console]: =\n",
            "WARNING:rpy2.rinterface_lib.callbacks:R[write to console]: =\n",
            "WARNING:rpy2.rinterface_lib.callbacks:R[write to console]: =\n",
            "WARNING:rpy2.rinterface_lib.callbacks:R[write to console]: =\n",
            "WARNING:rpy2.rinterface_lib.callbacks:R[write to console]: =\n",
            "WARNING:rpy2.rinterface_lib.callbacks:R[write to console]: =\n",
            "WARNING:rpy2.rinterface_lib.callbacks:R[write to console]: =\n",
            "WARNING:rpy2.rinterface_lib.callbacks:R[write to console]: =\n",
            "WARNING:rpy2.rinterface_lib.callbacks:R[write to console]: =\n",
            "WARNING:rpy2.rinterface_lib.callbacks:R[write to console]: =\n",
            "WARNING:rpy2.rinterface_lib.callbacks:R[write to console]: =\n",
            "WARNING:rpy2.rinterface_lib.callbacks:R[write to console]: =\n",
            "WARNING:rpy2.rinterface_lib.callbacks:R[write to console]: =\n",
            "WARNING:rpy2.rinterface_lib.callbacks:R[write to console]: =\n",
            "WARNING:rpy2.rinterface_lib.callbacks:R[write to console]: =\n",
            "WARNING:rpy2.rinterface_lib.callbacks:R[write to console]: =\n",
            "WARNING:rpy2.rinterface_lib.callbacks:R[write to console]: =\n",
            "WARNING:rpy2.rinterface_lib.callbacks:R[write to console]: =\n",
            "WARNING:rpy2.rinterface_lib.callbacks:R[write to console]: =\n",
            "WARNING:rpy2.rinterface_lib.callbacks:R[write to console]: =\n",
            "WARNING:rpy2.rinterface_lib.callbacks:R[write to console]: =\n",
            "WARNING:rpy2.rinterface_lib.callbacks:R[write to console]: =\n",
            "WARNING:rpy2.rinterface_lib.callbacks:R[write to console]: =\n",
            "WARNING:rpy2.rinterface_lib.callbacks:R[write to console]: =\n",
            "WARNING:rpy2.rinterface_lib.callbacks:R[write to console]: =\n",
            "WARNING:rpy2.rinterface_lib.callbacks:R[write to console]: =\n",
            "WARNING:rpy2.rinterface_lib.callbacks:R[write to console]: =\n",
            "WARNING:rpy2.rinterface_lib.callbacks:R[write to console]: =\n",
            "WARNING:rpy2.rinterface_lib.callbacks:R[write to console]: =\n",
            "WARNING:rpy2.rinterface_lib.callbacks:R[write to console]: =\n",
            "WARNING:rpy2.rinterface_lib.callbacks:R[write to console]: =\n",
            "WARNING:rpy2.rinterface_lib.callbacks:R[write to console]: =\n",
            "WARNING:rpy2.rinterface_lib.callbacks:R[write to console]: \n",
            "\n",
            "WARNING:rpy2.rinterface_lib.callbacks:R[write to console]: downloaded 224 KB\n",
            "\n",
            "\n",
            "WARNING:rpy2.rinterface_lib.callbacks:R[write to console]: trying URL 'https://cran.rstudio.com/src/contrib/maxLik_1.5-2.tar.gz'\n",
            "\n",
            "WARNING:rpy2.rinterface_lib.callbacks:R[write to console]: Content type 'application/x-gzip'\n",
            "WARNING:rpy2.rinterface_lib.callbacks:R[write to console]:  length 1301570 bytes (1.2 MB)\n",
            "\n",
            "WARNING:rpy2.rinterface_lib.callbacks:R[write to console]: =\n",
            "WARNING:rpy2.rinterface_lib.callbacks:R[write to console]: =\n",
            "WARNING:rpy2.rinterface_lib.callbacks:R[write to console]: =\n",
            "WARNING:rpy2.rinterface_lib.callbacks:R[write to console]: =\n",
            "WARNING:rpy2.rinterface_lib.callbacks:R[write to console]: =\n",
            "WARNING:rpy2.rinterface_lib.callbacks:R[write to console]: =\n",
            "WARNING:rpy2.rinterface_lib.callbacks:R[write to console]: =\n",
            "WARNING:rpy2.rinterface_lib.callbacks:R[write to console]: =\n",
            "WARNING:rpy2.rinterface_lib.callbacks:R[write to console]: =\n",
            "WARNING:rpy2.rinterface_lib.callbacks:R[write to console]: =\n",
            "WARNING:rpy2.rinterface_lib.callbacks:R[write to console]: =\n",
            "WARNING:rpy2.rinterface_lib.callbacks:R[write to console]: =\n",
            "WARNING:rpy2.rinterface_lib.callbacks:R[write to console]: =\n",
            "WARNING:rpy2.rinterface_lib.callbacks:R[write to console]: =\n",
            "WARNING:rpy2.rinterface_lib.callbacks:R[write to console]: =\n",
            "WARNING:rpy2.rinterface_lib.callbacks:R[write to console]: =\n",
            "WARNING:rpy2.rinterface_lib.callbacks:R[write to console]: =\n",
            "WARNING:rpy2.rinterface_lib.callbacks:R[write to console]: =\n",
            "WARNING:rpy2.rinterface_lib.callbacks:R[write to console]: =\n",
            "WARNING:rpy2.rinterface_lib.callbacks:R[write to console]: =\n",
            "WARNING:rpy2.rinterface_lib.callbacks:R[write to console]: =\n",
            "WARNING:rpy2.rinterface_lib.callbacks:R[write to console]: =\n",
            "WARNING:rpy2.rinterface_lib.callbacks:R[write to console]: =\n",
            "WARNING:rpy2.rinterface_lib.callbacks:R[write to console]: =\n",
            "WARNING:rpy2.rinterface_lib.callbacks:R[write to console]: =\n",
            "WARNING:rpy2.rinterface_lib.callbacks:R[write to console]: =\n",
            "WARNING:rpy2.rinterface_lib.callbacks:R[write to console]: =\n",
            "WARNING:rpy2.rinterface_lib.callbacks:R[write to console]: =\n",
            "WARNING:rpy2.rinterface_lib.callbacks:R[write to console]: =\n",
            "WARNING:rpy2.rinterface_lib.callbacks:R[write to console]: =\n",
            "WARNING:rpy2.rinterface_lib.callbacks:R[write to console]: =\n",
            "WARNING:rpy2.rinterface_lib.callbacks:R[write to console]: =\n",
            "WARNING:rpy2.rinterface_lib.callbacks:R[write to console]: =\n",
            "WARNING:rpy2.rinterface_lib.callbacks:R[write to console]: =\n",
            "WARNING:rpy2.rinterface_lib.callbacks:R[write to console]: =\n",
            "WARNING:rpy2.rinterface_lib.callbacks:R[write to console]: =\n",
            "WARNING:rpy2.rinterface_lib.callbacks:R[write to console]: =\n",
            "WARNING:rpy2.rinterface_lib.callbacks:R[write to console]: =\n",
            "WARNING:rpy2.rinterface_lib.callbacks:R[write to console]: =\n",
            "WARNING:rpy2.rinterface_lib.callbacks:R[write to console]: =\n",
            "WARNING:rpy2.rinterface_lib.callbacks:R[write to console]: =\n",
            "WARNING:rpy2.rinterface_lib.callbacks:R[write to console]: =\n",
            "WARNING:rpy2.rinterface_lib.callbacks:R[write to console]: =\n",
            "WARNING:rpy2.rinterface_lib.callbacks:R[write to console]: =\n",
            "WARNING:rpy2.rinterface_lib.callbacks:R[write to console]: =\n",
            "WARNING:rpy2.rinterface_lib.callbacks:R[write to console]: =\n",
            "WARNING:rpy2.rinterface_lib.callbacks:R[write to console]: =\n",
            "WARNING:rpy2.rinterface_lib.callbacks:R[write to console]: =\n",
            "WARNING:rpy2.rinterface_lib.callbacks:R[write to console]: =\n",
            "WARNING:rpy2.rinterface_lib.callbacks:R[write to console]: =\n",
            "WARNING:rpy2.rinterface_lib.callbacks:R[write to console]: \n",
            "\n",
            "WARNING:rpy2.rinterface_lib.callbacks:R[write to console]: downloaded 1.2 MB\n",
            "\n",
            "\n",
            "WARNING:rpy2.rinterface_lib.callbacks:R[write to console]: trying URL 'https://cran.rstudio.com/src/contrib/Rdpack_2.4.tar.gz'\n",
            "\n",
            "WARNING:rpy2.rinterface_lib.callbacks:R[write to console]: Content type 'application/x-gzip'\n",
            "WARNING:rpy2.rinterface_lib.callbacks:R[write to console]:  length 707773 bytes (691 KB)\n",
            "\n",
            "WARNING:rpy2.rinterface_lib.callbacks:R[write to console]: =\n",
            "WARNING:rpy2.rinterface_lib.callbacks:R[write to console]: =\n",
            "WARNING:rpy2.rinterface_lib.callbacks:R[write to console]: =\n",
            "WARNING:rpy2.rinterface_lib.callbacks:R[write to console]: =\n",
            "WARNING:rpy2.rinterface_lib.callbacks:R[write to console]: =\n",
            "WARNING:rpy2.rinterface_lib.callbacks:R[write to console]: =\n",
            "WARNING:rpy2.rinterface_lib.callbacks:R[write to console]: =\n",
            "WARNING:rpy2.rinterface_lib.callbacks:R[write to console]: =\n",
            "WARNING:rpy2.rinterface_lib.callbacks:R[write to console]: =\n",
            "WARNING:rpy2.rinterface_lib.callbacks:R[write to console]: =\n",
            "WARNING:rpy2.rinterface_lib.callbacks:R[write to console]: =\n",
            "WARNING:rpy2.rinterface_lib.callbacks:R[write to console]: =\n",
            "WARNING:rpy2.rinterface_lib.callbacks:R[write to console]: =\n",
            "WARNING:rpy2.rinterface_lib.callbacks:R[write to console]: =\n",
            "WARNING:rpy2.rinterface_lib.callbacks:R[write to console]: =\n",
            "WARNING:rpy2.rinterface_lib.callbacks:R[write to console]: =\n",
            "WARNING:rpy2.rinterface_lib.callbacks:R[write to console]: =\n",
            "WARNING:rpy2.rinterface_lib.callbacks:R[write to console]: =\n",
            "WARNING:rpy2.rinterface_lib.callbacks:R[write to console]: =\n",
            "WARNING:rpy2.rinterface_lib.callbacks:R[write to console]: =\n",
            "WARNING:rpy2.rinterface_lib.callbacks:R[write to console]: =\n",
            "WARNING:rpy2.rinterface_lib.callbacks:R[write to console]: =\n",
            "WARNING:rpy2.rinterface_lib.callbacks:R[write to console]: =\n",
            "WARNING:rpy2.rinterface_lib.callbacks:R[write to console]: =\n",
            "WARNING:rpy2.rinterface_lib.callbacks:R[write to console]: =\n",
            "WARNING:rpy2.rinterface_lib.callbacks:R[write to console]: =\n",
            "WARNING:rpy2.rinterface_lib.callbacks:R[write to console]: =\n",
            "WARNING:rpy2.rinterface_lib.callbacks:R[write to console]: =\n",
            "WARNING:rpy2.rinterface_lib.callbacks:R[write to console]: =\n",
            "WARNING:rpy2.rinterface_lib.callbacks:R[write to console]: =\n",
            "WARNING:rpy2.rinterface_lib.callbacks:R[write to console]: =\n",
            "WARNING:rpy2.rinterface_lib.callbacks:R[write to console]: =\n",
            "WARNING:rpy2.rinterface_lib.callbacks:R[write to console]: =\n",
            "WARNING:rpy2.rinterface_lib.callbacks:R[write to console]: =\n",
            "WARNING:rpy2.rinterface_lib.callbacks:R[write to console]: =\n",
            "WARNING:rpy2.rinterface_lib.callbacks:R[write to console]: =\n",
            "WARNING:rpy2.rinterface_lib.callbacks:R[write to console]: =\n",
            "WARNING:rpy2.rinterface_lib.callbacks:R[write to console]: =\n",
            "WARNING:rpy2.rinterface_lib.callbacks:R[write to console]: =\n",
            "WARNING:rpy2.rinterface_lib.callbacks:R[write to console]: =\n",
            "WARNING:rpy2.rinterface_lib.callbacks:R[write to console]: =\n",
            "WARNING:rpy2.rinterface_lib.callbacks:R[write to console]: =\n",
            "WARNING:rpy2.rinterface_lib.callbacks:R[write to console]: =\n",
            "WARNING:rpy2.rinterface_lib.callbacks:R[write to console]: =\n",
            "WARNING:rpy2.rinterface_lib.callbacks:R[write to console]: =\n",
            "WARNING:rpy2.rinterface_lib.callbacks:R[write to console]: =\n",
            "WARNING:rpy2.rinterface_lib.callbacks:R[write to console]: =\n",
            "WARNING:rpy2.rinterface_lib.callbacks:R[write to console]: =\n",
            "WARNING:rpy2.rinterface_lib.callbacks:R[write to console]: =\n",
            "WARNING:rpy2.rinterface_lib.callbacks:R[write to console]: =\n",
            "WARNING:rpy2.rinterface_lib.callbacks:R[write to console]: \n",
            "\n",
            "WARNING:rpy2.rinterface_lib.callbacks:R[write to console]: downloaded 691 KB\n",
            "\n",
            "\n",
            "WARNING:rpy2.rinterface_lib.callbacks:R[write to console]: trying URL 'https://cran.rstudio.com/src/contrib/Formula_1.2-4.tar.gz'\n",
            "\n",
            "WARNING:rpy2.rinterface_lib.callbacks:R[write to console]: Content type 'application/x-gzip'\n",
            "WARNING:rpy2.rinterface_lib.callbacks:R[write to console]:  length 164214 bytes (160 KB)\n",
            "\n",
            "WARNING:rpy2.rinterface_lib.callbacks:R[write to console]: =\n",
            "WARNING:rpy2.rinterface_lib.callbacks:R[write to console]: =\n",
            "WARNING:rpy2.rinterface_lib.callbacks:R[write to console]: =\n",
            "WARNING:rpy2.rinterface_lib.callbacks:R[write to console]: =\n",
            "WARNING:rpy2.rinterface_lib.callbacks:R[write to console]: =\n",
            "WARNING:rpy2.rinterface_lib.callbacks:R[write to console]: =\n",
            "WARNING:rpy2.rinterface_lib.callbacks:R[write to console]: =\n",
            "WARNING:rpy2.rinterface_lib.callbacks:R[write to console]: =\n",
            "WARNING:rpy2.rinterface_lib.callbacks:R[write to console]: =\n",
            "WARNING:rpy2.rinterface_lib.callbacks:R[write to console]: =\n",
            "WARNING:rpy2.rinterface_lib.callbacks:R[write to console]: =\n",
            "WARNING:rpy2.rinterface_lib.callbacks:R[write to console]: =\n",
            "WARNING:rpy2.rinterface_lib.callbacks:R[write to console]: =\n",
            "WARNING:rpy2.rinterface_lib.callbacks:R[write to console]: =\n",
            "WARNING:rpy2.rinterface_lib.callbacks:R[write to console]: =\n",
            "WARNING:rpy2.rinterface_lib.callbacks:R[write to console]: =\n",
            "WARNING:rpy2.rinterface_lib.callbacks:R[write to console]: =\n",
            "WARNING:rpy2.rinterface_lib.callbacks:R[write to console]: =\n",
            "WARNING:rpy2.rinterface_lib.callbacks:R[write to console]: =\n",
            "WARNING:rpy2.rinterface_lib.callbacks:R[write to console]: =\n",
            "WARNING:rpy2.rinterface_lib.callbacks:R[write to console]: =\n",
            "WARNING:rpy2.rinterface_lib.callbacks:R[write to console]: =\n",
            "WARNING:rpy2.rinterface_lib.callbacks:R[write to console]: =\n",
            "WARNING:rpy2.rinterface_lib.callbacks:R[write to console]: =\n",
            "WARNING:rpy2.rinterface_lib.callbacks:R[write to console]: =\n",
            "WARNING:rpy2.rinterface_lib.callbacks:R[write to console]: =\n",
            "WARNING:rpy2.rinterface_lib.callbacks:R[write to console]: =\n",
            "WARNING:rpy2.rinterface_lib.callbacks:R[write to console]: =\n",
            "WARNING:rpy2.rinterface_lib.callbacks:R[write to console]: =\n",
            "WARNING:rpy2.rinterface_lib.callbacks:R[write to console]: =\n",
            "WARNING:rpy2.rinterface_lib.callbacks:R[write to console]: =\n",
            "WARNING:rpy2.rinterface_lib.callbacks:R[write to console]: =\n",
            "WARNING:rpy2.rinterface_lib.callbacks:R[write to console]: =\n",
            "WARNING:rpy2.rinterface_lib.callbacks:R[write to console]: =\n",
            "WARNING:rpy2.rinterface_lib.callbacks:R[write to console]: =\n",
            "WARNING:rpy2.rinterface_lib.callbacks:R[write to console]: =\n",
            "WARNING:rpy2.rinterface_lib.callbacks:R[write to console]: =\n",
            "WARNING:rpy2.rinterface_lib.callbacks:R[write to console]: =\n",
            "WARNING:rpy2.rinterface_lib.callbacks:R[write to console]: =\n",
            "WARNING:rpy2.rinterface_lib.callbacks:R[write to console]: =\n",
            "WARNING:rpy2.rinterface_lib.callbacks:R[write to console]: =\n",
            "WARNING:rpy2.rinterface_lib.callbacks:R[write to console]: =\n",
            "WARNING:rpy2.rinterface_lib.callbacks:R[write to console]: =\n",
            "WARNING:rpy2.rinterface_lib.callbacks:R[write to console]: =\n",
            "WARNING:rpy2.rinterface_lib.callbacks:R[write to console]: =\n",
            "WARNING:rpy2.rinterface_lib.callbacks:R[write to console]: =\n",
            "WARNING:rpy2.rinterface_lib.callbacks:R[write to console]: =\n",
            "WARNING:rpy2.rinterface_lib.callbacks:R[write to console]: =\n",
            "WARNING:rpy2.rinterface_lib.callbacks:R[write to console]: =\n",
            "WARNING:rpy2.rinterface_lib.callbacks:R[write to console]: =\n",
            "WARNING:rpy2.rinterface_lib.callbacks:R[write to console]: \n",
            "\n",
            "WARNING:rpy2.rinterface_lib.callbacks:R[write to console]: downloaded 160 KB\n",
            "\n",
            "\n",
            "WARNING:rpy2.rinterface_lib.callbacks:R[write to console]: trying URL 'https://cran.rstudio.com/src/contrib/plm_2.6-2.tar.gz'\n",
            "\n",
            "WARNING:rpy2.rinterface_lib.callbacks:R[write to console]: Content type 'application/x-gzip'\n",
            "WARNING:rpy2.rinterface_lib.callbacks:R[write to console]:  length 2049192 bytes (2.0 MB)\n",
            "\n",
            "WARNING:rpy2.rinterface_lib.callbacks:R[write to console]: =\n",
            "WARNING:rpy2.rinterface_lib.callbacks:R[write to console]: =\n",
            "WARNING:rpy2.rinterface_lib.callbacks:R[write to console]: =\n",
            "WARNING:rpy2.rinterface_lib.callbacks:R[write to console]: =\n",
            "WARNING:rpy2.rinterface_lib.callbacks:R[write to console]: =\n",
            "WARNING:rpy2.rinterface_lib.callbacks:R[write to console]: =\n",
            "WARNING:rpy2.rinterface_lib.callbacks:R[write to console]: =\n",
            "WARNING:rpy2.rinterface_lib.callbacks:R[write to console]: =\n",
            "WARNING:rpy2.rinterface_lib.callbacks:R[write to console]: =\n",
            "WARNING:rpy2.rinterface_lib.callbacks:R[write to console]: =\n",
            "WARNING:rpy2.rinterface_lib.callbacks:R[write to console]: =\n",
            "WARNING:rpy2.rinterface_lib.callbacks:R[write to console]: =\n",
            "WARNING:rpy2.rinterface_lib.callbacks:R[write to console]: =\n",
            "WARNING:rpy2.rinterface_lib.callbacks:R[write to console]: =\n",
            "WARNING:rpy2.rinterface_lib.callbacks:R[write to console]: =\n",
            "WARNING:rpy2.rinterface_lib.callbacks:R[write to console]: =\n",
            "WARNING:rpy2.rinterface_lib.callbacks:R[write to console]: =\n",
            "WARNING:rpy2.rinterface_lib.callbacks:R[write to console]: =\n",
            "WARNING:rpy2.rinterface_lib.callbacks:R[write to console]: =\n",
            "WARNING:rpy2.rinterface_lib.callbacks:R[write to console]: =\n",
            "WARNING:rpy2.rinterface_lib.callbacks:R[write to console]: =\n",
            "WARNING:rpy2.rinterface_lib.callbacks:R[write to console]: =\n",
            "WARNING:rpy2.rinterface_lib.callbacks:R[write to console]: =\n",
            "WARNING:rpy2.rinterface_lib.callbacks:R[write to console]: =\n",
            "WARNING:rpy2.rinterface_lib.callbacks:R[write to console]: =\n",
            "WARNING:rpy2.rinterface_lib.callbacks:R[write to console]: =\n",
            "WARNING:rpy2.rinterface_lib.callbacks:R[write to console]: =\n",
            "WARNING:rpy2.rinterface_lib.callbacks:R[write to console]: =\n",
            "WARNING:rpy2.rinterface_lib.callbacks:R[write to console]: =\n",
            "WARNING:rpy2.rinterface_lib.callbacks:R[write to console]: =\n",
            "WARNING:rpy2.rinterface_lib.callbacks:R[write to console]: =\n",
            "WARNING:rpy2.rinterface_lib.callbacks:R[write to console]: =\n",
            "WARNING:rpy2.rinterface_lib.callbacks:R[write to console]: =\n",
            "WARNING:rpy2.rinterface_lib.callbacks:R[write to console]: =\n",
            "WARNING:rpy2.rinterface_lib.callbacks:R[write to console]: =\n",
            "WARNING:rpy2.rinterface_lib.callbacks:R[write to console]: =\n",
            "WARNING:rpy2.rinterface_lib.callbacks:R[write to console]: =\n",
            "WARNING:rpy2.rinterface_lib.callbacks:R[write to console]: =\n",
            "WARNING:rpy2.rinterface_lib.callbacks:R[write to console]: =\n",
            "WARNING:rpy2.rinterface_lib.callbacks:R[write to console]: =\n",
            "WARNING:rpy2.rinterface_lib.callbacks:R[write to console]: =\n",
            "WARNING:rpy2.rinterface_lib.callbacks:R[write to console]: =\n",
            "WARNING:rpy2.rinterface_lib.callbacks:R[write to console]: =\n",
            "WARNING:rpy2.rinterface_lib.callbacks:R[write to console]: =\n",
            "WARNING:rpy2.rinterface_lib.callbacks:R[write to console]: =\n",
            "WARNING:rpy2.rinterface_lib.callbacks:R[write to console]: =\n",
            "WARNING:rpy2.rinterface_lib.callbacks:R[write to console]: =\n",
            "WARNING:rpy2.rinterface_lib.callbacks:R[write to console]: =\n",
            "WARNING:rpy2.rinterface_lib.callbacks:R[write to console]: =\n",
            "WARNING:rpy2.rinterface_lib.callbacks:R[write to console]: =\n",
            "WARNING:rpy2.rinterface_lib.callbacks:R[write to console]: \n",
            "\n",
            "WARNING:rpy2.rinterface_lib.callbacks:R[write to console]: downloaded 2.0 MB\n",
            "\n",
            "\n",
            "WARNING:rpy2.rinterface_lib.callbacks:R[write to console]: \n",
            "\n",
            "WARNING:rpy2.rinterface_lib.callbacks:R[write to console]: \n",
            "WARNING:rpy2.rinterface_lib.callbacks:R[write to console]: The downloaded source packages are in\n",
            "\t‘/tmp/RtmpEFy0t2/downloaded_packages’\n",
            "WARNING:rpy2.rinterface_lib.callbacks:R[write to console]: \n",
            "WARNING:rpy2.rinterface_lib.callbacks:R[write to console]: \n",
            "\n"
          ]
        }
      ]
    },
    {
      "cell_type": "code",
      "source": [],
      "metadata": {
        "id": "4bTLz02Vjwi6"
      },
      "execution_count": null,
      "outputs": []
    },
    {
      "cell_type": "code",
      "source": [
        "%%R -i df_clean\n",
        "library(plm)\n",
        "#purtest(pGrunfeld$inv, pmax = 4, exo = \"intercept\", test = \"levinlin\")\n",
        "purtest(svi_med ~ 1, data = df_clean, index = c(\"ticker\", \"date\"), pmax = 6, test = \"levinlin\")"
      ],
      "metadata": {
        "colab": {
          "base_uri": "https://localhost:8080/"
        },
        "id": "VW6c44apNdFJ",
        "outputId": "2c669d0c-5712-4ba2-8ea8-c05f653af189"
      },
      "execution_count": null,
      "outputs": [
        {
          "output_type": "stream",
          "name": "stdout",
          "text": [
            "\n",
            "\tLevin-Lin-Chu Unit-Root Test (ex. var.: Individual Intercepts)\n",
            "\n",
            "data:  svi_med ~ 1\n",
            "z = -196.77, p-value < 2.2e-16\n",
            "alternative hypothesis: stationarity\n",
            "\n"
          ]
        }
      ]
    },
    {
      "cell_type": "code",
      "source": [
        "%%R -i df_clean\n",
        "library(plm)\n",
        "#purtest(pGrunfeld$inv, pmax = 4, exo = \"intercept\", test = \"levinlin\")\n",
        "purtest(svi_med ~ 1, data = df_clean, index = c(\"ticker\", \"date\"), pmax = 6, test = \"ips\")"
      ],
      "metadata": {
        "colab": {
          "base_uri": "https://localhost:8080/"
        },
        "id": "NkI32yrOuSTO",
        "outputId": "faf333b0-e787-4f08-b80b-1f1c5595e9af"
      },
      "execution_count": null,
      "outputs": [
        {
          "output_type": "stream",
          "name": "stdout",
          "text": [
            "\n",
            "\tIm-Pesaran-Shin Unit-Root Test (ex. var.: Individual Intercepts)\n",
            "\n",
            "data:  svi_med ~ 1\n",
            "Wtbar = -193.11, p-value < 2.2e-16\n",
            "alternative hypothesis: stationarity\n",
            "\n"
          ]
        }
      ]
    },
    {
      "cell_type": "code",
      "source": [
        "%%R -i df_clean\n",
        "library(plm)\n",
        "#purtest(pGrunfeld$inv, pmax = 4, exo = \"intercept\", test = \"levinlin\")\n",
        "purtest(PRC_diff ~ 1, data = df_clean, index = c(\"ticker\", \"date\"), pmax = 6, test = \"levinlin\")"
      ],
      "metadata": {
        "colab": {
          "base_uri": "https://localhost:8080/"
        },
        "id": "fk8wSntkNnPF",
        "outputId": "6e7e53f7-b97b-44bb-e62f-610efe676c45"
      },
      "execution_count": null,
      "outputs": [
        {
          "output_type": "stream",
          "name": "stdout",
          "text": [
            "\n",
            "\tLevin-Lin-Chu Unit-Root Test (ex. var.: Individual Intercepts)\n",
            "\n",
            "data:  PRC_diff ~ 1\n",
            "z = -197.5, p-value < 2.2e-16\n",
            "alternative hypothesis: stationarity\n",
            "\n"
          ]
        }
      ]
    },
    {
      "cell_type": "code",
      "source": [
        "%%R -i df_clean\n",
        "library(plm)\n",
        "#purtest(pGrunfeld$inv, pmax = 4, exo = \"intercept\", test = \"levinlin\")\n",
        "purtest(PRC_diff ~ 1, data = df_clean, index = c(\"ticker\", \"date\"), pmax = 6, test = \"ips\")"
      ],
      "metadata": {
        "colab": {
          "base_uri": "https://localhost:8080/"
        },
        "id": "BavcryViuaOY",
        "outputId": "01060a81-c211-4f05-8561-3c5891a2e63b"
      },
      "execution_count": null,
      "outputs": [
        {
          "output_type": "stream",
          "name": "stdout",
          "text": [
            "\n",
            "\tIm-Pesaran-Shin Unit-Root Test (ex. var.: Individual Intercepts)\n",
            "\n",
            "data:  PRC_diff ~ 1\n",
            "Wtbar = -189.64, p-value < 2.2e-16\n",
            "alternative hypothesis: stationarity\n",
            "\n"
          ]
        }
      ]
    },
    {
      "cell_type": "code",
      "source": [
        "%%R -i df_clean\n",
        "library(plm)\n",
        "#purtest(pGrunfeld$inv, pmax = 4, exo = \"intercept\", test = \"levinlin\")\n",
        "purtest(Par_diff ~ 1, data = df_clean, index = c(\"ticker\", \"date\"), pmax = 6, test = \"levinlin\")"
      ],
      "metadata": {
        "colab": {
          "base_uri": "https://localhost:8080/"
        },
        "id": "-osTk5O0Nw7Q",
        "outputId": "21856243-9a7c-4def-94b1-543ab3bf5268"
      },
      "execution_count": null,
      "outputs": [
        {
          "output_type": "stream",
          "name": "stdout",
          "text": [
            "\n",
            "\tLevin-Lin-Chu Unit-Root Test (ex. var.: Individual Intercepts)\n",
            "\n",
            "data:  Par_diff ~ 1\n",
            "z = -166.85, p-value < 2.2e-16\n",
            "alternative hypothesis: stationarity\n",
            "\n"
          ]
        }
      ]
    },
    {
      "cell_type": "code",
      "source": [
        "%%R -i df_clean\n",
        "library(plm)\n",
        "#purtest(pGrunfeld$inv, pmax = 4, exo = \"intercept\", test = \"levinlin\")\n",
        "purtest(Par_diff ~ 1, data = df_clean, index = c(\"ticker\", \"date\"), pmax = 6, test = \"ips\")"
      ],
      "metadata": {
        "colab": {
          "base_uri": "https://localhost:8080/"
        },
        "id": "ktJY1akLuhLB",
        "outputId": "96877134-6ff3-4091-aa8f-75fcf0cccff7"
      },
      "execution_count": null,
      "outputs": [
        {
          "output_type": "stream",
          "name": "stdout",
          "text": [
            "\n",
            "\tIm-Pesaran-Shin Unit-Root Test (ex. var.: Individual Intercepts)\n",
            "\n",
            "data:  Par_diff ~ 1\n",
            "Wtbar = -168.48, p-value < 2.2e-16\n",
            "alternative hypothesis: stationarity\n",
            "\n"
          ]
        }
      ]
    },
    {
      "cell_type": "code",
      "source": [
        "%%R -i df_clean\n",
        "library(plm)\n",
        "#purtest(pGrunfeld$inv, pmax = 4, exo = \"intercept\", test = \"levinlin\")\n",
        "purtest(vol_diff ~ 1, data = df_clean, index = c(\"ticker\", \"date\"), pmax = 6, test = \"levinlin\")"
      ],
      "metadata": {
        "colab": {
          "base_uri": "https://localhost:8080/"
        },
        "id": "ef9_ZrPYN2Yl",
        "outputId": "a82f8e4e-fbc9-4bc2-b5f9-b77b4166f44e"
      },
      "execution_count": null,
      "outputs": [
        {
          "output_type": "stream",
          "name": "stdout",
          "text": [
            "\n",
            "\tLevin-Lin-Chu Unit-Root Test (ex. var.: Individual Intercepts)\n",
            "\n",
            "data:  vol_diff ~ 1\n",
            "z = -105.07, p-value < 2.2e-16\n",
            "alternative hypothesis: stationarity\n",
            "\n"
          ]
        }
      ]
    },
    {
      "cell_type": "code",
      "source": [
        "%%R -i df_clean\n",
        "library(plm)\n",
        "#purtest(pGrunfeld$inv, pmax = 4, exo = \"intercept\", test = \"levinlin\")\n",
        "purtest(vol_diff ~ 1, data = df_clean, index = c(\"ticker\", \"date\"), pmax = 6, test = \"ips\")"
      ],
      "metadata": {
        "colab": {
          "base_uri": "https://localhost:8080/"
        },
        "id": "yR_ypbETun8L",
        "outputId": "cbf29244-32a9-436d-c7f9-e5f12a2103eb"
      },
      "execution_count": null,
      "outputs": [
        {
          "output_type": "stream",
          "name": "stdout",
          "text": [
            "\n",
            "\tIm-Pesaran-Shin Unit-Root Test (ex. var.: Individual Intercepts)\n",
            "\n",
            "data:  vol_diff ~ 1\n",
            "Wtbar = -195.95, p-value < 2.2e-16\n",
            "alternative hypothesis: stationarity\n",
            "\n"
          ]
        }
      ]
    },
    {
      "cell_type": "code",
      "source": [
        "%%R -i df_clean\n",
        "library(plm)\n",
        "#purtest(pGrunfeld$inv, pmax = 4, exo = \"intercept\", test = \"levinlin\")\n",
        "purtest(sent ~ 1, data = df_clean, index = c(\"ticker\", \"date\"), pmax = 6, test = \"levinlin\")"
      ],
      "metadata": {
        "colab": {
          "base_uri": "https://localhost:8080/"
        },
        "id": "FQU_RCiiOBK3",
        "outputId": "29bdf0ad-cc89-4482-803c-3c33911e7c25"
      },
      "execution_count": null,
      "outputs": [
        {
          "output_type": "stream",
          "name": "stdout",
          "text": [
            "\n",
            "\tLevin-Lin-Chu Unit-Root Test (ex. var.: Individual Intercepts)\n",
            "\n",
            "data:  sent ~ 1\n",
            "z = -212.01, p-value < 2.2e-16\n",
            "alternative hypothesis: stationarity\n",
            "\n"
          ]
        }
      ]
    },
    {
      "cell_type": "code",
      "source": [
        "%%R -i df_clean\n",
        "library(plm)\n",
        "#purtest(pGrunfeld$inv, pmax = 4, exo = \"intercept\", test = \"levinlin\")\n",
        "purtest(sent ~ 1, data = df_clean, index = c(\"ticker\", \"date\"), pmax = 6, test = \"ips\")"
      ],
      "metadata": {
        "colab": {
          "base_uri": "https://localhost:8080/"
        },
        "id": "DYMYGhl7uuws",
        "outputId": "dcbd4d2f-7805-4bae-9f9a-2eedbd25a6a0"
      },
      "execution_count": null,
      "outputs": [
        {
          "output_type": "stream",
          "name": "stdout",
          "text": [
            "\n",
            "\tIm-Pesaran-Shin Unit-Root Test (ex. var.: Individual Intercepts)\n",
            "\n",
            "data:  sent ~ 1\n",
            "Wtbar = -201, p-value < 2.2e-16\n",
            "alternative hypothesis: stationarity\n",
            "\n"
          ]
        }
      ]
    },
    {
      "cell_type": "code",
      "source": [
        "%%R -i df_clean\n",
        "library(plm)\n",
        "#purtest(pGrunfeld$inv, pmax = 4, exo = \"intercept\", test = \"levinlin\")\n",
        "purtest(count_med ~ 1, data = df_clean, index = c(\"ticker\", \"date\"), pmax = 6, test = \"levinlin\")"
      ],
      "metadata": {
        "colab": {
          "base_uri": "https://localhost:8080/"
        },
        "id": "gMJoFFlIOg8G",
        "outputId": "93deeb49-19ce-4d94-811c-a6662f289c7a"
      },
      "execution_count": null,
      "outputs": [
        {
          "output_type": "stream",
          "name": "stdout",
          "text": [
            "\n",
            "\tLevin-Lin-Chu Unit-Root Test (ex. var.: Individual Intercepts)\n",
            "\n",
            "data:  count_med ~ 1\n",
            "z = -171.91, p-value < 2.2e-16\n",
            "alternative hypothesis: stationarity\n",
            "\n"
          ]
        }
      ]
    },
    {
      "cell_type": "code",
      "source": [
        "%%R -i df_clean\n",
        "library(plm)\n",
        "#purtest(pGrunfeld$inv, pmax = 4, exo = \"intercept\", test = \"levinlin\")\n",
        "purtest(count_med ~ 1, data = df_clean, index = c(\"ticker\", \"date\"), pmax = 6, test = \"ips\")"
      ],
      "metadata": {
        "colab": {
          "base_uri": "https://localhost:8080/"
        },
        "id": "8Do2RMQdvA9w",
        "outputId": "28bc1f9a-5b71-4e3b-92c1-af9590b568bc"
      },
      "execution_count": null,
      "outputs": [
        {
          "output_type": "stream",
          "name": "stdout",
          "text": [
            "\n",
            "\tIm-Pesaran-Shin Unit-Root Test (ex. var.: Individual Intercepts)\n",
            "\n",
            "data:  count_med ~ 1\n",
            "Wtbar = -168.32, p-value < 2.2e-16\n",
            "alternative hypothesis: stationarity\n",
            "\n"
          ]
        }
      ]
    },
    {
      "cell_type": "markdown",
      "source": [
        "Thus, all the data is stationary. The original data is not. See:"
      ],
      "metadata": {
        "id": "n4pTLXf7V6zc"
      }
    },
    {
      "cell_type": "code",
      "source": [
        "%%R -i df_clean\n",
        "library(plm)\n",
        "#purtest(pGrunfeld$inv, pmax = 4, exo = \"intercept\", test = \"levinlin\")\n",
        "purtest(PRC ~ 1, data = df_clean, index = c(\"ticker\", \"date\"), pmax = 6, test = \"levinlin\")"
      ],
      "metadata": {
        "colab": {
          "base_uri": "https://localhost:8080/"
        },
        "id": "_mPxXwPEOq_C",
        "outputId": "fe7792e8-748c-4efe-bdcb-03a94672b8b2"
      },
      "execution_count": null,
      "outputs": [
        {
          "output_type": "stream",
          "name": "stdout",
          "text": [
            "\n",
            "\tLevin-Lin-Chu Unit-Root Test (ex. var.: Individual Intercepts)\n",
            "\n",
            "data:  PRC ~ 1\n",
            "z = 1.7794, p-value = 0.9624\n",
            "alternative hypothesis: stationarity\n",
            "\n"
          ]
        }
      ]
    }
  ]
}